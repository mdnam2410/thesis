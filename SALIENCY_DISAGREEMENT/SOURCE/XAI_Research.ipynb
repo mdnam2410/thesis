{
 "cells": [
  {
   "cell_type": "code",
   "execution_count": 1,
   "id": "3b430122",
   "metadata": {
    "execution": {
     "iopub.execute_input": "2023-06-12T05:34:54.965199Z",
     "iopub.status.busy": "2023-06-12T05:34:54.964317Z",
     "iopub.status.idle": "2023-06-12T05:35:10.473017Z",
     "shell.execute_reply": "2023-06-12T05:35:10.471857Z"
    },
    "id": "dT7cVH6V85Ck",
    "outputId": "02aa26c2-80bb-4df2-95e7-6ed376ba26c9",
    "papermill": {
     "duration": 15.530315,
     "end_time": "2023-06-12T05:35:10.475521",
     "exception": false,
     "start_time": "2023-06-12T05:34:54.945206",
     "status": "completed"
    },
    "tags": []
   },
   "outputs": [
    {
     "name": "stdout",
     "output_type": "stream",
     "text": [
      "Requirement already satisfied: virtualenv in /opt/conda/lib/python3.10/site-packages (20.21.0)\r\n",
      "Requirement already satisfied: filelock<4,>=3.4.1 in /opt/conda/lib/python3.10/site-packages (from virtualenv) (3.11.0)\r\n",
      "Requirement already satisfied: platformdirs<4,>=2.4 in /opt/conda/lib/python3.10/site-packages (from virtualenv) (3.2.0)\r\n",
      "Requirement already satisfied: distlib<1,>=0.3.6 in /opt/conda/lib/python3.10/site-packages (from virtualenv) (0.3.6)\r\n",
      "\u001b[33mWARNING: Running pip as the 'root' user can result in broken permissions and conflicting behaviour with the system package manager. It is recommended to use a virtual environment instead: https://pip.pypa.io/warnings/venv\u001b[0m\u001b[33m\r\n",
      "\u001b[0mcreated virtual environment CPython3.10.10.final.0-64 in 1669ms\r\n",
      "  creator CPython3Posix(dest=/kaggle/working/XAIEnv, clear=False, no_vcs_ignore=False, global=False)\r\n",
      "  seeder FromAppData(download=False, pip=bundle, setuptools=bundle, wheel=bundle, via=copy, app_data_dir=/root/.local/share/virtualenv)\r\n",
      "    added seed packages: pip==23.0.1, setuptools==67.4.0, wheel==0.38.4\r\n",
      "  activators BashActivator,CShellActivator,FishActivator,NushellActivator,PowerShellActivator,PythonActivator\r\n"
     ]
    }
   ],
   "source": [
    "!pip install virtualenv\n",
    "!virtualenv XAIEnv"
   ]
  },
  {
   "cell_type": "markdown",
   "id": "97ce06df",
   "metadata": {
    "id": "IZ7VowTTEBks",
    "papermill": {
     "duration": 0.017701,
     "end_time": "2023-06-12T05:35:10.511419",
     "exception": false,
     "start_time": "2023-06-12T05:35:10.493718",
     "status": "completed"
    },
    "tags": []
   },
   "source": [
    "# Explain Classification result from ResNet"
   ]
  },
  {
   "cell_type": "code",
   "execution_count": 2,
   "id": "3667aa4d",
   "metadata": {
    "execution": {
     "iopub.execute_input": "2023-06-12T05:35:10.549191Z",
     "iopub.status.busy": "2023-06-12T05:35:10.548236Z",
     "iopub.status.idle": "2023-06-12T05:38:44.164258Z",
     "shell.execute_reply": "2023-06-12T05:38:44.162882Z"
    },
    "id": "oMqKUO1q9vs7",
    "papermill": {
     "duration": 213.637314,
     "end_time": "2023-06-12T05:38:44.166576",
     "exception": false,
     "start_time": "2023-06-12T05:35:10.529262",
     "status": "completed"
    },
    "tags": []
   },
   "outputs": [
    {
     "name": "stdout",
     "output_type": "stream",
     "text": [
      "\r\n",
      "\u001b[1m[\u001b[0m\u001b[34;49mnotice\u001b[0m\u001b[1;39;49m]\u001b[0m\u001b[39;49m A new release of pip is available: \u001b[0m\u001b[31;49m23.0.1\u001b[0m\u001b[39;49m -> \u001b[0m\u001b[32;49m23.1.2\u001b[0m\r\n",
      "\u001b[1m[\u001b[0m\u001b[34;49mnotice\u001b[0m\u001b[1;39;49m]\u001b[0m\u001b[39;49m To update, run: \u001b[0m\u001b[32;49mpip install --upgrade pip\u001b[0m\r\n",
      "CPU times: user 2.57 s, sys: 398 ms, total: 2.97 s\n",
      "Wall time: 3min 33s\n"
     ]
    }
   ],
   "source": [
    "%%time\n",
    "!source /kaggle/working/XAIEnv/bin/activate; pip install -q numba torch captum torchvision quantus omnixai[vision] dash jupyter_dash dash_bootstrap_components scikit-learn==1.1.3 numpy==1.22.4 Pillow fastcore -U"
   ]
  },
  {
   "cell_type": "code",
   "execution_count": 3,
   "id": "c8519de8",
   "metadata": {
    "execution": {
     "iopub.execute_input": "2023-06-12T05:38:44.205504Z",
     "iopub.status.busy": "2023-06-12T05:38:44.204622Z",
     "iopub.status.idle": "2023-06-12T05:38:44.209940Z",
     "shell.execute_reply": "2023-06-12T05:38:44.209058Z"
    },
    "id": "yweYyg0OLsJR",
    "papermill": {
     "duration": 0.026741,
     "end_time": "2023-06-12T05:38:44.212008",
     "exception": false,
     "start_time": "2023-06-12T05:38:44.185267",
     "status": "completed"
    },
    "tags": []
   },
   "outputs": [],
   "source": [
    "import sys\n",
    "sys.path.append(\"XAIEnv/lib/python3.10/site-packages\")"
   ]
  },
  {
   "cell_type": "code",
   "execution_count": 4,
   "id": "ebc0d75d",
   "metadata": {
    "execution": {
     "iopub.execute_input": "2023-06-12T05:38:44.249148Z",
     "iopub.status.busy": "2023-06-12T05:38:44.248375Z",
     "iopub.status.idle": "2023-06-12T05:38:50.190958Z",
     "shell.execute_reply": "2023-06-12T05:38:50.189851Z"
    },
    "id": "erPY0MqyEU_X",
    "papermill": {
     "duration": 5.96316,
     "end_time": "2023-06-12T05:38:50.193073",
     "exception": false,
     "start_time": "2023-06-12T05:38:44.229913",
     "status": "completed"
    },
    "tags": []
   },
   "outputs": [
    {
     "name": "stderr",
     "output_type": "stream",
     "text": [
      "/opt/conda/lib/python3.10/site-packages/scipy/__init__.py:146: UserWarning: A NumPy version >=1.16.5 and <1.23.0 is required for this version of SciPy (detected version 1.23.5\n",
      "  warnings.warn(f\"A NumPy version >={np_minversion} and <{np_maxversion}\"\n"
     ]
    },
    {
     "name": "stdout",
     "output_type": "stream",
     "text": [
      "Using cuda for inference\n"
     ]
    }
   ],
   "source": [
    "import torch\n",
    "# import quantus\n",
    "from captum.attr import (\n",
    "    Saliency, # A baseline approach for computing input attribution\n",
    "    GradientShap, \n",
    "    DeepLift,\n",
    "    DeepLiftShap,\n",
    "    IntegratedGradients,\n",
    "    LayerConductance,\n",
    "    NeuronConductance,\n",
    "    NoiseTunnel,\n",
    "    GuidedGradCam,\n",
    "    GuidedBackprop,\n",
    "    Saliency,\n",
    "    LimeBase,\n",
    "    FeatureAblation,\n",
    "    Occlusion,\n",
    "    LRP,\n",
    "    visualization as viz,\n",
    "    Lime\n",
    ")\n",
    "from captum._utils.models.linear_model import SkLearnLinearRegression, SkLearnLasso\n",
    "from captum.attr._core.lime import get_exp_kernel_similarity_function\n",
    "from PIL import Image\n",
    "import torchvision\n",
    "from torchvision import transforms\n",
    "import json\n",
    "import requests\n",
    "from io import BytesIO\n",
    "import warnings\n",
    "import numpy as np\n",
    "import matplotlib.pyplot as plt\n",
    "import matplotlib.cm as c_map\n",
    "from torchvision import models\n",
    "import seaborn as sns\n",
    "import scipy\n",
    "import skimage\n",
    "from sklearn.metrics import confusion_matrix, accuracy_score, f1_score\n",
    "warnings.filterwarnings('ignore')\n",
    "import gc\n",
    "%matplotlib inline\n",
    "\n",
    "device = torch.device(\"cuda\") if torch.cuda.is_available() else torch.device(\"cpu\")\n",
    "cpu = torch.device(\"cpu\")\n",
    "print(f'Using {device} for inference')"
   ]
  },
  {
   "cell_type": "code",
   "execution_count": 5,
   "id": "5b252b0a",
   "metadata": {
    "execution": {
     "iopub.execute_input": "2023-06-12T05:38:50.231817Z",
     "iopub.status.busy": "2023-06-12T05:38:50.230096Z",
     "iopub.status.idle": "2023-06-12T05:38:50.240358Z",
     "shell.execute_reply": "2023-06-12T05:38:50.239401Z"
    },
    "id": "vLfyNmtEM1SB",
    "papermill": {
     "duration": 0.031523,
     "end_time": "2023-06-12T05:38:50.242624",
     "exception": false,
     "start_time": "2023-06-12T05:38:50.211101",
     "status": "completed"
    },
    "tags": []
   },
   "outputs": [],
   "source": [
    "torch.manual_seed(123)\n",
    "np.random.seed(123)"
   ]
  },
  {
   "cell_type": "markdown",
   "id": "0a04ecd1",
   "metadata": {
    "id": "sIEBF6WUzAQA",
    "papermill": {
     "duration": 0.017264,
     "end_time": "2023-06-12T05:38:50.277392",
     "exception": false,
     "start_time": "2023-06-12T05:38:50.260128",
     "status": "completed"
    },
    "tags": []
   },
   "source": [
    "# Setup datasets and configurations"
   ]
  },
  {
   "cell_type": "code",
   "execution_count": 6,
   "id": "3980d06f",
   "metadata": {
    "execution": {
     "iopub.execute_input": "2023-06-12T05:38:50.313355Z",
     "iopub.status.busy": "2023-06-12T05:38:50.313088Z",
     "iopub.status.idle": "2023-06-12T05:38:50.318331Z",
     "shell.execute_reply": "2023-06-12T05:38:50.317351Z"
    },
    "papermill": {
     "duration": 0.025968,
     "end_time": "2023-06-12T05:38:50.320780",
     "exception": false,
     "start_time": "2023-06-12T05:38:50.294812",
     "status": "completed"
    },
    "tags": []
   },
   "outputs": [],
   "source": [
    "USE_KAGGLE = True\n",
    "\n",
    "# Dataset\n",
    "KAGGLE_DATASET_PATH = '/kaggle/input/pneumothorax-chest-xray-images-and-masks'\n",
    "COLAB_DATASET_PATH = '/content/datasets'\n",
    "DATASET_PATH = KAGGLE_DATASET_PATH if USE_KAGGLE else COLAB_DATASET_PATH\n",
    "\n",
    "# Checkpoint\n",
    "KAGGLE_CHECKPOINT_PATH = '/kaggle/input/xai-pretrained-blackbox'\n",
    "COLAB_CHECKPOINT_PATH = '/content/datasets/'\n",
    "\n",
    "CHECKPOINT_PATH = KAGGLE_CHECKPOINT_PATH if USE_KAGGLE else COLAB_CHECKPOINT_PATH"
   ]
  },
  {
   "cell_type": "code",
   "execution_count": 7,
   "id": "e35cedec",
   "metadata": {
    "execution": {
     "iopub.execute_input": "2023-06-12T05:38:50.357689Z",
     "iopub.status.busy": "2023-06-12T05:38:50.357438Z",
     "iopub.status.idle": "2023-06-12T05:38:50.361738Z",
     "shell.execute_reply": "2023-06-12T05:38:50.360860Z"
    },
    "papermill": {
     "duration": 0.02568,
     "end_time": "2023-06-12T05:38:50.363657",
     "exception": false,
     "start_time": "2023-06-12T05:38:50.337977",
     "status": "completed"
    },
    "tags": []
   },
   "outputs": [],
   "source": [
    "INPUT_SIZE = (128, 128)\n",
    "RUN_ON_TEST_SET_SAMPLE = True"
   ]
  },
  {
   "cell_type": "code",
   "execution_count": 8,
   "id": "14d4fb8b",
   "metadata": {
    "execution": {
     "iopub.execute_input": "2023-06-12T05:38:50.400158Z",
     "iopub.status.busy": "2023-06-12T05:38:50.399325Z",
     "iopub.status.idle": "2023-06-12T05:38:50.406693Z",
     "shell.execute_reply": "2023-06-12T05:38:50.405930Z"
    },
    "id": "EVH_ZzSPDGKc",
    "papermill": {
     "duration": 0.02742,
     "end_time": "2023-06-12T05:38:50.408622",
     "exception": false,
     "start_time": "2023-06-12T05:38:50.381202",
     "status": "completed"
    },
    "tags": []
   },
   "outputs": [],
   "source": [
    "resize_image = transforms.Compose([\n",
    "  transforms.Resize(INPUT_SIZE),\n",
    "#   transforms.CenterCrop(299),\n",
    "])\n",
    "\n",
    "transform = transforms.Compose([            \n",
    "  transforms.ToTensor(),\n",
    "  resize_image,\n",
    "  transforms.Normalize(\n",
    "   mean=[0.485, 0.456, 0.406],\n",
    "   std=[0.229, 0.224, 0.225]\n",
    "  )\n",
    "])\n",
    "\n",
    "mask_transform = transforms.Compose([            \n",
    "  transforms.ToTensor(),\n",
    "  resize_image,\n",
    "])"
   ]
  },
  {
   "cell_type": "code",
   "execution_count": 9,
   "id": "03b561a7",
   "metadata": {
    "execution": {
     "iopub.execute_input": "2023-06-12T05:38:50.445283Z",
     "iopub.status.busy": "2023-06-12T05:38:50.444564Z",
     "iopub.status.idle": "2023-06-12T05:38:50.452618Z",
     "shell.execute_reply": "2023-06-12T05:38:50.451841Z"
    },
    "id": "8ncf8jeMzDYz",
    "papermill": {
     "duration": 0.028319,
     "end_time": "2023-06-12T05:38:50.454582",
     "exception": false,
     "start_time": "2023-06-12T05:38:50.426263",
     "status": "completed"
    },
    "tags": []
   },
   "outputs": [],
   "source": [
    "from torch.utils.data import Dataset\n",
    "\n",
    "class PneumothoraxImageDataset(Dataset):\n",
    "    def __init__(self, images, targets, masks, transform, mask_transform):\n",
    "        self.masks = masks\n",
    "        self.images = images\n",
    "        self.targets = targets\n",
    "        self.transform = transform\n",
    "        self.mask_transform = mask_transform\n",
    "        \n",
    "\n",
    "    def __len__(self):\n",
    "        return len(self.images)\n",
    "\n",
    "    def __getitem__(self, idx):\n",
    "        image = np.asarray(Image.open(self.images[idx]).convert('RGB'))\n",
    "        mask = np.asarray(Image.open(self.masks[idx]).convert('RGB'))\n",
    "        label = self.targets[idx]\n",
    "        if self.transform:\n",
    "          image = self.transform(image)\n",
    "        if self.mask_transform:\n",
    "          mask = self.mask_transform(mask)\n",
    "        return image, mask, label"
   ]
  },
  {
   "cell_type": "code",
   "execution_count": 10,
   "id": "d4043753",
   "metadata": {
    "execution": {
     "iopub.execute_input": "2023-06-12T05:38:50.491379Z",
     "iopub.status.busy": "2023-06-12T05:38:50.490678Z",
     "iopub.status.idle": "2023-06-12T05:38:50.550923Z",
     "shell.execute_reply": "2023-06-12T05:38:50.550101Z"
    },
    "id": "8G-yx78yQsMn",
    "papermill": {
     "duration": 0.080913,
     "end_time": "2023-06-12T05:38:50.552970",
     "exception": false,
     "start_time": "2023-06-12T05:38:50.472057",
     "status": "completed"
    },
    "tags": []
   },
   "outputs": [],
   "source": [
    "import os\n",
    "import pandas as pd\n",
    "# train_data = pd.read_csv(os.path.join(main_path, 'stage_1_train_images.csv'))\n",
    "DATASET_NAME = 'siim-acr-pneumothorax'\n",
    "test_data = pd.read_csv(os.path.join(DATASET_PATH, DATASET_NAME, 'stage_1_test_images.csv'))\n",
    "# Just load only abnormal cases\n",
    "# test_abnormal = test_data.loc[test_data.has_pneumo == 1]\n",
    "\n",
    "# Load all cases\n",
    "test_abnormal = test_data\n",
    "\n",
    "# train_data['images'] = train_data['new_filename'].apply(lambda x: os.path.join(main_path, 'png_images', x))\n",
    "# train_data['masks'] = train_data['new_filename'].apply(lambda x: os.path.join(main_path, 'png_masks', x))\n",
    "\n",
    "test_abnormal['images'] = test_abnormal['new_filename'].apply(lambda x: os.path.join(DATASET_PATH, DATASET_NAME, 'png_images', x))\n",
    "test_abnormal['masks'] = test_abnormal['new_filename'].apply(lambda x: os.path.join(DATASET_PATH, DATASET_NAME, 'png_masks', x))\n",
    "\n",
    "images = test_abnormal['images'].tolist()\n",
    "masks = test_abnormal['masks'].tolist()\n",
    "targets = test_abnormal['has_pneumo'].tolist()"
   ]
  },
  {
   "cell_type": "code",
   "execution_count": 11,
   "id": "96a5d997",
   "metadata": {
    "execution": {
     "iopub.execute_input": "2023-06-12T05:38:50.590736Z",
     "iopub.status.busy": "2023-06-12T05:38:50.590476Z",
     "iopub.status.idle": "2023-06-12T05:38:50.595311Z",
     "shell.execute_reply": "2023-06-12T05:38:50.594462Z"
    },
    "id": "vbo2-sZMQ1iU",
    "papermill": {
     "duration": 0.0267,
     "end_time": "2023-06-12T05:38:50.597264",
     "exception": false,
     "start_time": "2023-06-12T05:38:50.570564",
     "status": "completed"
    },
    "tags": []
   },
   "outputs": [],
   "source": [
    "dataset = PneumothoraxImageDataset(images, targets, masks, transform=transform, mask_transform=mask_transform)\n",
    "ds_loader = torch.utils.data.DataLoader(dataset, batch_size=16, num_workers=4, shuffle=RUN_ON_TEST_SET_SAMPLE)"
   ]
  },
  {
   "cell_type": "markdown",
   "id": "5a53c415",
   "metadata": {
    "id": "03NSEm1hf5Yk",
    "papermill": {
     "duration": 0.017671,
     "end_time": "2023-06-12T05:38:50.632737",
     "exception": false,
     "start_time": "2023-06-12T05:38:50.615066",
     "status": "completed"
    },
    "tags": []
   },
   "source": [
    "## Setup Blackbox & XAI methods"
   ]
  },
  {
   "cell_type": "code",
   "execution_count": 12,
   "id": "431a38eb",
   "metadata": {
    "execution": {
     "iopub.execute_input": "2023-06-12T05:38:50.671122Z",
     "iopub.status.busy": "2023-06-12T05:38:50.670364Z",
     "iopub.status.idle": "2023-06-12T05:38:59.098717Z",
     "shell.execute_reply": "2023-06-12T05:38:59.097594Z"
    },
    "papermill": {
     "duration": 8.450397,
     "end_time": "2023-06-12T05:38:59.101550",
     "exception": false,
     "start_time": "2023-06-12T05:38:50.651153",
     "status": "completed"
    },
    "tags": []
   },
   "outputs": [],
   "source": [
    "# ResNet\n",
    "resnet_cp = torch.load(f'{CHECKPOINT_PATH}/resnet_cp.pth')\n",
    "blackbox_resnet = models.resnet101()\n",
    "blackbox_resnet.load_state_dict(resnet_cp)\n",
    "for param in blackbox_resnet.parameters():\n",
    "    param.require_grad = False\n",
    "blackbox_resnet = torch.nn.DataParallel(blackbox_resnet.cuda())\n",
    "blackbox_resnet = blackbox_resnet.eval().to(device)\n",
    "\n",
    "# InceptionV3\n",
    "checkpoint = torch.load(f'{CHECKPOINT_PATH}/inception_cp.pth')\n",
    "blackbox_inception = models.inception_v3()\n",
    "blackbox_inception.load_state_dict(checkpoint)\n",
    "for parameter in blackbox_inception.parameters():\n",
    "    parameter.requires_grad = False\n",
    "blackbox_inception = torch.nn.DataParallel(blackbox_inception.cuda())\n",
    "blackbox_inception = blackbox_inception.eval().to(device)\n"
   ]
  },
  {
   "cell_type": "code",
   "execution_count": 13,
   "id": "85b5fbec",
   "metadata": {
    "execution": {
     "iopub.execute_input": "2023-06-12T05:38:59.148317Z",
     "iopub.status.busy": "2023-06-12T05:38:59.147989Z",
     "iopub.status.idle": "2023-06-12T05:38:59.153580Z",
     "shell.execute_reply": "2023-06-12T05:38:59.152657Z"
    },
    "papermill": {
     "duration": 0.031532,
     "end_time": "2023-06-12T05:38:59.155668",
     "exception": false,
     "start_time": "2023-06-12T05:38:59.124136",
     "status": "completed"
    },
    "tags": []
   },
   "outputs": [],
   "source": [
    "blackbox_configs = {\n",
    "    'ResNet': {\n",
    "        'module': blackbox_resnet,\n",
    "        'layer_name_for_guided_gc': 'layer4'\n",
    "    },\n",
    "    'InceptionV3': {\n",
    "        'module': blackbox_inception,\n",
    "        'layer_name_for_guided_gc': 'Mixed_7c'\n",
    "    }\n",
    "}\n",
    "\n",
    "\n",
    "blackbox_selected = 'InceptionV3'\n",
    "blackbox = blackbox_configs[blackbox_selected]['module']\n",
    "layer = getattr(blackbox.module, blackbox_configs[blackbox_selected]['layer_name_for_guided_gc'])"
   ]
  },
  {
   "cell_type": "code",
   "execution_count": 14,
   "id": "1ece38e2",
   "metadata": {
    "execution": {
     "iopub.execute_input": "2023-06-12T05:38:59.193216Z",
     "iopub.status.busy": "2023-06-12T05:38:59.192951Z",
     "iopub.status.idle": "2023-06-12T05:38:59.198593Z",
     "shell.execute_reply": "2023-06-12T05:38:59.197458Z"
    },
    "papermill": {
     "duration": 0.026397,
     "end_time": "2023-06-12T05:38:59.200850",
     "exception": false,
     "start_time": "2023-06-12T05:38:59.174453",
     "status": "completed"
    },
    "tags": []
   },
   "outputs": [],
   "source": [
    "class ScalarOutputWrapper(torch.nn.Module):\n",
    "    def __init__(self, module):\n",
    "        super().__init__()\n",
    "        self.m = module\n",
    "    \n",
    "    def forward(self, x):\n",
    "        output = self.m(x)\n",
    "        _, res = torch.topk(output, 1, dim=1)\n",
    "        return res"
   ]
  },
  {
   "cell_type": "code",
   "execution_count": 15,
   "id": "c9c98f7d",
   "metadata": {
    "execution": {
     "iopub.execute_input": "2023-06-12T05:38:59.236812Z",
     "iopub.status.busy": "2023-06-12T05:38:59.236533Z",
     "iopub.status.idle": "2023-06-12T05:38:59.244581Z",
     "shell.execute_reply": "2023-06-12T05:38:59.243749Z"
    },
    "id": "w_pjUBZHM9Yf",
    "papermill": {
     "duration": 0.028589,
     "end_time": "2023-06-12T05:38:59.246753",
     "exception": false,
     "start_time": "2023-06-12T05:38:59.218164",
     "status": "completed"
    },
    "tags": []
   },
   "outputs": [],
   "source": [
    "sl = Saliency(blackbox)\n",
    "guided_gc = GuidedGradCam(blackbox, layer)\n",
    "gbp = GuidedBackprop(blackbox)\n",
    "lrp = LRP(blackbox)\n",
    "dls = DeepLiftShap(blackbox)\n",
    "dl = DeepLift(blackbox)\n",
    "gs = GradientShap(blackbox)\n",
    "ig = IntegratedGradients(blackbox)\n",
    "ablator = FeatureAblation(blackbox)\n",
    "occlusion = Occlusion(blackbox)\n",
    "smoothgrad = NoiseTunnel(ig)"
   ]
  },
  {
   "cell_type": "markdown",
   "id": "f3b5b184",
   "metadata": {
    "id": "8vgOkvGgyCRy",
    "papermill": {
     "duration": 0.016896,
     "end_time": "2023-06-12T05:38:59.281010",
     "exception": false,
     "start_time": "2023-06-12T05:38:59.264114",
     "status": "completed"
    },
    "tags": []
   },
   "source": [
    "# Generate Explanations"
   ]
  },
  {
   "cell_type": "code",
   "execution_count": 16,
   "id": "5e5d8c87",
   "metadata": {
    "execution": {
     "iopub.execute_input": "2023-06-12T05:38:59.316802Z",
     "iopub.status.busy": "2023-06-12T05:38:59.316528Z",
     "iopub.status.idle": "2023-06-12T05:38:59.321690Z",
     "shell.execute_reply": "2023-06-12T05:38:59.320833Z"
    },
    "papermill": {
     "duration": 0.02545,
     "end_time": "2023-06-12T05:38:59.323675",
     "exception": false,
     "start_time": "2023-06-12T05:38:59.298225",
     "status": "completed"
    },
    "tags": []
   },
   "outputs": [],
   "source": [
    "# wrapper = ScalarOutputWrapper(blackbox)\n",
    "# lime = Lime(wrapper, interpretable_model=SkLearnLinearRegression(), similarity_func=get_exp_kernel_similarity_function('euclidean', kernel_width=1000))"
   ]
  },
  {
   "cell_type": "code",
   "execution_count": 17,
   "id": "2895d10d",
   "metadata": {
    "execution": {
     "iopub.execute_input": "2023-06-12T05:38:59.364832Z",
     "iopub.status.busy": "2023-06-12T05:38:59.364543Z",
     "iopub.status.idle": "2023-06-12T05:38:59.373130Z",
     "shell.execute_reply": "2023-06-12T05:38:59.372276Z"
    },
    "id": "hQ8hQhIoOwGo",
    "outputId": "bc981983-0b8f-45f6-c1c7-8e5b098d33a9",
    "papermill": {
     "duration": 0.029909,
     "end_time": "2023-06-12T05:38:59.375091",
     "exception": false,
     "start_time": "2023-06-12T05:38:59.345182",
     "status": "completed"
    },
    "tags": []
   },
   "outputs": [
    {
     "data": {
      "text/plain": [
       "torch.Size([1, 3, 128, 128])"
      ]
     },
     "execution_count": 17,
     "metadata": {},
     "output_type": "execute_result"
    }
   ],
   "source": [
    "rand_img_dist = torch.rand((1, 3, 128, 128)).to(device)\n",
    "rand_img_dist.shape"
   ]
  },
  {
   "cell_type": "code",
   "execution_count": 18,
   "id": "8db5fed4",
   "metadata": {
    "execution": {
     "iopub.execute_input": "2023-06-12T05:38:59.412357Z",
     "iopub.status.busy": "2023-06-12T05:38:59.411509Z",
     "iopub.status.idle": "2023-06-12T05:38:59.416180Z",
     "shell.execute_reply": "2023-06-12T05:38:59.415135Z"
    },
    "id": "-JOP1plyU4uV",
    "papermill": {
     "duration": 0.02558,
     "end_time": "2023-06-12T05:38:59.418261",
     "exception": false,
     "start_time": "2023-06-12T05:38:59.392681",
     "status": "completed"
    },
    "tags": []
   },
   "outputs": [],
   "source": [
    "dataset_labels = { 0: 'normal', 1: 'Pneumothorax' }"
   ]
  },
  {
   "cell_type": "code",
   "execution_count": 19,
   "id": "19cbc75c",
   "metadata": {
    "execution": {
     "iopub.execute_input": "2023-06-12T05:38:59.459685Z",
     "iopub.status.busy": "2023-06-12T05:38:59.458723Z",
     "iopub.status.idle": "2023-06-12T05:38:59.466746Z",
     "shell.execute_reply": "2023-06-12T05:38:59.465811Z"
    },
    "id": "5CQamOeyeSlE",
    "papermill": {
     "duration": 0.031246,
     "end_time": "2023-06-12T05:38:59.468769",
     "exception": false,
     "start_time": "2023-06-12T05:38:59.437523",
     "status": "completed"
    },
    "tags": []
   },
   "outputs": [],
   "source": [
    "xai_methods = {\n",
    "  \"Saliency\": { \"method\": sl , \"options\": {}},\n",
    "  \"GuidedGradCam\": { \"method\": guided_gc, \"options\": {'interpolate_mode': 'area'}},\n",
    "  \"GuidedBackprop\": { \"method\": gbp, \"options\": {}},\n",
    "  \"LRP\": { \"method\": lrp, \"options\": {}},\n",
    "  # \"DeepLiftShap\": { \"method\": dls, \"options\": {}},\n",
    "  # \"DeepLift\": { \"method\": dl, \"options\": {}},\n",
    "  \"GradientShap\": { \"method\": gs, \"options\": { 'n_samples': 16, 'stdevs': 0.0001, 'baselines': rand_img_dist }},\n",
    "  \"IntegratedGradients\": { \"method\": ig, \"options\": { 'n_steps' : 100, 'internal_batch_size': 1 }, 'baselines': rand_img_dist },\n",
    "  # \"FeatureAblation\": { \"method\": ablator, \"options\": {}},\n",
    "  \"Occlusion\": { \"method\": occlusion, \"options\": { 'sliding_window_shapes': (3,8, 8), 'strides': (3, 4, 4)}},\n",
    "  \"SmoothGrad\": {\"method\": smoothgrad, \"options\": {\"nt_type\": \"smoothgrad\"}}\n",
    "}"
   ]
  },
  {
   "cell_type": "code",
   "execution_count": 20,
   "id": "5ef00e2d",
   "metadata": {
    "execution": {
     "iopub.execute_input": "2023-06-12T05:38:59.509053Z",
     "iopub.status.busy": "2023-06-12T05:38:59.508205Z",
     "iopub.status.idle": "2023-06-12T05:38:59.520555Z",
     "shell.execute_reply": "2023-06-12T05:38:59.519588Z"
    },
    "id": "jTCFWTPxHqcK",
    "papermill": {
     "duration": 0.034055,
     "end_time": "2023-06-12T05:38:59.522823",
     "exception": false,
     "start_time": "2023-06-12T05:38:59.488768",
     "status": "completed"
    },
    "tags": []
   },
   "outputs": [],
   "source": [
    "from tqdm import tqdm\n",
    "import gc\n",
    "\n",
    "def visualize_explain_of(xai_methods, x, mask, y, blackbox):\n",
    "  with torch.no_grad():\n",
    "    output = torch.nn.functional.softmax(blackbox(x), dim=1)\n",
    "    _, indices = torch.topk(output, k=1, dim = 1)\n",
    "  indices = torch.flatten(indices)\n",
    "  num_methods = len(xai_methods.items())\n",
    "  for idx, img in tqdm(enumerate(x)):\n",
    "    target = indices[idx]\n",
    "    if target.item() == 0:\n",
    "      continue\n",
    "    fig, axes = plt.subplots(1, num_methods + 1, figsize = (48, 6))\n",
    "    axes[0].imshow(np.transpose(mask[idx].detach().numpy(), (1, 2, 0)))\n",
    "    for method_idx, (method_name, parameters) in enumerate(xai_methods.items()):\n",
    "      attributions = parameters[\"method\"].attribute(img.unsqueeze(0), target=target, **parameters[\"options\"])\n",
    "      # Convert the compute attribution tensor into an image-like numpy array\n",
    "      attribution = np.transpose(attributions.squeeze().cpu().detach().numpy(), (1,2,0))\n",
    "      visualize_image_attr(attribution, np.transpose(img.cpu().detach().numpy(), (1, 2,0)), \"blended_heat_map\", sign=\"positive\", title=method_name, use_pyplot=False, plt_fig_axis=(fig, axes[1 + method_idx]))\n",
    "      torch.cuda.empty_cache()\n",
    "      gc.collect()\n",
    "    plt.show()"
   ]
  },
  {
   "cell_type": "markdown",
   "id": "58152419",
   "metadata": {
    "id": "eZudcBlGD0so",
    "papermill": {
     "duration": 0.019826,
     "end_time": "2023-06-12T05:38:59.563099",
     "exception": false,
     "start_time": "2023-06-12T05:38:59.543273",
     "status": "completed"
    },
    "tags": []
   },
   "source": [
    "# Experiments"
   ]
  },
  {
   "cell_type": "markdown",
   "id": "cbf2772d",
   "metadata": {
    "papermill": {
     "duration": 0.018517,
     "end_time": "2023-06-12T05:38:59.601589",
     "exception": false,
     "start_time": "2023-06-12T05:38:59.583072",
     "status": "completed"
    },
    "tags": []
   },
   "source": [
    "## Utility functions"
   ]
  },
  {
   "cell_type": "code",
   "execution_count": 21,
   "id": "3ca771f4",
   "metadata": {
    "execution": {
     "iopub.execute_input": "2023-06-12T05:38:59.641583Z",
     "iopub.status.busy": "2023-06-12T05:38:59.640726Z",
     "iopub.status.idle": "2023-06-12T05:38:59.647026Z",
     "shell.execute_reply": "2023-06-12T05:38:59.646154Z"
    },
    "id": "VUwIbTzPEA4y",
    "papermill": {
     "duration": 0.028677,
     "end_time": "2023-06-12T05:38:59.649122",
     "exception": false,
     "start_time": "2023-06-12T05:38:59.620445",
     "status": "completed"
    },
    "tags": []
   },
   "outputs": [],
   "source": [
    "def get_explanation(xai_config, batch, targets):\n",
    "    \"\"\"Return the explanation of an XAI model for an input batch\n",
    "    \"\"\"\n",
    "    xai_model = xai_config['method']\n",
    "    options = xai_config['options']\n",
    "    attribution = xai_model.attribute(batch, target=targets, **options)\n",
    "    return attribution.mean(dim=1)"
   ]
  },
  {
   "cell_type": "code",
   "execution_count": 22,
   "id": "21d001c3",
   "metadata": {
    "execution": {
     "iopub.execute_input": "2023-06-12T05:38:59.687687Z",
     "iopub.status.busy": "2023-06-12T05:38:59.686874Z",
     "iopub.status.idle": "2023-06-12T05:38:59.691812Z",
     "shell.execute_reply": "2023-06-12T05:38:59.690951Z"
    },
    "id": "PIGlN7X9H5Aw",
    "papermill": {
     "duration": 0.025709,
     "end_time": "2023-06-12T05:38:59.693735",
     "exception": false,
     "start_time": "2023-06-12T05:38:59.668026",
     "status": "completed"
    },
    "tags": []
   },
   "outputs": [],
   "source": [
    "def normalize(x):\n",
    "    t = (x - np.min(x)) / (np.max(x) - np.min(x))\n",
    "    return t"
   ]
  },
  {
   "cell_type": "code",
   "execution_count": 23,
   "id": "d0d4e103",
   "metadata": {
    "execution": {
     "iopub.execute_input": "2023-06-12T05:38:59.731187Z",
     "iopub.status.busy": "2023-06-12T05:38:59.730422Z",
     "iopub.status.idle": "2023-06-12T05:38:59.735105Z",
     "shell.execute_reply": "2023-06-12T05:38:59.734280Z"
    },
    "papermill": {
     "duration": 0.025135,
     "end_time": "2023-06-12T05:38:59.737156",
     "exception": false,
     "start_time": "2023-06-12T05:38:59.712021",
     "status": "completed"
    },
    "tags": []
   },
   "outputs": [],
   "source": [
    "def normalize_sum_to_one(x):\n",
    "    norm = normalize(x)\n",
    "    return norm / norm.sum()"
   ]
  },
  {
   "cell_type": "code",
   "execution_count": 24,
   "id": "9360f4f7",
   "metadata": {
    "execution": {
     "iopub.execute_input": "2023-06-12T05:38:59.774235Z",
     "iopub.status.busy": "2023-06-12T05:38:59.773507Z",
     "iopub.status.idle": "2023-06-12T05:38:59.778755Z",
     "shell.execute_reply": "2023-06-12T05:38:59.777963Z"
    },
    "papermill": {
     "duration": 0.025685,
     "end_time": "2023-06-12T05:38:59.780802",
     "exception": false,
     "start_time": "2023-06-12T05:38:59.755117",
     "status": "completed"
    },
    "tags": []
   },
   "outputs": [],
   "source": [
    "def compute_mean_disagreement(exp1, exp2, metric, **options):\n",
    "    metrics = []\n",
    "    for e1, e2 in zip(exp1, exp2):\n",
    "        metrics.append(metric(e1, e2, **options))\n",
    "    return np.array(metrics).mean()"
   ]
  },
  {
   "cell_type": "markdown",
   "id": "a805bcfd",
   "metadata": {
    "papermill": {
     "duration": 0.017633,
     "end_time": "2023-06-12T05:38:59.816147",
     "exception": false,
     "start_time": "2023-06-12T05:38:59.798514",
     "status": "completed"
    },
    "tags": []
   },
   "source": [
    "## Defining Metrics"
   ]
  },
  {
   "cell_type": "markdown",
   "id": "c0d81472",
   "metadata": {
    "papermill": {
     "duration": 0.017401,
     "end_time": "2023-06-12T05:38:59.851055",
     "exception": false,
     "start_time": "2023-06-12T05:38:59.833654",
     "status": "completed"
    },
    "tags": []
   },
   "source": [
    "### Hellinger distance"
   ]
  },
  {
   "cell_type": "code",
   "execution_count": 25,
   "id": "2a0f1b26",
   "metadata": {
    "execution": {
     "iopub.execute_input": "2023-06-12T05:38:59.887668Z",
     "iopub.status.busy": "2023-06-12T05:38:59.886926Z",
     "iopub.status.idle": "2023-06-12T05:38:59.892313Z",
     "shell.execute_reply": "2023-06-12T05:38:59.891505Z"
    },
    "id": "gt4pNbEvlS0C",
    "papermill": {
     "duration": 0.025903,
     "end_time": "2023-06-12T05:38:59.894339",
     "exception": false,
     "start_time": "2023-06-12T05:38:59.868436",
     "status": "completed"
    },
    "tags": []
   },
   "outputs": [],
   "source": [
    "def hellinger_distance(x, y):\n",
    "    return 1 / np.sqrt(2) * np.sqrt(np.sum((np.sqrt(normalize_sum_to_one(x)) - np.sqrt(normalize_sum_to_one(y))) ** 2))"
   ]
  },
  {
   "cell_type": "markdown",
   "id": "f703f993",
   "metadata": {
    "papermill": {
     "duration": 0.018212,
     "end_time": "2023-06-12T05:38:59.930919",
     "exception": false,
     "start_time": "2023-06-12T05:38:59.912707",
     "status": "completed"
    },
    "tags": []
   },
   "source": [
    "### Metrics from the paper _The Disagreement Problem in Explainable Machine Learning_"
   ]
  },
  {
   "cell_type": "code",
   "execution_count": 26,
   "id": "d95905e4",
   "metadata": {
    "execution": {
     "iopub.execute_input": "2023-06-12T05:38:59.968908Z",
     "iopub.status.busy": "2023-06-12T05:38:59.968042Z",
     "iopub.status.idle": "2023-06-12T05:38:59.974520Z",
     "shell.execute_reply": "2023-06-12T05:38:59.973642Z"
    },
    "papermill": {
     "duration": 0.027475,
     "end_time": "2023-06-12T05:38:59.976566",
     "exception": false,
     "start_time": "2023-06-12T05:38:59.949091",
     "status": "completed"
    },
    "tags": []
   },
   "outputs": [],
   "source": [
    "def feature_agreement(x, y, k=1638):\n",
    "    _, i1 = torch.topk(torch.Tensor(x).flatten().abs(), k)\n",
    "    _, i2 = torch.topk(torch.Tensor(y).flatten().abs(), k)\n",
    "    i1 = set(torch.unique(i1).tolist())\n",
    "    i2 = set(torch.unique(i2).tolist())\n",
    "    intersect = len(i1.intersection(i2))\n",
    "    return 1.0 * intersect / k"
   ]
  },
  {
   "cell_type": "code",
   "execution_count": 27,
   "id": "fa7cd10c",
   "metadata": {
    "execution": {
     "iopub.execute_input": "2023-06-12T05:39:00.014001Z",
     "iopub.status.busy": "2023-06-12T05:39:00.013166Z",
     "iopub.status.idle": "2023-06-12T05:39:00.019689Z",
     "shell.execute_reply": "2023-06-12T05:39:00.018885Z"
    },
    "papermill": {
     "duration": 0.026948,
     "end_time": "2023-06-12T05:39:00.021625",
     "exception": false,
     "start_time": "2023-06-12T05:38:59.994677",
     "status": "completed"
    },
    "tags": []
   },
   "outputs": [],
   "source": [
    "def sign_agreement(x, y, k=1638):\n",
    "    x_flatten = x.flatten()\n",
    "    y_flatten = y.flatten()\n",
    "    x_topk = np.argpartition(np.absolute(x_flatten), -k)[-k:]\n",
    "    y_topk = np.argpartition(np.absolute(y_flatten), -k)[-k:]\n",
    "    \n",
    "    intersect = np.intersect1d(x_topk, y_topk)\n",
    "    same_sign = np.asarray(list(map(lambda ind: x_flatten[ind] * y_flatten[ind] > 0, intersect)))\n",
    "    return same_sign.sum() * 1.0 / k"
   ]
  },
  {
   "cell_type": "code",
   "execution_count": 28,
   "id": "c2b15c33",
   "metadata": {
    "execution": {
     "iopub.execute_input": "2023-06-12T05:39:00.057856Z",
     "iopub.status.busy": "2023-06-12T05:39:00.057111Z",
     "iopub.status.idle": "2023-06-12T05:39:00.061978Z",
     "shell.execute_reply": "2023-06-12T05:39:00.061151Z"
    },
    "papermill": {
     "duration": 0.024856,
     "end_time": "2023-06-12T05:39:00.063961",
     "exception": false,
     "start_time": "2023-06-12T05:39:00.039105",
     "status": "completed"
    },
    "tags": []
   },
   "outputs": [],
   "source": [
    "def rank_correlation(x, y):\n",
    "    return scipy.stats.spearmanr(x.flatten().abs(), y.flatten().abs()).correlation"
   ]
  },
  {
   "cell_type": "markdown",
   "id": "bf424037",
   "metadata": {
    "papermill": {
     "duration": 0.017005,
     "end_time": "2023-06-12T05:39:00.098252",
     "exception": false,
     "start_time": "2023-06-12T05:39:00.081247",
     "status": "completed"
    },
    "tags": []
   },
   "source": [
    "### IoU"
   ]
  },
  {
   "cell_type": "code",
   "execution_count": 29,
   "id": "973f2977",
   "metadata": {
    "execution": {
     "iopub.execute_input": "2023-06-12T05:39:00.133978Z",
     "iopub.status.busy": "2023-06-12T05:39:00.133699Z",
     "iopub.status.idle": "2023-06-12T05:39:00.139621Z",
     "shell.execute_reply": "2023-06-12T05:39:00.138746Z"
    },
    "papermill": {
     "duration": 0.026056,
     "end_time": "2023-06-12T05:39:00.141625",
     "exception": false,
     "start_time": "2023-06-12T05:39:00.115569",
     "status": "completed"
    },
    "tags": []
   },
   "outputs": [],
   "source": [
    "def iou(x, y, threshold = 0.25):\n",
    "    x_bin = x > threshold\n",
    "    y_bin = y > threshold\n",
    "    intersection = x_bin * y_bin\n",
    "    union = x_bin + y_bin\n",
    "    return 0 if union.sum() == 0 else intersection.sum() / float(union.sum())"
   ]
  },
  {
   "cell_type": "code",
   "execution_count": 30,
   "id": "63e4b98f",
   "metadata": {
    "execution": {
     "iopub.execute_input": "2023-06-12T05:39:00.178188Z",
     "iopub.status.busy": "2023-06-12T05:39:00.177450Z",
     "iopub.status.idle": "2023-06-12T05:39:00.182207Z",
     "shell.execute_reply": "2023-06-12T05:39:00.181361Z"
    },
    "papermill": {
     "duration": 0.024817,
     "end_time": "2023-06-12T05:39:00.184142",
     "exception": false,
     "start_time": "2023-06-12T05:39:00.159325",
     "status": "completed"
    },
    "tags": []
   },
   "outputs": [],
   "source": [
    "def positive_iou(x, y): return iou(x, y, 0)"
   ]
  },
  {
   "cell_type": "markdown",
   "id": "d9de196b",
   "metadata": {
    "papermill": {
     "duration": 0.017257,
     "end_time": "2023-06-12T05:39:00.219332",
     "exception": false,
     "start_time": "2023-06-12T05:39:00.202075",
     "status": "completed"
    },
    "tags": []
   },
   "source": [
    "### Structural similarity index"
   ]
  },
  {
   "cell_type": "code",
   "execution_count": 31,
   "id": "09a936c3",
   "metadata": {
    "execution": {
     "iopub.execute_input": "2023-06-12T05:39:00.257888Z",
     "iopub.status.busy": "2023-06-12T05:39:00.257589Z",
     "iopub.status.idle": "2023-06-12T05:39:00.262152Z",
     "shell.execute_reply": "2023-06-12T05:39:00.261186Z"
    },
    "papermill": {
     "duration": 0.027002,
     "end_time": "2023-06-12T05:39:00.264323",
     "exception": false,
     "start_time": "2023-06-12T05:39:00.237321",
     "status": "completed"
    },
    "tags": []
   },
   "outputs": [],
   "source": [
    "def ssim(x, y):\n",
    "    return skimage.metrics.structural_similarity(normalize(x), normalize(y), data_range=1.0)"
   ]
  },
  {
   "cell_type": "markdown",
   "id": "b579c2d2",
   "metadata": {
    "id": "Xb-_8N9VIebw",
    "papermill": {
     "duration": 0.01728,
     "end_time": "2023-06-12T05:39:00.300147",
     "exception": false,
     "start_time": "2023-06-12T05:39:00.282867",
     "status": "completed"
    },
    "tags": []
   },
   "source": [
    "## Evaluation"
   ]
  },
  {
   "cell_type": "markdown",
   "id": "712b9f3b",
   "metadata": {
    "papermill": {
     "duration": 0.017246,
     "end_time": "2023-06-12T05:39:00.335469",
     "exception": false,
     "start_time": "2023-06-12T05:39:00.318223",
     "status": "completed"
    },
    "tags": []
   },
   "source": [
    "Evaluate the blackbox over the test set."
   ]
  },
  {
   "cell_type": "code",
   "execution_count": 32,
   "id": "daa93e73",
   "metadata": {
    "execution": {
     "iopub.execute_input": "2023-06-12T05:39:00.373291Z",
     "iopub.status.busy": "2023-06-12T05:39:00.373010Z",
     "iopub.status.idle": "2023-06-12T05:39:13.689488Z",
     "shell.execute_reply": "2023-06-12T05:39:13.687326Z"
    },
    "papermill": {
     "duration": 13.337832,
     "end_time": "2023-06-12T05:39:13.691874",
     "exception": false,
     "start_time": "2023-06-12T05:39:00.354042",
     "status": "completed"
    },
    "tags": []
   },
   "outputs": [
    {
     "name": "stdout",
     "output_type": "stream",
     "text": [
      "CPU times: user 4.81 s, sys: 1.93 s, total: 6.74 s\n",
      "Wall time: 13.3 s\n"
     ]
    }
   ],
   "source": [
    "%%time\n",
    "x_test = []\n",
    "indices = []\n",
    "y_true = []\n",
    "im_masks = []\n",
    "\n",
    "loader = [next(iter(ds_loader))] if RUN_ON_TEST_SET_SAMPLE else ds_loader\n",
    "with torch.no_grad():\n",
    "    for data in loader:\n",
    "        x, m, y = data\n",
    "        output = torch.nn.functional.softmax(blackbox(x.to(device)), dim=1)\n",
    "        _, index = torch.topk(output, k=1, dim=1)\n",
    "\n",
    "        indices.append(index.flatten())\n",
    "        y_true.append(y)\n",
    "        im_masks.append(m)\n",
    "\n",
    "indices = torch.concat(indices)\n",
    "y_true = torch.concat(y_true)\n",
    "im_masks = torch.concat(im_masks)\n",
    "im_masks = im_masks[:, 0, :]"
   ]
  },
  {
   "cell_type": "markdown",
   "id": "ad5b545e",
   "metadata": {
    "papermill": {
     "duration": 0.017272,
     "end_time": "2023-06-12T05:39:13.727344",
     "exception": false,
     "start_time": "2023-06-12T05:39:13.710072",
     "status": "completed"
    },
    "tags": []
   },
   "source": [
    "Assess the blackbox performance. This is the confusion matrix, accuracy and F1-score."
   ]
  },
  {
   "cell_type": "code",
   "execution_count": 33,
   "id": "1dfcff20",
   "metadata": {
    "execution": {
     "iopub.execute_input": "2023-06-12T05:39:13.765521Z",
     "iopub.status.busy": "2023-06-12T05:39:13.764429Z",
     "iopub.status.idle": "2023-06-12T05:39:14.067629Z",
     "shell.execute_reply": "2023-06-12T05:39:14.066702Z"
    },
    "papermill": {
     "duration": 0.324384,
     "end_time": "2023-06-12T05:39:14.069870",
     "exception": false,
     "start_time": "2023-06-12T05:39:13.745486",
     "status": "completed"
    },
    "tags": []
   },
   "outputs": [
    {
     "name": "stdout",
     "output_type": "stream",
     "text": [
      "Accuracy: 0.75\n",
      "F1-score: 0.5\n"
     ]
    },
    {
     "data": {
      "image/png": "[encoded data removed]",
      "text/plain": [
       "<Figure size 640x480 with 2 Axes>"
      ]
     },
     "metadata": {},
     "output_type": "display_data"
    }
   ],
   "source": [
    "y_true = np.array(y_true)\n",
    "y_pred = indices.cpu().detach().numpy()\n",
    "\n",
    "# Accuracy\n",
    "print(f'Accuracy: {accuracy_score(y_true, y_pred)}')\n",
    "\n",
    "# F1 score\n",
    "print(f'F1-score: {f1_score(y_true, y_pred)}')\n",
    "\n",
    "# Confusion matrix\n",
    "cm = confusion_matrix(y_true, y_pred, normalize='all')\n",
    "cm_labels = [f'{label}\\n{\"{0:.2f}%\".format(val * 100)}' for label, val in zip(['True negative', 'False positive', 'False negative', 'True positive'], cm.flatten())]\n",
    "cm_labels = np.asarray(cm_labels).reshape(2, 2)\n",
    "sns.heatmap(cm, annot=cm_labels, fmt='', cmap='Blues').set(title='Confusion matrix')\n",
    "plt.show()"
   ]
  },
  {
   "cell_type": "markdown",
   "id": "e75eaa5b",
   "metadata": {
    "papermill": {
     "duration": 0.017917,
     "end_time": "2023-06-12T05:39:14.105925",
     "exception": false,
     "start_time": "2023-06-12T05:39:14.088008",
     "status": "completed"
    },
    "tags": []
   },
   "source": [
    "## Generating explanations"
   ]
  },
  {
   "cell_type": "markdown",
   "id": "ec8f8122",
   "metadata": {
    "papermill": {
     "duration": 0.018017,
     "end_time": "2023-06-12T05:39:14.141647",
     "exception": false,
     "start_time": "2023-06-12T05:39:14.123630",
     "status": "completed"
    },
    "tags": []
   },
   "source": [
    "Generate explanations for all test examples for each interested methods."
   ]
  },
  {
   "cell_type": "code",
   "execution_count": 34,
   "id": "7d0c36fa",
   "metadata": {
    "execution": {
     "iopub.execute_input": "2023-06-12T05:39:14.178706Z",
     "iopub.status.busy": "2023-06-12T05:39:14.178388Z",
     "iopub.status.idle": "2023-06-12T05:39:14.185612Z",
     "shell.execute_reply": "2023-06-12T05:39:14.184654Z"
    },
    "papermill": {
     "duration": 0.02808,
     "end_time": "2023-06-12T05:39:14.187600",
     "exception": false,
     "start_time": "2023-06-12T05:39:14.159520",
     "status": "completed"
    },
    "tags": []
   },
   "outputs": [],
   "source": [
    "def get_explanations(xai_methods_dict, methods, ds_loader, indices, gpu_device):\n",
    "    explanations = {}\n",
    "    indices = indices.to(gpu_device)\n",
    "    \n",
    "    for method in methods:\n",
    "        explanations[method] = []\n",
    "\n",
    "    for method in methods:\n",
    "        for i, data in enumerate(ds_loader):\n",
    "            batch = data[0]\n",
    "            batch_size = batch.shape[0]\n",
    "            explanation = get_explanation(xai_methods_dict[method], batch.to(gpu_device), indices[i * batch_size:(i + 1) * batch_size])\n",
    "            explanation = explanation.cpu().detach()\n",
    "            explanations[method].append(explanation)\n",
    "    \n",
    "    return explanations"
   ]
  },
  {
   "cell_type": "markdown",
   "id": "986c3c08",
   "metadata": {
    "papermill": {
     "duration": 0.017785,
     "end_time": "2023-06-12T05:39:14.224394",
     "exception": false,
     "start_time": "2023-06-12T05:39:14.206609",
     "status": "completed"
    },
    "tags": []
   },
   "source": [
    "Gradient-based methods."
   ]
  },
  {
   "cell_type": "code",
   "execution_count": 35,
   "id": "a240a219",
   "metadata": {
    "execution": {
     "iopub.execute_input": "2023-06-12T05:39:14.262963Z",
     "iopub.status.busy": "2023-06-12T05:39:14.261377Z",
     "iopub.status.idle": "2023-06-12T05:39:15.701550Z",
     "shell.execute_reply": "2023-06-12T05:39:15.700455Z"
    },
    "papermill": {
     "duration": 1.4615,
     "end_time": "2023-06-12T05:39:15.703735",
     "exception": false,
     "start_time": "2023-06-12T05:39:14.242235",
     "status": "completed"
    },
    "tags": []
   },
   "outputs": [
    {
     "name": "stdout",
     "output_type": "stream",
     "text": [
      "CPU times: user 1.55 s, sys: 149 ms, total: 1.7 s\n",
      "Wall time: 1.43 s\n"
     ]
    }
   ],
   "source": [
    "%%time\n",
    "gradient_methods = ['Saliency', 'LRP', 'GradientShap', 'GuidedGradCam', 'GuidedBackprop']\n",
    "gradient_explanations = get_explanations(xai_methods, gradient_methods, loader, indices, device)"
   ]
  },
  {
   "cell_type": "markdown",
   "id": "1703b4b6",
   "metadata": {
    "papermill": {
     "duration": 0.018232,
     "end_time": "2023-06-12T05:39:15.741504",
     "exception": false,
     "start_time": "2023-06-12T05:39:15.723272",
     "status": "completed"
    },
    "tags": []
   },
   "source": [
    "Perturbation-based methods."
   ]
  },
  {
   "cell_type": "code",
   "execution_count": 36,
   "id": "a4df924c",
   "metadata": {
    "execution": {
     "iopub.execute_input": "2023-06-12T05:39:15.779598Z",
     "iopub.status.busy": "2023-06-12T05:39:15.778673Z",
     "iopub.status.idle": "2023-06-12T05:39:24.978440Z",
     "shell.execute_reply": "2023-06-12T05:39:24.977449Z"
    },
    "papermill": {
     "duration": 9.221327,
     "end_time": "2023-06-12T05:39:24.981021",
     "exception": false,
     "start_time": "2023-06-12T05:39:15.759694",
     "status": "completed"
    },
    "tags": []
   },
   "outputs": [
    {
     "name": "stdout",
     "output_type": "stream",
     "text": [
      "CPU times: user 12.2 s, sys: 370 ms, total: 12.6 s\n",
      "Wall time: 9.19 s\n"
     ]
    }
   ],
   "source": [
    "%%time\n",
    "perturbation_methods = ['IntegratedGradients']\n",
    "perturbation_explanations = get_explanations(xai_methods, perturbation_methods, loader, indices, device)"
   ]
  },
  {
   "cell_type": "markdown",
   "id": "8a50e3c3",
   "metadata": {
    "papermill": {
     "duration": 0.018082,
     "end_time": "2023-06-12T05:39:25.019124",
     "exception": false,
     "start_time": "2023-06-12T05:39:25.001042",
     "status": "completed"
    },
    "tags": []
   },
   "source": [
    "Concatenate explanations of each method into a single tensor."
   ]
  },
  {
   "cell_type": "code",
   "execution_count": 37,
   "id": "c9dd466c",
   "metadata": {
    "execution": {
     "iopub.execute_input": "2023-06-12T05:39:25.057053Z",
     "iopub.status.busy": "2023-06-12T05:39:25.056724Z",
     "iopub.status.idle": "2023-06-12T05:39:25.064329Z",
     "shell.execute_reply": "2023-06-12T05:39:25.063442Z"
    },
    "papermill": {
     "duration": 0.028891,
     "end_time": "2023-06-12T05:39:25.066320",
     "exception": false,
     "start_time": "2023-06-12T05:39:25.037429",
     "status": "completed"
    },
    "tags": []
   },
   "outputs": [],
   "source": [
    "explanations = {**gradient_explanations, **perturbation_explanations}\n",
    "methods = gradient_methods + perturbation_methods\n",
    "for method in methods:\n",
    "    exp = explanations[method]\n",
    "    for i in range(len(exp)):\n",
    "        exp[i] = exp[i].cpu().detach()\n",
    "    explanations[method] = torch.cat(exp)"
   ]
  },
  {
   "cell_type": "markdown",
   "id": "c6cb36fb",
   "metadata": {
    "papermill": {
     "duration": 0.018007,
     "end_time": "2023-06-12T05:39:25.102570",
     "exception": false,
     "start_time": "2023-06-12T05:39:25.084563",
     "status": "completed"
    },
    "tags": []
   },
   "source": [
    "## Visualization"
   ]
  },
  {
   "cell_type": "markdown",
   "id": "24744430",
   "metadata": {
    "papermill": {
     "duration": 0.018105,
     "end_time": "2023-06-12T05:39:25.138919",
     "exception": false,
     "start_time": "2023-06-12T05:39:25.120814",
     "status": "completed"
    },
    "tags": []
   },
   "source": [
    "Compute average disagreement for a given metric."
   ]
  },
  {
   "cell_type": "code",
   "execution_count": 38,
   "id": "db4e12b4",
   "metadata": {
    "execution": {
     "iopub.execute_input": "2023-06-12T05:39:25.177044Z",
     "iopub.status.busy": "2023-06-12T05:39:25.176703Z",
     "iopub.status.idle": "2023-06-12T05:39:25.185247Z",
     "shell.execute_reply": "2023-06-12T05:39:25.184413Z"
    },
    "papermill": {
     "duration": 0.029977,
     "end_time": "2023-06-12T05:39:25.187190",
     "exception": false,
     "start_time": "2023-06-12T05:39:25.157213",
     "status": "completed"
    },
    "tags": []
   },
   "outputs": [],
   "source": [
    "def compute_heatmap(methods, explanations, metric, **options):\n",
    "    size = len(methods)\n",
    "    result = np.empty((size, size))\n",
    "\n",
    "    for j in range(size):\n",
    "        for i in range(size):\n",
    "            exp1 = explanations[methods[i]]\n",
    "            exp2 = explanations[methods[j]]\n",
    "            \n",
    "            if isinstance(exp1, torch.Tensor):\n",
    "                exp1 = exp1.cpu().numpy()\n",
    "            \n",
    "            if isinstance(exp2, torch.Tensor):\n",
    "                exp2 = exp2.cpu().numpy()\n",
    "            \n",
    "            if i >= j:\n",
    "                result[i, j] = compute_mean_disagreement(exp1, exp2, metric, **options)\n",
    "            else:\n",
    "                result[i, j] = result[j, i]\n",
    "    return result"
   ]
  },
  {
   "cell_type": "code",
   "execution_count": 39,
   "id": "1de2e252",
   "metadata": {
    "execution": {
     "iopub.execute_input": "2023-06-12T05:39:25.225254Z",
     "iopub.status.busy": "2023-06-12T05:39:25.224526Z",
     "iopub.status.idle": "2023-06-12T05:39:25.229475Z",
     "shell.execute_reply": "2023-06-12T05:39:25.228553Z"
    },
    "papermill": {
     "duration": 0.025746,
     "end_time": "2023-06-12T05:39:25.231586",
     "exception": false,
     "start_time": "2023-06-12T05:39:25.205840",
     "status": "completed"
    },
    "tags": []
   },
   "outputs": [],
   "source": [
    "def visualize(hm, title):\n",
    "    return sns.heatmap(hm, annot=True, xticklabels=methods, yticklabels=methods, cmap='Blues').set(title=title)"
   ]
  },
  {
   "cell_type": "markdown",
   "id": "1a2c8e49",
   "metadata": {
    "papermill": {
     "duration": 0.019979,
     "end_time": "2023-06-12T05:39:25.270213",
     "exception": false,
     "start_time": "2023-06-12T05:39:25.250234",
     "status": "completed"
    },
    "tags": []
   },
   "source": [
    "### Feature Agreement"
   ]
  },
  {
   "cell_type": "code",
   "execution_count": 40,
   "id": "6f8c62de",
   "metadata": {
    "execution": {
     "iopub.execute_input": "2023-06-12T05:39:25.310870Z",
     "iopub.status.busy": "2023-06-12T05:39:25.310536Z",
     "iopub.status.idle": "2023-06-12T05:39:25.882607Z",
     "shell.execute_reply": "2023-06-12T05:39:25.881572Z"
    },
    "papermill": {
     "duration": 0.595133,
     "end_time": "2023-06-12T05:39:25.885320",
     "exception": false,
     "start_time": "2023-06-12T05:39:25.290187",
     "status": "completed"
    },
    "tags": []
   },
   "outputs": [
    {
     "name": "stdout",
     "output_type": "stream",
     "text": [
      "CPU times: user 560 ms, sys: 0 ns, total: 560 ms\n",
      "Wall time: 567 ms\n"
     ]
    }
   ],
   "source": [
    "%%time\n",
    "heatmap_fa = compute_heatmap(methods, explanations, metric=feature_agreement)"
   ]
  },
  {
   "cell_type": "code",
   "execution_count": 41,
   "id": "ae0c69e0",
   "metadata": {
    "execution": {
     "iopub.execute_input": "2023-06-12T05:39:25.924912Z",
     "iopub.status.busy": "2023-06-12T05:39:25.924111Z",
     "iopub.status.idle": "2023-06-12T05:39:26.468877Z",
     "shell.execute_reply": "2023-06-12T05:39:26.467965Z"
    },
    "papermill": {
     "duration": 0.567389,
     "end_time": "2023-06-12T05:39:26.471093",
     "exception": false,
     "start_time": "2023-06-12T05:39:25.903704",
     "status": "completed"
    },
    "tags": []
   },
   "outputs": [
    {
     "data": {
      "text/plain": [
       "[Text(0.5, 1.0, 'Feature Agreement')]"
      ]
     },
     "execution_count": 41,
     "metadata": {},
     "output_type": "execute_result"
    },
    {
     "data": {
      "image/png": "[encoded data removed]",
      "text/plain": [
       "<Figure size 640x480 with 2 Axes>"
      ]
     },
     "metadata": {},
     "output_type": "display_data"
    }
   ],
   "source": [
    "visualize(heatmap_fa, title='Feature Agreement')"
   ]
  },
  {
   "cell_type": "markdown",
   "id": "e021a07d",
   "metadata": {
    "papermill": {
     "duration": 0.018674,
     "end_time": "2023-06-12T05:39:26.509511",
     "exception": false,
     "start_time": "2023-06-12T05:39:26.490837",
     "status": "completed"
    },
    "tags": []
   },
   "source": [
    "### Sign agreements"
   ]
  },
  {
   "cell_type": "code",
   "execution_count": 42,
   "id": "b27571b0",
   "metadata": {
    "execution": {
     "iopub.execute_input": "2023-06-12T05:39:26.549373Z",
     "iopub.status.busy": "2023-06-12T05:39:26.549065Z",
     "iopub.status.idle": "2023-06-12T05:39:27.952936Z",
     "shell.execute_reply": "2023-06-12T05:39:27.951866Z"
    },
    "papermill": {
     "duration": 1.426539,
     "end_time": "2023-06-12T05:39:27.955092",
     "exception": false,
     "start_time": "2023-06-12T05:39:26.528553",
     "status": "completed"
    },
    "tags": []
   },
   "outputs": [
    {
     "name": "stdout",
     "output_type": "stream",
     "text": [
      "CPU times: user 1.4 s, sys: 528 µs, total: 1.4 s\n",
      "Wall time: 1.4 s\n"
     ]
    }
   ],
   "source": [
    "%%time\n",
    "heatmap_sa = compute_heatmap(methods, explanations, metric=sign_agreement)"
   ]
  },
  {
   "cell_type": "code",
   "execution_count": 43,
   "id": "3ec58b87",
   "metadata": {
    "execution": {
     "iopub.execute_input": "2023-06-12T05:39:27.996822Z",
     "iopub.status.busy": "2023-06-12T05:39:27.996002Z",
     "iopub.status.idle": "2023-06-12T05:39:28.436642Z",
     "shell.execute_reply": "2023-06-12T05:39:28.435752Z"
    },
    "papermill": {
     "duration": 0.463455,
     "end_time": "2023-06-12T05:39:28.438811",
     "exception": false,
     "start_time": "2023-06-12T05:39:27.975356",
     "status": "completed"
    },
    "tags": []
   },
   "outputs": [
    {
     "data": {
      "text/plain": [
       "[Text(0.5, 1.0, 'Sign Agreement')]"
      ]
     },
     "execution_count": 43,
     "metadata": {},
     "output_type": "execute_result"
    },
    {
     "data": {
      "image/png": "[encoded data removed]",
      "text/plain": [
       "<Figure size 640x480 with 2 Axes>"
      ]
     },
     "metadata": {},
     "output_type": "display_data"
    }
   ],
   "source": [
    "visualize(heatmap_sa, title='Sign Agreement')"
   ]
  },
  {
   "cell_type": "markdown",
   "id": "fbdc4fc5",
   "metadata": {
    "papermill": {
     "duration": 0.020279,
     "end_time": "2023-06-12T05:39:28.479940",
     "exception": false,
     "start_time": "2023-06-12T05:39:28.459661",
     "status": "completed"
    },
    "tags": []
   },
   "source": [
    "### Rank correlation"
   ]
  },
  {
   "cell_type": "code",
   "execution_count": 44,
   "id": "50e86b49",
   "metadata": {
    "execution": {
     "iopub.execute_input": "2023-06-12T05:39:28.521512Z",
     "iopub.status.busy": "2023-06-12T05:39:28.521205Z",
     "iopub.status.idle": "2023-06-12T05:39:28.527403Z",
     "shell.execute_reply": "2023-06-12T05:39:28.526549Z"
    },
    "papermill": {
     "duration": 0.029382,
     "end_time": "2023-06-12T05:39:28.529386",
     "exception": false,
     "start_time": "2023-06-12T05:39:28.500004",
     "status": "completed"
    },
    "tags": []
   },
   "outputs": [],
   "source": [
    "im_masks = im_masks.flatten(1).bool()"
   ]
  },
  {
   "cell_type": "code",
   "execution_count": 45,
   "id": "a4233fd4",
   "metadata": {
    "execution": {
     "iopub.execute_input": "2023-06-12T05:39:28.571124Z",
     "iopub.status.busy": "2023-06-12T05:39:28.570277Z",
     "iopub.status.idle": "2023-06-12T05:39:28.584732Z",
     "shell.execute_reply": "2023-06-12T05:39:28.583916Z"
    },
    "papermill": {
     "duration": 0.037442,
     "end_time": "2023-06-12T05:39:28.586704",
     "exception": false,
     "start_time": "2023-06-12T05:39:28.549262",
     "status": "completed"
    },
    "tags": []
   },
   "outputs": [],
   "source": [
    "explanations_masked = dict()\n",
    "\n",
    "for method in methods:\n",
    "    exp = explanations[method]\n",
    "    \n",
    "    masked_list = []\n",
    "    for i, e in enumerate(exp):\n",
    "        mask = im_masks[i]\n",
    "        if mask.sum() == 0:\n",
    "            continue\n",
    "        masked = e.flatten()[mask]\n",
    "        masked_list.append(masked)\n",
    "    \n",
    "    explanations_masked[method] = masked_list"
   ]
  },
  {
   "cell_type": "code",
   "execution_count": 46,
   "id": "60c519f8",
   "metadata": {
    "execution": {
     "iopub.execute_input": "2023-06-12T05:39:28.628736Z",
     "iopub.status.busy": "2023-06-12T05:39:28.628021Z",
     "iopub.status.idle": "2023-06-12T05:39:28.732656Z",
     "shell.execute_reply": "2023-06-12T05:39:28.731665Z"
    },
    "papermill": {
     "duration": 0.127588,
     "end_time": "2023-06-12T05:39:28.734811",
     "exception": false,
     "start_time": "2023-06-12T05:39:28.607223",
     "status": "completed"
    },
    "tags": []
   },
   "outputs": [
    {
     "name": "stdout",
     "output_type": "stream",
     "text": [
      "CPU times: user 96.9 ms, sys: 51 µs, total: 97 ms\n",
      "Wall time: 98.3 ms\n"
     ]
    }
   ],
   "source": [
    "%%time\n",
    "heatmap_rc = compute_heatmap(methods, explanations_masked, metric=rank_correlation)"
   ]
  },
  {
   "cell_type": "code",
   "execution_count": 47,
   "id": "81d768cc",
   "metadata": {
    "execution": {
     "iopub.execute_input": "2023-06-12T05:39:28.777469Z",
     "iopub.status.busy": "2023-06-12T05:39:28.776814Z",
     "iopub.status.idle": "2023-06-12T05:39:29.230592Z",
     "shell.execute_reply": "2023-06-12T05:39:29.229675Z"
    },
    "papermill": {
     "duration": 0.477581,
     "end_time": "2023-06-12T05:39:29.233028",
     "exception": false,
     "start_time": "2023-06-12T05:39:28.755447",
     "status": "completed"
    },
    "tags": []
   },
   "outputs": [
    {
     "data": {
      "text/plain": [
       "[Text(0.5, 1.0, 'Rank Correlation with Masks')]"
      ]
     },
     "execution_count": 47,
     "metadata": {},
     "output_type": "execute_result"
    },
    {
     "data": {
      "image/png": "[encoded data removed]",
      "text/plain": [
       "<Figure size 640x480 with 2 Axes>"
      ]
     },
     "metadata": {},
     "output_type": "display_data"
    }
   ],
   "source": [
    "visualize(heatmap_rc, title='Rank Correlation with Masks')"
   ]
  },
  {
   "cell_type": "markdown",
   "id": "e542a1f2",
   "metadata": {
    "papermill": {
     "duration": 0.021604,
     "end_time": "2023-06-12T05:39:29.276342",
     "exception": false,
     "start_time": "2023-06-12T05:39:29.254738",
     "status": "completed"
    },
    "tags": []
   },
   "source": [
    "### IoU"
   ]
  },
  {
   "cell_type": "code",
   "execution_count": 48,
   "id": "7a07dbc2",
   "metadata": {
    "execution": {
     "iopub.execute_input": "2023-06-12T05:39:29.320591Z",
     "iopub.status.busy": "2023-06-12T05:39:29.319693Z",
     "iopub.status.idle": "2023-06-12T05:39:29.348147Z",
     "shell.execute_reply": "2023-06-12T05:39:29.346837Z"
    },
    "papermill": {
     "duration": 0.052735,
     "end_time": "2023-06-12T05:39:29.350274",
     "exception": false,
     "start_time": "2023-06-12T05:39:29.297539",
     "status": "completed"
    },
    "tags": []
   },
   "outputs": [
    {
     "name": "stdout",
     "output_type": "stream",
     "text": [
      "CPU times: user 21.8 ms, sys: 0 ns, total: 21.8 ms\n",
      "Wall time: 21.9 ms\n"
     ]
    }
   ],
   "source": [
    "%%time\n",
    "heatmap_iou = compute_heatmap(methods, explanations, metric=positive_iou)"
   ]
  },
  {
   "cell_type": "code",
   "execution_count": 49,
   "id": "7db07ba0",
   "metadata": {
    "execution": {
     "iopub.execute_input": "2023-06-12T05:39:29.396009Z",
     "iopub.status.busy": "2023-06-12T05:39:29.394398Z",
     "iopub.status.idle": "2023-06-12T05:39:29.876714Z",
     "shell.execute_reply": "2023-06-12T05:39:29.875801Z"
    },
    "papermill": {
     "duration": 0.50751,
     "end_time": "2023-06-12T05:39:29.879037",
     "exception": false,
     "start_time": "2023-06-12T05:39:29.371527",
     "status": "completed"
    },
    "tags": []
   },
   "outputs": [
    {
     "data": {
      "text/plain": [
       "[Text(0.5, 1.0, 'IoU')]"
      ]
     },
     "execution_count": 49,
     "metadata": {},
     "output_type": "execute_result"
    },
    {
     "data": {
      "image/png": "[encoded data removed]",
      "text/plain": [
       "<Figure size 640x480 with 2 Axes>"
      ]
     },
     "metadata": {},
     "output_type": "display_data"
    }
   ],
   "source": [
    "visualize(heatmap_iou, title='IoU')"
   ]
  },
  {
   "cell_type": "markdown",
   "id": "d1341da0",
   "metadata": {
    "papermill": {
     "duration": 0.02331,
     "end_time": "2023-06-12T05:39:29.925972",
     "exception": false,
     "start_time": "2023-06-12T05:39:29.902662",
     "status": "completed"
    },
    "tags": []
   },
   "source": [
    "### SSIM"
   ]
  },
  {
   "cell_type": "code",
   "execution_count": 50,
   "id": "8b2692be",
   "metadata": {
    "execution": {
     "iopub.execute_input": "2023-06-12T05:39:29.975586Z",
     "iopub.status.busy": "2023-06-12T05:39:29.974696Z",
     "iopub.status.idle": "2023-06-12T05:39:30.543955Z",
     "shell.execute_reply": "2023-06-12T05:39:30.542818Z"
    },
    "papermill": {
     "duration": 0.597014,
     "end_time": "2023-06-12T05:39:30.546955",
     "exception": false,
     "start_time": "2023-06-12T05:39:29.949941",
     "status": "completed"
    },
    "tags": []
   },
   "outputs": [
    {
     "name": "stdout",
     "output_type": "stream",
     "text": [
      "CPU times: user 555 ms, sys: 1.96 ms, total: 557 ms\n",
      "Wall time: 563 ms\n"
     ]
    }
   ],
   "source": [
    "%%time\n",
    "heatmap_ssim = compute_heatmap(methods, explanations, metric=ssim)"
   ]
  },
  {
   "cell_type": "code",
   "execution_count": 51,
   "id": "75949fcf",
   "metadata": {
    "execution": {
     "iopub.execute_input": "2023-06-12T05:39:30.595560Z",
     "iopub.status.busy": "2023-06-12T05:39:30.595250Z",
     "iopub.status.idle": "2023-06-12T05:39:31.223571Z",
     "shell.execute_reply": "2023-06-12T05:39:31.222665Z"
    },
    "papermill": {
     "duration": 0.656079,
     "end_time": "2023-06-12T05:39:31.226039",
     "exception": false,
     "start_time": "2023-06-12T05:39:30.569960",
     "status": "completed"
    },
    "tags": []
   },
   "outputs": [
    {
     "data": {
      "text/plain": [
       "[Text(0.5, 1.0, 'Structural Similarity Index')]"
      ]
     },
     "execution_count": 51,
     "metadata": {},
     "output_type": "execute_result"
    },
    {
     "data": {
      "image/png": "[encoded data removed]",
      "text/plain": [
       "<Figure size 640x480 with 2 Axes>"
      ]
     },
     "metadata": {},
     "output_type": "display_data"
    }
   ],
   "source": [
    "visualize(heatmap_ssim, 'Structural Similarity Index')"
   ]
  }
 ],
 "metadata": {
  "kernelspec": {
   "display_name": "Python 3 (ipykernel)",
   "language": "python",
   "name": "python3"
  },
  "language_info": {
   "codemirror_mode": {
    "name": "ipython",
    "version": 3
   },
   "file_extension": ".py",
   "mimetype": "text/x-python",
   "name": "python",
   "nbconvert_exporter": "python",
   "pygments_lexer": "ipython3",
   "version": "3.9.12"
  },
  "papermill": {
   "default_parameters": {},
   "duration": 291.166139,
   "end_time": "2023-06-12T05:39:34.395251",
   "environment_variables": {},
   "exception": null,
   "input_path": "__notebook__.ipynb",
   "output_path": "__notebook__.ipynb",
   "parameters": {},
   "start_time": "2023-06-12T05:34:43.229112",
   "version": "2.4.0"
  }
 },
 "nbformat": 4,
 "nbformat_minor": 5
}
