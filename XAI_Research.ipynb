{
 "cells": [
  {
   "cell_type": "code",
   "execution_count": 1,
   "id": "7be5e429",
   "metadata": {
    "execution": {
     "iopub.execute_input": "2023-06-11T08:49:02.954632Z",
     "iopub.status.busy": "2023-06-11T08:49:02.954004Z",
     "iopub.status.idle": "2023-06-11T08:49:18.145932Z",
     "shell.execute_reply": "2023-06-11T08:49:18.144705Z"
    },
    "id": "dT7cVH6V85Ck",
    "outputId": "02aa26c2-80bb-4df2-95e7-6ed376ba26c9",
    "papermill": {
     "duration": 15.212814,
     "end_time": "2023-06-11T08:49:18.148729",
     "exception": false,
     "start_time": "2023-06-11T08:49:02.935915",
     "status": "completed"
    },
    "tags": []
   },
   "outputs": [
    {
     "name": "stdout",
     "output_type": "stream",
     "text": [
      "Requirement already satisfied: virtualenv in /opt/conda/lib/python3.10/site-packages (20.21.0)\r\n",
      "Requirement already satisfied: filelock<4,>=3.4.1 in /opt/conda/lib/python3.10/site-packages (from virtualenv) (3.11.0)\r\n",
      "Requirement already satisfied: distlib<1,>=0.3.6 in /opt/conda/lib/python3.10/site-packages (from virtualenv) (0.3.6)\r\n",
      "Requirement already satisfied: platformdirs<4,>=2.4 in /opt/conda/lib/python3.10/site-packages (from virtualenv) (3.2.0)\r\n",
      "\u001b[33mWARNING: Running pip as the 'root' user can result in broken permissions and conflicting behaviour with the system package manager. It is recommended to use a virtual environment instead: https://pip.pypa.io/warnings/venv\u001b[0m\u001b[33m\r\n",
      "\u001b[0mcreated virtual environment CPython3.10.10.final.0-64 in 1138ms\r\n",
      "  creator CPython3Posix(dest=/kaggle/working/XAIEnv, clear=False, no_vcs_ignore=False, global=False)\r\n",
      "  seeder FromAppData(download=False, pip=bundle, setuptools=bundle, wheel=bundle, via=copy, app_data_dir=/root/.local/share/virtualenv)\r\n",
      "    added seed packages: pip==23.0.1, setuptools==67.4.0, wheel==0.38.4\r\n",
      "  activators BashActivator,CShellActivator,FishActivator,NushellActivator,PowerShellActivator,PythonActivator\r\n"
     ]
    }
   ],
   "source": [
    "!pip install virtualenv\n",
    "!virtualenv XAIEnv"
   ]
  },
  {
   "cell_type": "markdown",
   "id": "5d333c9d",
   "metadata": {
    "id": "IZ7VowTTEBks",
    "papermill": {
     "duration": 0.034264,
     "end_time": "2023-06-11T08:49:18.208592",
     "exception": false,
     "start_time": "2023-06-11T08:49:18.174328",
     "status": "completed"
    },
    "tags": []
   },
   "source": [
    "# Explain Classification result from ResNet"
   ]
  },
  {
   "cell_type": "code",
   "execution_count": 2,
   "id": "87d547bb",
   "metadata": {
    "execution": {
     "iopub.execute_input": "2023-06-11T08:49:18.257006Z",
     "iopub.status.busy": "2023-06-11T08:49:18.256550Z",
     "iopub.status.idle": "2023-06-11T08:52:58.310371Z",
     "shell.execute_reply": "2023-06-11T08:52:58.308660Z"
    },
    "id": "oMqKUO1q9vs7",
    "papermill": {
     "duration": 220.075404,
     "end_time": "2023-06-11T08:52:58.312889",
     "exception": false,
     "start_time": "2023-06-11T08:49:18.237485",
     "status": "completed"
    },
    "tags": []
   },
   "outputs": [
    {
     "name": "stdout",
     "output_type": "stream",
     "text": [
      "Collecting numba\r\n",
      "  Downloading numba-0.57.0-cp310-cp310-manylinux2014_x86_64.manylinux_2_17_x86_64.whl (3.6 MB)\r\n",
      "\u001b[2K     \u001b[90m━━━━━━━━━━━━━━━━━━━━━━━━━━━━━━━━━━━━━━━━\u001b[0m \u001b[32m3.6/3.6 MB\u001b[0m \u001b[31m38.0 MB/s\u001b[0m eta \u001b[36m0:00:00\u001b[0m\r\n",
      "\u001b[?25hCollecting torch\r\n",
      "  Downloading torch-2.0.1-cp310-cp310-manylinux1_x86_64.whl (619.9 MB)\r\n",
      "\u001b[2K     \u001b[90m━━━━━━━━━━━━━━━━━━━━━━━━━━━━━━━━━━━━━━━\u001b[0m \u001b[32m619.9/619.9 MB\u001b[0m \u001b[31m1.4 MB/s\u001b[0m eta \u001b[36m0:00:00\u001b[0m\r\n",
      "\u001b[?25hCollecting captum\r\n",
      "  Downloading captum-0.6.0-py3-none-any.whl (1.3 MB)\r\n",
      "\u001b[2K     \u001b[90m━━━━━━━━━━━━━━━━━━━━━━━━━━━━━━━━━━━━━━━━\u001b[0m \u001b[32m1.3/1.3 MB\u001b[0m \u001b[31m67.0 MB/s\u001b[0m eta \u001b[36m0:00:00\u001b[0m\r\n",
      "\u001b[?25hCollecting torchvision\r\n",
      "  Downloading torchvision-0.15.2-cp310-cp310-manylinux1_x86_64.whl (6.0 MB)\r\n",
      "\u001b[2K     \u001b[90m━━━━━━━━━━━━━━━━━━━━━━━━━━━━━━━━━━━━━━━━\u001b[0m \u001b[32m6.0/6.0 MB\u001b[0m \u001b[31m82.5 MB/s\u001b[0m eta \u001b[36m0:00:00\u001b[0m\r\n",
      "\u001b[?25hCollecting quantus\r\n",
      "  Downloading quantus-0.4.0-py3-none-any.whl (283 kB)\r\n",
      "\u001b[2K     \u001b[90m━━━━━━━━━━━━━━━━━━━━━━━━━━━━━━━━━━━━━━\u001b[0m \u001b[32m283.1/283.1 kB\u001b[0m \u001b[31m26.7 MB/s\u001b[0m eta \u001b[36m0:00:00\u001b[0m\r\n",
      "\u001b[?25hCollecting omnixai[vision]\r\n",
      "  Downloading omnixai-1.3.0-py3-none-any.whl (543 kB)\r\n",
      "\u001b[2K     \u001b[90m━━━━━━━━━━━━━━━━━━━━━━━━━━━━━━━━━━━━━━\u001b[0m \u001b[32m543.8/543.8 kB\u001b[0m \u001b[31m43.3 MB/s\u001b[0m eta \u001b[36m0:00:00\u001b[0m\r\n",
      "\u001b[?25hCollecting dash\r\n",
      "  Downloading dash-2.10.2-py3-none-any.whl (10.3 MB)\r\n",
      "\u001b[2K     \u001b[90m━━━━━━━━━━━━━━━━━━━━━━━━━━━━━━━━━━━━━━━━\u001b[0m \u001b[32m10.3/10.3 MB\u001b[0m \u001b[31m85.8 MB/s\u001b[0m eta \u001b[36m0:00:00\u001b[0m\r\n",
      "\u001b[?25hCollecting jupyter_dash\r\n",
      "  Downloading jupyter_dash-0.4.2-py3-none-any.whl (23 kB)\r\n",
      "Collecting dash_bootstrap_components\r\n",
      "  Downloading dash_bootstrap_components-1.4.1-py3-none-any.whl (220 kB)\r\n",
      "\u001b[2K     \u001b[90m━━━━━━━━━━━━━━━━━━━━━━━━━━━━━━━━━━━━━━\u001b[0m \u001b[32m220.6/220.6 kB\u001b[0m \u001b[31m20.7 MB/s\u001b[0m eta \u001b[36m0:00:00\u001b[0m\r\n",
      "\u001b[?25hCollecting scikit-learn==1.1.3\r\n",
      "  Downloading scikit_learn-1.1.3-cp310-cp310-manylinux_2_17_x86_64.manylinux2014_x86_64.whl (30.5 MB)\r\n",
      "\u001b[2K     \u001b[90m━━━━━━━━━━━━━━━━━━━━━━━━━━━━━━━━━━━━━━━━\u001b[0m \u001b[32m30.5/30.5 MB\u001b[0m \u001b[31m41.0 MB/s\u001b[0m eta \u001b[36m0:00:00\u001b[0m\r\n",
      "\u001b[?25hCollecting numpy==1.22.4\r\n",
      "  Downloading numpy-1.22.4-cp310-cp310-manylinux_2_17_x86_64.manylinux2014_x86_64.whl (16.8 MB)\r\n",
      "\u001b[2K     \u001b[90m━━━━━━━━━━━━━━━━━━━━━━━━━━━━━━━━━━━━━━━━\u001b[0m \u001b[32m16.8/16.8 MB\u001b[0m \u001b[31m65.7 MB/s\u001b[0m eta \u001b[36m0:00:00\u001b[0m\r\n",
      "\u001b[?25hCollecting Pillow\r\n",
      "  Downloading Pillow-9.5.0-cp310-cp310-manylinux_2_28_x86_64.whl (3.4 MB)\r\n",
      "\u001b[2K     \u001b[90m━━━━━━━━━━━━━━━━━━━━━━━━━━━━━━━━━━━━━━━━\u001b[0m \u001b[32m3.4/3.4 MB\u001b[0m \u001b[31m83.2 MB/s\u001b[0m eta \u001b[36m0:00:00\u001b[0m\r\n",
      "\u001b[?25hCollecting fastcore\r\n",
      "  Downloading fastcore-1.5.29-py3-none-any.whl (67 kB)\r\n",
      "\u001b[2K     \u001b[90m━━━━━━━━━━━━━━━━━━━━━━━━━━━━━━━━━━━━━━━━\u001b[0m \u001b[32m67.6/67.6 kB\u001b[0m \u001b[31m3.5 MB/s\u001b[0m eta \u001b[36m0:00:00\u001b[0m\r\n",
      "\u001b[?25hCollecting joblib>=1.0.0\r\n",
      "  Downloading joblib-1.2.0-py3-none-any.whl (297 kB)\r\n",
      "\u001b[2K     \u001b[90m━━━━━━━━━━━━━━━━━━━━━━━━━━━━━━━━━━━━━━━\u001b[0m \u001b[32m298.0/298.0 kB\u001b[0m \u001b[31m1.4 MB/s\u001b[0m eta \u001b[36m0:00:00\u001b[0m\r\n",
      "\u001b[?25hCollecting scipy>=1.3.2\r\n",
      "  Downloading scipy-1.10.1-cp310-cp310-manylinux_2_17_x86_64.manylinux2014_x86_64.whl (34.4 MB)\r\n",
      "\u001b[2K     \u001b[90m━━━━━━━━━━━━━━━━━━━━━━━━━━━━━━━━━━━━━━━━\u001b[0m \u001b[32m34.4/34.4 MB\u001b[0m \u001b[31m12.6 MB/s\u001b[0m eta \u001b[36m0:00:00\u001b[0m\r\n",
      "\u001b[?25hCollecting threadpoolctl>=2.0.0\r\n",
      "  Downloading threadpoolctl-3.1.0-py3-none-any.whl (14 kB)\r\n",
      "Collecting llvmlite<0.41,>=0.40.0dev0\r\n",
      "  Downloading llvmlite-0.40.1rc1-cp310-cp310-manylinux_2_17_x86_64.manylinux2014_x86_64.whl (42.1 MB)\r\n",
      "\u001b[2K     \u001b[90m━━━━━━━━━━━━━━━━━━━━━━━━━━━━━━━━━━━━━━━━\u001b[0m \u001b[32m42.1/42.1 MB\u001b[0m \u001b[31m30.6 MB/s\u001b[0m eta \u001b[36m0:00:00\u001b[0m\r\n",
      "\u001b[?25hCollecting networkx\r\n",
      "  Downloading networkx-3.1-py3-none-any.whl (2.1 MB)\r\n",
      "\u001b[2K     \u001b[90m━━━━━━━━━━━━━━━━━━━━━━━━━━━━━━━━━━━━━━━━\u001b[0m \u001b[32m2.1/2.1 MB\u001b[0m \u001b[31m74.5 MB/s\u001b[0m eta \u001b[36m0:00:00\u001b[0m\r\n",
      "\u001b[?25hCollecting jinja2\r\n",
      "  Downloading Jinja2-3.1.2-py3-none-any.whl (133 kB)\r\n",
      "\u001b[2K     \u001b[90m━━━━━━━━━━━━━━━━━━━━━━━━━━━━━━━━━━━━━━━\u001b[0m \u001b[32m133.1/133.1 kB\u001b[0m \u001b[31m9.9 MB/s\u001b[0m eta \u001b[36m0:00:00\u001b[0m\r\n",
      "\u001b[?25hCollecting nvidia-cufft-cu11==10.9.0.58\r\n",
      "  Downloading nvidia_cufft_cu11-10.9.0.58-py3-none-manylinux1_x86_64.whl (168.4 MB)\r\n",
      "\u001b[2K     \u001b[90m━━━━━━━━━━━━━━━━━━━━━━━━━━━━━━━━━━━━━━━\u001b[0m \u001b[32m168.4/168.4 MB\u001b[0m \u001b[31m7.2 MB/s\u001b[0m eta \u001b[36m0:00:00\u001b[0m\r\n",
      "\u001b[?25hCollecting nvidia-curand-cu11==10.2.10.91\r\n",
      "  Downloading nvidia_curand_cu11-10.2.10.91-py3-none-manylinux1_x86_64.whl (54.6 MB)\r\n",
      "\u001b[2K     \u001b[90m━━━━━━━━━━━━━━━━━━━━━━━━━━━━━━━━━━━━━━━━\u001b[0m \u001b[32m54.6/54.6 MB\u001b[0m \u001b[31m23.2 MB/s\u001b[0m eta \u001b[36m0:00:00\u001b[0m\r\n",
      "\u001b[?25hCollecting triton==2.0.0\r\n",
      "  Downloading triton-2.0.0-1-cp310-cp310-manylinux2014_x86_64.manylinux_2_17_x86_64.whl (63.3 MB)\r\n",
      "\u001b[2K     \u001b[90m━━━━━━━━━━━━━━━━━━━━━━━━━━━━━━━━━━━━━━━━\u001b[0m \u001b[32m63.3/63.3 MB\u001b[0m \u001b[31m19.7 MB/s\u001b[0m eta \u001b[36m0:00:00\u001b[0m\r\n",
      "\u001b[?25hCollecting nvidia-cuda-runtime-cu11==11.7.99\r\n",
      "  Downloading nvidia_cuda_runtime_cu11-11.7.99-py3-none-manylinux1_x86_64.whl (849 kB)\r\n",
      "\u001b[2K     \u001b[90m━━━━━━━━━━━━━━━━━━━━━━━━━━━━━━━━━━━━━━\u001b[0m \u001b[32m849.3/849.3 kB\u001b[0m \u001b[31m51.0 MB/s\u001b[0m eta \u001b[36m0:00:00\u001b[0m\r\n",
      "\u001b[?25hCollecting nvidia-cusolver-cu11==11.4.0.1\r\n",
      "  Downloading nvidia_cusolver_cu11-11.4.0.1-2-py3-none-manylinux1_x86_64.whl (102.6 MB)\r\n",
      "\u001b[2K     \u001b[90m━━━━━━━━━━━━━━━━━━━━━━━━━━━━━━━━━━━━━━\u001b[0m \u001b[32m102.6/102.6 MB\u001b[0m \u001b[31m12.1 MB/s\u001b[0m eta \u001b[36m0:00:00\u001b[0m\r\n",
      "\u001b[?25hCollecting nvidia-cuda-nvrtc-cu11==11.7.99\r\n",
      "  Downloading nvidia_cuda_nvrtc_cu11-11.7.99-2-py3-none-manylinux1_x86_64.whl (21.0 MB)\r\n",
      "\u001b[2K     \u001b[90m━━━━━━━━━━━━━━━━━━━━━━━━━━━━━━━━━━━━━━━━\u001b[0m \u001b[32m21.0/21.0 MB\u001b[0m \u001b[31m69.5 MB/s\u001b[0m eta \u001b[36m0:00:00\u001b[0m\r\n",
      "\u001b[?25hCollecting nvidia-cusparse-cu11==11.7.4.91\r\n",
      "  Downloading nvidia_cusparse_cu11-11.7.4.91-py3-none-manylinux1_x86_64.whl (173.2 MB)\r\n",
      "\u001b[2K     \u001b[90m━━━━━━━━━━━━━━━━━━━━━━━━━━━━━━━━━━━━━━━\u001b[0m \u001b[32m173.2/173.2 MB\u001b[0m \u001b[31m7.0 MB/s\u001b[0m eta \u001b[36m0:00:00\u001b[0m\r\n",
      "\u001b[?25hCollecting nvidia-nvtx-cu11==11.7.91\r\n",
      "  Downloading nvidia_nvtx_cu11-11.7.91-py3-none-manylinux1_x86_64.whl (98 kB)\r\n",
      "\u001b[2K     \u001b[90m━━━━━━━━━━━━━━━━━━━━━━━━━━━━━━━━━━━━━━━━\u001b[0m \u001b[32m98.6/98.6 kB\u001b[0m \u001b[31m8.1 MB/s\u001b[0m eta \u001b[36m0:00:00\u001b[0m\r\n",
      "\u001b[?25hCollecting typing-extensions\r\n",
      "  Downloading typing_extensions-4.6.3-py3-none-any.whl (31 kB)\r\n",
      "Collecting nvidia-cudnn-cu11==8.5.0.96\r\n",
      "  Downloading nvidia_cudnn_cu11-8.5.0.96-2-py3-none-manylinux1_x86_64.whl (557.1 MB)\r\n",
      "\u001b[2K     \u001b[90m━━━━━━━━━━━━━━━━━━━━━━━━━━━━━━━━━━━━━━━\u001b[0m \u001b[32m557.1/557.1 MB\u001b[0m \u001b[31m1.1 MB/s\u001b[0m eta \u001b[36m0:00:00\u001b[0m\r\n",
      "\u001b[?25hCollecting nvidia-cublas-cu11==11.10.3.66\r\n",
      "  Downloading nvidia_cublas_cu11-11.10.3.66-py3-none-manylinux1_x86_64.whl (317.1 MB)\r\n",
      "\u001b[2K     \u001b[90m━━━━━━━━━━━━━━━━━━━━━━━━━━━━━━━━━━━━━━━\u001b[0m \u001b[32m317.1/317.1 MB\u001b[0m \u001b[31m3.0 MB/s\u001b[0m eta \u001b[36m0:00:00\u001b[0m\r\n",
      "\u001b[?25hCollecting nvidia-nccl-cu11==2.14.3\r\n",
      "  Downloading nvidia_nccl_cu11-2.14.3-py3-none-manylinux1_x86_64.whl (177.1 MB)\r\n",
      "\u001b[2K     \u001b[90m━━━━━━━━━━━━━━━━━━━━━━━━━━━━━━━━━━━━━━━\u001b[0m \u001b[32m177.1/177.1 MB\u001b[0m \u001b[31m6.6 MB/s\u001b[0m eta \u001b[36m0:00:00\u001b[0m\r\n",
      "\u001b[?25hCollecting nvidia-cuda-cupti-cu11==11.7.101\r\n",
      "  Downloading nvidia_cuda_cupti_cu11-11.7.101-py3-none-manylinux1_x86_64.whl (11.8 MB)\r\n",
      "\u001b[2K     \u001b[90m━━━━━━━━━━━━━━━━━━━━━━━━━━━━━━━━━━━━━━━━\u001b[0m \u001b[32m11.8/11.8 MB\u001b[0m \u001b[31m87.3 MB/s\u001b[0m eta \u001b[36m0:00:00\u001b[0m\r\n",
      "\u001b[?25hCollecting filelock\r\n",
      "  Downloading filelock-3.12.1-py3-none-any.whl (10 kB)\r\n",
      "Collecting sympy\r\n",
      "  Downloading sympy-1.12-py3-none-any.whl (5.7 MB)\r\n",
      "\u001b[2K     \u001b[90m━━━━━━━━━━━━━━━━━━━━━━━━━━━━━━━━━━━━━━━━\u001b[0m \u001b[32m5.7/5.7 MB\u001b[0m \u001b[31m75.2 MB/s\u001b[0m eta \u001b[36m0:00:00\u001b[0m\r\n",
      "\u001b[?25hRequirement already satisfied: wheel in ./XAIEnv/lib/python3.10/site-packages (from nvidia-cublas-cu11==11.10.3.66->torch) (0.38.4)\r\n",
      "Requirement already satisfied: setuptools in ./XAIEnv/lib/python3.10/site-packages (from nvidia-cublas-cu11==11.10.3.66->torch) (67.4.0)\r\n",
      "Collecting lit\r\n",
      "  Downloading lit-16.0.5.post0.tar.gz (138 kB)\r\n",
      "\u001b[2K     \u001b[90m━━━━━━━━━━━━━━━━━━━━━━━━━━━━━━━━━━━━━━\u001b[0m \u001b[32m138.1/138.1 kB\u001b[0m \u001b[31m14.9 MB/s\u001b[0m eta \u001b[36m0:00:00\u001b[0m\r\n",
      "\u001b[?25h  Preparing metadata (setup.py) ... \u001b[?25l-\b \bdone\r\n",
      "\u001b[?25hCollecting cmake\r\n",
      "  Downloading cmake-3.26.4-py2.py3-none-manylinux2014_x86_64.manylinux_2_17_x86_64.whl (24.0 MB)\r\n",
      "\u001b[2K     \u001b[90m━━━━━━━━━━━━━━━━━━━━━━━━━━━━━━━━━━━━━━━━\u001b[0m \u001b[32m24.0/24.0 MB\u001b[0m \u001b[31m61.2 MB/s\u001b[0m eta \u001b[36m0:00:00\u001b[0m\r\n",
      "\u001b[?25hCollecting matplotlib\r\n",
      "  Downloading matplotlib-3.7.1-cp310-cp310-manylinux_2_17_x86_64.manylinux2014_x86_64.whl (11.6 MB)\r\n",
      "\u001b[2K     \u001b[90m━━━━━━━━━━━━━━━━━━━━━━━━━━━━━━━━━━━━━━━━\u001b[0m \u001b[32m11.6/11.6 MB\u001b[0m \u001b[31m89.5 MB/s\u001b[0m eta \u001b[36m0:00:00\u001b[0m\r\n",
      "\u001b[?25hCollecting requests\r\n",
      "  Downloading requests-2.31.0-py3-none-any.whl (62 kB)\r\n",
      "\u001b[2K     \u001b[90m━━━━━━━━━━━━━━━━━━━━━━━━━━━━━━━━━━━━━━━━\u001b[0m \u001b[32m62.6/62.6 kB\u001b[0m \u001b[31m6.9 MB/s\u001b[0m eta \u001b[36m0:00:00\u001b[0m\r\n",
      "\u001b[?25hCollecting cachetools>=5.3.0\r\n",
      "  Downloading cachetools-5.3.1-py3-none-any.whl (9.3 kB)\r\n",
      "Collecting tqdm>=4.62.3\r\n",
      "  Downloading tqdm-4.65.0-py3-none-any.whl (77 kB)\r\n",
      "\u001b[2K     \u001b[90m━━━━━━━━━━━━━━━━━━━━━━━━━━━━━━━━━━━━━━━━\u001b[0m \u001b[32m77.1/77.1 kB\u001b[0m \u001b[31m8.5 MB/s\u001b[0m eta \u001b[36m0:00:00\u001b[0m\r\n",
      "\u001b[?25hCollecting scikit-image>=0.19.3\r\n",
      "  Downloading scikit_image-0.21.0-cp310-cp310-manylinux_2_17_x86_64.manylinux2014_x86_64.whl (13.8 MB)\r\n",
      "\u001b[2K     \u001b[90m━━━━━━━━━━━━━━━━━━━━━━━━━━━━━━━━━━━━━━━━\u001b[0m \u001b[32m13.8/13.8 MB\u001b[0m \u001b[31m85.0 MB/s\u001b[0m eta \u001b[36m0:00:00\u001b[0m\r\n",
      "\u001b[?25hCollecting opencv-python>=4.5.5.62\r\n",
      "  Downloading opencv_python-4.7.0.72-cp37-abi3-manylinux_2_17_x86_64.manylinux2014_x86_64.whl (61.8 MB)\r\n",
      "\u001b[2K     \u001b[90m━━━━━━━━━━━━━━━━━━━━━━━━━━━━━━━━━━━━━━━━\u001b[0m \u001b[32m61.8/61.8 MB\u001b[0m \u001b[31m6.8 MB/s\u001b[0m eta \u001b[36m0:00:00\u001b[0m\r\n",
      "\u001b[?25hCollecting SALib\r\n",
      "  Downloading salib-1.4.7-py3-none-any.whl (757 kB)\r\n",
      "\u001b[2K     \u001b[90m━━━━━━━━━━━━━━━━━━━━━━━━━━━━━━━━━━━━━━━\u001b[0m \u001b[32m758.0/758.0 kB\u001b[0m \u001b[31m5.4 MB/s\u001b[0m eta \u001b[36m0:00:00\u001b[0m\r\n",
      "\u001b[?25hCollecting statsmodels>=0.10.1\r\n",
      "  Downloading statsmodels-0.14.0-cp310-cp310-manylinux_2_17_x86_64.manylinux2014_x86_64.whl (10.1 MB)\r\n",
      "\u001b[2K     \u001b[90m━━━━━━━━━━━━━━━━━━━━━━━━━━━━━━━━━━━━━━━━\u001b[0m \u001b[32m10.1/10.1 MB\u001b[0m \u001b[31m24.4 MB/s\u001b[0m eta \u001b[36m0:00:00\u001b[0m\r\n",
      "\u001b[?25hCollecting openai\r\n",
      "  Downloading openai-0.27.8-py3-none-any.whl (73 kB)\r\n",
      "\u001b[2K     \u001b[90m━━━━━━━━━━━━━━━━━━━━━━━━━━━━━━━━━━━━━━━━\u001b[0m \u001b[32m73.6/73.6 kB\u001b[0m \u001b[31m4.1 MB/s\u001b[0m eta \u001b[36m0:00:00\u001b[0m\r\n",
      "\u001b[?25hCollecting lime\r\n",
      "  Downloading lime-0.2.0.1.tar.gz (275 kB)\r\n",
      "\u001b[2K     \u001b[90m━━━━━━━━━━━━━━━━━━━━━━━━━━━━━━━━━━━━━━\u001b[0m \u001b[32m275.7/275.7 kB\u001b[0m \u001b[31m22.9 MB/s\u001b[0m eta \u001b[36m0:00:00\u001b[0m\r\n",
      "\u001b[?25h  Preparing metadata (setup.py) ... \u001b[?25l-\b \bdone\r\n",
      "\u001b[?25hCollecting packaging\r\n",
      "  Downloading packaging-23.1-py3-none-any.whl (48 kB)\r\n",
      "\u001b[2K     \u001b[90m━━━━━━━━━━━━━━━━━━━━━━━━━━━━━━━━━━━━━━━━\u001b[0m \u001b[32m48.9/48.9 kB\u001b[0m \u001b[31m4.7 MB/s\u001b[0m eta \u001b[36m0:00:00\u001b[0m\r\n",
      "\u001b[?25hCollecting shap>=0.40.0\r\n",
      "  Downloading shap-0.41.0-cp310-cp310-manylinux_2_12_x86_64.manylinux2010_x86_64.whl (572 kB)\r\n",
      "\u001b[2K     \u001b[90m━━━━━━━━━━━━━━━━━━━━━━━━━━━━━━━━━━━━━━\u001b[0m \u001b[32m572.6/572.6 kB\u001b[0m \u001b[31m33.8 MB/s\u001b[0m eta \u001b[36m0:00:00\u001b[0m\r\n",
      "\u001b[?25hCollecting hnswlib>=0.5.0\r\n",
      "  Downloading hnswlib-0.7.0.tar.gz (33 kB)\r\n",
      "  Installing build dependencies ... \u001b[?25l-\b \b\\\b \b|\b \b/\b \b-\b \b\\\b \b|\b \b/\b \bdone\r\n",
      "\u001b[?25h  Getting requirements to build wheel ... \u001b[?25l-\b \bdone\r\n",
      "\u001b[?25h  Preparing metadata (pyproject.toml) ... \u001b[?25l-\b \bdone\r\n",
      "\u001b[?25hCollecting ipython>=8.10.0\r\n",
      "  Downloading ipython-8.14.0-py3-none-any.whl (798 kB)\r\n",
      "\u001b[2K     \u001b[90m━━━━━━━━━━━━━━━━━━━━━━━━━━━━━━━━━━━━━━\u001b[0m \u001b[32m798.7/798.7 kB\u001b[0m \u001b[31m51.1 MB/s\u001b[0m eta \u001b[36m0:00:00\u001b[0m\r\n",
      "\u001b[?25hCollecting pandas>=1.1.0\r\n",
      "  Downloading pandas-2.0.2-cp310-cp310-manylinux_2_17_x86_64.manylinux2014_x86_64.whl (12.3 MB)\r\n",
      "\u001b[2K     \u001b[90m━━━━━━━━━━━━━━━━━━━━━━━━━━━━━━━━━━━━━━━━\u001b[0m \u001b[32m12.3/12.3 MB\u001b[0m \u001b[31m87.4 MB/s\u001b[0m eta \u001b[36m0:00:00\u001b[0m\r\n",
      "\u001b[?25hCollecting tabulate\r\n",
      "  Downloading tabulate-0.9.0-py3-none-any.whl (35 kB)\r\n",
      "Collecting dill\r\n",
      "  Downloading dill-0.3.6-py3-none-any.whl (110 kB)\r\n",
      "\u001b[2K     \u001b[90m━━━━━━━━━━━━━━━━━━━━━━━━━━━━━━━━━━━━━━\u001b[0m \u001b[32m110.5/110.5 kB\u001b[0m \u001b[31m11.9 MB/s\u001b[0m eta \u001b[36m0:00:00\u001b[0m\r\n",
      "\u001b[?25hCollecting opencv-python-headless>=4.4\r\n",
      "  Downloading opencv_python_headless-4.7.0.72-cp37-abi3-manylinux_2_17_x86_64.manylinux2014_x86_64.whl (49.2 MB)\r\n",
      "\u001b[2K     \u001b[90m━━━━━━━━━━━━━━━━━━━━━━━━━━━━━━━━━━━━━━━━\u001b[0m \u001b[32m49.2/49.2 MB\u001b[0m \u001b[31m25.1 MB/s\u001b[0m eta \u001b[36m0:00:00\u001b[0m\r\n",
      "\u001b[?25hCollecting Werkzeug<2.3.0\r\n",
      "  Downloading Werkzeug-2.2.3-py3-none-any.whl (233 kB)\r\n",
      "\u001b[2K     \u001b[90m━━━━━━━━━━━━━━━━━━━━━━━━━━━━━━━━━━━━━━\u001b[0m \u001b[32m233.6/233.6 kB\u001b[0m \u001b[31m19.7 MB/s\u001b[0m eta \u001b[36m0:00:00\u001b[0m\r\n",
      "\u001b[?25hCollecting dash-table==5.0.0\r\n",
      "  Downloading dash_table-5.0.0-py3-none-any.whl (3.9 kB)\r\n",
      "Collecting dash-core-components==2.0.0\r\n",
      "  Downloading dash_core_components-2.0.0-py3-none-any.whl (3.8 kB)\r\n",
      "Collecting plotly>=5.0.0\r\n",
      "  Downloading plotly-5.15.0-py2.py3-none-any.whl (15.5 MB)\r\n",
      "\u001b[2K     \u001b[90m━━━━━━━━━━━━━━━━━━━━━━━━━━━━━━━━━━━━━━━━\u001b[0m \u001b[32m15.5/15.5 MB\u001b[0m \u001b[31m82.8 MB/s\u001b[0m eta \u001b[36m0:00:00\u001b[0m\r\n",
      "\u001b[?25hCollecting dash-html-components==2.0.0\r\n",
      "  Downloading dash_html_components-2.0.0-py3-none-any.whl (4.1 kB)\r\n",
      "Collecting Flask<2.3.0,>=1.0.4\r\n",
      "  Downloading Flask-2.2.5-py3-none-any.whl (101 kB)\r\n",
      "\u001b[2K     \u001b[90m━━━━━━━━━━━━━━━━━━━━━━━━━━━━━━━━━━━━━━\u001b[0m \u001b[32m101.8/101.8 kB\u001b[0m \u001b[31m11.3 MB/s\u001b[0m eta \u001b[36m0:00:00\u001b[0m\r\n",
      "\u001b[?25hCollecting ipykernel\r\n",
      "  Downloading ipykernel-6.23.1-py3-none-any.whl (152 kB)\r\n",
      "\u001b[2K     \u001b[90m━━━━━━━━━━━━━━━━━━━━━━━━━━━━━━━━━━━━━━\u001b[0m \u001b[32m152.2/152.2 kB\u001b[0m \u001b[31m13.4 MB/s\u001b[0m eta \u001b[36m0:00:00\u001b[0m\r\n",
      "\u001b[?25hCollecting ansi2html\r\n",
      "  Downloading ansi2html-1.8.0-py3-none-any.whl (16 kB)\r\n",
      "Collecting retrying\r\n",
      "  Downloading retrying-1.3.4-py3-none-any.whl (11 kB)\r\n",
      "Collecting nest-asyncio\r\n",
      "  Downloading nest_asyncio-1.5.6-py3-none-any.whl (5.2 kB)\r\n",
      "Requirement already satisfied: pip in ./XAIEnv/lib/python3.10/site-packages (from fastcore) (23.0.1)\r\n",
      "Collecting click>=8.0\r\n",
      "  Downloading click-8.1.3-py3-none-any.whl (96 kB)\r\n",
      "\u001b[2K     \u001b[90m━━━━━━━━━━━━━━━━━━━━━━━━━━━━━━━━━━━━━━━━\u001b[0m \u001b[32m96.6/96.6 kB\u001b[0m \u001b[31m10.3 MB/s\u001b[0m eta \u001b[36m0:00:00\u001b[0m\r\n",
      "\u001b[?25hCollecting itsdangerous>=2.0\r\n",
      "  Downloading itsdangerous-2.1.2-py3-none-any.whl (15 kB)\r\n",
      "Collecting pexpect>4.3\r\n",
      "  Downloading pexpect-4.8.0-py2.py3-none-any.whl (59 kB)\r\n",
      "\u001b[2K     \u001b[90m━━━━━━━━━━━━━━━━━━━━━━━━━━━━━━━━━━━━━━━━\u001b[0m \u001b[32m59.0/59.0 kB\u001b[0m \u001b[31m5.2 MB/s\u001b[0m eta \u001b[36m0:00:00\u001b[0m\r\n",
      "\u001b[?25hCollecting stack-data\r\n",
      "  Downloading stack_data-0.6.2-py3-none-any.whl (24 kB)\r\n",
      "Collecting prompt-toolkit!=3.0.37,<3.1.0,>=3.0.30\r\n",
      "  Downloading prompt_toolkit-3.0.38-py3-none-any.whl (385 kB)\r\n",
      "\u001b[2K     \u001b[90m━━━━━━━━━━━━━━━━━━━━━━━━━━━━━━━━━━━━━━\u001b[0m \u001b[32m385.8/385.8 kB\u001b[0m \u001b[31m35.4 MB/s\u001b[0m eta \u001b[36m0:00:00\u001b[0m\r\n",
      "\u001b[?25hCollecting backcall\r\n",
      "  Downloading backcall-0.2.0-py2.py3-none-any.whl (11 kB)\r\n",
      "Collecting decorator\r\n",
      "  Downloading decorator-5.1.1-py3-none-any.whl (9.1 kB)\r\n",
      "Collecting matplotlib-inline\r\n",
      "  Downloading matplotlib_inline-0.1.6-py3-none-any.whl (9.4 kB)\r\n",
      "Collecting pickleshare\r\n",
      "  Downloading pickleshare-0.7.5-py2.py3-none-any.whl (6.9 kB)\r\n",
      "Collecting jedi>=0.16\r\n",
      "  Downloading jedi-0.18.2-py2.py3-none-any.whl (1.6 MB)\r\n",
      "\u001b[2K     \u001b[90m━━━━━━━━━━━━━━━━━━━━━━━━━━━━━━━━━━━━━━━━\u001b[0m \u001b[32m1.6/1.6 MB\u001b[0m \u001b[31m73.6 MB/s\u001b[0m eta \u001b[36m0:00:00\u001b[0m\r\n",
      "\u001b[?25hCollecting traitlets>=5\r\n",
      "  Downloading traitlets-5.9.0-py3-none-any.whl (117 kB)\r\n",
      "\u001b[2K     \u001b[90m━━━━━━━━━━━━━━━━━━━━━━━━━━━━━━━━━━━━━━━\u001b[0m \u001b[32m117.4/117.4 kB\u001b[0m \u001b[31m9.1 MB/s\u001b[0m eta \u001b[36m0:00:00\u001b[0m\r\n",
      "\u001b[?25hCollecting pygments>=2.4.0\r\n",
      "  Downloading Pygments-2.15.1-py3-none-any.whl (1.1 MB)\r\n",
      "\u001b[2K     \u001b[90m━━━━━━━━━━━━━━━━━━━━━━━━━━━━━━━━━━━━━━━━\u001b[0m \u001b[32m1.1/1.1 MB\u001b[0m \u001b[31m63.2 MB/s\u001b[0m eta \u001b[36m0:00:00\u001b[0m\r\n",
      "\u001b[?25hCollecting MarkupSafe>=2.0\r\n",
      "  Downloading MarkupSafe-2.1.3-cp310-cp310-manylinux_2_17_x86_64.manylinux2014_x86_64.whl (25 kB)\r\n",
      "Collecting fonttools>=4.22.0\r\n",
      "  Downloading fonttools-4.39.4-py3-none-any.whl (1.0 MB)\r\n",
      "\u001b[2K     \u001b[90m━━━━━━━━━━━━━━━━━━━━━━━━━━━━━━━━━━━━━━━━\u001b[0m \u001b[32m1.0/1.0 MB\u001b[0m \u001b[31m60.4 MB/s\u001b[0m eta \u001b[36m0:00:00\u001b[0m\r\n",
      "\u001b[?25hCollecting kiwisolver>=1.0.1\r\n",
      "  Downloading kiwisolver-1.4.4-cp310-cp310-manylinux_2_12_x86_64.manylinux2010_x86_64.whl (1.6 MB)\r\n",
      "\u001b[2K     \u001b[90m━━━━━━━━━━━━━━━━━━━━━━━━━━━━━━━━━━━━━━━━\u001b[0m \u001b[32m1.6/1.6 MB\u001b[0m \u001b[31m76.6 MB/s\u001b[0m eta \u001b[36m0:00:00\u001b[0m\r\n",
      "\u001b[?25hCollecting pyparsing>=2.3.1\r\n",
      "  Downloading pyparsing-3.0.9-py3-none-any.whl (98 kB)\r\n",
      "\u001b[2K     \u001b[90m━━━━━━━━━━━━━━━━━━━━━━━━━━━━━━━━━━━━━━━━\u001b[0m \u001b[32m98.3/98.3 kB\u001b[0m \u001b[31m9.4 MB/s\u001b[0m eta \u001b[36m0:00:00\u001b[0m\r\n",
      "\u001b[?25hCollecting contourpy>=1.0.1\r\n",
      "  Downloading contourpy-1.0.7-cp310-cp310-manylinux_2_17_x86_64.manylinux2014_x86_64.whl (300 kB)\r\n",
      "\u001b[2K     \u001b[90m━━━━━━━━━━━━━━━━━━━━━━━━━━━━━━━━━━━━━━\u001b[0m \u001b[32m300.3/300.3 kB\u001b[0m \u001b[31m27.3 MB/s\u001b[0m eta \u001b[36m0:00:00\u001b[0m\r\n",
      "\u001b[?25hCollecting cycler>=0.10\r\n",
      "  Downloading cycler-0.11.0-py3-none-any.whl (6.4 kB)\r\n",
      "Collecting python-dateutil>=2.7\r\n",
      "  Downloading python_dateutil-2.8.2-py2.py3-none-any.whl (247 kB)\r\n",
      "\u001b[2K     \u001b[90m━━━━━━━━━━━━━━━━━━━━━━━━━━━━━━━━━━━━━━\u001b[0m \u001b[32m247.7/247.7 kB\u001b[0m \u001b[31m22.1 MB/s\u001b[0m eta \u001b[36m0:00:00\u001b[0m\r\n",
      "\u001b[?25hCollecting tzdata>=2022.1\r\n",
      "  Downloading tzdata-2023.3-py2.py3-none-any.whl (341 kB)\r\n",
      "\u001b[2K     \u001b[90m━━━━━━━━━━━━━━━━━━━━━━━━━━━━━━━━━━━━━━\u001b[0m \u001b[32m341.8/341.8 kB\u001b[0m \u001b[31m29.4 MB/s\u001b[0m eta \u001b[36m0:00:00\u001b[0m\r\n",
      "\u001b[?25hCollecting pytz>=2020.1\r\n",
      "  Downloading pytz-2023.3-py2.py3-none-any.whl (502 kB)\r\n",
      "\u001b[2K     \u001b[90m━━━━━━━━━━━━━━━━━━━━━━━━━━━━━━━━━━━━━━\u001b[0m \u001b[32m502.3/502.3 kB\u001b[0m \u001b[31m39.3 MB/s\u001b[0m eta \u001b[36m0:00:00\u001b[0m\r\n",
      "\u001b[?25hCollecting tenacity>=6.2.0\r\n",
      "  Downloading tenacity-8.2.2-py3-none-any.whl (24 kB)\r\n",
      "Collecting PyWavelets>=1.1.1\r\n",
      "  Downloading PyWavelets-1.4.1-cp310-cp310-manylinux_2_17_x86_64.manylinux2014_x86_64.whl (6.8 MB)\r\n",
      "\u001b[2K     \u001b[90m━━━━━━━━━━━━━━━━━━━━━━━━━━━━━━━━━━━━━━━━\u001b[0m \u001b[32m6.8/6.8 MB\u001b[0m \u001b[31m92.5 MB/s\u001b[0m eta \u001b[36m0:00:00\u001b[0m\r\n",
      "\u001b[?25hCollecting imageio>=2.27\r\n",
      "  Downloading imageio-2.31.0-py3-none-any.whl (313 kB)\r\n",
      "\u001b[2K     \u001b[90m━━━━━━━━━━━━━━━━━━━━━━━━━━━━━━━━━━━━━━\u001b[0m \u001b[32m313.2/313.2 kB\u001b[0m \u001b[31m26.2 MB/s\u001b[0m eta \u001b[36m0:00:00\u001b[0m\r\n",
      "\u001b[?25hCollecting tifffile>=2022.8.12\r\n",
      "  Downloading tifffile-2023.4.12-py3-none-any.whl (219 kB)\r\n",
      "\u001b[2K     \u001b[90m━━━━━━━━━━━━━━━━━━━━━━━━━━━━━━━━━━━━━━\u001b[0m \u001b[32m219.4/219.4 kB\u001b[0m \u001b[31m20.3 MB/s\u001b[0m eta \u001b[36m0:00:00\u001b[0m\r\n",
      "\u001b[?25hCollecting lazy_loader>=0.2\r\n",
      "  Downloading lazy_loader-0.2-py3-none-any.whl (8.6 kB)\r\n",
      "Collecting slicer==0.0.7\r\n",
      "  Downloading slicer-0.0.7-py3-none-any.whl (14 kB)\r\n",
      "Collecting cloudpickle\r\n",
      "  Downloading cloudpickle-2.2.1-py3-none-any.whl (25 kB)\r\n",
      "Collecting patsy>=0.5.2\r\n",
      "  Downloading patsy-0.5.3-py2.py3-none-any.whl (233 kB)\r\n",
      "\u001b[2K     \u001b[90m━━━━━━━━━━━━━━━━━━━━━━━━━━━━━━━━━━━━━━\u001b[0m \u001b[32m233.8/233.8 kB\u001b[0m \u001b[31m23.7 MB/s\u001b[0m eta \u001b[36m0:00:00\u001b[0m\r\n",
      "\u001b[?25hCollecting pyzmq>=20\r\n",
      "  Downloading pyzmq-25.1.0-cp310-cp310-manylinux_2_28_x86_64.whl (1.1 MB)\r\n",
      "\u001b[2K     \u001b[90m━━━━━━━━━━━━━━━━━━━━━━━━━━━━━━━━━━━━━━━━\u001b[0m \u001b[32m1.1/1.1 MB\u001b[0m \u001b[31m58.6 MB/s\u001b[0m eta \u001b[36m0:00:00\u001b[0m\r\n",
      "\u001b[?25hCollecting comm>=0.1.1\r\n",
      "  Downloading comm-0.1.3-py3-none-any.whl (6.6 kB)\r\n",
      "Collecting psutil\r\n",
      "  Downloading psutil-5.9.5-cp36-abi3-manylinux_2_12_x86_64.manylinux2010_x86_64.manylinux_2_17_x86_64.manylinux2014_x86_64.whl (282 kB)\r\n",
      "\u001b[2K     \u001b[90m━━━━━━━━━━━━━━━━━━━━━━━━━━━━━━━━━━━━━━\u001b[0m \u001b[32m282.1/282.1 kB\u001b[0m \u001b[31m24.6 MB/s\u001b[0m eta \u001b[36m0:00:00\u001b[0m\r\n",
      "\u001b[?25hCollecting jupyter-client>=6.1.12\r\n",
      "  Downloading jupyter_client-8.2.0-py3-none-any.whl (103 kB)\r\n",
      "\u001b[2K     \u001b[90m━━━━━━━━━━━━━━━━━━━━━━━━━━━━━━━━━━━━━━\u001b[0m \u001b[32m103.2/103.2 kB\u001b[0m \u001b[31m11.7 MB/s\u001b[0m eta \u001b[36m0:00:00\u001b[0m\r\n",
      "\u001b[?25hCollecting debugpy>=1.6.5\r\n",
      "  Downloading debugpy-1.6.7-cp310-cp310-manylinux_2_17_x86_64.manylinux2014_x86_64.whl (3.0 MB)\r\n",
      "\u001b[2K     \u001b[90m━━━━━━━━━━━━━━━━━━━━━━━━━━━━━━━━━━━━━━━━\u001b[0m \u001b[32m3.0/3.0 MB\u001b[0m \u001b[31m82.3 MB/s\u001b[0m eta \u001b[36m0:00:00\u001b[0m\r\n",
      "\u001b[?25hCollecting jupyter-core!=5.0.*,>=4.12\r\n",
      "  Downloading jupyter_core-5.3.0-py3-none-any.whl (93 kB)\r\n",
      "\u001b[2K     \u001b[90m━━━━━━━━━━━━━━━━━━━━━━━━━━━━━━━━━━━━━━━━\u001b[0m \u001b[32m93.2/93.2 kB\u001b[0m \u001b[31m11.2 MB/s\u001b[0m eta \u001b[36m0:00:00\u001b[0m\r\n",
      "\u001b[?25hCollecting tornado>=6.1\r\n",
      "  Downloading tornado-6.3.2-cp38-abi3-manylinux_2_5_x86_64.manylinux1_x86_64.manylinux_2_17_x86_64.manylinux2014_x86_64.whl (426 kB)\r\n",
      "\u001b[2K     \u001b[90m━━━━━━━━━━━━━━━━━━━━━━━━━━━━━━━━━━━━━━\u001b[0m \u001b[32m426.9/426.9 kB\u001b[0m \u001b[31m28.1 MB/s\u001b[0m eta \u001b[36m0:00:00\u001b[0m\r\n",
      "\u001b[?25hCollecting aiohttp\r\n",
      "  Downloading aiohttp-3.8.4-cp310-cp310-manylinux_2_17_x86_64.manylinux2014_x86_64.whl (1.0 MB)\r\n",
      "\u001b[2K     \u001b[90m━━━━━━━━━━━━━━━━━━━━━━━━━━━━━━━━━━━━━━━━\u001b[0m \u001b[32m1.0/1.0 MB\u001b[0m \u001b[31m63.8 MB/s\u001b[0m eta \u001b[36m0:00:00\u001b[0m\r\n",
      "\u001b[?25hCollecting charset-normalizer<4,>=2\r\n",
      "  Downloading charset_normalizer-3.1.0-cp310-cp310-manylinux_2_17_x86_64.manylinux2014_x86_64.whl (199 kB)\r\n",
      "\u001b[2K     \u001b[90m━━━━━━━━━━━━━━━━━━━━━━━━━━━━━━━━━━━━━━\u001b[0m \u001b[32m199.3/199.3 kB\u001b[0m \u001b[31m15.7 MB/s\u001b[0m eta \u001b[36m0:00:00\u001b[0m\r\n",
      "\u001b[?25hCollecting certifi>=2017.4.17\r\n",
      "  Downloading certifi-2023.5.7-py3-none-any.whl (156 kB)\r\n",
      "\u001b[2K     \u001b[90m━━━━━━━━━━━━━━━━━━━━━━━━━━━━━━━━━━━━━━\u001b[0m \u001b[32m157.0/157.0 kB\u001b[0m \u001b[31m15.3 MB/s\u001b[0m eta \u001b[36m0:00:00\u001b[0m\r\n",
      "\u001b[?25hCollecting urllib3<3,>=1.21.1\r\n",
      "  Downloading urllib3-2.0.3-py3-none-any.whl (123 kB)\r\n",
      "\u001b[2K     \u001b[90m━━━━━━━━━━━━━━━━━━━━━━━━━━━━━━━━━━━━━━\u001b[0m \u001b[32m123.6/123.6 kB\u001b[0m \u001b[31m12.0 MB/s\u001b[0m eta \u001b[36m0:00:00\u001b[0m\r\n",
      "\u001b[?25hCollecting idna<4,>=2.5\r\n",
      "  Downloading idna-3.4-py3-none-any.whl (61 kB)\r\n",
      "\u001b[2K     \u001b[90m━━━━━━━━━━━━━━━━━━━━━━━━━━━━━━━━━━━━━━━━\u001b[0m \u001b[32m61.5/61.5 kB\u001b[0m \u001b[31m5.4 MB/s\u001b[0m eta \u001b[36m0:00:00\u001b[0m\r\n",
      "\u001b[?25hCollecting six>=1.7.0\r\n",
      "  Downloading six-1.16.0-py2.py3-none-any.whl (11 kB)\r\n",
      "Collecting multiprocess\r\n",
      "  Downloading multiprocess-0.70.14-py310-none-any.whl (134 kB)\r\n",
      "\u001b[2K     \u001b[90m━━━━━━━━━━━━━━━━━━━━━━━━━━━━━━━━━━━━━━\u001b[0m \u001b[32m134.3/134.3 kB\u001b[0m \u001b[31m15.1 MB/s\u001b[0m eta \u001b[36m0:00:00\u001b[0m\r\n",
      "\u001b[?25hCollecting mpmath>=0.19\r\n",
      "  Downloading mpmath-1.3.0-py3-none-any.whl (536 kB)\r\n",
      "\u001b[2K     \u001b[90m━━━━━━━━━━━━━━━━━━━━━━━━━━━━━━━━━━━━━━\u001b[0m \u001b[32m536.2/536.2 kB\u001b[0m \u001b[31m40.3 MB/s\u001b[0m eta \u001b[36m0:00:00\u001b[0m\r\n",
      "\u001b[?25hCollecting parso<0.9.0,>=0.8.0\r\n",
      "  Downloading parso-0.8.3-py2.py3-none-any.whl (100 kB)\r\n",
      "\u001b[2K     \u001b[90m━━━━━━━━━━━━━━━━━━━━━━━━━━━━━━━━━━━━━━━\u001b[0m \u001b[32m100.8/100.8 kB\u001b[0m \u001b[31m9.0 MB/s\u001b[0m eta \u001b[36m0:00:00\u001b[0m\r\n",
      "\u001b[?25hCollecting platformdirs>=2.5\r\n",
      "  Downloading platformdirs-3.5.3-py3-none-any.whl (15 kB)\r\n",
      "Collecting ptyprocess>=0.5\r\n",
      "  Downloading ptyprocess-0.7.0-py2.py3-none-any.whl (13 kB)\r\n",
      "Collecting wcwidth\r\n",
      "  Downloading wcwidth-0.2.6-py2.py3-none-any.whl (29 kB)\r\n",
      "Collecting async-timeout<5.0,>=4.0.0a3\r\n",
      "  Downloading async_timeout-4.0.2-py3-none-any.whl (5.8 kB)\r\n",
      "Collecting frozenlist>=1.1.1\r\n",
      "  Downloading frozenlist-1.3.3-cp310-cp310-manylinux_2_5_x86_64.manylinux1_x86_64.manylinux_2_17_x86_64.manylinux2014_x86_64.whl (149 kB)\r\n",
      "\u001b[2K     \u001b[90m━━━━━━━━━━━━━━━━━━━━━━━━━━━━━━━━━━━━━━\u001b[0m \u001b[32m149.6/149.6 kB\u001b[0m \u001b[31m13.0 MB/s\u001b[0m eta \u001b[36m0:00:00\u001b[0m\r\n",
      "\u001b[?25hCollecting aiosignal>=1.1.2\r\n",
      "  Downloading aiosignal-1.3.1-py3-none-any.whl (7.6 kB)\r\n",
      "Collecting yarl<2.0,>=1.0\r\n",
      "  Downloading yarl-1.9.2-cp310-cp310-manylinux_2_17_x86_64.manylinux2014_x86_64.whl (268 kB)\r\n",
      "\u001b[2K     \u001b[90m━━━━━━━━━━━━━━━━━━━━━━━━━━━━━━━━━━━━━━\u001b[0m \u001b[32m268.8/268.8 kB\u001b[0m \u001b[31m23.3 MB/s\u001b[0m eta \u001b[36m0:00:00\u001b[0m\r\n",
      "\u001b[?25hCollecting attrs>=17.3.0\r\n",
      "  Downloading attrs-23.1.0-py3-none-any.whl (61 kB)\r\n",
      "\u001b[2K     \u001b[90m━━━━━━━━━━━━━━━━━━━━━━━━━━━━━━━━━━━━━━━━\u001b[0m \u001b[32m61.2/61.2 kB\u001b[0m \u001b[31m5.7 MB/s\u001b[0m eta \u001b[36m0:00:00\u001b[0m\r\n",
      "\u001b[?25hCollecting multidict<7.0,>=4.5\r\n",
      "  Downloading multidict-6.0.4-cp310-cp310-manylinux_2_17_x86_64.manylinux2014_x86_64.whl (114 kB)\r\n",
      "\u001b[2K     \u001b[90m━━━━━━━━━━━━━━━━━━━━━━━━━━━━━━━━━━━━━━\u001b[0m \u001b[32m114.5/114.5 kB\u001b[0m \u001b[31m10.3 MB/s\u001b[0m eta \u001b[36m0:00:00\u001b[0m\r\n",
      "\u001b[?25hCollecting asttokens>=2.1.0\r\n",
      "  Downloading asttokens-2.2.1-py2.py3-none-any.whl (26 kB)\r\n",
      "Collecting pure-eval\r\n",
      "  Downloading pure_eval-0.2.2-py3-none-any.whl (11 kB)\r\n",
      "Collecting executing>=1.2.0\r\n",
      "  Downloading executing-1.2.0-py2.py3-none-any.whl (24 kB)\r\n",
      "Building wheels for collected packages: hnswlib, lime, lit\r\n",
      "  Building wheel for hnswlib (pyproject.toml) ... \u001b[?25l-\b \b\\\b \b|\b \b/\b \b-\b \b\\\b \b|\b \bdone\r\n",
      "\u001b[?25h  Created wheel for hnswlib: filename=hnswlib-0.7.0-cp310-cp310-linux_x86_64.whl size=182843 sha256=99c3ec324428188343533f9fbbe3db8ff18440237f9a967074f604570f7a69ad\r\n",
      "  Stored in directory: /root/.cache/pip/wheels/8a/ae/ec/235a682e0041fbaeee389843670581ec6c66872db856dfa9a4\r\n",
      "  Building wheel for lime (setup.py) ... \u001b[?25l-\b \b\\\b \bdone\r\n",
      "\u001b[?25h  Created wheel for lime: filename=lime-0.2.0.1-py3-none-any.whl size=283839 sha256=2058cff688ba4f5f5d77df6c921a37d07e0c79913bff9b02dbe346061048e0c7\r\n",
      "  Stored in directory: /root/.cache/pip/wheels/fd/a2/af/9ac0a1a85a27f314a06b39e1f492bee1547d52549a4606ed89\r\n",
      "  Building wheel for lit (setup.py) ... \u001b[?25l-\b \b\\\b \bdone\r\n",
      "\u001b[?25h  Created wheel for lit: filename=lit-16.0.5.post0-py3-none-any.whl size=88253 sha256=5108febff3786961057731dd9b9ae7ef8f66cc36718128f90231be85183c5a80\r\n",
      "  Stored in directory: /root/.cache/pip/wheels/1a/24/92/1e1c9e37be8411a7c7c18a4c54962f5d0a75c56bab4a6f7f57\r\n",
      "Successfully built hnswlib lime lit\r\n",
      "Installing collected packages: wcwidth, pytz, pure-eval, ptyprocess, pickleshare, mpmath, lit, executing, dash-table, dash-html-components, dash-core-components, cmake, backcall, urllib3, tzdata, typing-extensions, traitlets, tqdm, tornado, threadpoolctl, tenacity, tabulate, sympy, slicer, six, pyzmq, pyparsing, pygments, psutil, prompt-toolkit, platformdirs, Pillow, pexpect, parso, packaging, nvidia-nvtx-cu11, nvidia-nccl-cu11, nvidia-cusparse-cu11, nvidia-curand-cu11, nvidia-cufft-cu11, nvidia-cuda-runtime-cu11, nvidia-cuda-nvrtc-cu11, nvidia-cuda-cupti-cu11, nvidia-cublas-cu11, numpy, networkx, nest-asyncio, multidict, MarkupSafe, llvmlite, lazy_loader, kiwisolver, joblib, itsdangerous, idna, frozenlist, fonttools, filelock, dill, decorator, debugpy, cycler, cloudpickle, click, charset-normalizer, certifi, cachetools, attrs, async-timeout, ansi2html, yarl, Werkzeug, tifffile, scipy, retrying, requests, PyWavelets, python-dateutil, plotly, patsy, opencv-python-headless, opencv-python, nvidia-cusolver-cu11, nvidia-cudnn-cu11, numba, multiprocess, matplotlib-inline, jupyter-core, jinja2, jedi, imageio, hnswlib, fastcore, contourpy, comm, asttokens, aiosignal, stack-data, scikit-learn, scikit-image, pandas, matplotlib, jupyter-client, Flask, aiohttp, statsmodels, shap, SALib, quantus, openai, lime, ipython, dash, omnixai, ipykernel, dash_bootstrap_components, jupyter_dash, triton, torch, torchvision, captum\r\n",
      "Successfully installed Flask-2.2.5 MarkupSafe-2.1.3 Pillow-9.5.0 PyWavelets-1.4.1 SALib-1.4.7 Werkzeug-2.2.3 aiohttp-3.8.4 aiosignal-1.3.1 ansi2html-1.8.0 asttokens-2.2.1 async-timeout-4.0.2 attrs-23.1.0 backcall-0.2.0 cachetools-5.3.1 captum-0.6.0 certifi-2023.5.7 charset-normalizer-3.1.0 click-8.1.3 cloudpickle-2.2.1 cmake-3.26.4 comm-0.1.3 contourpy-1.0.7 cycler-0.11.0 dash-2.10.2 dash-core-components-2.0.0 dash-html-components-2.0.0 dash-table-5.0.0 dash_bootstrap_components-1.4.1 debugpy-1.6.7 decorator-5.1.1 dill-0.3.6 executing-1.2.0 fastcore-1.5.29 filelock-3.12.1 fonttools-4.39.4 frozenlist-1.3.3 hnswlib-0.7.0 idna-3.4 imageio-2.31.0 ipykernel-6.23.1 ipython-8.14.0 itsdangerous-2.1.2 jedi-0.18.2 jinja2-3.1.2 joblib-1.2.0 jupyter-client-8.2.0 jupyter-core-5.3.0 jupyter_dash-0.4.2 kiwisolver-1.4.4 lazy_loader-0.2 lime-0.2.0.1 lit-16.0.5.post0 llvmlite-0.40.1rc1 matplotlib-3.7.1 matplotlib-inline-0.1.6 mpmath-1.3.0 multidict-6.0.4 multiprocess-0.70.14 nest-asyncio-1.5.6 networkx-3.1 numba-0.57.0 numpy-1.22.4 nvidia-cublas-cu11-11.10.3.66 nvidia-cuda-cupti-cu11-11.7.101 nvidia-cuda-nvrtc-cu11-11.7.99 nvidia-cuda-runtime-cu11-11.7.99 nvidia-cudnn-cu11-8.5.0.96 nvidia-cufft-cu11-10.9.0.58 nvidia-curand-cu11-10.2.10.91 nvidia-cusolver-cu11-11.4.0.1 nvidia-cusparse-cu11-11.7.4.91 nvidia-nccl-cu11-2.14.3 nvidia-nvtx-cu11-11.7.91 omnixai-1.3.0 openai-0.27.8 opencv-python-4.7.0.72 opencv-python-headless-4.7.0.72 packaging-23.1 pandas-2.0.2 parso-0.8.3 patsy-0.5.3 pexpect-4.8.0 pickleshare-0.7.5 platformdirs-3.5.3 plotly-5.15.0 prompt-toolkit-3.0.38 psutil-5.9.5 ptyprocess-0.7.0 pure-eval-0.2.2 pygments-2.15.1 pyparsing-3.0.9 python-dateutil-2.8.2 pytz-2023.3 pyzmq-25.1.0 quantus-0.4.0 requests-2.31.0 retrying-1.3.4 scikit-image-0.21.0 scikit-learn-1.1.3 scipy-1.10.1 shap-0.41.0 six-1.16.0 slicer-0.0.7 stack-data-0.6.2 statsmodels-0.14.0 sympy-1.12 tabulate-0.9.0 tenacity-8.2.2 threadpoolctl-3.1.0 tifffile-2023.4.12 torch-2.0.1 torchvision-0.15.2 tornado-6.3.2 tqdm-4.65.0 traitlets-5.9.0 triton-2.0.0 typing-extensions-4.6.3 tzdata-2023.3 urllib3-2.0.3 wcwidth-0.2.6 yarl-1.9.2\r\n",
      "\r\n",
      "\u001b[1m[\u001b[0m\u001b[34;49mnotice\u001b[0m\u001b[1;39;49m]\u001b[0m\u001b[39;49m A new release of pip is available: \u001b[0m\u001b[31;49m23.0.1\u001b[0m\u001b[39;49m -> \u001b[0m\u001b[32;49m23.1.2\u001b[0m\r\n",
      "\u001b[1m[\u001b[0m\u001b[34;49mnotice\u001b[0m\u001b[1;39;49m]\u001b[0m\u001b[39;49m To update, run: \u001b[0m\u001b[32;49mpip install --upgrade pip\u001b[0m\r\n",
      "CPU times: user 3.46 s, sys: 550 ms, total: 4.01 s\n",
      "Wall time: 3min 40s\n"
     ]
    }
   ],
   "source": [
    "%%time\n",
    "!source /kaggle/working/XAIEnv/bin/activate; pip install numba torch captum torchvision quantus omnixai[vision] dash jupyter_dash dash_bootstrap_components scikit-learn==1.1.3 numpy==1.22.4 Pillow fastcore -U"
   ]
  },
  {
   "cell_type": "code",
   "execution_count": 3,
   "id": "6da8f59c",
   "metadata": {
    "execution": {
     "iopub.execute_input": "2023-06-11T08:52:58.520481Z",
     "iopub.status.busy": "2023-06-11T08:52:58.520131Z",
     "iopub.status.idle": "2023-06-11T08:52:58.524432Z",
     "shell.execute_reply": "2023-06-11T08:52:58.523688Z"
    },
    "id": "yweYyg0OLsJR",
    "papermill": {
     "duration": 0.110508,
     "end_time": "2023-06-11T08:52:58.526398",
     "exception": false,
     "start_time": "2023-06-11T08:52:58.415890",
     "status": "completed"
    },
    "tags": []
   },
   "outputs": [],
   "source": [
    "import sys\n",
    "sys.path.append(\"XAIEnv/lib/python3.10/site-packages\")"
   ]
  },
  {
   "cell_type": "code",
   "execution_count": 4,
   "id": "feeb579b",
   "metadata": {
    "execution": {
     "iopub.execute_input": "2023-06-11T08:52:58.731211Z",
     "iopub.status.busy": "2023-06-11T08:52:58.730890Z",
     "iopub.status.idle": "2023-06-11T08:53:04.471682Z",
     "shell.execute_reply": "2023-06-11T08:53:04.470422Z"
    },
    "id": "erPY0MqyEU_X",
    "papermill": {
     "duration": 5.847516,
     "end_time": "2023-06-11T08:53:04.473797",
     "exception": false,
     "start_time": "2023-06-11T08:52:58.626281",
     "status": "completed"
    },
    "tags": []
   },
   "outputs": [
    {
     "name": "stderr",
     "output_type": "stream",
     "text": [
      "/opt/conda/lib/python3.10/site-packages/scipy/__init__.py:146: UserWarning: A NumPy version >=1.16.5 and <1.23.0 is required for this version of SciPy (detected version 1.23.5\n",
      "  warnings.warn(f\"A NumPy version >={np_minversion} and <{np_maxversion}\"\n"
     ]
    },
    {
     "name": "stdout",
     "output_type": "stream",
     "text": [
      "Using cuda for inference\n"
     ]
    }
   ],
   "source": [
    "import torch\n",
    "# import quantus\n",
    "from captum.attr import (\n",
    "    Saliency, # A baseline approach for computing input attribution\n",
    "    GradientShap, \n",
    "    DeepLift,\n",
    "    DeepLiftShap,\n",
    "    IntegratedGradients,\n",
    "    LayerConductance,\n",
    "    NeuronConductance,\n",
    "    NoiseTunnel,\n",
    "    GuidedGradCam,\n",
    "    GuidedBackprop,\n",
    "    Saliency,\n",
    "    LimeBase,\n",
    "    FeatureAblation,\n",
    "    Occlusion,\n",
    "    LRP,\n",
    "    visualization as viz\n",
    ")\n",
    "from PIL import Image\n",
    "import torchvision\n",
    "from torchvision import transforms\n",
    "import json\n",
    "import requests\n",
    "from io import BytesIO\n",
    "import warnings\n",
    "import numpy as np\n",
    "import matplotlib.pyplot as plt\n",
    "import matplotlib.cm as c_map\n",
    "from torchvision import models\n",
    "import seaborn as sns\n",
    "import scipy\n",
    "import skimage\n",
    "from sklearn.metrics import confusion_matrix, accuracy_score, f1_score\n",
    "warnings.filterwarnings('ignore')\n",
    "import gc\n",
    "%matplotlib inline\n",
    "\n",
    "device = torch.device(\"cuda\") if torch.cuda.is_available() else torch.device(\"cpu\")\n",
    "cpu = torch.device(\"cpu\")\n",
    "print(f'Using {device} for inference')"
   ]
  },
  {
   "cell_type": "code",
   "execution_count": 5,
   "id": "d891f267",
   "metadata": {
    "execution": {
     "iopub.execute_input": "2023-06-11T08:53:04.677269Z",
     "iopub.status.busy": "2023-06-11T08:53:04.675366Z",
     "iopub.status.idle": "2023-06-11T08:53:04.685495Z",
     "shell.execute_reply": "2023-06-11T08:53:04.684651Z"
    },
    "id": "vLfyNmtEM1SB",
    "papermill": {
     "duration": 0.113105,
     "end_time": "2023-06-11T08:53:04.687672",
     "exception": false,
     "start_time": "2023-06-11T08:53:04.574567",
     "status": "completed"
    },
    "tags": []
   },
   "outputs": [],
   "source": [
    "torch.manual_seed(123)\n",
    "np.random.seed(123)"
   ]
  },
  {
   "cell_type": "markdown",
   "id": "f4f3157e",
   "metadata": {
    "id": "sIEBF6WUzAQA",
    "papermill": {
     "duration": 0.09959,
     "end_time": "2023-06-11T08:53:04.887199",
     "exception": false,
     "start_time": "2023-06-11T08:53:04.787609",
     "status": "completed"
    },
    "tags": []
   },
   "source": [
    "# Setup datasets"
   ]
  },
  {
   "cell_type": "code",
   "execution_count": 6,
   "id": "b1c8532b",
   "metadata": {
    "execution": {
     "iopub.execute_input": "2023-06-11T08:53:05.088443Z",
     "iopub.status.busy": "2023-06-11T08:53:05.088105Z",
     "iopub.status.idle": "2023-06-11T08:53:05.094448Z",
     "shell.execute_reply": "2023-06-11T08:53:05.093442Z"
    },
    "id": "EVH_ZzSPDGKc",
    "papermill": {
     "duration": 0.10935,
     "end_time": "2023-06-11T08:53:05.096435",
     "exception": false,
     "start_time": "2023-06-11T08:53:04.987085",
     "status": "completed"
    },
    "tags": []
   },
   "outputs": [],
   "source": [
    "resize_image = transforms.Compose([\n",
    "  transforms.Resize(128),\n",
    "#   transforms.CenterCrop(299),\n",
    "])\n",
    "\n",
    "transform = transforms.Compose([            \n",
    "  transforms.ToTensor(),\n",
    "  resize_image,\n",
    "  transforms.Normalize(\n",
    "   mean=[0.485, 0.456, 0.406],\n",
    "   std=[0.229, 0.224, 0.225]\n",
    "  )\n",
    "])\n",
    "\n",
    "mask_transform = transforms.Compose([            \n",
    "  transforms.ToTensor(),\n",
    "  resize_image,\n",
    "])"
   ]
  },
  {
   "cell_type": "code",
   "execution_count": 7,
   "id": "30d50348",
   "metadata": {
    "execution": {
     "iopub.execute_input": "2023-06-11T08:53:05.297437Z",
     "iopub.status.busy": "2023-06-11T08:53:05.296581Z",
     "iopub.status.idle": "2023-06-11T08:53:05.304687Z",
     "shell.execute_reply": "2023-06-11T08:53:05.303826Z"
    },
    "id": "8ncf8jeMzDYz",
    "papermill": {
     "duration": 0.110339,
     "end_time": "2023-06-11T08:53:05.306671",
     "exception": false,
     "start_time": "2023-06-11T08:53:05.196332",
     "status": "completed"
    },
    "tags": []
   },
   "outputs": [],
   "source": [
    "from torch.utils.data import Dataset\n",
    "\n",
    "class PneumothoraxImageDataset(Dataset):\n",
    "    def __init__(self, images, targets, masks, transform, mask_transform):\n",
    "        self.masks = masks\n",
    "        self.images = images\n",
    "        self.targets = targets\n",
    "        self.transform = transform\n",
    "        self.mask_transform = mask_transform\n",
    "        \n",
    "\n",
    "    def __len__(self):\n",
    "        return len(self.images)\n",
    "\n",
    "    def __getitem__(self, idx):\n",
    "        image = np.asarray(Image.open(self.images[idx]).convert('RGB'))\n",
    "        mask = np.asarray(Image.open(self.masks[idx]).convert('RGB'))\n",
    "        label = self.targets[idx]\n",
    "        if self.transform:\n",
    "          image = self.transform(image)\n",
    "        if self.mask_transform:\n",
    "          mask = self.mask_transform(mask)\n",
    "        return image, mask, label"
   ]
  },
  {
   "cell_type": "code",
   "execution_count": 8,
   "id": "1615e26c",
   "metadata": {
    "execution": {
     "iopub.execute_input": "2023-06-11T08:53:05.508389Z",
     "iopub.status.busy": "2023-06-11T08:53:05.507739Z",
     "iopub.status.idle": "2023-06-11T08:53:05.570446Z",
     "shell.execute_reply": "2023-06-11T08:53:05.569388Z"
    },
    "id": "8G-yx78yQsMn",
    "papermill": {
     "duration": 0.166972,
     "end_time": "2023-06-11T08:53:05.572657",
     "exception": false,
     "start_time": "2023-06-11T08:53:05.405685",
     "status": "completed"
    },
    "tags": []
   },
   "outputs": [],
   "source": [
    "use_kaggle = True\n",
    "kaggle_main_path = '/kaggle/input/pneumothorax-chest-xray-images-and-masks'\n",
    "colab_main_path = '/content/datasets'\n",
    "main_path = f'{kaggle_main_path if use_kaggle else colab_main_path}/siim-acr-pneumothorax'\n",
    "import os\n",
    "import pandas as pd\n",
    "# train_data = pd.read_csv(os.path.join(main_path, 'stage_1_train_images.csv'))\n",
    "test_data = pd.read_csv(os.path.join(main_path, 'stage_1_test_images.csv'))\n",
    "# Just load only abnormal cases\n",
    "# test_abnormal = test_data.loc[test_data.has_pneumo == 1]\n",
    "\n",
    "# Load all cases\n",
    "test_abnormal = test_data\n",
    "\n",
    "# train_data['images'] = train_data['new_filename'].apply(lambda x: os.path.join(main_path, 'png_images', x))\n",
    "# train_data['masks'] = train_data['new_filename'].apply(lambda x: os.path.join(main_path, 'png_masks', x))\n",
    "\n",
    "test_abnormal['images'] = test_abnormal['new_filename'].apply(lambda x: os.path.join(main_path, 'png_images', x))\n",
    "test_abnormal['masks'] = test_abnormal['new_filename'].apply(lambda x: os.path.join(main_path, 'png_masks', x))\n",
    "\n",
    "images = test_abnormal['images'].tolist()\n",
    "masks = test_abnormal['masks'].tolist()\n",
    "targets = test_abnormal['has_pneumo'].tolist()"
   ]
  },
  {
   "cell_type": "code",
   "execution_count": 9,
   "id": "7cd25bba",
   "metadata": {
    "execution": {
     "iopub.execute_input": "2023-06-11T08:53:05.774742Z",
     "iopub.status.busy": "2023-06-11T08:53:05.774422Z",
     "iopub.status.idle": "2023-06-11T08:53:05.779616Z",
     "shell.execute_reply": "2023-06-11T08:53:05.778654Z"
    },
    "id": "vbo2-sZMQ1iU",
    "papermill": {
     "duration": 0.109246,
     "end_time": "2023-06-11T08:53:05.781598",
     "exception": false,
     "start_time": "2023-06-11T08:53:05.672352",
     "status": "completed"
    },
    "tags": []
   },
   "outputs": [],
   "source": [
    "dataset = PneumothoraxImageDataset(images, targets, masks, transform=transform, mask_transform=mask_transform)\n",
    "ds_loader = torch.utils.data.DataLoader(dataset, batch_size=16, num_workers=4)"
   ]
  },
  {
   "cell_type": "markdown",
   "id": "4cfa1591",
   "metadata": {
    "id": "3prfR5sZf1Jj",
    "papermill": {
     "duration": 0.100102,
     "end_time": "2023-06-11T08:53:05.981455",
     "exception": false,
     "start_time": "2023-06-11T08:53:05.881353",
     "status": "completed"
    },
    "tags": []
   },
   "source": [
    "## UTIL FUNCS"
   ]
  },
  {
   "cell_type": "markdown",
   "id": "f7b0bcd1",
   "metadata": {
    "id": "gcX0anjnj3SR",
    "papermill": {
     "duration": 0.099021,
     "end_time": "2023-06-11T08:53:06.180468",
     "exception": false,
     "start_time": "2023-06-11T08:53:06.081447",
     "status": "completed"
    },
    "tags": []
   },
   "source": [
    "### Bellow is the override of an visualization implementation due to the orginal version from the captum module cause bug when config matplotlib grid_b"
   ]
  },
  {
   "cell_type": "code",
   "execution_count": 10,
   "id": "0d075982",
   "metadata": {
    "execution": {
     "iopub.execute_input": "2023-06-11T08:53:06.383483Z",
     "iopub.status.busy": "2023-06-11T08:53:06.383126Z",
     "iopub.status.idle": "2023-06-11T08:53:06.423321Z",
     "shell.execute_reply": "2023-06-11T08:53:06.422263Z"
    },
    "id": "6eJieH7DcEHO",
    "papermill": {
     "duration": 0.144872,
     "end_time": "2023-06-11T08:53:06.425257",
     "exception": false,
     "start_time": "2023-06-11T08:53:06.280385",
     "status": "completed"
    },
    "tags": []
   },
   "outputs": [],
   "source": [
    "from matplotlib import cm, colors, pyplot as plt\n",
    "from matplotlib.collections import LineCollection\n",
    "from matplotlib.colors import LinearSegmentedColormap\n",
    "from matplotlib.figure import Figure\n",
    "from matplotlib.pyplot import axis, figure\n",
    "from mpl_toolkits.axes_grid1 import make_axes_locatable\n",
    "from numpy import ndarray\n",
    "from enum import Enum\n",
    "from typing import Any, Iterable, List, Optional, Tuple, Union\n",
    "\n",
    "\n",
    "try:\n",
    "    from IPython.display import display, HTML\n",
    "\n",
    "    HAS_IPYTHON = True\n",
    "except ImportError:\n",
    "    HAS_IPYTHON = False\n",
    "\n",
    "\n",
    "class ImageVisualizationMethod(Enum):\n",
    "    heat_map = 1\n",
    "    blended_heat_map = 2\n",
    "    original_image = 3\n",
    "    masked_image = 4\n",
    "    alpha_scaling = 5\n",
    "\n",
    "\n",
    "class TimeseriesVisualizationMethod(Enum):\n",
    "    overlay_individual = 1\n",
    "    overlay_combined = 2\n",
    "    colored_graph = 3\n",
    "\n",
    "\n",
    "class VisualizeSign(Enum):\n",
    "    positive = 1\n",
    "    absolute_value = 2\n",
    "    negative = 3\n",
    "    all = 4\n",
    "\n",
    "\n",
    "def _prepare_image(attr_visual: ndarray):\n",
    "    return np.clip(attr_visual.astype(int), 0, 255)\n",
    "\n",
    "\n",
    "def _normalize_scale(attr: ndarray, scale_factor: float):\n",
    "    assert scale_factor != 0, \"Cannot normalize by scale factor = 0\"\n",
    "    if abs(scale_factor) < 1e-5:\n",
    "        warnings.warn(\n",
    "            \"Attempting to normalize by value approximately 0, visualized results\"\n",
    "            \"may be misleading. This likely means that attribution values are all\"\n",
    "            \"close to 0.\"\n",
    "        )\n",
    "    attr_norm = attr / scale_factor\n",
    "    return np.clip(attr_norm, -1, 1)\n",
    "\n",
    "\n",
    "def _cumulative_sum_threshold(values: ndarray, percentile: Union[int, float]):\n",
    "    # given values should be non-negative\n",
    "    assert percentile >= 0 and percentile <= 100, (\n",
    "        \"Percentile for thresholding must be \" \"between 0 and 100 inclusive.\"\n",
    "    )\n",
    "    sorted_vals = np.sort(values.flatten())\n",
    "    cum_sums = np.cumsum(sorted_vals)\n",
    "    threshold_id = np.where(cum_sums >= cum_sums[-1] * 0.01 * percentile)[0][0]\n",
    "    return sorted_vals[threshold_id]\n",
    "\n",
    "\n",
    "def _normalize_attr(\n",
    "    attr: ndarray,\n",
    "    sign: str,\n",
    "    outlier_perc: Union[int, float] = 2,\n",
    "    reduction_axis: Optional[int] = None,\n",
    "):\n",
    "    attr_combined = attr\n",
    "    if reduction_axis is not None:\n",
    "        attr_combined = np.sum(attr, axis=reduction_axis)\n",
    "\n",
    "    # Choose appropriate signed values and rescale, removing given outlier percentage.\n",
    "    if VisualizeSign[sign] == VisualizeSign.all:\n",
    "        threshold = _cumulative_sum_threshold(np.abs(attr_combined), 100 - outlier_perc)\n",
    "    elif VisualizeSign[sign] == VisualizeSign.positive:\n",
    "        attr_combined = (attr_combined > 0) * attr_combined\n",
    "        threshold = _cumulative_sum_threshold(attr_combined, 100 - outlier_perc)\n",
    "    elif VisualizeSign[sign] == VisualizeSign.negative:\n",
    "        attr_combined = (attr_combined < 0) * attr_combined\n",
    "        threshold = -1 * _cumulative_sum_threshold(\n",
    "            np.abs(attr_combined), 100 - outlier_perc\n",
    "        )\n",
    "    elif VisualizeSign[sign] == VisualizeSign.absolute_value:\n",
    "        attr_combined = np.abs(attr_combined)\n",
    "        threshold = _cumulative_sum_threshold(attr_combined, 100 - outlier_perc)\n",
    "    else:\n",
    "        raise AssertionError(\"Visualize Sign type is not valid.\")\n",
    "    return _normalize_scale(attr_combined, threshold)\n",
    "\n",
    "\n",
    "def visualize_image_attr(\n",
    "    attr: ndarray,\n",
    "    original_image: Union[None, ndarray] = None,\n",
    "    method: str = \"heat_map\",\n",
    "    sign: str = \"absolute_value\",\n",
    "    plt_fig_axis: Union[None, Tuple[figure, axis]] = None,\n",
    "    outlier_perc: Union[int, float] = 2,\n",
    "    cmap: Union[None, str] = None,\n",
    "    alpha_overlay: float = 0.5,\n",
    "    show_colorbar: bool = False,\n",
    "    title: Union[None, str] = None,\n",
    "    fig_size: Tuple[int, int] = (6, 6),\n",
    "    use_pyplot: bool = True,\n",
    "):\n",
    "    r\"\"\"\n",
    "    Visualizes attribution for a given image by normalizing attribution values\n",
    "    of the desired sign (positive, negative, absolute value, or all) and displaying\n",
    "    them using the desired mode in a matplotlib figure.\n",
    "\n",
    "    Args:\n",
    "\n",
    "        attr (numpy.ndarray): Numpy array corresponding to attributions to be\n",
    "                    visualized. Shape must be in the form (H, W, C), with\n",
    "                    channels as last dimension. Shape must also match that of\n",
    "                    the original image if provided.\n",
    "        original_image (numpy.ndarray, optional): Numpy array corresponding to\n",
    "                    original image. Shape must be in the form (H, W, C), with\n",
    "                    channels as the last dimension. Image can be provided either\n",
    "                    with float values in range 0-1 or int values between 0-255.\n",
    "                    This is a necessary argument for any visualization method\n",
    "                    which utilizes the original image.\n",
    "                    Default: None\n",
    "        method (str, optional): Chosen method for visualizing attribution.\n",
    "                    Supported options are:\n",
    "\n",
    "                    1. `heat_map` - Display heat map of chosen attributions\n",
    "\n",
    "                    2. `blended_heat_map` - Overlay heat map over greyscale\n",
    "                       version of original image. Parameter alpha_overlay\n",
    "                       corresponds to alpha of heat map.\n",
    "\n",
    "                    3. `original_image` - Only display original image.\n",
    "\n",
    "                    4. `masked_image` - Mask image (pixel-wise multiply)\n",
    "                       by normalized attribution values.\n",
    "\n",
    "                    5. `alpha_scaling` - Sets alpha channel of each pixel\n",
    "                       to be equal to normalized attribution value.\n",
    "\n",
    "                    Default: `heat_map`\n",
    "        sign (str, optional): Chosen sign of attributions to visualize. Supported\n",
    "                    options are:\n",
    "\n",
    "                    1. `positive` - Displays only positive pixel attributions.\n",
    "\n",
    "                    2. `absolute_value` - Displays absolute value of\n",
    "                       attributions.\n",
    "\n",
    "                    3. `negative` - Displays only negative pixel attributions.\n",
    "\n",
    "                    4. `all` - Displays both positive and negative attribution\n",
    "                       values. This is not supported for `masked_image` or\n",
    "                       `alpha_scaling` modes, since signed information cannot\n",
    "                       be represented in these modes.\n",
    "\n",
    "                    Default: `absolute_value`\n",
    "        plt_fig_axis (tuple, optional): Tuple of matplotlib.pyplot.figure and axis\n",
    "                    on which to visualize. If None is provided, then a new figure\n",
    "                    and axis are created.\n",
    "                    Default: None\n",
    "        outlier_perc (float or int, optional): Top attribution values which\n",
    "                    correspond to a total of outlier_perc percentage of the\n",
    "                    total attribution are set to 1 and scaling is performed\n",
    "                    using the minimum of these values. For sign=`all`, outliers\n",
    "                    and scale value are computed using absolute value of\n",
    "                    attributions.\n",
    "                    Default: 2\n",
    "        cmap (str, optional): String corresponding to desired colormap for\n",
    "                    heatmap visualization. This defaults to \"Reds\" for negative\n",
    "                    sign, \"Blues\" for absolute value, \"Greens\" for positive sign,\n",
    "                    and a spectrum from red to green for all. Note that this\n",
    "                    argument is only used for visualizations displaying heatmaps.\n",
    "                    Default: None\n",
    "        alpha_overlay (float, optional): Alpha to set for heatmap when using\n",
    "                    `blended_heat_map` visualization mode, which overlays the\n",
    "                    heat map over the greyscaled original image.\n",
    "                    Default: 0.5\n",
    "        show_colorbar (bool, optional): Displays colorbar for heatmap below\n",
    "                    the visualization. If given method does not use a heatmap,\n",
    "                    then a colormap axis is created and hidden. This is\n",
    "                    necessary for appropriate alignment when visualizing\n",
    "                    multiple plots, some with colorbars and some without.\n",
    "                    Default: False\n",
    "        title (str, optional): Title string for plot. If None, no title is\n",
    "                    set.\n",
    "                    Default: None\n",
    "        fig_size (tuple, optional): Size of figure created.\n",
    "                    Default: (6,6)\n",
    "        use_pyplot (bool, optional): If true, uses pyplot to create and show\n",
    "                    figure and displays the figure after creating. If False,\n",
    "                    uses Matplotlib object oriented API and simply returns a\n",
    "                    figure object without showing.\n",
    "                    Default: True.\n",
    "\n",
    "    Returns:\n",
    "        2-element tuple of **figure**, **axis**:\n",
    "        - **figure** (*matplotlib.pyplot.figure*):\n",
    "                    Figure object on which visualization\n",
    "                    is created. If plt_fig_axis argument is given, this is the\n",
    "                    same figure provided.\n",
    "        - **axis** (*matplotlib.pyplot.axis*):\n",
    "                    Axis object on which visualization\n",
    "                    is created. If plt_fig_axis argument is given, this is the\n",
    "                    same axis provided.\n",
    "\n",
    "    Examples::\n",
    "\n",
    "        >>> # ImageClassifier takes a single input tensor of images Nx3x32x32,\n",
    "        >>> # and returns an Nx10 tensor of class probabilities.\n",
    "        >>> net = ImageClassifier()\n",
    "        >>> ig = IntegratedGradients(net)\n",
    "        >>> # Computes integrated gradients for class 3 for a given image .\n",
    "        >>> attribution, delta = ig.attribute(orig_image, target=3)\n",
    "        >>> # Displays blended heat map visualization of computed attributions.\n",
    "        >>> _ = visualize_image_attr(attribution, orig_image, \"blended_heat_map\")\n",
    "    \"\"\"\n",
    "    # Create plot if figure, axis not provided\n",
    "    if plt_fig_axis is not None:\n",
    "        plt_fig, plt_axis = plt_fig_axis\n",
    "    else:\n",
    "        if use_pyplot:\n",
    "            plt_fig, plt_axis = plt.subplots(figsize=fig_size)\n",
    "        else:\n",
    "            plt_fig = Figure(figsize=fig_size)\n",
    "            plt_axis = plt_fig.subplots()\n",
    "\n",
    "    if original_image is not None:\n",
    "        if np.max(original_image) <= 1.0:\n",
    "            original_image = _prepare_image(original_image * 255)\n",
    "    elif ImageVisualizationMethod[method] != ImageVisualizationMethod.heat_map:\n",
    "        raise ValueError(\n",
    "            \"Original Image must be provided for\"\n",
    "            \"any visualization other than heatmap.\"\n",
    "        )\n",
    "\n",
    "    # Remove ticks and tick labels from plot.\n",
    "    plt_axis.xaxis.set_ticks_position(\"none\")\n",
    "    plt_axis.yaxis.set_ticks_position(\"none\")\n",
    "    plt_axis.set_yticklabels([])\n",
    "    plt_axis.set_xticklabels([])\n",
    "    plt_axis.grid(visible=False)\n",
    "\n",
    "    heat_map = None\n",
    "    # Show original image\n",
    "    if ImageVisualizationMethod[method] == ImageVisualizationMethod.original_image:\n",
    "        assert (\n",
    "            original_image is not None\n",
    "        ), \"Original image expected for original_image method.\"\n",
    "        if len(original_image.shape) > 2 and original_image.shape[2] == 1:\n",
    "            original_image = np.squeeze(original_image, axis=2)\n",
    "        plt_axis.imshow(original_image)\n",
    "    else:\n",
    "        # Choose appropriate signed attributions and normalize.\n",
    "        norm_attr = _normalize_attr(attr, sign, outlier_perc, reduction_axis=2)\n",
    "\n",
    "        # Set default colormap and bounds based on sign.\n",
    "        if VisualizeSign[sign] == VisualizeSign.all:\n",
    "            default_cmap = LinearSegmentedColormap.from_list(\n",
    "                \"RdWhGn\", [\"red\", \"white\", \"green\"]\n",
    "            )\n",
    "            vmin, vmax = -1, 1\n",
    "        elif VisualizeSign[sign] == VisualizeSign.positive:\n",
    "            default_cmap = \"Greens\"\n",
    "            vmin, vmax = 0, 1\n",
    "        elif VisualizeSign[sign] == VisualizeSign.negative:\n",
    "            default_cmap = \"Reds\"\n",
    "            vmin, vmax = 0, 1\n",
    "        elif VisualizeSign[sign] == VisualizeSign.absolute_value:\n",
    "            default_cmap = \"Blues\"\n",
    "            vmin, vmax = 0, 1\n",
    "        else:\n",
    "            raise AssertionError(\"Visualize Sign type is not valid.\")\n",
    "        cmap = cmap if cmap is not None else default_cmap\n",
    "\n",
    "        # Show appropriate image visualization.\n",
    "        if ImageVisualizationMethod[method] == ImageVisualizationMethod.heat_map:\n",
    "            heat_map = plt_axis.imshow(norm_attr, cmap=cmap, vmin=vmin, vmax=vmax)\n",
    "        elif (\n",
    "            ImageVisualizationMethod[method]\n",
    "            == ImageVisualizationMethod.blended_heat_map\n",
    "        ):\n",
    "            assert (\n",
    "                original_image is not None\n",
    "            ), \"Original Image expected for blended_heat_map method.\"\n",
    "            plt_axis.imshow(np.mean(original_image, axis=2), cmap=\"gray\")\n",
    "            heat_map = plt_axis.imshow(\n",
    "                norm_attr, cmap=cmap, vmin=vmin, vmax=vmax, alpha=alpha_overlay\n",
    "            )\n",
    "        elif ImageVisualizationMethod[method] == ImageVisualizationMethod.masked_image:\n",
    "            assert VisualizeSign[sign] != VisualizeSign.all, (\n",
    "                \"Cannot display masked image with both positive and negative \"\n",
    "                \"attributions, choose a different sign option.\"\n",
    "            )\n",
    "            plt_axis.imshow(\n",
    "                _prepare_image(original_image * np.expand_dims(norm_attr, 2))\n",
    "            )\n",
    "        elif ImageVisualizationMethod[method] == ImageVisualizationMethod.alpha_scaling:\n",
    "            assert VisualizeSign[sign] != VisualizeSign.all, (\n",
    "                \"Cannot display alpha scaling with both positive and negative \"\n",
    "                \"attributions, choose a different sign option.\"\n",
    "            )\n",
    "            plt_axis.imshow(\n",
    "                np.concatenate(\n",
    "                    [\n",
    "                        original_image,\n",
    "                        _prepare_image(np.expand_dims(norm_attr, 2) * 255),\n",
    "                    ],\n",
    "                    axis=2,\n",
    "                )\n",
    "            )\n",
    "        else:\n",
    "            raise AssertionError(\"Visualize Method type is not valid.\")\n",
    "\n",
    "    # Add colorbar. If given method is not a heatmap and no colormap is relevant,\n",
    "    # then a colormap axis is created and hidden. This is necessary for appropriate\n",
    "    # alignment when visualizing multiple plots, some with heatmaps and some\n",
    "    # without.\n",
    "    if show_colorbar:\n",
    "        axis_separator = make_axes_locatable(plt_axis)\n",
    "        colorbar_axis = axis_separator.append_axes(\"bottom\", size=\"5%\", pad=0.1)\n",
    "        if heat_map:\n",
    "            plt_fig.colorbar(heat_map, orientation=\"horizontal\", cax=colorbar_axis)\n",
    "        else:\n",
    "            colorbar_axis.axis(\"off\")\n",
    "    if title:\n",
    "        plt_axis.set_title(title)\n",
    "\n",
    "    if use_pyplot:\n",
    "        plt.show()\n",
    "\n",
    "    return plt_fig, plt_axis"
   ]
  },
  {
   "cell_type": "markdown",
   "id": "919544ed",
   "metadata": {
    "id": "03NSEm1hf5Yk",
    "papermill": {
     "duration": 0.099436,
     "end_time": "2023-06-11T08:53:06.625002",
     "exception": false,
     "start_time": "2023-06-11T08:53:06.525566",
     "status": "completed"
    },
    "tags": []
   },
   "source": [
    "## Setup Blackbox & XAI methods"
   ]
  },
  {
   "cell_type": "code",
   "execution_count": 11,
   "id": "5b3a6448",
   "metadata": {
    "execution": {
     "iopub.execute_input": "2023-06-11T08:53:06.826242Z",
     "iopub.status.busy": "2023-06-11T08:53:06.825309Z",
     "iopub.status.idle": "2023-06-11T08:53:13.392625Z",
     "shell.execute_reply": "2023-06-11T08:53:13.391782Z"
    },
    "id": "LfEomGL_M8DD",
    "outputId": "74ea6d0c-3386-4b7c-8e1d-2f272fd640e7",
    "papermill": {
     "duration": 6.670502,
     "end_time": "2023-06-11T08:53:13.395131",
     "exception": false,
     "start_time": "2023-06-11T08:53:06.724629",
     "status": "completed"
    },
    "tags": []
   },
   "outputs": [
    {
     "data": {
      "text/plain": [
       "DataParallel(\n",
       "  (module): Inception3(\n",
       "    (Conv2d_1a_3x3): BasicConv2d(\n",
       "      (conv): Conv2d(3, 32, kernel_size=(3, 3), stride=(2, 2), bias=False)\n",
       "      (bn): BatchNorm2d(32, eps=0.001, momentum=0.1, affine=True, track_running_stats=True)\n",
       "    )\n",
       "    (Conv2d_2a_3x3): BasicConv2d(\n",
       "      (conv): Conv2d(32, 32, kernel_size=(3, 3), stride=(1, 1), bias=False)\n",
       "      (bn): BatchNorm2d(32, eps=0.001, momentum=0.1, affine=True, track_running_stats=True)\n",
       "    )\n",
       "    (Conv2d_2b_3x3): BasicConv2d(\n",
       "      (conv): Conv2d(32, 64, kernel_size=(3, 3), stride=(1, 1), padding=(1, 1), bias=False)\n",
       "      (bn): BatchNorm2d(64, eps=0.001, momentum=0.1, affine=True, track_running_stats=True)\n",
       "    )\n",
       "    (maxpool1): MaxPool2d(kernel_size=3, stride=2, padding=0, dilation=1, ceil_mode=False)\n",
       "    (Conv2d_3b_1x1): BasicConv2d(\n",
       "      (conv): Conv2d(64, 80, kernel_size=(1, 1), stride=(1, 1), bias=False)\n",
       "      (bn): BatchNorm2d(80, eps=0.001, momentum=0.1, affine=True, track_running_stats=True)\n",
       "    )\n",
       "    (Conv2d_4a_3x3): BasicConv2d(\n",
       "      (conv): Conv2d(80, 192, kernel_size=(3, 3), stride=(1, 1), bias=False)\n",
       "      (bn): BatchNorm2d(192, eps=0.001, momentum=0.1, affine=True, track_running_stats=True)\n",
       "    )\n",
       "    (maxpool2): MaxPool2d(kernel_size=3, stride=2, padding=0, dilation=1, ceil_mode=False)\n",
       "    (Mixed_5b): InceptionA(\n",
       "      (branch1x1): BasicConv2d(\n",
       "        (conv): Conv2d(192, 64, kernel_size=(1, 1), stride=(1, 1), bias=False)\n",
       "        (bn): BatchNorm2d(64, eps=0.001, momentum=0.1, affine=True, track_running_stats=True)\n",
       "      )\n",
       "      (branch5x5_1): BasicConv2d(\n",
       "        (conv): Conv2d(192, 48, kernel_size=(1, 1), stride=(1, 1), bias=False)\n",
       "        (bn): BatchNorm2d(48, eps=0.001, momentum=0.1, affine=True, track_running_stats=True)\n",
       "      )\n",
       "      (branch5x5_2): BasicConv2d(\n",
       "        (conv): Conv2d(48, 64, kernel_size=(5, 5), stride=(1, 1), padding=(2, 2), bias=False)\n",
       "        (bn): BatchNorm2d(64, eps=0.001, momentum=0.1, affine=True, track_running_stats=True)\n",
       "      )\n",
       "      (branch3x3dbl_1): BasicConv2d(\n",
       "        (conv): Conv2d(192, 64, kernel_size=(1, 1), stride=(1, 1), bias=False)\n",
       "        (bn): BatchNorm2d(64, eps=0.001, momentum=0.1, affine=True, track_running_stats=True)\n",
       "      )\n",
       "      (branch3x3dbl_2): BasicConv2d(\n",
       "        (conv): Conv2d(64, 96, kernel_size=(3, 3), stride=(1, 1), padding=(1, 1), bias=False)\n",
       "        (bn): BatchNorm2d(96, eps=0.001, momentum=0.1, affine=True, track_running_stats=True)\n",
       "      )\n",
       "      (branch3x3dbl_3): BasicConv2d(\n",
       "        (conv): Conv2d(96, 96, kernel_size=(3, 3), stride=(1, 1), padding=(1, 1), bias=False)\n",
       "        (bn): BatchNorm2d(96, eps=0.001, momentum=0.1, affine=True, track_running_stats=True)\n",
       "      )\n",
       "      (branch_pool): BasicConv2d(\n",
       "        (conv): Conv2d(192, 32, kernel_size=(1, 1), stride=(1, 1), bias=False)\n",
       "        (bn): BatchNorm2d(32, eps=0.001, momentum=0.1, affine=True, track_running_stats=True)\n",
       "      )\n",
       "    )\n",
       "    (Mixed_5c): InceptionA(\n",
       "      (branch1x1): BasicConv2d(\n",
       "        (conv): Conv2d(256, 64, kernel_size=(1, 1), stride=(1, 1), bias=False)\n",
       "        (bn): BatchNorm2d(64, eps=0.001, momentum=0.1, affine=True, track_running_stats=True)\n",
       "      )\n",
       "      (branch5x5_1): BasicConv2d(\n",
       "        (conv): Conv2d(256, 48, kernel_size=(1, 1), stride=(1, 1), bias=False)\n",
       "        (bn): BatchNorm2d(48, eps=0.001, momentum=0.1, affine=True, track_running_stats=True)\n",
       "      )\n",
       "      (branch5x5_2): BasicConv2d(\n",
       "        (conv): Conv2d(48, 64, kernel_size=(5, 5), stride=(1, 1), padding=(2, 2), bias=False)\n",
       "        (bn): BatchNorm2d(64, eps=0.001, momentum=0.1, affine=True, track_running_stats=True)\n",
       "      )\n",
       "      (branch3x3dbl_1): BasicConv2d(\n",
       "        (conv): Conv2d(256, 64, kernel_size=(1, 1), stride=(1, 1), bias=False)\n",
       "        (bn): BatchNorm2d(64, eps=0.001, momentum=0.1, affine=True, track_running_stats=True)\n",
       "      )\n",
       "      (branch3x3dbl_2): BasicConv2d(\n",
       "        (conv): Conv2d(64, 96, kernel_size=(3, 3), stride=(1, 1), padding=(1, 1), bias=False)\n",
       "        (bn): BatchNorm2d(96, eps=0.001, momentum=0.1, affine=True, track_running_stats=True)\n",
       "      )\n",
       "      (branch3x3dbl_3): BasicConv2d(\n",
       "        (conv): Conv2d(96, 96, kernel_size=(3, 3), stride=(1, 1), padding=(1, 1), bias=False)\n",
       "        (bn): BatchNorm2d(96, eps=0.001, momentum=0.1, affine=True, track_running_stats=True)\n",
       "      )\n",
       "      (branch_pool): BasicConv2d(\n",
       "        (conv): Conv2d(256, 64, kernel_size=(1, 1), stride=(1, 1), bias=False)\n",
       "        (bn): BatchNorm2d(64, eps=0.001, momentum=0.1, affine=True, track_running_stats=True)\n",
       "      )\n",
       "    )\n",
       "    (Mixed_5d): InceptionA(\n",
       "      (branch1x1): BasicConv2d(\n",
       "        (conv): Conv2d(288, 64, kernel_size=(1, 1), stride=(1, 1), bias=False)\n",
       "        (bn): BatchNorm2d(64, eps=0.001, momentum=0.1, affine=True, track_running_stats=True)\n",
       "      )\n",
       "      (branch5x5_1): BasicConv2d(\n",
       "        (conv): Conv2d(288, 48, kernel_size=(1, 1), stride=(1, 1), bias=False)\n",
       "        (bn): BatchNorm2d(48, eps=0.001, momentum=0.1, affine=True, track_running_stats=True)\n",
       "      )\n",
       "      (branch5x5_2): BasicConv2d(\n",
       "        (conv): Conv2d(48, 64, kernel_size=(5, 5), stride=(1, 1), padding=(2, 2), bias=False)\n",
       "        (bn): BatchNorm2d(64, eps=0.001, momentum=0.1, affine=True, track_running_stats=True)\n",
       "      )\n",
       "      (branch3x3dbl_1): BasicConv2d(\n",
       "        (conv): Conv2d(288, 64, kernel_size=(1, 1), stride=(1, 1), bias=False)\n",
       "        (bn): BatchNorm2d(64, eps=0.001, momentum=0.1, affine=True, track_running_stats=True)\n",
       "      )\n",
       "      (branch3x3dbl_2): BasicConv2d(\n",
       "        (conv): Conv2d(64, 96, kernel_size=(3, 3), stride=(1, 1), padding=(1, 1), bias=False)\n",
       "        (bn): BatchNorm2d(96, eps=0.001, momentum=0.1, affine=True, track_running_stats=True)\n",
       "      )\n",
       "      (branch3x3dbl_3): BasicConv2d(\n",
       "        (conv): Conv2d(96, 96, kernel_size=(3, 3), stride=(1, 1), padding=(1, 1), bias=False)\n",
       "        (bn): BatchNorm2d(96, eps=0.001, momentum=0.1, affine=True, track_running_stats=True)\n",
       "      )\n",
       "      (branch_pool): BasicConv2d(\n",
       "        (conv): Conv2d(288, 64, kernel_size=(1, 1), stride=(1, 1), bias=False)\n",
       "        (bn): BatchNorm2d(64, eps=0.001, momentum=0.1, affine=True, track_running_stats=True)\n",
       "      )\n",
       "    )\n",
       "    (Mixed_6a): InceptionB(\n",
       "      (branch3x3): BasicConv2d(\n",
       "        (conv): Conv2d(288, 384, kernel_size=(3, 3), stride=(2, 2), bias=False)\n",
       "        (bn): BatchNorm2d(384, eps=0.001, momentum=0.1, affine=True, track_running_stats=True)\n",
       "      )\n",
       "      (branch3x3dbl_1): BasicConv2d(\n",
       "        (conv): Conv2d(288, 64, kernel_size=(1, 1), stride=(1, 1), bias=False)\n",
       "        (bn): BatchNorm2d(64, eps=0.001, momentum=0.1, affine=True, track_running_stats=True)\n",
       "      )\n",
       "      (branch3x3dbl_2): BasicConv2d(\n",
       "        (conv): Conv2d(64, 96, kernel_size=(3, 3), stride=(1, 1), padding=(1, 1), bias=False)\n",
       "        (bn): BatchNorm2d(96, eps=0.001, momentum=0.1, affine=True, track_running_stats=True)\n",
       "      )\n",
       "      (branch3x3dbl_3): BasicConv2d(\n",
       "        (conv): Conv2d(96, 96, kernel_size=(3, 3), stride=(2, 2), bias=False)\n",
       "        (bn): BatchNorm2d(96, eps=0.001, momentum=0.1, affine=True, track_running_stats=True)\n",
       "      )\n",
       "    )\n",
       "    (Mixed_6b): InceptionC(\n",
       "      (branch1x1): BasicConv2d(\n",
       "        (conv): Conv2d(768, 192, kernel_size=(1, 1), stride=(1, 1), bias=False)\n",
       "        (bn): BatchNorm2d(192, eps=0.001, momentum=0.1, affine=True, track_running_stats=True)\n",
       "      )\n",
       "      (branch7x7_1): BasicConv2d(\n",
       "        (conv): Conv2d(768, 128, kernel_size=(1, 1), stride=(1, 1), bias=False)\n",
       "        (bn): BatchNorm2d(128, eps=0.001, momentum=0.1, affine=True, track_running_stats=True)\n",
       "      )\n",
       "      (branch7x7_2): BasicConv2d(\n",
       "        (conv): Conv2d(128, 128, kernel_size=(1, 7), stride=(1, 1), padding=(0, 3), bias=False)\n",
       "        (bn): BatchNorm2d(128, eps=0.001, momentum=0.1, affine=True, track_running_stats=True)\n",
       "      )\n",
       "      (branch7x7_3): BasicConv2d(\n",
       "        (conv): Conv2d(128, 192, kernel_size=(7, 1), stride=(1, 1), padding=(3, 0), bias=False)\n",
       "        (bn): BatchNorm2d(192, eps=0.001, momentum=0.1, affine=True, track_running_stats=True)\n",
       "      )\n",
       "      (branch7x7dbl_1): BasicConv2d(\n",
       "        (conv): Conv2d(768, 128, kernel_size=(1, 1), stride=(1, 1), bias=False)\n",
       "        (bn): BatchNorm2d(128, eps=0.001, momentum=0.1, affine=True, track_running_stats=True)\n",
       "      )\n",
       "      (branch7x7dbl_2): BasicConv2d(\n",
       "        (conv): Conv2d(128, 128, kernel_size=(7, 1), stride=(1, 1), padding=(3, 0), bias=False)\n",
       "        (bn): BatchNorm2d(128, eps=0.001, momentum=0.1, affine=True, track_running_stats=True)\n",
       "      )\n",
       "      (branch7x7dbl_3): BasicConv2d(\n",
       "        (conv): Conv2d(128, 128, kernel_size=(1, 7), stride=(1, 1), padding=(0, 3), bias=False)\n",
       "        (bn): BatchNorm2d(128, eps=0.001, momentum=0.1, affine=True, track_running_stats=True)\n",
       "      )\n",
       "      (branch7x7dbl_4): BasicConv2d(\n",
       "        (conv): Conv2d(128, 128, kernel_size=(7, 1), stride=(1, 1), padding=(3, 0), bias=False)\n",
       "        (bn): BatchNorm2d(128, eps=0.001, momentum=0.1, affine=True, track_running_stats=True)\n",
       "      )\n",
       "      (branch7x7dbl_5): BasicConv2d(\n",
       "        (conv): Conv2d(128, 192, kernel_size=(1, 7), stride=(1, 1), padding=(0, 3), bias=False)\n",
       "        (bn): BatchNorm2d(192, eps=0.001, momentum=0.1, affine=True, track_running_stats=True)\n",
       "      )\n",
       "      (branch_pool): BasicConv2d(\n",
       "        (conv): Conv2d(768, 192, kernel_size=(1, 1), stride=(1, 1), bias=False)\n",
       "        (bn): BatchNorm2d(192, eps=0.001, momentum=0.1, affine=True, track_running_stats=True)\n",
       "      )\n",
       "    )\n",
       "    (Mixed_6c): InceptionC(\n",
       "      (branch1x1): BasicConv2d(\n",
       "        (conv): Conv2d(768, 192, kernel_size=(1, 1), stride=(1, 1), bias=False)\n",
       "        (bn): BatchNorm2d(192, eps=0.001, momentum=0.1, affine=True, track_running_stats=True)\n",
       "      )\n",
       "      (branch7x7_1): BasicConv2d(\n",
       "        (conv): Conv2d(768, 160, kernel_size=(1, 1), stride=(1, 1), bias=False)\n",
       "        (bn): BatchNorm2d(160, eps=0.001, momentum=0.1, affine=True, track_running_stats=True)\n",
       "      )\n",
       "      (branch7x7_2): BasicConv2d(\n",
       "        (conv): Conv2d(160, 160, kernel_size=(1, 7), stride=(1, 1), padding=(0, 3), bias=False)\n",
       "        (bn): BatchNorm2d(160, eps=0.001, momentum=0.1, affine=True, track_running_stats=True)\n",
       "      )\n",
       "      (branch7x7_3): BasicConv2d(\n",
       "        (conv): Conv2d(160, 192, kernel_size=(7, 1), stride=(1, 1), padding=(3, 0), bias=False)\n",
       "        (bn): BatchNorm2d(192, eps=0.001, momentum=0.1, affine=True, track_running_stats=True)\n",
       "      )\n",
       "      (branch7x7dbl_1): BasicConv2d(\n",
       "        (conv): Conv2d(768, 160, kernel_size=(1, 1), stride=(1, 1), bias=False)\n",
       "        (bn): BatchNorm2d(160, eps=0.001, momentum=0.1, affine=True, track_running_stats=True)\n",
       "      )\n",
       "      (branch7x7dbl_2): BasicConv2d(\n",
       "        (conv): Conv2d(160, 160, kernel_size=(7, 1), stride=(1, 1), padding=(3, 0), bias=False)\n",
       "        (bn): BatchNorm2d(160, eps=0.001, momentum=0.1, affine=True, track_running_stats=True)\n",
       "      )\n",
       "      (branch7x7dbl_3): BasicConv2d(\n",
       "        (conv): Conv2d(160, 160, kernel_size=(1, 7), stride=(1, 1), padding=(0, 3), bias=False)\n",
       "        (bn): BatchNorm2d(160, eps=0.001, momentum=0.1, affine=True, track_running_stats=True)\n",
       "      )\n",
       "      (branch7x7dbl_4): BasicConv2d(\n",
       "        (conv): Conv2d(160, 160, kernel_size=(7, 1), stride=(1, 1), padding=(3, 0), bias=False)\n",
       "        (bn): BatchNorm2d(160, eps=0.001, momentum=0.1, affine=True, track_running_stats=True)\n",
       "      )\n",
       "      (branch7x7dbl_5): BasicConv2d(\n",
       "        (conv): Conv2d(160, 192, kernel_size=(1, 7), stride=(1, 1), padding=(0, 3), bias=False)\n",
       "        (bn): BatchNorm2d(192, eps=0.001, momentum=0.1, affine=True, track_running_stats=True)\n",
       "      )\n",
       "      (branch_pool): BasicConv2d(\n",
       "        (conv): Conv2d(768, 192, kernel_size=(1, 1), stride=(1, 1), bias=False)\n",
       "        (bn): BatchNorm2d(192, eps=0.001, momentum=0.1, affine=True, track_running_stats=True)\n",
       "      )\n",
       "    )\n",
       "    (Mixed_6d): InceptionC(\n",
       "      (branch1x1): BasicConv2d(\n",
       "        (conv): Conv2d(768, 192, kernel_size=(1, 1), stride=(1, 1), bias=False)\n",
       "        (bn): BatchNorm2d(192, eps=0.001, momentum=0.1, affine=True, track_running_stats=True)\n",
       "      )\n",
       "      (branch7x7_1): BasicConv2d(\n",
       "        (conv): Conv2d(768, 160, kernel_size=(1, 1), stride=(1, 1), bias=False)\n",
       "        (bn): BatchNorm2d(160, eps=0.001, momentum=0.1, affine=True, track_running_stats=True)\n",
       "      )\n",
       "      (branch7x7_2): BasicConv2d(\n",
       "        (conv): Conv2d(160, 160, kernel_size=(1, 7), stride=(1, 1), padding=(0, 3), bias=False)\n",
       "        (bn): BatchNorm2d(160, eps=0.001, momentum=0.1, affine=True, track_running_stats=True)\n",
       "      )\n",
       "      (branch7x7_3): BasicConv2d(\n",
       "        (conv): Conv2d(160, 192, kernel_size=(7, 1), stride=(1, 1), padding=(3, 0), bias=False)\n",
       "        (bn): BatchNorm2d(192, eps=0.001, momentum=0.1, affine=True, track_running_stats=True)\n",
       "      )\n",
       "      (branch7x7dbl_1): BasicConv2d(\n",
       "        (conv): Conv2d(768, 160, kernel_size=(1, 1), stride=(1, 1), bias=False)\n",
       "        (bn): BatchNorm2d(160, eps=0.001, momentum=0.1, affine=True, track_running_stats=True)\n",
       "      )\n",
       "      (branch7x7dbl_2): BasicConv2d(\n",
       "        (conv): Conv2d(160, 160, kernel_size=(7, 1), stride=(1, 1), padding=(3, 0), bias=False)\n",
       "        (bn): BatchNorm2d(160, eps=0.001, momentum=0.1, affine=True, track_running_stats=True)\n",
       "      )\n",
       "      (branch7x7dbl_3): BasicConv2d(\n",
       "        (conv): Conv2d(160, 160, kernel_size=(1, 7), stride=(1, 1), padding=(0, 3), bias=False)\n",
       "        (bn): BatchNorm2d(160, eps=0.001, momentum=0.1, affine=True, track_running_stats=True)\n",
       "      )\n",
       "      (branch7x7dbl_4): BasicConv2d(\n",
       "        (conv): Conv2d(160, 160, kernel_size=(7, 1), stride=(1, 1), padding=(3, 0), bias=False)\n",
       "        (bn): BatchNorm2d(160, eps=0.001, momentum=0.1, affine=True, track_running_stats=True)\n",
       "      )\n",
       "      (branch7x7dbl_5): BasicConv2d(\n",
       "        (conv): Conv2d(160, 192, kernel_size=(1, 7), stride=(1, 1), padding=(0, 3), bias=False)\n",
       "        (bn): BatchNorm2d(192, eps=0.001, momentum=0.1, affine=True, track_running_stats=True)\n",
       "      )\n",
       "      (branch_pool): BasicConv2d(\n",
       "        (conv): Conv2d(768, 192, kernel_size=(1, 1), stride=(1, 1), bias=False)\n",
       "        (bn): BatchNorm2d(192, eps=0.001, momentum=0.1, affine=True, track_running_stats=True)\n",
       "      )\n",
       "    )\n",
       "    (Mixed_6e): InceptionC(\n",
       "      (branch1x1): BasicConv2d(\n",
       "        (conv): Conv2d(768, 192, kernel_size=(1, 1), stride=(1, 1), bias=False)\n",
       "        (bn): BatchNorm2d(192, eps=0.001, momentum=0.1, affine=True, track_running_stats=True)\n",
       "      )\n",
       "      (branch7x7_1): BasicConv2d(\n",
       "        (conv): Conv2d(768, 192, kernel_size=(1, 1), stride=(1, 1), bias=False)\n",
       "        (bn): BatchNorm2d(192, eps=0.001, momentum=0.1, affine=True, track_running_stats=True)\n",
       "      )\n",
       "      (branch7x7_2): BasicConv2d(\n",
       "        (conv): Conv2d(192, 192, kernel_size=(1, 7), stride=(1, 1), padding=(0, 3), bias=False)\n",
       "        (bn): BatchNorm2d(192, eps=0.001, momentum=0.1, affine=True, track_running_stats=True)\n",
       "      )\n",
       "      (branch7x7_3): BasicConv2d(\n",
       "        (conv): Conv2d(192, 192, kernel_size=(7, 1), stride=(1, 1), padding=(3, 0), bias=False)\n",
       "        (bn): BatchNorm2d(192, eps=0.001, momentum=0.1, affine=True, track_running_stats=True)\n",
       "      )\n",
       "      (branch7x7dbl_1): BasicConv2d(\n",
       "        (conv): Conv2d(768, 192, kernel_size=(1, 1), stride=(1, 1), bias=False)\n",
       "        (bn): BatchNorm2d(192, eps=0.001, momentum=0.1, affine=True, track_running_stats=True)\n",
       "      )\n",
       "      (branch7x7dbl_2): BasicConv2d(\n",
       "        (conv): Conv2d(192, 192, kernel_size=(7, 1), stride=(1, 1), padding=(3, 0), bias=False)\n",
       "        (bn): BatchNorm2d(192, eps=0.001, momentum=0.1, affine=True, track_running_stats=True)\n",
       "      )\n",
       "      (branch7x7dbl_3): BasicConv2d(\n",
       "        (conv): Conv2d(192, 192, kernel_size=(1, 7), stride=(1, 1), padding=(0, 3), bias=False)\n",
       "        (bn): BatchNorm2d(192, eps=0.001, momentum=0.1, affine=True, track_running_stats=True)\n",
       "      )\n",
       "      (branch7x7dbl_4): BasicConv2d(\n",
       "        (conv): Conv2d(192, 192, kernel_size=(7, 1), stride=(1, 1), padding=(3, 0), bias=False)\n",
       "        (bn): BatchNorm2d(192, eps=0.001, momentum=0.1, affine=True, track_running_stats=True)\n",
       "      )\n",
       "      (branch7x7dbl_5): BasicConv2d(\n",
       "        (conv): Conv2d(192, 192, kernel_size=(1, 7), stride=(1, 1), padding=(0, 3), bias=False)\n",
       "        (bn): BatchNorm2d(192, eps=0.001, momentum=0.1, affine=True, track_running_stats=True)\n",
       "      )\n",
       "      (branch_pool): BasicConv2d(\n",
       "        (conv): Conv2d(768, 192, kernel_size=(1, 1), stride=(1, 1), bias=False)\n",
       "        (bn): BatchNorm2d(192, eps=0.001, momentum=0.1, affine=True, track_running_stats=True)\n",
       "      )\n",
       "    )\n",
       "    (AuxLogits): InceptionAux(\n",
       "      (conv0): BasicConv2d(\n",
       "        (conv): Conv2d(768, 128, kernel_size=(1, 1), stride=(1, 1), bias=False)\n",
       "        (bn): BatchNorm2d(128, eps=0.001, momentum=0.1, affine=True, track_running_stats=True)\n",
       "      )\n",
       "      (conv1): BasicConv2d(\n",
       "        (conv): Conv2d(128, 768, kernel_size=(5, 5), stride=(1, 1), bias=False)\n",
       "        (bn): BatchNorm2d(768, eps=0.001, momentum=0.1, affine=True, track_running_stats=True)\n",
       "      )\n",
       "      (fc): Linear(in_features=768, out_features=1000, bias=True)\n",
       "    )\n",
       "    (Mixed_7a): InceptionD(\n",
       "      (branch3x3_1): BasicConv2d(\n",
       "        (conv): Conv2d(768, 192, kernel_size=(1, 1), stride=(1, 1), bias=False)\n",
       "        (bn): BatchNorm2d(192, eps=0.001, momentum=0.1, affine=True, track_running_stats=True)\n",
       "      )\n",
       "      (branch3x3_2): BasicConv2d(\n",
       "        (conv): Conv2d(192, 320, kernel_size=(3, 3), stride=(2, 2), bias=False)\n",
       "        (bn): BatchNorm2d(320, eps=0.001, momentum=0.1, affine=True, track_running_stats=True)\n",
       "      )\n",
       "      (branch7x7x3_1): BasicConv2d(\n",
       "        (conv): Conv2d(768, 192, kernel_size=(1, 1), stride=(1, 1), bias=False)\n",
       "        (bn): BatchNorm2d(192, eps=0.001, momentum=0.1, affine=True, track_running_stats=True)\n",
       "      )\n",
       "      (branch7x7x3_2): BasicConv2d(\n",
       "        (conv): Conv2d(192, 192, kernel_size=(1, 7), stride=(1, 1), padding=(0, 3), bias=False)\n",
       "        (bn): BatchNorm2d(192, eps=0.001, momentum=0.1, affine=True, track_running_stats=True)\n",
       "      )\n",
       "      (branch7x7x3_3): BasicConv2d(\n",
       "        (conv): Conv2d(192, 192, kernel_size=(7, 1), stride=(1, 1), padding=(3, 0), bias=False)\n",
       "        (bn): BatchNorm2d(192, eps=0.001, momentum=0.1, affine=True, track_running_stats=True)\n",
       "      )\n",
       "      (branch7x7x3_4): BasicConv2d(\n",
       "        (conv): Conv2d(192, 192, kernel_size=(3, 3), stride=(2, 2), bias=False)\n",
       "        (bn): BatchNorm2d(192, eps=0.001, momentum=0.1, affine=True, track_running_stats=True)\n",
       "      )\n",
       "    )\n",
       "    (Mixed_7b): InceptionE(\n",
       "      (branch1x1): BasicConv2d(\n",
       "        (conv): Conv2d(1280, 320, kernel_size=(1, 1), stride=(1, 1), bias=False)\n",
       "        (bn): BatchNorm2d(320, eps=0.001, momentum=0.1, affine=True, track_running_stats=True)\n",
       "      )\n",
       "      (branch3x3_1): BasicConv2d(\n",
       "        (conv): Conv2d(1280, 384, kernel_size=(1, 1), stride=(1, 1), bias=False)\n",
       "        (bn): BatchNorm2d(384, eps=0.001, momentum=0.1, affine=True, track_running_stats=True)\n",
       "      )\n",
       "      (branch3x3_2a): BasicConv2d(\n",
       "        (conv): Conv2d(384, 384, kernel_size=(1, 3), stride=(1, 1), padding=(0, 1), bias=False)\n",
       "        (bn): BatchNorm2d(384, eps=0.001, momentum=0.1, affine=True, track_running_stats=True)\n",
       "      )\n",
       "      (branch3x3_2b): BasicConv2d(\n",
       "        (conv): Conv2d(384, 384, kernel_size=(3, 1), stride=(1, 1), padding=(1, 0), bias=False)\n",
       "        (bn): BatchNorm2d(384, eps=0.001, momentum=0.1, affine=True, track_running_stats=True)\n",
       "      )\n",
       "      (branch3x3dbl_1): BasicConv2d(\n",
       "        (conv): Conv2d(1280, 448, kernel_size=(1, 1), stride=(1, 1), bias=False)\n",
       "        (bn): BatchNorm2d(448, eps=0.001, momentum=0.1, affine=True, track_running_stats=True)\n",
       "      )\n",
       "      (branch3x3dbl_2): BasicConv2d(\n",
       "        (conv): Conv2d(448, 384, kernel_size=(3, 3), stride=(1, 1), padding=(1, 1), bias=False)\n",
       "        (bn): BatchNorm2d(384, eps=0.001, momentum=0.1, affine=True, track_running_stats=True)\n",
       "      )\n",
       "      (branch3x3dbl_3a): BasicConv2d(\n",
       "        (conv): Conv2d(384, 384, kernel_size=(1, 3), stride=(1, 1), padding=(0, 1), bias=False)\n",
       "        (bn): BatchNorm2d(384, eps=0.001, momentum=0.1, affine=True, track_running_stats=True)\n",
       "      )\n",
       "      (branch3x3dbl_3b): BasicConv2d(\n",
       "        (conv): Conv2d(384, 384, kernel_size=(3, 1), stride=(1, 1), padding=(1, 0), bias=False)\n",
       "        (bn): BatchNorm2d(384, eps=0.001, momentum=0.1, affine=True, track_running_stats=True)\n",
       "      )\n",
       "      (branch_pool): BasicConv2d(\n",
       "        (conv): Conv2d(1280, 192, kernel_size=(1, 1), stride=(1, 1), bias=False)\n",
       "        (bn): BatchNorm2d(192, eps=0.001, momentum=0.1, affine=True, track_running_stats=True)\n",
       "      )\n",
       "    )\n",
       "    (Mixed_7c): InceptionE(\n",
       "      (branch1x1): BasicConv2d(\n",
       "        (conv): Conv2d(2048, 320, kernel_size=(1, 1), stride=(1, 1), bias=False)\n",
       "        (bn): BatchNorm2d(320, eps=0.001, momentum=0.1, affine=True, track_running_stats=True)\n",
       "      )\n",
       "      (branch3x3_1): BasicConv2d(\n",
       "        (conv): Conv2d(2048, 384, kernel_size=(1, 1), stride=(1, 1), bias=False)\n",
       "        (bn): BatchNorm2d(384, eps=0.001, momentum=0.1, affine=True, track_running_stats=True)\n",
       "      )\n",
       "      (branch3x3_2a): BasicConv2d(\n",
       "        (conv): Conv2d(384, 384, kernel_size=(1, 3), stride=(1, 1), padding=(0, 1), bias=False)\n",
       "        (bn): BatchNorm2d(384, eps=0.001, momentum=0.1, affine=True, track_running_stats=True)\n",
       "      )\n",
       "      (branch3x3_2b): BasicConv2d(\n",
       "        (conv): Conv2d(384, 384, kernel_size=(3, 1), stride=(1, 1), padding=(1, 0), bias=False)\n",
       "        (bn): BatchNorm2d(384, eps=0.001, momentum=0.1, affine=True, track_running_stats=True)\n",
       "      )\n",
       "      (branch3x3dbl_1): BasicConv2d(\n",
       "        (conv): Conv2d(2048, 448, kernel_size=(1, 1), stride=(1, 1), bias=False)\n",
       "        (bn): BatchNorm2d(448, eps=0.001, momentum=0.1, affine=True, track_running_stats=True)\n",
       "      )\n",
       "      (branch3x3dbl_2): BasicConv2d(\n",
       "        (conv): Conv2d(448, 384, kernel_size=(3, 3), stride=(1, 1), padding=(1, 1), bias=False)\n",
       "        (bn): BatchNorm2d(384, eps=0.001, momentum=0.1, affine=True, track_running_stats=True)\n",
       "      )\n",
       "      (branch3x3dbl_3a): BasicConv2d(\n",
       "        (conv): Conv2d(384, 384, kernel_size=(1, 3), stride=(1, 1), padding=(0, 1), bias=False)\n",
       "        (bn): BatchNorm2d(384, eps=0.001, momentum=0.1, affine=True, track_running_stats=True)\n",
       "      )\n",
       "      (branch3x3dbl_3b): BasicConv2d(\n",
       "        (conv): Conv2d(384, 384, kernel_size=(3, 1), stride=(1, 1), padding=(1, 0), bias=False)\n",
       "        (bn): BatchNorm2d(384, eps=0.001, momentum=0.1, affine=True, track_running_stats=True)\n",
       "      )\n",
       "      (branch_pool): BasicConv2d(\n",
       "        (conv): Conv2d(2048, 192, kernel_size=(1, 1), stride=(1, 1), bias=False)\n",
       "        (bn): BatchNorm2d(192, eps=0.001, momentum=0.1, affine=True, track_running_stats=True)\n",
       "      )\n",
       "    )\n",
       "    (avgpool): AdaptiveAvgPool2d(output_size=(1, 1))\n",
       "    (dropout): Dropout(p=0.5, inplace=False)\n",
       "    (fc): Linear(in_features=2048, out_features=1000, bias=True)\n",
       "  )\n",
       ")"
      ]
     },
     "execution_count": 11,
     "metadata": {},
     "output_type": "execute_result"
    }
   ],
   "source": [
    "kaggle_checkpoint_path = '/kaggle/input/xai-pretrained-blackbox'\n",
    "colab_checkpoint_path = '/content/datasets/'\n",
    "checkpoint = torch.load(f'{kaggle_checkpoint_path if use_kaggle else colab_checkpoint_path}/inception_cp.pth')\n",
    "blackbox = models.inception_v3()\n",
    "blackbox.load_state_dict(checkpoint)\n",
    "for parameter in blackbox.parameters():\n",
    "    parameter.requires_grad = False\n",
    "blackbox = torch.nn.DataParallel(blackbox.cuda())\n",
    "blackbox.eval().to(device)"
   ]
  },
  {
   "cell_type": "code",
   "execution_count": 12,
   "id": "7194b145",
   "metadata": {
    "execution": {
     "iopub.execute_input": "2023-06-11T08:53:13.599175Z",
     "iopub.status.busy": "2023-06-11T08:53:13.598283Z",
     "iopub.status.idle": "2023-06-11T08:53:13.606182Z",
     "shell.execute_reply": "2023-06-11T08:53:13.605259Z"
    },
    "id": "w_pjUBZHM9Yf",
    "papermill": {
     "duration": 0.111515,
     "end_time": "2023-06-11T08:53:13.608110",
     "exception": false,
     "start_time": "2023-06-11T08:53:13.496595",
     "status": "completed"
    },
    "tags": []
   },
   "outputs": [],
   "source": [
    "sl = Saliency(blackbox)\n",
    "guided_gc = GuidedGradCam(blackbox, blackbox.module.Mixed_7c)\n",
    "gbp = GuidedBackprop(blackbox)\n",
    "lrp = LRP(blackbox)\n",
    "dls = DeepLiftShap(blackbox)\n",
    "dl = DeepLift(blackbox)\n",
    "gs = GradientShap(blackbox)\n",
    "ig = IntegratedGradients(blackbox)\n",
    "ablator = FeatureAblation(blackbox)\n",
    "occlusion = Occlusion(blackbox)\n",
    "smoothgrad = NoiseTunnel(ig)"
   ]
  },
  {
   "cell_type": "markdown",
   "id": "6687c420",
   "metadata": {
    "id": "8vgOkvGgyCRy",
    "papermill": {
     "duration": 0.101333,
     "end_time": "2023-06-11T08:53:13.809592",
     "exception": false,
     "start_time": "2023-06-11T08:53:13.708259",
     "status": "completed"
    },
    "tags": []
   },
   "source": [
    "# Generate Explainations"
   ]
  },
  {
   "cell_type": "code",
   "execution_count": 13,
   "id": "2810e54a",
   "metadata": {
    "execution": {
     "iopub.execute_input": "2023-06-11T08:53:14.061326Z",
     "iopub.status.busy": "2023-06-11T08:53:14.060970Z",
     "iopub.status.idle": "2023-06-11T08:53:14.069394Z",
     "shell.execute_reply": "2023-06-11T08:53:14.068285Z"
    },
    "id": "hQ8hQhIoOwGo",
    "outputId": "bc981983-0b8f-45f6-c1c7-8e5b098d33a9",
    "papermill": {
     "duration": 0.112261,
     "end_time": "2023-06-11T08:53:14.071552",
     "exception": false,
     "start_time": "2023-06-11T08:53:13.959291",
     "status": "completed"
    },
    "tags": []
   },
   "outputs": [
    {
     "data": {
      "text/plain": [
       "torch.Size([1, 3, 128, 128])"
      ]
     },
     "execution_count": 13,
     "metadata": {},
     "output_type": "execute_result"
    }
   ],
   "source": [
    "rand_img_dist = torch.rand((1, 3, 128, 128)).to(device)\n",
    "rand_img_dist.shape"
   ]
  },
  {
   "cell_type": "code",
   "execution_count": 14,
   "id": "77e83452",
   "metadata": {
    "execution": {
     "iopub.execute_input": "2023-06-11T08:53:14.272806Z",
     "iopub.status.busy": "2023-06-11T08:53:14.272520Z",
     "iopub.status.idle": "2023-06-11T08:53:14.276757Z",
     "shell.execute_reply": "2023-06-11T08:53:14.275895Z"
    },
    "id": "-JOP1plyU4uV",
    "papermill": {
     "duration": 0.10733,
     "end_time": "2023-06-11T08:53:14.278785",
     "exception": false,
     "start_time": "2023-06-11T08:53:14.171455",
     "status": "completed"
    },
    "tags": []
   },
   "outputs": [],
   "source": [
    "dataset_labels = { 0: 'normal', 1: 'Pneumothorax' }"
   ]
  },
  {
   "cell_type": "code",
   "execution_count": 15,
   "id": "e439a440",
   "metadata": {
    "execution": {
     "iopub.execute_input": "2023-06-11T08:53:14.481378Z",
     "iopub.status.busy": "2023-06-11T08:53:14.481074Z",
     "iopub.status.idle": "2023-06-11T08:53:14.487790Z",
     "shell.execute_reply": "2023-06-11T08:53:14.486922Z"
    },
    "id": "5CQamOeyeSlE",
    "papermill": {
     "duration": 0.110857,
     "end_time": "2023-06-11T08:53:14.489793",
     "exception": false,
     "start_time": "2023-06-11T08:53:14.378936",
     "status": "completed"
    },
    "tags": []
   },
   "outputs": [],
   "source": [
    "xai_methods = {\n",
    "  \"Saliency\": { \"method\": sl , \"options\": {}},\n",
    "  \"GuidedGradCam\": { \"method\": guided_gc, \"options\": {'interpolate_mode': 'area'}},\n",
    "  \"GuidedBackprop\": { \"method\": gbp, \"options\": {}},\n",
    "  \"LRP\": { \"method\": lrp, \"options\": {}},\n",
    "  # \"DeepLiftShap\": { \"method\": dls, \"options\": {}},\n",
    "  # \"DeepLift\": { \"method\": dl, \"options\": {}},\n",
    "  \"GradientShap\": { \"method\": gs, \"options\": { 'n_samples': 16, 'stdevs': 0.0001, 'baselines': rand_img_dist }},\n",
    "  \"IntegratedGradients\": { \"method\": ig, \"options\": { 'n_steps' : 100, 'internal_batch_size': 1 }, 'baselines': rand_img_dist },\n",
    "  # \"FeatureAblation\": { \"method\": ablator, \"options\": {}},\n",
    "  \"Occlusion\": { \"method\": occlusion, \"options\": { 'sliding_window_shapes': (3,8, 8), 'strides': (3, 4, 4)}},\n",
    "  \"SmoothGrad\": {\"method\": smoothgrad, \"options\": {\"nt_type\": \"smoothgrad\"}}\n",
    "}"
   ]
  },
  {
   "cell_type": "code",
   "execution_count": 16,
   "id": "436c80ff",
   "metadata": {
    "execution": {
     "iopub.execute_input": "2023-06-11T08:53:14.692617Z",
     "iopub.status.busy": "2023-06-11T08:53:14.692302Z",
     "iopub.status.idle": "2023-06-11T08:53:14.698060Z",
     "shell.execute_reply": "2023-06-11T08:53:14.697109Z"
    },
    "id": "g7ERRRRjgM-t",
    "papermill": {
     "duration": 0.109691,
     "end_time": "2023-06-11T08:53:14.700040",
     "exception": false,
     "start_time": "2023-06-11T08:53:14.590349",
     "status": "completed"
    },
    "tags": []
   },
   "outputs": [],
   "source": [
    "def compute_mean_disagreement(output1, output2, metric):\n",
    "    metrics = []\n",
    "    with torch.no_grad():\n",
    "        for o1, o2 in zip(output1, output2):\n",
    "            filtered1 = o1.cpu().numpy()\n",
    "            filtered2 = o2.cpu().numpy()\n",
    "            metrics.append(metric(filtered1, filtered2))\n",
    "    return np.array(metrics).mean()"
   ]
  },
  {
   "cell_type": "code",
   "execution_count": 17,
   "id": "59139b7b",
   "metadata": {
    "execution": {
     "iopub.execute_input": "2023-06-11T08:53:14.903284Z",
     "iopub.status.busy": "2023-06-11T08:53:14.902699Z",
     "iopub.status.idle": "2023-06-11T08:53:14.913503Z",
     "shell.execute_reply": "2023-06-11T08:53:14.912586Z"
    },
    "id": "jTCFWTPxHqcK",
    "papermill": {
     "duration": 0.115224,
     "end_time": "2023-06-11T08:53:14.915545",
     "exception": false,
     "start_time": "2023-06-11T08:53:14.800321",
     "status": "completed"
    },
    "tags": []
   },
   "outputs": [],
   "source": [
    "from tqdm import tqdm\n",
    "import gc\n",
    "\n",
    "def visualize_explain_of(xai_methods, x, mask, y, blackbox):\n",
    "  with torch.no_grad():\n",
    "    output = torch.nn.functional.softmax(blackbox(x), dim=1)\n",
    "    _, indices = torch.topk(output, k=1, dim = 1)\n",
    "  indices = torch.flatten(indices)\n",
    "  num_methods = len(xai_methods.items())\n",
    "  for idx, img in tqdm(enumerate(x)):\n",
    "    target = indices[idx]\n",
    "    if target.item() == 0:\n",
    "      continue\n",
    "    fig, axes = plt.subplots(1, num_methods + 1, figsize = (48, 6))\n",
    "    axes[0].imshow(np.transpose(mask[idx].detach().numpy(), (1, 2, 0)))\n",
    "    for method_idx, (method_name, parameters) in enumerate(xai_methods.items()):\n",
    "      attributions = parameters[\"method\"].attribute(img.unsqueeze(0), target=target, **parameters[\"options\"])\n",
    "      # Convert the compute attribution tensor into an image-like numpy array\n",
    "      attribution = np.transpose(attributions.squeeze().cpu().detach().numpy(), (1,2,0))\n",
    "      visualize_image_attr(attribution, np.transpose(img.cpu().detach().numpy(), (1, 2,0)), \"blended_heat_map\", sign=\"positive\", title=method_name, use_pyplot=False, plt_fig_axis=(fig, axes[1 + method_idx]))\n",
    "      torch.cuda.empty_cache()\n",
    "      gc.collect()\n",
    "    plt.show()"
   ]
  },
  {
   "cell_type": "code",
   "execution_count": 18,
   "id": "52aa895c",
   "metadata": {
    "execution": {
     "iopub.execute_input": "2023-06-11T08:53:15.125279Z",
     "iopub.status.busy": "2023-06-11T08:53:15.124729Z",
     "iopub.status.idle": "2023-06-11T08:53:15.129562Z",
     "shell.execute_reply": "2023-06-11T08:53:15.128446Z"
    },
    "id": "XaD19sOKV-XZ",
    "outputId": "11622c5b-b9e6-4680-e88a-5e28045d0032",
    "papermill": {
     "duration": 0.112102,
     "end_time": "2023-06-11T08:53:15.132236",
     "exception": false,
     "start_time": "2023-06-11T08:53:15.020134",
     "status": "completed"
    },
    "tags": []
   },
   "outputs": [],
   "source": [
    "# visualize_explain_of(xai_methods, x.to(device), mask, y, blackbox)"
   ]
  },
  {
   "cell_type": "markdown",
   "id": "7d12162a",
   "metadata": {
    "id": "eZudcBlGD0so",
    "papermill": {
     "duration": 0.10258,
     "end_time": "2023-06-11T08:53:15.336297",
     "exception": false,
     "start_time": "2023-06-11T08:53:15.233717",
     "status": "completed"
    },
    "tags": []
   },
   "source": [
    "# Experiments"
   ]
  },
  {
   "cell_type": "markdown",
   "id": "6b222edb",
   "metadata": {
    "papermill": {
     "duration": 0.102585,
     "end_time": "2023-06-11T08:53:15.542719",
     "exception": false,
     "start_time": "2023-06-11T08:53:15.440134",
     "status": "completed"
    },
    "tags": []
   },
   "source": [
    "## Utility functions"
   ]
  },
  {
   "cell_type": "code",
   "execution_count": 19,
   "id": "93b6ae44",
   "metadata": {
    "execution": {
     "iopub.execute_input": "2023-06-11T08:53:15.745827Z",
     "iopub.status.busy": "2023-06-11T08:53:15.744821Z",
     "iopub.status.idle": "2023-06-11T08:53:15.750952Z",
     "shell.execute_reply": "2023-06-11T08:53:15.750001Z"
    },
    "id": "VUwIbTzPEA4y",
    "papermill": {
     "duration": 0.10953,
     "end_time": "2023-06-11T08:53:15.753016",
     "exception": false,
     "start_time": "2023-06-11T08:53:15.643486",
     "status": "completed"
    },
    "tags": []
   },
   "outputs": [],
   "source": [
    "def get_explanation(xai_config, batch, targets):\n",
    "    \"\"\"Return the explanation of an XAI model for an input batch\n",
    "    \"\"\"\n",
    "    xai_model = xai_config['method']\n",
    "    options = xai_config['options']\n",
    "    attribution = xai_model.attribute(batch, target=targets, **options)\n",
    "    return attribution.mean(dim=1)"
   ]
  },
  {
   "cell_type": "code",
   "execution_count": 20,
   "id": "3fc0e6d7",
   "metadata": {
    "execution": {
     "iopub.execute_input": "2023-06-11T08:53:15.957494Z",
     "iopub.status.busy": "2023-06-11T08:53:15.957132Z",
     "iopub.status.idle": "2023-06-11T08:53:15.962303Z",
     "shell.execute_reply": "2023-06-11T08:53:15.961297Z"
    },
    "id": "PIGlN7X9H5Aw",
    "papermill": {
     "duration": 0.11005,
     "end_time": "2023-06-11T08:53:15.964293",
     "exception": false,
     "start_time": "2023-06-11T08:53:15.854243",
     "status": "completed"
    },
    "tags": []
   },
   "outputs": [],
   "source": [
    "def normalize(x):\n",
    "    t = (x - np.min(x)) / (np.max(x) - np.min(x))\n",
    "    return t"
   ]
  },
  {
   "cell_type": "code",
   "execution_count": 21,
   "id": "dcaaae3d",
   "metadata": {
    "execution": {
     "iopub.execute_input": "2023-06-11T08:53:16.168200Z",
     "iopub.status.busy": "2023-06-11T08:53:16.167574Z",
     "iopub.status.idle": "2023-06-11T08:53:16.172897Z",
     "shell.execute_reply": "2023-06-11T08:53:16.172012Z"
    },
    "papermill": {
     "duration": 0.108224,
     "end_time": "2023-06-11T08:53:16.174715",
     "exception": false,
     "start_time": "2023-06-11T08:53:16.066491",
     "status": "completed"
    },
    "tags": []
   },
   "outputs": [],
   "source": [
    "def normalize_sum_to_one(x):\n",
    "    norm = normalize(x)\n",
    "    return norm / norm.sum()"
   ]
  },
  {
   "cell_type": "code",
   "execution_count": 22,
   "id": "6ecaba7d",
   "metadata": {
    "execution": {
     "iopub.execute_input": "2023-06-11T08:53:16.376392Z",
     "iopub.status.busy": "2023-06-11T08:53:16.375734Z",
     "iopub.status.idle": "2023-06-11T08:53:16.381223Z",
     "shell.execute_reply": "2023-06-11T08:53:16.380318Z"
    },
    "papermill": {
     "duration": 0.108273,
     "end_time": "2023-06-11T08:53:16.383235",
     "exception": false,
     "start_time": "2023-06-11T08:53:16.274962",
     "status": "completed"
    },
    "tags": []
   },
   "outputs": [],
   "source": [
    "def compute_mean_disagreement(exp1, exp2, metric):\n",
    "    metrics = []\n",
    "    for e1, e2 in zip(exp1, exp2):\n",
    "        metrics.append(metric(e1.cpu().numpy(), e2.cpu().numpy()))\n",
    "    return np.array(metrics).mean()"
   ]
  },
  {
   "cell_type": "code",
   "execution_count": 23,
   "id": "15476463",
   "metadata": {
    "execution": {
     "iopub.execute_input": "2023-06-11T08:53:16.588888Z",
     "iopub.status.busy": "2023-06-11T08:53:16.588261Z",
     "iopub.status.idle": "2023-06-11T08:53:16.596565Z",
     "shell.execute_reply": "2023-06-11T08:53:16.595687Z"
    },
    "id": "93Yjqi24zCns",
    "papermill": {
     "duration": 0.112371,
     "end_time": "2023-06-11T08:53:16.598574",
     "exception": false,
     "start_time": "2023-06-11T08:53:16.486203",
     "status": "completed"
    },
    "tags": []
   },
   "outputs": [],
   "source": [
    "# Obsolete\n",
    "def compute_disagreement_heatmap(list_methods, batch, blackbox, metric):\n",
    "    size = len(list_methods)\n",
    "    result = np.empty((size, size))\n",
    "    with torch.no_grad():\n",
    "        output = torch.nn.functional.softmax(blackbox(batch), dim=1)\n",
    "        _, indices = torch.topk(output, k=1, dim = 1)\n",
    "    indices = torch.flatten(indices)\n",
    "\n",
    "    attributions = []\n",
    "    for method in list_methods:\n",
    "        explanation = get_explanation(method, batch.to(device), indices.to(device))\n",
    "        gc.collect()\n",
    "        torch.cuda.empty_cache()\n",
    "        attributions.append(explanation)\n",
    "\n",
    "    for j in range(size):\n",
    "        for i in range(size):\n",
    "            if i >= j:\n",
    "                result[i, j] = compute_mean_disagreement(attributions[i], attributions[j], metric)\n",
    "            else:\n",
    "                result[i, j] = result[j, i]\n",
    "    return result"
   ]
  },
  {
   "cell_type": "markdown",
   "id": "0e824fe5",
   "metadata": {
    "papermill": {
     "duration": 0.100221,
     "end_time": "2023-06-11T08:53:16.799541",
     "exception": false,
     "start_time": "2023-06-11T08:53:16.699320",
     "status": "completed"
    },
    "tags": []
   },
   "source": [
    "## Defining Metrics"
   ]
  },
  {
   "cell_type": "markdown",
   "id": "b6633cc4",
   "metadata": {
    "papermill": {
     "duration": 0.108932,
     "end_time": "2023-06-11T08:53:17.008734",
     "exception": false,
     "start_time": "2023-06-11T08:53:16.899802",
     "status": "completed"
    },
    "tags": []
   },
   "source": [
    "### Hellinger distance"
   ]
  },
  {
   "cell_type": "code",
   "execution_count": 24,
   "id": "ef653d2f",
   "metadata": {
    "execution": {
     "iopub.execute_input": "2023-06-11T08:53:17.212018Z",
     "iopub.status.busy": "2023-06-11T08:53:17.211629Z",
     "iopub.status.idle": "2023-06-11T08:53:17.216801Z",
     "shell.execute_reply": "2023-06-11T08:53:17.215922Z"
    },
    "id": "gt4pNbEvlS0C",
    "papermill": {
     "duration": 0.110124,
     "end_time": "2023-06-11T08:53:17.218819",
     "exception": false,
     "start_time": "2023-06-11T08:53:17.108695",
     "status": "completed"
    },
    "tags": []
   },
   "outputs": [],
   "source": [
    "def hellinger_distance(x, y):\n",
    "    return 1 / np.sqrt(2) * np.sqrt(np.sum((np.sqrt(normalize_sum_to_one(x)) - np.sqrt(normalize_sum_to_one(y))) ** 2))"
   ]
  },
  {
   "cell_type": "markdown",
   "id": "47275ead",
   "metadata": {
    "papermill": {
     "duration": 0.100684,
     "end_time": "2023-06-11T08:53:17.419777",
     "exception": false,
     "start_time": "2023-06-11T08:53:17.319093",
     "status": "completed"
    },
    "tags": []
   },
   "source": [
    "### Metrics from the paper _The Disagreement Problem in Explainable Machine Learning_"
   ]
  },
  {
   "cell_type": "code",
   "execution_count": 25,
   "id": "cadea644",
   "metadata": {
    "execution": {
     "iopub.execute_input": "2023-06-11T08:53:17.622817Z",
     "iopub.status.busy": "2023-06-11T08:53:17.621790Z",
     "iopub.status.idle": "2023-06-11T08:53:17.628506Z",
     "shell.execute_reply": "2023-06-11T08:53:17.627624Z"
    },
    "papermill": {
     "duration": 0.109959,
     "end_time": "2023-06-11T08:53:17.630391",
     "exception": false,
     "start_time": "2023-06-11T08:53:17.520432",
     "status": "completed"
    },
    "tags": []
   },
   "outputs": [],
   "source": [
    "def feature_agreement(x, y, k=1638):\n",
    "    _, i1 = torch.topk(torch.Tensor(x).flatten().abs(), k)\n",
    "    _, i2 = torch.topk(torch.Tensor(y).flatten().abs(), k)\n",
    "    i1 = set(torch.unique(i1).tolist())\n",
    "    i2 = set(torch.unique(i2).tolist())\n",
    "    intersect = len(i1.intersection(i2))\n",
    "    return 1.0 * intersect / k"
   ]
  },
  {
   "cell_type": "code",
   "execution_count": 26,
   "id": "963bfb66",
   "metadata": {
    "execution": {
     "iopub.execute_input": "2023-06-11T08:53:17.840826Z",
     "iopub.status.busy": "2023-06-11T08:53:17.840490Z",
     "iopub.status.idle": "2023-06-11T08:53:17.846781Z",
     "shell.execute_reply": "2023-06-11T08:53:17.845931Z"
    },
    "papermill": {
     "duration": 0.11026,
     "end_time": "2023-06-11T08:53:17.848837",
     "exception": false,
     "start_time": "2023-06-11T08:53:17.738577",
     "status": "completed"
    },
    "tags": []
   },
   "outputs": [],
   "source": [
    "def sign_agreement(x, y, k=1638):\n",
    "    x_flatten = x.flatten()\n",
    "    y_flatten = y.flatten()\n",
    "    x_topk = np.argpartition(np.absolute(x_flatten), -k)[-k:]\n",
    "    y_topk = np.argpartition(np.absolute(y_flatten), -k)[-k:]\n",
    "    \n",
    "    intersect = np.intersect1d(x_topk, y_topk)\n",
    "    same_sign = np.asarray(list(map(lambda ind: x_flatten[ind] * y_flatten[ind] > 0, intersect)))\n",
    "    return same_sign.sum() * 1.0 / k"
   ]
  },
  {
   "cell_type": "markdown",
   "id": "ad9079ca",
   "metadata": {
    "papermill": {
     "duration": 0.101875,
     "end_time": "2023-06-11T08:53:18.050253",
     "exception": false,
     "start_time": "2023-06-11T08:53:17.948378",
     "status": "completed"
    },
    "tags": []
   },
   "source": [
    "### IoU"
   ]
  },
  {
   "cell_type": "code",
   "execution_count": 27,
   "id": "fedadcf4",
   "metadata": {
    "execution": {
     "iopub.execute_input": "2023-06-11T08:53:18.251367Z",
     "iopub.status.busy": "2023-06-11T08:53:18.251037Z",
     "iopub.status.idle": "2023-06-11T08:53:18.256794Z",
     "shell.execute_reply": "2023-06-11T08:53:18.255559Z"
    },
    "papermill": {
     "duration": 0.108917,
     "end_time": "2023-06-11T08:53:18.258961",
     "exception": false,
     "start_time": "2023-06-11T08:53:18.150044",
     "status": "completed"
    },
    "tags": []
   },
   "outputs": [],
   "source": [
    "def iou(x, y, threshold = 0.25):\n",
    "    x_bin = x > threshold\n",
    "    y_bin = y > threshold\n",
    "    intersection = x_bin * y_bin\n",
    "    union = x_bin + y_bin\n",
    "    return 0 if union.sum() == 0 else intersection.sum() / float(union.sum())"
   ]
  },
  {
   "cell_type": "code",
   "execution_count": 28,
   "id": "4232c425",
   "metadata": {
    "execution": {
     "iopub.execute_input": "2023-06-11T08:53:18.463333Z",
     "iopub.status.busy": "2023-06-11T08:53:18.462657Z",
     "iopub.status.idle": "2023-06-11T08:53:18.468173Z",
     "shell.execute_reply": "2023-06-11T08:53:18.467267Z"
    },
    "papermill": {
     "duration": 0.110716,
     "end_time": "2023-06-11T08:53:18.470127",
     "exception": false,
     "start_time": "2023-06-11T08:53:18.359411",
     "status": "completed"
    },
    "tags": []
   },
   "outputs": [],
   "source": [
    "def positive_iou(x, y): return iou(x, y, 0)"
   ]
  },
  {
   "cell_type": "markdown",
   "id": "7c4af62f",
   "metadata": {
    "papermill": {
     "duration": 0.107313,
     "end_time": "2023-06-11T08:53:18.679188",
     "exception": false,
     "start_time": "2023-06-11T08:53:18.571875",
     "status": "completed"
    },
    "tags": []
   },
   "source": [
    "### Structural similarity index"
   ]
  },
  {
   "cell_type": "code",
   "execution_count": 29,
   "id": "9c4aa445",
   "metadata": {
    "execution": {
     "iopub.execute_input": "2023-06-11T08:53:18.883506Z",
     "iopub.status.busy": "2023-06-11T08:53:18.883143Z",
     "iopub.status.idle": "2023-06-11T08:53:18.887945Z",
     "shell.execute_reply": "2023-06-11T08:53:18.887064Z"
    },
    "papermill": {
     "duration": 0.108144,
     "end_time": "2023-06-11T08:53:18.889913",
     "exception": false,
     "start_time": "2023-06-11T08:53:18.781769",
     "status": "completed"
    },
    "tags": []
   },
   "outputs": [],
   "source": [
    "def ssim(x, y):\n",
    "    return skimage.metrics.structural_similarity(normalize(x), normalize(y), data_range=1.0)"
   ]
  },
  {
   "cell_type": "markdown",
   "id": "0dca164b",
   "metadata": {
    "id": "Xb-_8N9VIebw",
    "papermill": {
     "duration": 0.099891,
     "end_time": "2023-06-11T08:53:19.093361",
     "exception": false,
     "start_time": "2023-06-11T08:53:18.993470",
     "status": "completed"
    },
    "tags": []
   },
   "source": [
    "## Evaluation"
   ]
  },
  {
   "cell_type": "markdown",
   "id": "66ceac48",
   "metadata": {
    "papermill": {
     "duration": 0.099878,
     "end_time": "2023-06-11T08:53:19.293586",
     "exception": false,
     "start_time": "2023-06-11T08:53:19.193708",
     "status": "completed"
    },
    "tags": []
   },
   "source": [
    "Evaluate the blackbox over the test set."
   ]
  },
  {
   "cell_type": "code",
   "execution_count": 30,
   "id": "cf54692a",
   "metadata": {
    "execution": {
     "iopub.execute_input": "2023-06-11T08:53:19.495173Z",
     "iopub.status.busy": "2023-06-11T08:53:19.494791Z",
     "iopub.status.idle": "2023-06-11T08:54:17.846480Z",
     "shell.execute_reply": "2023-06-11T08:54:17.842009Z"
    },
    "papermill": {
     "duration": 58.556882,
     "end_time": "2023-06-11T08:54:17.950045",
     "exception": false,
     "start_time": "2023-06-11T08:53:19.393163",
     "status": "completed"
    },
    "tags": []
   },
   "outputs": [
    {
     "name": "stdout",
     "output_type": "stream",
     "text": [
      "CPU times: user 13.8 s, sys: 2.67 s, total: 16.5 s\n",
      "Wall time: 58.3 s\n"
     ]
    }
   ],
   "source": [
    "%%time\n",
    "indices = []\n",
    "y_true = []\n",
    "im_masks = []\n",
    "with torch.no_grad():\n",
    "    for data in ds_loader:\n",
    "        batch = data[0]\n",
    "        m = data[1]\n",
    "        y = data[2]\n",
    "        output = torch.nn.functional.softmax(blackbox(batch.to(device)), dim=1)\n",
    "        _, index = torch.topk(output, k=1, dim=1)\n",
    "        \n",
    "        indices.append(index.flatten())\n",
    "        y_true.append(y)\n",
    "        im_masks.append(m)\n",
    "\n",
    "indices = torch.concat(indices)\n",
    "y_true = torch.concat(y_true)\n",
    "im_masks = torch.concat(im_masks)"
   ]
  },
  {
   "cell_type": "markdown",
   "id": "c4e7eeb0",
   "metadata": {
    "papermill": {
     "duration": 0.100914,
     "end_time": "2023-06-11T08:54:18.155157",
     "exception": false,
     "start_time": "2023-06-11T08:54:18.054243",
     "status": "completed"
    },
    "tags": []
   },
   "source": [
    "Assess the blackbox performance. This is the confusion matrix, accuracy and F1-score."
   ]
  },
  {
   "cell_type": "code",
   "execution_count": 31,
   "id": "3e250204",
   "metadata": {
    "execution": {
     "iopub.execute_input": "2023-06-11T08:54:18.402520Z",
     "iopub.status.busy": "2023-06-11T08:54:18.402147Z",
     "iopub.status.idle": "2023-06-11T08:54:18.738271Z",
     "shell.execute_reply": "2023-06-11T08:54:18.736261Z"
    },
    "papermill": {
     "duration": 0.442241,
     "end_time": "2023-06-11T08:54:18.741313",
     "exception": false,
     "start_time": "2023-06-11T08:54:18.299072",
     "status": "completed"
    },
    "tags": []
   },
   "outputs": [
    {
     "name": "stdout",
     "output_type": "stream",
     "text": [
      "Accuracy: 0.6880466472303207\n",
      "F1-score: 0.3162939297124601\n"
     ]
    },
    {
     "data": {
      "image/png": "[encoded data removed]",
      "text/plain": [
       "<Figure size 640x480 with 2 Axes>"
      ]
     },
     "metadata": {},
     "output_type": "display_data"
    }
   ],
   "source": [
    "y_true = np.array(y_true)\n",
    "y_pred = indices.cpu().detach().numpy()\n",
    "\n",
    "# Accuracy\n",
    "print(f'Accuracy: {accuracy_score(y_true, y_pred)}')\n",
    "\n",
    "# F1 score\n",
    "print(f'F1-score: {f1_score(y_true, y_pred)}')\n",
    "\n",
    "# Confusion matrix\n",
    "cm = confusion_matrix(y_true, y_pred, normalize='all')\n",
    "cm_labels = [f'{label}\\n{\"{0:.2f}%\".format(val * 100)}' for label, val in zip(['True negative', 'False positive', 'False negative', 'True positive'], cm.flatten())]\n",
    "cm_labels = np.asarray(cm_labels).reshape(2, 2)\n",
    "sns.heatmap(cm, annot=cm_labels, fmt='', cmap='Blues').set(title='Confusion matrix')\n",
    "plt.show()"
   ]
  },
  {
   "cell_type": "markdown",
   "id": "26c3987d",
   "metadata": {
    "papermill": {
     "duration": 0.101861,
     "end_time": "2023-06-11T08:54:19.003267",
     "exception": false,
     "start_time": "2023-06-11T08:54:18.901406",
     "status": "completed"
    },
    "tags": []
   },
   "source": [
    "## Generating explanations"
   ]
  },
  {
   "cell_type": "markdown",
   "id": "2cb870ee",
   "metadata": {
    "papermill": {
     "duration": 0.101247,
     "end_time": "2023-06-11T08:54:19.206652",
     "exception": false,
     "start_time": "2023-06-11T08:54:19.105405",
     "status": "completed"
    },
    "tags": []
   },
   "source": [
    "Generate explanations for all test examples for each interested methods."
   ]
  },
  {
   "cell_type": "code",
   "execution_count": 32,
   "id": "aee31268",
   "metadata": {
    "execution": {
     "iopub.execute_input": "2023-06-11T08:54:19.415391Z",
     "iopub.status.busy": "2023-06-11T08:54:19.415015Z",
     "iopub.status.idle": "2023-06-11T08:54:19.422536Z",
     "shell.execute_reply": "2023-06-11T08:54:19.421624Z"
    },
    "papermill": {
     "duration": 0.113862,
     "end_time": "2023-06-11T08:54:19.424467",
     "exception": false,
     "start_time": "2023-06-11T08:54:19.310605",
     "status": "completed"
    },
    "tags": []
   },
   "outputs": [],
   "source": [
    "def get_explanations(xai_methods_dict, methods, ds_loader, indices, gpu_device):\n",
    "    explanations = {}\n",
    "    indices = indices.to(gpu_device)\n",
    "    \n",
    "    for method in methods:\n",
    "        explanations[method] = []\n",
    "\n",
    "    for method in methods:\n",
    "        for i, data in enumerate(ds_loader):\n",
    "            batch = data[0]\n",
    "            explanation = get_explanation(xai_methods_dict[method], batch.to(gpu_device), indices[i])\n",
    "            explanation = explanation.cpu().detach()\n",
    "            explanations[method].append(explanation)\n",
    "    \n",
    "    return explanations"
   ]
  },
  {
   "cell_type": "markdown",
   "id": "090ee80f",
   "metadata": {
    "papermill": {
     "duration": 0.103184,
     "end_time": "2023-06-11T08:54:19.629783",
     "exception": false,
     "start_time": "2023-06-11T08:54:19.526599",
     "status": "completed"
    },
    "tags": []
   },
   "source": [
    "Gradient-based methods."
   ]
  },
  {
   "cell_type": "code",
   "execution_count": 33,
   "id": "8cc723b9",
   "metadata": {
    "execution": {
     "iopub.execute_input": "2023-06-11T08:54:19.836103Z",
     "iopub.status.busy": "2023-06-11T08:54:19.835718Z",
     "iopub.status.idle": "2023-06-11T08:58:54.653676Z",
     "shell.execute_reply": "2023-06-11T08:58:54.652571Z"
    },
    "papermill": {
     "duration": 275.024683,
     "end_time": "2023-06-11T08:58:54.756973",
     "exception": false,
     "start_time": "2023-06-11T08:54:19.732290",
     "status": "completed"
    },
    "tags": []
   },
   "outputs": [
    {
     "name": "stdout",
     "output_type": "stream",
     "text": [
      "CPU times: user 1min 46s, sys: 4.27 s, total: 1min 51s\n",
      "Wall time: 4min 34s\n"
     ]
    }
   ],
   "source": [
    "%%time\n",
    "gradient_methods = ['Saliency', 'LRP', 'GradientShap', 'GuidedGradCam', 'GuidedBackprop']\n",
    "gradient_explanations = get_explanations(xai_methods, gradient_methods, ds_loader, indices, device)"
   ]
  },
  {
   "cell_type": "markdown",
   "id": "7283a773",
   "metadata": {
    "papermill": {
     "duration": 0.104644,
     "end_time": "2023-06-11T08:58:54.967311",
     "exception": false,
     "start_time": "2023-06-11T08:58:54.862667",
     "status": "completed"
    },
    "tags": []
   },
   "source": [
    "Perturbation-based methods."
   ]
  },
  {
   "cell_type": "code",
   "execution_count": 34,
   "id": "cf5b624b",
   "metadata": {
    "execution": {
     "iopub.execute_input": "2023-06-11T08:58:55.172016Z",
     "iopub.status.busy": "2023-06-11T08:58:55.171618Z",
     "iopub.status.idle": "2023-06-11T09:12:08.148657Z",
     "shell.execute_reply": "2023-06-11T09:12:08.147546Z"
    },
    "papermill": {
     "duration": 793.183736,
     "end_time": "2023-06-11T09:12:08.252014",
     "exception": false,
     "start_time": "2023-06-11T08:58:55.068278",
     "status": "completed"
    },
    "tags": []
   },
   "outputs": [
    {
     "name": "stdout",
     "output_type": "stream",
     "text": [
      "CPU times: user 17min 15s, sys: 47.1 s, total: 18min 3s\n",
      "Wall time: 13min 12s\n"
     ]
    }
   ],
   "source": [
    "%%time\n",
    "perturbation_methods = ['IntegratedGradients']\n",
    "perturbation_explanations = get_explanations(xai_methods, perturbation_methods, ds_loader, indices, device)"
   ]
  },
  {
   "cell_type": "markdown",
   "id": "56308012",
   "metadata": {
    "papermill": {
     "duration": 0.101513,
     "end_time": "2023-06-11T09:12:08.455256",
     "exception": false,
     "start_time": "2023-06-11T09:12:08.353743",
     "status": "completed"
    },
    "tags": []
   },
   "source": [
    "Concatenate explanations of each method into a single tensor."
   ]
  },
  {
   "cell_type": "code",
   "execution_count": 35,
   "id": "84c6cbd9",
   "metadata": {
    "execution": {
     "iopub.execute_input": "2023-06-11T09:12:08.660397Z",
     "iopub.status.busy": "2023-06-11T09:12:08.660036Z",
     "iopub.status.idle": "2023-06-11T09:12:09.100948Z",
     "shell.execute_reply": "2023-06-11T09:12:09.099885Z"
    },
    "papermill": {
     "duration": 0.547759,
     "end_time": "2023-06-11T09:12:09.103422",
     "exception": false,
     "start_time": "2023-06-11T09:12:08.555663",
     "status": "completed"
    },
    "tags": []
   },
   "outputs": [],
   "source": [
    "explanations = {**gradient_explanations, **perturbation_explanations}\n",
    "methods = gradient_methods + perturbation_methods\n",
    "for method in methods:\n",
    "    exp = explanations[method]\n",
    "    for i in range(len(exp)):\n",
    "        exp[i] = exp[i].cpu().detach()\n",
    "    explanations[method] = torch.cat(exp)"
   ]
  },
  {
   "cell_type": "code",
   "execution_count": 36,
   "id": "3050d7c2",
   "metadata": {
    "execution": {
     "iopub.execute_input": "2023-06-11T09:12:09.311506Z",
     "iopub.status.busy": "2023-06-11T09:12:09.311180Z",
     "iopub.status.idle": "2023-06-11T09:12:09.316756Z",
     "shell.execute_reply": "2023-06-11T09:12:09.315924Z"
    },
    "papermill": {
     "duration": 0.110678,
     "end_time": "2023-06-11T09:12:09.318872",
     "exception": false,
     "start_time": "2023-06-11T09:12:09.208194",
     "status": "completed"
    },
    "tags": []
   },
   "outputs": [],
   "source": [
    "# Obsolete\n",
    "def get_topk_mask(exp, k):\n",
    "    temp = torch.clone(exp)\n",
    "    _, temp_ind = torch.topk(temp.flatten(), k)\n",
    "    temp *= 0\n",
    "    z = np.unravel_index(temp_ind, temp.shape)\n",
    "    for i, j in zip(z[0], z[1]):\n",
    "        temp[i, j] = 1\n",
    "    return temp"
   ]
  },
  {
   "cell_type": "markdown",
   "id": "37c344d7",
   "metadata": {
    "papermill": {
     "duration": 0.101577,
     "end_time": "2023-06-11T09:12:09.522640",
     "exception": false,
     "start_time": "2023-06-11T09:12:09.421063",
     "status": "completed"
    },
    "tags": []
   },
   "source": [
    "## Visualization"
   ]
  },
  {
   "cell_type": "markdown",
   "id": "09799690",
   "metadata": {
    "papermill": {
     "duration": 0.101248,
     "end_time": "2023-06-11T09:12:09.726328",
     "exception": false,
     "start_time": "2023-06-11T09:12:09.625080",
     "status": "completed"
    },
    "tags": []
   },
   "source": [
    "Compute average disagreement for a given metric."
   ]
  },
  {
   "cell_type": "code",
   "execution_count": 37,
   "id": "6b6bdedd",
   "metadata": {
    "execution": {
     "iopub.execute_input": "2023-06-11T09:12:09.930584Z",
     "iopub.status.busy": "2023-06-11T09:12:09.930224Z",
     "iopub.status.idle": "2023-06-11T09:12:09.937460Z",
     "shell.execute_reply": "2023-06-11T09:12:09.936549Z"
    },
    "papermill": {
     "duration": 0.111575,
     "end_time": "2023-06-11T09:12:09.939518",
     "exception": false,
     "start_time": "2023-06-11T09:12:09.827943",
     "status": "completed"
    },
    "tags": []
   },
   "outputs": [],
   "source": [
    "def compute_heatmap(methods, explanations, metric):\n",
    "    size = len(methods)\n",
    "    result = np.empty((size, size))\n",
    "\n",
    "    for j in range(size):\n",
    "        for i in range(size):\n",
    "            exp1 = explanations[methods[i]]\n",
    "            exp2 = explanations[methods[j]]\n",
    "            if i >= j:\n",
    "                result[i, j] = compute_mean_disagreement(exp1, exp2, metric)\n",
    "            else:\n",
    "                result[i, j] = result[j, i]\n",
    "    return result"
   ]
  },
  {
   "cell_type": "code",
   "execution_count": 38,
   "id": "85f5747f",
   "metadata": {
    "execution": {
     "iopub.execute_input": "2023-06-11T09:12:10.144165Z",
     "iopub.status.busy": "2023-06-11T09:12:10.143840Z",
     "iopub.status.idle": "2023-06-11T09:12:10.148787Z",
     "shell.execute_reply": "2023-06-11T09:12:10.147721Z"
    },
    "papermill": {
     "duration": 0.10941,
     "end_time": "2023-06-11T09:12:10.150989",
     "exception": false,
     "start_time": "2023-06-11T09:12:10.041579",
     "status": "completed"
    },
    "tags": []
   },
   "outputs": [],
   "source": [
    "def visualize(hm, title):\n",
    "    return sns.heatmap(hm, annot=True, xticklabels=methods, yticklabels=methods).set(title=title)"
   ]
  },
  {
   "cell_type": "markdown",
   "id": "a22287a1",
   "metadata": {
    "papermill": {
     "duration": 0.101247,
     "end_time": "2023-06-11T09:12:10.352978",
     "exception": false,
     "start_time": "2023-06-11T09:12:10.251731",
     "status": "completed"
    },
    "tags": []
   },
   "source": [
    "### Feature Agreement"
   ]
  },
  {
   "cell_type": "code",
   "execution_count": 39,
   "id": "cb7da37f",
   "metadata": {
    "execution": {
     "iopub.execute_input": "2023-06-11T09:12:10.557778Z",
     "iopub.status.busy": "2023-06-11T09:12:10.556841Z",
     "iopub.status.idle": "2023-06-11T09:12:58.601547Z",
     "shell.execute_reply": "2023-06-11T09:12:58.600556Z"
    },
    "papermill": {
     "duration": 48.250356,
     "end_time": "2023-06-11T09:12:58.705363",
     "exception": false,
     "start_time": "2023-06-11T09:12:10.455007",
     "status": "completed"
    },
    "tags": []
   },
   "outputs": [
    {
     "name": "stdout",
     "output_type": "stream",
     "text": [
      "CPU times: user 47.8 s, sys: 39.1 ms, total: 47.9 s\n",
      "Wall time: 48 s\n"
     ]
    }
   ],
   "source": [
    "%%time\n",
    "heatmap_fa = compute_heatmap(methods, explanations, metric=feature_agreement)"
   ]
  },
  {
   "cell_type": "code",
   "execution_count": 40,
   "id": "d963ba11",
   "metadata": {
    "execution": {
     "iopub.execute_input": "2023-06-11T09:12:58.910319Z",
     "iopub.status.busy": "2023-06-11T09:12:58.909981Z",
     "iopub.status.idle": "2023-06-11T09:12:59.464058Z",
     "shell.execute_reply": "2023-06-11T09:12:59.463159Z"
    },
    "papermill": {
     "duration": 0.659071,
     "end_time": "2023-06-11T09:12:59.466767",
     "exception": false,
     "start_time": "2023-06-11T09:12:58.807696",
     "status": "completed"
    },
    "tags": []
   },
   "outputs": [
    {
     "data": {
      "text/plain": [
       "[Text(0.5, 1.0, 'Feature Agreement')]"
      ]
     },
     "execution_count": 40,
     "metadata": {},
     "output_type": "execute_result"
    },
    {
     "data": {
      "image/png": "[encoded data removed]",
      "text/plain": [
       "<Figure size 640x480 with 2 Axes>"
      ]
     },
     "metadata": {},
     "output_type": "display_data"
    }
   ],
   "source": [
    "visualize(heatmap_fa, title='Feature Agreement')"
   ]
  },
  {
   "cell_type": "markdown",
   "id": "b38a5581",
   "metadata": {
    "papermill": {
     "duration": 0.144313,
     "end_time": "2023-06-11T09:12:59.755870",
     "exception": false,
     "start_time": "2023-06-11T09:12:59.611557",
     "status": "completed"
    },
    "tags": []
   },
   "source": [
    "### Sign agreements"
   ]
  },
  {
   "cell_type": "code",
   "execution_count": 41,
   "id": "a685d874",
   "metadata": {
    "execution": {
     "iopub.execute_input": "2023-06-11T09:13:00.148894Z",
     "iopub.status.busy": "2023-06-11T09:13:00.148328Z",
     "iopub.status.idle": "2023-06-11T09:14:57.708452Z",
     "shell.execute_reply": "2023-06-11T09:14:57.707407Z"
    },
    "papermill": {
     "duration": 117.836224,
     "end_time": "2023-06-11T09:14:57.813379",
     "exception": false,
     "start_time": "2023-06-11T09:12:59.977155",
     "status": "completed"
    },
    "tags": []
   },
   "outputs": [
    {
     "name": "stdout",
     "output_type": "stream",
     "text": [
      "CPU times: user 1min 57s, sys: 95 ms, total: 1min 57s\n",
      "Wall time: 1min 57s\n"
     ]
    }
   ],
   "source": [
    "%%time\n",
    "heatmap_sa = compute_heatmap(methods, explanations, metric=sign_agreement)"
   ]
  },
  {
   "cell_type": "code",
   "execution_count": 42,
   "id": "a1678c7a",
   "metadata": {
    "execution": {
     "iopub.execute_input": "2023-06-11T09:14:58.020400Z",
     "iopub.status.busy": "2023-06-11T09:14:58.020060Z",
     "iopub.status.idle": "2023-06-11T09:14:58.446281Z",
     "shell.execute_reply": "2023-06-11T09:14:58.445363Z"
    },
    "papermill": {
     "duration": 0.532468,
     "end_time": "2023-06-11T09:14:58.448308",
     "exception": false,
     "start_time": "2023-06-11T09:14:57.915840",
     "status": "completed"
    },
    "tags": []
   },
   "outputs": [
    {
     "data": {
      "text/plain": [
       "[Text(0.5, 1.0, 'Sign Agreement')]"
      ]
     },
     "execution_count": 42,
     "metadata": {},
     "output_type": "execute_result"
    },
    {
     "data": {
      "image/png": "[encoded data removed]",
      "text/plain": [
       "<Figure size 640x480 with 2 Axes>"
      ]
     },
     "metadata": {},
     "output_type": "display_data"
    }
   ],
   "source": [
    "visualize(heatmap_sa, title='Sign Agreement')"
   ]
  },
  {
   "cell_type": "markdown",
   "id": "a22aa7e3",
   "metadata": {
    "papermill": {
     "duration": 0.10308,
     "end_time": "2023-06-11T09:14:58.655068",
     "exception": false,
     "start_time": "2023-06-11T09:14:58.551988",
     "status": "completed"
    },
    "tags": []
   },
   "source": [
    "### IoU"
   ]
  },
  {
   "cell_type": "code",
   "execution_count": 43,
   "id": "f8959445",
   "metadata": {
    "execution": {
     "iopub.execute_input": "2023-06-11T09:14:58.864615Z",
     "iopub.status.busy": "2023-06-11T09:14:58.863692Z",
     "iopub.status.idle": "2023-06-11T09:15:01.021622Z",
     "shell.execute_reply": "2023-06-11T09:15:01.020510Z"
    },
    "papermill": {
     "duration": 2.264144,
     "end_time": "2023-06-11T09:15:01.023658",
     "exception": false,
     "start_time": "2023-06-11T09:14:58.759514",
     "status": "completed"
    },
    "tags": []
   },
   "outputs": [
    {
     "name": "stdout",
     "output_type": "stream",
     "text": [
      "CPU times: user 2.15 s, sys: 2.8 ms, total: 2.15 s\n",
      "Wall time: 2.15 s\n"
     ]
    }
   ],
   "source": [
    "%%time\n",
    "heatmap_iou = compute_heatmap(methods, explanations, metric=positive_iou)"
   ]
  },
  {
   "cell_type": "code",
   "execution_count": 44,
   "id": "977f2087",
   "metadata": {
    "execution": {
     "iopub.execute_input": "2023-06-11T09:15:01.234290Z",
     "iopub.status.busy": "2023-06-11T09:15:01.233410Z",
     "iopub.status.idle": "2023-06-11T09:15:01.674734Z",
     "shell.execute_reply": "2023-06-11T09:15:01.673777Z"
    },
    "papermill": {
     "duration": 0.547806,
     "end_time": "2023-06-11T09:15:01.676997",
     "exception": false,
     "start_time": "2023-06-11T09:15:01.129191",
     "status": "completed"
    },
    "tags": []
   },
   "outputs": [
    {
     "data": {
      "text/plain": [
       "[Text(0.5, 1.0, 'IoU')]"
      ]
     },
     "execution_count": 44,
     "metadata": {},
     "output_type": "execute_result"
    },
    {
     "data": {
      "image/png": "[encoded data removed]",
      "text/plain": [
       "<Figure size 640x480 with 2 Axes>"
      ]
     },
     "metadata": {},
     "output_type": "display_data"
    }
   ],
   "source": [
    "visualize(heatmap_iou, title='IoU')"
   ]
  },
  {
   "cell_type": "markdown",
   "id": "a6cd9829",
   "metadata": {
    "papermill": {
     "duration": 0.120265,
     "end_time": "2023-06-11T09:15:01.994010",
     "exception": false,
     "start_time": "2023-06-11T09:15:01.873745",
     "status": "completed"
    },
    "tags": []
   },
   "source": [
    "### SSIM"
   ]
  },
  {
   "cell_type": "code",
   "execution_count": 45,
   "id": "036f7479",
   "metadata": {
    "execution": {
     "iopub.execute_input": "2023-06-11T09:15:02.213741Z",
     "iopub.status.busy": "2023-06-11T09:15:02.213362Z",
     "iopub.status.idle": "2023-06-11T09:15:46.011517Z",
     "shell.execute_reply": "2023-06-11T09:15:46.010538Z"
    },
    "papermill": {
     "duration": 44.015965,
     "end_time": "2023-06-11T09:15:46.118536",
     "exception": false,
     "start_time": "2023-06-11T09:15:02.102571",
     "status": "completed"
    },
    "tags": []
   },
   "outputs": [
    {
     "name": "stdout",
     "output_type": "stream",
     "text": [
      "CPU times: user 43.6 s, sys: 65.5 ms, total: 43.7 s\n",
      "Wall time: 43.8 s\n"
     ]
    }
   ],
   "source": [
    "%%time\n",
    "heatmap_ssim = compute_heatmap(methods, explanations, metric=ssim)"
   ]
  },
  {
   "cell_type": "code",
   "execution_count": 46,
   "id": "6e26790e",
   "metadata": {
    "execution": {
     "iopub.execute_input": "2023-06-11T09:15:46.330250Z",
     "iopub.status.busy": "2023-06-11T09:15:46.329294Z",
     "iopub.status.idle": "2023-06-11T09:15:46.900977Z",
     "shell.execute_reply": "2023-06-11T09:15:46.899921Z"
    },
    "papermill": {
     "duration": 0.679819,
     "end_time": "2023-06-11T09:15:46.903073",
     "exception": false,
     "start_time": "2023-06-11T09:15:46.223254",
     "status": "completed"
    },
    "tags": []
   },
   "outputs": [
    {
     "data": {
      "text/plain": [
       "[Text(0.5, 1.0, 'Structural Similarity Index')]"
      ]
     },
     "execution_count": 46,
     "metadata": {},
     "output_type": "execute_result"
    },
    {
     "data": {
      "image/png": "[encoded data removed]",
      "text/plain": [
       "<Figure size 640x480 with 2 Axes>"
      ]
     },
     "metadata": {},
     "output_type": "display_data"
    }
   ],
   "source": [
    "visualize(heatmap_ssim, 'Structural Similarity Index')"
   ]
  }
 ],
 "metadata": {
  "kernelspec": {
   "display_name": "Python 3",
   "language": "python",
   "name": "python3"
  },
  "language_info": {
   "codemirror_mode": {
    "name": "ipython",
    "version": 3
   },
   "file_extension": ".py",
   "mimetype": "text/x-python",
   "name": "python",
   "nbconvert_exporter": "python",
   "pygments_lexer": "ipython3",
   "version": "3.10.10"
  },
  "papermill": {
   "default_parameters": {},
   "duration": 1618.926569,
   "end_time": "2023-06-11T09:15:50.757669",
   "environment_variables": {},
   "exception": null,
   "input_path": "__notebook__.ipynb",
   "output_path": "__notebook__.ipynb",
   "parameters": {},
   "start_time": "2023-06-11T08:48:51.831100",
   "version": "2.4.0"
  }
 },
 "nbformat": 4,
 "nbformat_minor": 5
}
