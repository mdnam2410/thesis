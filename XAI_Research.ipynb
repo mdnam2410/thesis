{
 "cells": [
  {
   "cell_type": "code",
   "execution_count": 1,
   "id": "5f005f58",
   "metadata": {
    "execution": {
     "iopub.execute_input": "2023-06-10T10:36:40.297237Z",
     "iopub.status.busy": "2023-06-10T10:36:40.296855Z",
     "iopub.status.idle": "2023-06-10T10:36:55.035873Z",
     "shell.execute_reply": "2023-06-10T10:36:55.034764Z"
    },
    "id": "dT7cVH6V85Ck",
    "outputId": "02aa26c2-80bb-4df2-95e7-6ed376ba26c9",
    "papermill": {
     "duration": 14.758215,
     "end_time": "2023-06-10T10:36:55.038264",
     "exception": false,
     "start_time": "2023-06-10T10:36:40.280049",
     "status": "completed"
    },
    "tags": []
   },
   "outputs": [
    {
     "name": "stdout",
     "output_type": "stream",
     "text": [
      "Requirement already satisfied: virtualenv in /opt/conda/lib/python3.10/site-packages (20.21.0)\r\n",
      "Requirement already satisfied: distlib<1,>=0.3.6 in /opt/conda/lib/python3.10/site-packages (from virtualenv) (0.3.6)\r\n",
      "Requirement already satisfied: filelock<4,>=3.4.1 in /opt/conda/lib/python3.10/site-packages (from virtualenv) (3.11.0)\r\n",
      "Requirement already satisfied: platformdirs<4,>=2.4 in /opt/conda/lib/python3.10/site-packages (from virtualenv) (3.2.0)\r\n",
      "\u001b[33mWARNING: Running pip as the 'root' user can result in broken permissions and conflicting behaviour with the system package manager. It is recommended to use a virtual environment instead: https://pip.pypa.io/warnings/venv\u001b[0m\u001b[33m\r\n",
      "\u001b[0mcreated virtual environment CPython3.10.10.final.0-64 in 990ms\r\n",
      "  creator CPython3Posix(dest=/kaggle/working/XAIEnv, clear=False, no_vcs_ignore=False, global=False)\r\n",
      "  seeder FromAppData(download=False, pip=bundle, setuptools=bundle, wheel=bundle, via=copy, app_data_dir=/root/.local/share/virtualenv)\r\n",
      "    added seed packages: pip==23.0.1, setuptools==67.4.0, wheel==0.38.4\r\n",
      "  activators BashActivator,CShellActivator,FishActivator,NushellActivator,PowerShellActivator,PythonActivator\r\n"
     ]
    }
   ],
   "source": [
    "!pip install virtualenv\n",
    "!virtualenv XAIEnv"
   ]
  },
  {
   "cell_type": "markdown",
   "id": "54b40c31",
   "metadata": {
    "id": "IZ7VowTTEBks",
    "papermill": {
     "duration": 0.015103,
     "end_time": "2023-06-10T10:36:55.069264",
     "exception": false,
     "start_time": "2023-06-10T10:36:55.054161",
     "status": "completed"
    },
    "tags": []
   },
   "source": [
    "# Explain Classification result from ResNet"
   ]
  },
  {
   "cell_type": "code",
   "execution_count": 2,
   "id": "472a4c4c",
   "metadata": {
    "execution": {
     "iopub.execute_input": "2023-06-10T10:36:55.101570Z",
     "iopub.status.busy": "2023-06-10T10:36:55.100718Z",
     "iopub.status.idle": "2023-06-10T10:40:30.481320Z",
     "shell.execute_reply": "2023-06-10T10:40:30.480206Z"
    },
    "id": "oMqKUO1q9vs7",
    "papermill": {
     "duration": 215.399237,
     "end_time": "2023-06-10T10:40:30.483645",
     "exception": false,
     "start_time": "2023-06-10T10:36:55.084408",
     "status": "completed"
    },
    "tags": []
   },
   "outputs": [
    {
     "name": "stdout",
     "output_type": "stream",
     "text": [
      "\r\n",
      "\u001b[1m[\u001b[0m\u001b[34;49mnotice\u001b[0m\u001b[1;39;49m]\u001b[0m\u001b[39;49m A new release of pip is available: \u001b[0m\u001b[31;49m23.0.1\u001b[0m\u001b[39;49m -> \u001b[0m\u001b[32;49m23.1.2\u001b[0m\r\n",
      "\u001b[1m[\u001b[0m\u001b[34;49mnotice\u001b[0m\u001b[1;39;49m]\u001b[0m\u001b[39;49m To update, run: \u001b[0m\u001b[32;49mpip install --upgrade pip\u001b[0m\r\n"
     ]
    }
   ],
   "source": [
    "!source /kaggle/working/XAIEnv/bin/activate; pip install -q numba torch captum torchvision quantus omnixai[vision] dash jupyter_dash dash_bootstrap_components scikit-learn==1.1.3 numpy==1.22.4 Pillow fastcore -I -U"
   ]
  },
  {
   "cell_type": "code",
   "execution_count": 3,
   "id": "3dfd7910",
   "metadata": {
    "execution": {
     "iopub.execute_input": "2023-06-10T10:40:30.516776Z",
     "iopub.status.busy": "2023-06-10T10:40:30.516475Z",
     "iopub.status.idle": "2023-06-10T10:40:30.520944Z",
     "shell.execute_reply": "2023-06-10T10:40:30.520012Z"
    },
    "id": "yweYyg0OLsJR",
    "papermill": {
     "duration": 0.022973,
     "end_time": "2023-06-10T10:40:30.522980",
     "exception": false,
     "start_time": "2023-06-10T10:40:30.500007",
     "status": "completed"
    },
    "tags": []
   },
   "outputs": [],
   "source": [
    "import sys\n",
    "sys.path.append(\"XAIEnv/lib/python3.10/site-packages\")"
   ]
  },
  {
   "cell_type": "code",
   "execution_count": 4,
   "id": "aedf79ef",
   "metadata": {
    "execution": {
     "iopub.execute_input": "2023-06-10T10:40:30.554490Z",
     "iopub.status.busy": "2023-06-10T10:40:30.554234Z",
     "iopub.status.idle": "2023-06-10T10:40:35.854603Z",
     "shell.execute_reply": "2023-06-10T10:40:35.853460Z"
    },
    "id": "erPY0MqyEU_X",
    "papermill": {
     "duration": 5.318456,
     "end_time": "2023-06-10T10:40:35.856758",
     "exception": false,
     "start_time": "2023-06-10T10:40:30.538302",
     "status": "completed"
    },
    "tags": []
   },
   "outputs": [
    {
     "name": "stderr",
     "output_type": "stream",
     "text": [
      "/opt/conda/lib/python3.10/site-packages/scipy/__init__.py:146: UserWarning: A NumPy version >=1.16.5 and <1.23.0 is required for this version of SciPy (detected version 1.23.5\n",
      "  warnings.warn(f\"A NumPy version >={np_minversion} and <{np_maxversion}\"\n"
     ]
    },
    {
     "name": "stdout",
     "output_type": "stream",
     "text": [
      "Using cuda for inference\n"
     ]
    }
   ],
   "source": [
    "import torch\n",
    "# import quantus\n",
    "from captum.attr import (\n",
    "    Saliency, # A baseline approach for computing input attribution\n",
    "    GradientShap, \n",
    "    DeepLift,\n",
    "    DeepLiftShap,\n",
    "    IntegratedGradients,\n",
    "    LayerConductance,\n",
    "    NeuronConductance,\n",
    "    NoiseTunnel,\n",
    "    GuidedGradCam,\n",
    "    GuidedBackprop,\n",
    "    Saliency,\n",
    "    LimeBase,\n",
    "    FeatureAblation,\n",
    "    Occlusion,\n",
    "    LRP,\n",
    "    visualization as viz\n",
    ")\n",
    "from PIL import Image\n",
    "import torchvision\n",
    "from torchvision import transforms\n",
    "import json\n",
    "import requests\n",
    "from io import BytesIO\n",
    "import warnings\n",
    "import numpy as np\n",
    "import matplotlib.pyplot as plt\n",
    "import matplotlib.cm as c_map\n",
    "from torchvision import models\n",
    "import seaborn as sns\n",
    "import scipy\n",
    "import skimage\n",
    "warnings.filterwarnings('ignore')\n",
    "import gc\n",
    "%matplotlib inline\n",
    "\n",
    "device = torch.device(\"cuda\") if torch.cuda.is_available() else torch.device(\"cpu\")\n",
    "cpu = torch.device(\"cpu\")\n",
    "print(f'Using {device} for inference')"
   ]
  },
  {
   "cell_type": "code",
   "execution_count": 5,
   "id": "09d47afe",
   "metadata": {
    "execution": {
     "iopub.execute_input": "2023-06-10T10:40:35.891655Z",
     "iopub.status.busy": "2023-06-10T10:40:35.890027Z",
     "iopub.status.idle": "2023-06-10T10:40:35.900197Z",
     "shell.execute_reply": "2023-06-10T10:40:35.899361Z"
    },
    "id": "vLfyNmtEM1SB",
    "papermill": {
     "duration": 0.029224,
     "end_time": "2023-06-10T10:40:35.902319",
     "exception": false,
     "start_time": "2023-06-10T10:40:35.873095",
     "status": "completed"
    },
    "tags": []
   },
   "outputs": [],
   "source": [
    "torch.manual_seed(123)\n",
    "np.random.seed(123)"
   ]
  },
  {
   "cell_type": "markdown",
   "id": "da96c1e3",
   "metadata": {
    "id": "sIEBF6WUzAQA",
    "papermill": {
     "duration": 0.015477,
     "end_time": "2023-06-10T10:40:35.933123",
     "exception": false,
     "start_time": "2023-06-10T10:40:35.917646",
     "status": "completed"
    },
    "tags": []
   },
   "source": [
    "# Setup datasets"
   ]
  },
  {
   "cell_type": "code",
   "execution_count": 6,
   "id": "df6d7c0e",
   "metadata": {
    "execution": {
     "iopub.execute_input": "2023-06-10T10:40:35.964795Z",
     "iopub.status.busy": "2023-06-10T10:40:35.964533Z",
     "iopub.status.idle": "2023-06-10T10:40:35.971361Z",
     "shell.execute_reply": "2023-06-10T10:40:35.970521Z"
    },
    "id": "EVH_ZzSPDGKc",
    "papermill": {
     "duration": 0.024981,
     "end_time": "2023-06-10T10:40:35.973361",
     "exception": false,
     "start_time": "2023-06-10T10:40:35.948380",
     "status": "completed"
    },
    "tags": []
   },
   "outputs": [],
   "source": [
    "resize_image = transforms.Compose([\n",
    "  transforms.Resize(128),\n",
    "#   transforms.CenterCrop(299),\n",
    "])\n",
    "\n",
    "transform = transforms.Compose([            \n",
    "  transforms.ToTensor(),\n",
    "  resize_image,\n",
    "  transforms.Normalize(\n",
    "   mean=[0.485, 0.456, 0.406],\n",
    "   std=[0.229, 0.224, 0.225]\n",
    "  )\n",
    "])\n",
    "\n",
    "mask_transform = transforms.Compose([            \n",
    "  transforms.ToTensor(),\n",
    "  resize_image,\n",
    "])"
   ]
  },
  {
   "cell_type": "code",
   "execution_count": 7,
   "id": "3b843b5c",
   "metadata": {
    "execution": {
     "iopub.execute_input": "2023-06-10T10:40:36.006012Z",
     "iopub.status.busy": "2023-06-10T10:40:36.004600Z",
     "iopub.status.idle": "2023-06-10T10:40:36.013398Z",
     "shell.execute_reply": "2023-06-10T10:40:36.012563Z"
    },
    "id": "8ncf8jeMzDYz",
    "papermill": {
     "duration": 0.026828,
     "end_time": "2023-06-10T10:40:36.015462",
     "exception": false,
     "start_time": "2023-06-10T10:40:35.988634",
     "status": "completed"
    },
    "tags": []
   },
   "outputs": [],
   "source": [
    "from torch.utils.data import Dataset\n",
    "\n",
    "class PneumothoraxImageDataset(Dataset):\n",
    "    def __init__(self, images, targets, masks, transform, mask_transform):\n",
    "        self.masks = masks\n",
    "        self.images = images\n",
    "        self.targets = targets\n",
    "        self.transform = transform\n",
    "        self.mask_transform = mask_transform\n",
    "        \n",
    "\n",
    "    def __len__(self):\n",
    "        return len(self.images)\n",
    "\n",
    "    def __getitem__(self, idx):\n",
    "        image = np.asarray(Image.open(self.images[idx]).convert('RGB'))\n",
    "        mask = np.asarray(Image.open(self.masks[idx]).convert('RGB'))\n",
    "        label = self.targets[idx]\n",
    "        if self.transform:\n",
    "          image = self.transform(image)\n",
    "        if self.mask_transform:\n",
    "          mask = self.mask_transform(mask)\n",
    "        return image, mask, label"
   ]
  },
  {
   "cell_type": "code",
   "execution_count": 8,
   "id": "0ee787b3",
   "metadata": {
    "execution": {
     "iopub.execute_input": "2023-06-10T10:40:36.048187Z",
     "iopub.status.busy": "2023-06-10T10:40:36.046788Z",
     "iopub.status.idle": "2023-06-10T10:40:36.102812Z",
     "shell.execute_reply": "2023-06-10T10:40:36.102019Z"
    },
    "id": "8G-yx78yQsMn",
    "papermill": {
     "duration": 0.074246,
     "end_time": "2023-06-10T10:40:36.104801",
     "exception": false,
     "start_time": "2023-06-10T10:40:36.030555",
     "status": "completed"
    },
    "tags": []
   },
   "outputs": [],
   "source": [
    "use_kaggle = True\n",
    "kaggle_main_path = '/kaggle/input/pneumothorax-chest-xray-images-and-masks'\n",
    "colab_main_path = '/content/datasets'\n",
    "main_path = f'{kaggle_main_path if use_kaggle else colab_main_path}/siim-acr-pneumothorax'\n",
    "import os\n",
    "import pandas as pd\n",
    "# train_data = pd.read_csv(os.path.join(main_path, 'stage_1_train_images.csv'))\n",
    "test_data = pd.read_csv(os.path.join(main_path, 'stage_1_test_images.csv'))\n",
    "# Just load only abnormal cases\n",
    "# test_abnormal = test_data.loc[test_data.has_pneumo == 1]\n",
    "\n",
    "# Load all cases\n",
    "test_abnormal = test_data\n",
    "\n",
    "# train_data['images'] = train_data['new_filename'].apply(lambda x: os.path.join(main_path, 'png_images', x))\n",
    "# train_data['masks'] = train_data['new_filename'].apply(lambda x: os.path.join(main_path, 'png_masks', x))\n",
    "\n",
    "test_abnormal['images'] = test_abnormal['new_filename'].apply(lambda x: os.path.join(main_path, 'png_images', x))\n",
    "test_abnormal['masks'] = test_abnormal['new_filename'].apply(lambda x: os.path.join(main_path, 'png_masks', x))\n",
    "\n",
    "images = test_abnormal['images'].tolist()\n",
    "masks = test_abnormal['masks'].tolist()\n",
    "targets = test_abnormal['has_pneumo'].tolist()"
   ]
  },
  {
   "cell_type": "code",
   "execution_count": 9,
   "id": "31feff5a",
   "metadata": {
    "execution": {
     "iopub.execute_input": "2023-06-10T10:40:36.136343Z",
     "iopub.status.busy": "2023-06-10T10:40:36.136085Z",
     "iopub.status.idle": "2023-06-10T10:40:36.140544Z",
     "shell.execute_reply": "2023-06-10T10:40:36.139718Z"
    },
    "id": "vbo2-sZMQ1iU",
    "papermill": {
     "duration": 0.022532,
     "end_time": "2023-06-10T10:40:36.142532",
     "exception": false,
     "start_time": "2023-06-10T10:40:36.120000",
     "status": "completed"
    },
    "tags": []
   },
   "outputs": [],
   "source": [
    "dataset = PneumothoraxImageDataset(images, targets, masks, transform=transform, mask_transform=mask_transform)\n",
    "ds_loader = torch.utils.data.DataLoader(dataset, batch_size=16, shuffle=True, num_workers=4)"
   ]
  },
  {
   "cell_type": "markdown",
   "id": "d03b8b03",
   "metadata": {
    "id": "3prfR5sZf1Jj",
    "papermill": {
     "duration": 0.014911,
     "end_time": "2023-06-10T10:40:36.172558",
     "exception": false,
     "start_time": "2023-06-10T10:40:36.157647",
     "status": "completed"
    },
    "tags": []
   },
   "source": [
    "## UTIL FUNCS"
   ]
  },
  {
   "cell_type": "markdown",
   "id": "130d1122",
   "metadata": {
    "id": "gcX0anjnj3SR",
    "papermill": {
     "duration": 0.015006,
     "end_time": "2023-06-10T10:40:36.202933",
     "exception": false,
     "start_time": "2023-06-10T10:40:36.187927",
     "status": "completed"
    },
    "tags": []
   },
   "source": [
    "### Bellow is the override of an visualization implementation due to the orginal version from the captum module cause bug when config matplotlib grid_b"
   ]
  },
  {
   "cell_type": "code",
   "execution_count": 10,
   "id": "a03a31a7",
   "metadata": {
    "execution": {
     "iopub.execute_input": "2023-06-10T10:40:36.234699Z",
     "iopub.status.busy": "2023-06-10T10:40:36.234447Z",
     "iopub.status.idle": "2023-06-10T10:40:36.273141Z",
     "shell.execute_reply": "2023-06-10T10:40:36.272247Z"
    },
    "id": "6eJieH7DcEHO",
    "papermill": {
     "duration": 0.057014,
     "end_time": "2023-06-10T10:40:36.275031",
     "exception": false,
     "start_time": "2023-06-10T10:40:36.218017",
     "status": "completed"
    },
    "tags": []
   },
   "outputs": [],
   "source": [
    "from matplotlib import cm, colors, pyplot as plt\n",
    "from matplotlib.collections import LineCollection\n",
    "from matplotlib.colors import LinearSegmentedColormap\n",
    "from matplotlib.figure import Figure\n",
    "from matplotlib.pyplot import axis, figure\n",
    "from mpl_toolkits.axes_grid1 import make_axes_locatable\n",
    "from numpy import ndarray\n",
    "from enum import Enum\n",
    "from typing import Any, Iterable, List, Optional, Tuple, Union\n",
    "\n",
    "\n",
    "try:\n",
    "    from IPython.display import display, HTML\n",
    "\n",
    "    HAS_IPYTHON = True\n",
    "except ImportError:\n",
    "    HAS_IPYTHON = False\n",
    "\n",
    "\n",
    "class ImageVisualizationMethod(Enum):\n",
    "    heat_map = 1\n",
    "    blended_heat_map = 2\n",
    "    original_image = 3\n",
    "    masked_image = 4\n",
    "    alpha_scaling = 5\n",
    "\n",
    "\n",
    "class TimeseriesVisualizationMethod(Enum):\n",
    "    overlay_individual = 1\n",
    "    overlay_combined = 2\n",
    "    colored_graph = 3\n",
    "\n",
    "\n",
    "class VisualizeSign(Enum):\n",
    "    positive = 1\n",
    "    absolute_value = 2\n",
    "    negative = 3\n",
    "    all = 4\n",
    "\n",
    "\n",
    "def _prepare_image(attr_visual: ndarray):\n",
    "    return np.clip(attr_visual.astype(int), 0, 255)\n",
    "\n",
    "\n",
    "def _normalize_scale(attr: ndarray, scale_factor: float):\n",
    "    assert scale_factor != 0, \"Cannot normalize by scale factor = 0\"\n",
    "    if abs(scale_factor) < 1e-5:\n",
    "        warnings.warn(\n",
    "            \"Attempting to normalize by value approximately 0, visualized results\"\n",
    "            \"may be misleading. This likely means that attribution values are all\"\n",
    "            \"close to 0.\"\n",
    "        )\n",
    "    attr_norm = attr / scale_factor\n",
    "    return np.clip(attr_norm, -1, 1)\n",
    "\n",
    "\n",
    "def _cumulative_sum_threshold(values: ndarray, percentile: Union[int, float]):\n",
    "    # given values should be non-negative\n",
    "    assert percentile >= 0 and percentile <= 100, (\n",
    "        \"Percentile for thresholding must be \" \"between 0 and 100 inclusive.\"\n",
    "    )\n",
    "    sorted_vals = np.sort(values.flatten())\n",
    "    cum_sums = np.cumsum(sorted_vals)\n",
    "    threshold_id = np.where(cum_sums >= cum_sums[-1] * 0.01 * percentile)[0][0]\n",
    "    return sorted_vals[threshold_id]\n",
    "\n",
    "\n",
    "def _normalize_attr(\n",
    "    attr: ndarray,\n",
    "    sign: str,\n",
    "    outlier_perc: Union[int, float] = 2,\n",
    "    reduction_axis: Optional[int] = None,\n",
    "):\n",
    "    attr_combined = attr\n",
    "    if reduction_axis is not None:\n",
    "        attr_combined = np.sum(attr, axis=reduction_axis)\n",
    "\n",
    "    # Choose appropriate signed values and rescale, removing given outlier percentage.\n",
    "    if VisualizeSign[sign] == VisualizeSign.all:\n",
    "        threshold = _cumulative_sum_threshold(np.abs(attr_combined), 100 - outlier_perc)\n",
    "    elif VisualizeSign[sign] == VisualizeSign.positive:\n",
    "        attr_combined = (attr_combined > 0) * attr_combined\n",
    "        threshold = _cumulative_sum_threshold(attr_combined, 100 - outlier_perc)\n",
    "    elif VisualizeSign[sign] == VisualizeSign.negative:\n",
    "        attr_combined = (attr_combined < 0) * attr_combined\n",
    "        threshold = -1 * _cumulative_sum_threshold(\n",
    "            np.abs(attr_combined), 100 - outlier_perc\n",
    "        )\n",
    "    elif VisualizeSign[sign] == VisualizeSign.absolute_value:\n",
    "        attr_combined = np.abs(attr_combined)\n",
    "        threshold = _cumulative_sum_threshold(attr_combined, 100 - outlier_perc)\n",
    "    else:\n",
    "        raise AssertionError(\"Visualize Sign type is not valid.\")\n",
    "    return _normalize_scale(attr_combined, threshold)\n",
    "\n",
    "\n",
    "def visualize_image_attr(\n",
    "    attr: ndarray,\n",
    "    original_image: Union[None, ndarray] = None,\n",
    "    method: str = \"heat_map\",\n",
    "    sign: str = \"absolute_value\",\n",
    "    plt_fig_axis: Union[None, Tuple[figure, axis]] = None,\n",
    "    outlier_perc: Union[int, float] = 2,\n",
    "    cmap: Union[None, str] = None,\n",
    "    alpha_overlay: float = 0.5,\n",
    "    show_colorbar: bool = False,\n",
    "    title: Union[None, str] = None,\n",
    "    fig_size: Tuple[int, int] = (6, 6),\n",
    "    use_pyplot: bool = True,\n",
    "):\n",
    "    r\"\"\"\n",
    "    Visualizes attribution for a given image by normalizing attribution values\n",
    "    of the desired sign (positive, negative, absolute value, or all) and displaying\n",
    "    them using the desired mode in a matplotlib figure.\n",
    "\n",
    "    Args:\n",
    "\n",
    "        attr (numpy.ndarray): Numpy array corresponding to attributions to be\n",
    "                    visualized. Shape must be in the form (H, W, C), with\n",
    "                    channels as last dimension. Shape must also match that of\n",
    "                    the original image if provided.\n",
    "        original_image (numpy.ndarray, optional): Numpy array corresponding to\n",
    "                    original image. Shape must be in the form (H, W, C), with\n",
    "                    channels as the last dimension. Image can be provided either\n",
    "                    with float values in range 0-1 or int values between 0-255.\n",
    "                    This is a necessary argument for any visualization method\n",
    "                    which utilizes the original image.\n",
    "                    Default: None\n",
    "        method (str, optional): Chosen method for visualizing attribution.\n",
    "                    Supported options are:\n",
    "\n",
    "                    1. `heat_map` - Display heat map of chosen attributions\n",
    "\n",
    "                    2. `blended_heat_map` - Overlay heat map over greyscale\n",
    "                       version of original image. Parameter alpha_overlay\n",
    "                       corresponds to alpha of heat map.\n",
    "\n",
    "                    3. `original_image` - Only display original image.\n",
    "\n",
    "                    4. `masked_image` - Mask image (pixel-wise multiply)\n",
    "                       by normalized attribution values.\n",
    "\n",
    "                    5. `alpha_scaling` - Sets alpha channel of each pixel\n",
    "                       to be equal to normalized attribution value.\n",
    "\n",
    "                    Default: `heat_map`\n",
    "        sign (str, optional): Chosen sign of attributions to visualize. Supported\n",
    "                    options are:\n",
    "\n",
    "                    1. `positive` - Displays only positive pixel attributions.\n",
    "\n",
    "                    2. `absolute_value` - Displays absolute value of\n",
    "                       attributions.\n",
    "\n",
    "                    3. `negative` - Displays only negative pixel attributions.\n",
    "\n",
    "                    4. `all` - Displays both positive and negative attribution\n",
    "                       values. This is not supported for `masked_image` or\n",
    "                       `alpha_scaling` modes, since signed information cannot\n",
    "                       be represented in these modes.\n",
    "\n",
    "                    Default: `absolute_value`\n",
    "        plt_fig_axis (tuple, optional): Tuple of matplotlib.pyplot.figure and axis\n",
    "                    on which to visualize. If None is provided, then a new figure\n",
    "                    and axis are created.\n",
    "                    Default: None\n",
    "        outlier_perc (float or int, optional): Top attribution values which\n",
    "                    correspond to a total of outlier_perc percentage of the\n",
    "                    total attribution are set to 1 and scaling is performed\n",
    "                    using the minimum of these values. For sign=`all`, outliers\n",
    "                    and scale value are computed using absolute value of\n",
    "                    attributions.\n",
    "                    Default: 2\n",
    "        cmap (str, optional): String corresponding to desired colormap for\n",
    "                    heatmap visualization. This defaults to \"Reds\" for negative\n",
    "                    sign, \"Blues\" for absolute value, \"Greens\" for positive sign,\n",
    "                    and a spectrum from red to green for all. Note that this\n",
    "                    argument is only used for visualizations displaying heatmaps.\n",
    "                    Default: None\n",
    "        alpha_overlay (float, optional): Alpha to set for heatmap when using\n",
    "                    `blended_heat_map` visualization mode, which overlays the\n",
    "                    heat map over the greyscaled original image.\n",
    "                    Default: 0.5\n",
    "        show_colorbar (bool, optional): Displays colorbar for heatmap below\n",
    "                    the visualization. If given method does not use a heatmap,\n",
    "                    then a colormap axis is created and hidden. This is\n",
    "                    necessary for appropriate alignment when visualizing\n",
    "                    multiple plots, some with colorbars and some without.\n",
    "                    Default: False\n",
    "        title (str, optional): Title string for plot. If None, no title is\n",
    "                    set.\n",
    "                    Default: None\n",
    "        fig_size (tuple, optional): Size of figure created.\n",
    "                    Default: (6,6)\n",
    "        use_pyplot (bool, optional): If true, uses pyplot to create and show\n",
    "                    figure and displays the figure after creating. If False,\n",
    "                    uses Matplotlib object oriented API and simply returns a\n",
    "                    figure object without showing.\n",
    "                    Default: True.\n",
    "\n",
    "    Returns:\n",
    "        2-element tuple of **figure**, **axis**:\n",
    "        - **figure** (*matplotlib.pyplot.figure*):\n",
    "                    Figure object on which visualization\n",
    "                    is created. If plt_fig_axis argument is given, this is the\n",
    "                    same figure provided.\n",
    "        - **axis** (*matplotlib.pyplot.axis*):\n",
    "                    Axis object on which visualization\n",
    "                    is created. If plt_fig_axis argument is given, this is the\n",
    "                    same axis provided.\n",
    "\n",
    "    Examples::\n",
    "\n",
    "        >>> # ImageClassifier takes a single input tensor of images Nx3x32x32,\n",
    "        >>> # and returns an Nx10 tensor of class probabilities.\n",
    "        >>> net = ImageClassifier()\n",
    "        >>> ig = IntegratedGradients(net)\n",
    "        >>> # Computes integrated gradients for class 3 for a given image .\n",
    "        >>> attribution, delta = ig.attribute(orig_image, target=3)\n",
    "        >>> # Displays blended heat map visualization of computed attributions.\n",
    "        >>> _ = visualize_image_attr(attribution, orig_image, \"blended_heat_map\")\n",
    "    \"\"\"\n",
    "    # Create plot if figure, axis not provided\n",
    "    if plt_fig_axis is not None:\n",
    "        plt_fig, plt_axis = plt_fig_axis\n",
    "    else:\n",
    "        if use_pyplot:\n",
    "            plt_fig, plt_axis = plt.subplots(figsize=fig_size)\n",
    "        else:\n",
    "            plt_fig = Figure(figsize=fig_size)\n",
    "            plt_axis = plt_fig.subplots()\n",
    "\n",
    "    if original_image is not None:\n",
    "        if np.max(original_image) <= 1.0:\n",
    "            original_image = _prepare_image(original_image * 255)\n",
    "    elif ImageVisualizationMethod[method] != ImageVisualizationMethod.heat_map:\n",
    "        raise ValueError(\n",
    "            \"Original Image must be provided for\"\n",
    "            \"any visualization other than heatmap.\"\n",
    "        )\n",
    "\n",
    "    # Remove ticks and tick labels from plot.\n",
    "    plt_axis.xaxis.set_ticks_position(\"none\")\n",
    "    plt_axis.yaxis.set_ticks_position(\"none\")\n",
    "    plt_axis.set_yticklabels([])\n",
    "    plt_axis.set_xticklabels([])\n",
    "    plt_axis.grid(visible=False)\n",
    "\n",
    "    heat_map = None\n",
    "    # Show original image\n",
    "    if ImageVisualizationMethod[method] == ImageVisualizationMethod.original_image:\n",
    "        assert (\n",
    "            original_image is not None\n",
    "        ), \"Original image expected for original_image method.\"\n",
    "        if len(original_image.shape) > 2 and original_image.shape[2] == 1:\n",
    "            original_image = np.squeeze(original_image, axis=2)\n",
    "        plt_axis.imshow(original_image)\n",
    "    else:\n",
    "        # Choose appropriate signed attributions and normalize.\n",
    "        norm_attr = _normalize_attr(attr, sign, outlier_perc, reduction_axis=2)\n",
    "\n",
    "        # Set default colormap and bounds based on sign.\n",
    "        if VisualizeSign[sign] == VisualizeSign.all:\n",
    "            default_cmap = LinearSegmentedColormap.from_list(\n",
    "                \"RdWhGn\", [\"red\", \"white\", \"green\"]\n",
    "            )\n",
    "            vmin, vmax = -1, 1\n",
    "        elif VisualizeSign[sign] == VisualizeSign.positive:\n",
    "            default_cmap = \"Greens\"\n",
    "            vmin, vmax = 0, 1\n",
    "        elif VisualizeSign[sign] == VisualizeSign.negative:\n",
    "            default_cmap = \"Reds\"\n",
    "            vmin, vmax = 0, 1\n",
    "        elif VisualizeSign[sign] == VisualizeSign.absolute_value:\n",
    "            default_cmap = \"Blues\"\n",
    "            vmin, vmax = 0, 1\n",
    "        else:\n",
    "            raise AssertionError(\"Visualize Sign type is not valid.\")\n",
    "        cmap = cmap if cmap is not None else default_cmap\n",
    "\n",
    "        # Show appropriate image visualization.\n",
    "        if ImageVisualizationMethod[method] == ImageVisualizationMethod.heat_map:\n",
    "            heat_map = plt_axis.imshow(norm_attr, cmap=cmap, vmin=vmin, vmax=vmax)\n",
    "        elif (\n",
    "            ImageVisualizationMethod[method]\n",
    "            == ImageVisualizationMethod.blended_heat_map\n",
    "        ):\n",
    "            assert (\n",
    "                original_image is not None\n",
    "            ), \"Original Image expected for blended_heat_map method.\"\n",
    "            plt_axis.imshow(np.mean(original_image, axis=2), cmap=\"gray\")\n",
    "            heat_map = plt_axis.imshow(\n",
    "                norm_attr, cmap=cmap, vmin=vmin, vmax=vmax, alpha=alpha_overlay\n",
    "            )\n",
    "        elif ImageVisualizationMethod[method] == ImageVisualizationMethod.masked_image:\n",
    "            assert VisualizeSign[sign] != VisualizeSign.all, (\n",
    "                \"Cannot display masked image with both positive and negative \"\n",
    "                \"attributions, choose a different sign option.\"\n",
    "            )\n",
    "            plt_axis.imshow(\n",
    "                _prepare_image(original_image * np.expand_dims(norm_attr, 2))\n",
    "            )\n",
    "        elif ImageVisualizationMethod[method] == ImageVisualizationMethod.alpha_scaling:\n",
    "            assert VisualizeSign[sign] != VisualizeSign.all, (\n",
    "                \"Cannot display alpha scaling with both positive and negative \"\n",
    "                \"attributions, choose a different sign option.\"\n",
    "            )\n",
    "            plt_axis.imshow(\n",
    "                np.concatenate(\n",
    "                    [\n",
    "                        original_image,\n",
    "                        _prepare_image(np.expand_dims(norm_attr, 2) * 255),\n",
    "                    ],\n",
    "                    axis=2,\n",
    "                )\n",
    "            )\n",
    "        else:\n",
    "            raise AssertionError(\"Visualize Method type is not valid.\")\n",
    "\n",
    "    # Add colorbar. If given method is not a heatmap and no colormap is relevant,\n",
    "    # then a colormap axis is created and hidden. This is necessary for appropriate\n",
    "    # alignment when visualizing multiple plots, some with heatmaps and some\n",
    "    # without.\n",
    "    if show_colorbar:\n",
    "        axis_separator = make_axes_locatable(plt_axis)\n",
    "        colorbar_axis = axis_separator.append_axes(\"bottom\", size=\"5%\", pad=0.1)\n",
    "        if heat_map:\n",
    "            plt_fig.colorbar(heat_map, orientation=\"horizontal\", cax=colorbar_axis)\n",
    "        else:\n",
    "            colorbar_axis.axis(\"off\")\n",
    "    if title:\n",
    "        plt_axis.set_title(title)\n",
    "\n",
    "    if use_pyplot:\n",
    "        plt.show()\n",
    "\n",
    "    return plt_fig, plt_axis"
   ]
  },
  {
   "cell_type": "markdown",
   "id": "0dce0bb2",
   "metadata": {
    "id": "03NSEm1hf5Yk",
    "papermill": {
     "duration": 0.014949,
     "end_time": "2023-06-10T10:40:36.305249",
     "exception": false,
     "start_time": "2023-06-10T10:40:36.290300",
     "status": "completed"
    },
    "tags": []
   },
   "source": [
    "## Setup Blackbox & XAI methods"
   ]
  },
  {
   "cell_type": "code",
   "execution_count": 11,
   "id": "ffeea3c1",
   "metadata": {
    "execution": {
     "iopub.execute_input": "2023-06-10T10:40:36.337283Z",
     "iopub.status.busy": "2023-06-10T10:40:36.337028Z",
     "iopub.status.idle": "2023-06-10T10:40:41.974670Z",
     "shell.execute_reply": "2023-06-10T10:40:41.973803Z"
    },
    "id": "LfEomGL_M8DD",
    "outputId": "74ea6d0c-3386-4b7c-8e1d-2f272fd640e7",
    "papermill": {
     "duration": 5.655963,
     "end_time": "2023-06-10T10:40:41.976846",
     "exception": false,
     "start_time": "2023-06-10T10:40:36.320883",
     "status": "completed"
    },
    "tags": []
   },
   "outputs": [
    {
     "data": {
      "text/plain": [
       "DataParallel(\n",
       "  (module): Inception3(\n",
       "    (Conv2d_1a_3x3): BasicConv2d(\n",
       "      (conv): Conv2d(3, 32, kernel_size=(3, 3), stride=(2, 2), bias=False)\n",
       "      (bn): BatchNorm2d(32, eps=0.001, momentum=0.1, affine=True, track_running_stats=True)\n",
       "    )\n",
       "    (Conv2d_2a_3x3): BasicConv2d(\n",
       "      (conv): Conv2d(32, 32, kernel_size=(3, 3), stride=(1, 1), bias=False)\n",
       "      (bn): BatchNorm2d(32, eps=0.001, momentum=0.1, affine=True, track_running_stats=True)\n",
       "    )\n",
       "    (Conv2d_2b_3x3): BasicConv2d(\n",
       "      (conv): Conv2d(32, 64, kernel_size=(3, 3), stride=(1, 1), padding=(1, 1), bias=False)\n",
       "      (bn): BatchNorm2d(64, eps=0.001, momentum=0.1, affine=True, track_running_stats=True)\n",
       "    )\n",
       "    (maxpool1): MaxPool2d(kernel_size=3, stride=2, padding=0, dilation=1, ceil_mode=False)\n",
       "    (Conv2d_3b_1x1): BasicConv2d(\n",
       "      (conv): Conv2d(64, 80, kernel_size=(1, 1), stride=(1, 1), bias=False)\n",
       "      (bn): BatchNorm2d(80, eps=0.001, momentum=0.1, affine=True, track_running_stats=True)\n",
       "    )\n",
       "    (Conv2d_4a_3x3): BasicConv2d(\n",
       "      (conv): Conv2d(80, 192, kernel_size=(3, 3), stride=(1, 1), bias=False)\n",
       "      (bn): BatchNorm2d(192, eps=0.001, momentum=0.1, affine=True, track_running_stats=True)\n",
       "    )\n",
       "    (maxpool2): MaxPool2d(kernel_size=3, stride=2, padding=0, dilation=1, ceil_mode=False)\n",
       "    (Mixed_5b): InceptionA(\n",
       "      (branch1x1): BasicConv2d(\n",
       "        (conv): Conv2d(192, 64, kernel_size=(1, 1), stride=(1, 1), bias=False)\n",
       "        (bn): BatchNorm2d(64, eps=0.001, momentum=0.1, affine=True, track_running_stats=True)\n",
       "      )\n",
       "      (branch5x5_1): BasicConv2d(\n",
       "        (conv): Conv2d(192, 48, kernel_size=(1, 1), stride=(1, 1), bias=False)\n",
       "        (bn): BatchNorm2d(48, eps=0.001, momentum=0.1, affine=True, track_running_stats=True)\n",
       "      )\n",
       "      (branch5x5_2): BasicConv2d(\n",
       "        (conv): Conv2d(48, 64, kernel_size=(5, 5), stride=(1, 1), padding=(2, 2), bias=False)\n",
       "        (bn): BatchNorm2d(64, eps=0.001, momentum=0.1, affine=True, track_running_stats=True)\n",
       "      )\n",
       "      (branch3x3dbl_1): BasicConv2d(\n",
       "        (conv): Conv2d(192, 64, kernel_size=(1, 1), stride=(1, 1), bias=False)\n",
       "        (bn): BatchNorm2d(64, eps=0.001, momentum=0.1, affine=True, track_running_stats=True)\n",
       "      )\n",
       "      (branch3x3dbl_2): BasicConv2d(\n",
       "        (conv): Conv2d(64, 96, kernel_size=(3, 3), stride=(1, 1), padding=(1, 1), bias=False)\n",
       "        (bn): BatchNorm2d(96, eps=0.001, momentum=0.1, affine=True, track_running_stats=True)\n",
       "      )\n",
       "      (branch3x3dbl_3): BasicConv2d(\n",
       "        (conv): Conv2d(96, 96, kernel_size=(3, 3), stride=(1, 1), padding=(1, 1), bias=False)\n",
       "        (bn): BatchNorm2d(96, eps=0.001, momentum=0.1, affine=True, track_running_stats=True)\n",
       "      )\n",
       "      (branch_pool): BasicConv2d(\n",
       "        (conv): Conv2d(192, 32, kernel_size=(1, 1), stride=(1, 1), bias=False)\n",
       "        (bn): BatchNorm2d(32, eps=0.001, momentum=0.1, affine=True, track_running_stats=True)\n",
       "      )\n",
       "    )\n",
       "    (Mixed_5c): InceptionA(\n",
       "      (branch1x1): BasicConv2d(\n",
       "        (conv): Conv2d(256, 64, kernel_size=(1, 1), stride=(1, 1), bias=False)\n",
       "        (bn): BatchNorm2d(64, eps=0.001, momentum=0.1, affine=True, track_running_stats=True)\n",
       "      )\n",
       "      (branch5x5_1): BasicConv2d(\n",
       "        (conv): Conv2d(256, 48, kernel_size=(1, 1), stride=(1, 1), bias=False)\n",
       "        (bn): BatchNorm2d(48, eps=0.001, momentum=0.1, affine=True, track_running_stats=True)\n",
       "      )\n",
       "      (branch5x5_2): BasicConv2d(\n",
       "        (conv): Conv2d(48, 64, kernel_size=(5, 5), stride=(1, 1), padding=(2, 2), bias=False)\n",
       "        (bn): BatchNorm2d(64, eps=0.001, momentum=0.1, affine=True, track_running_stats=True)\n",
       "      )\n",
       "      (branch3x3dbl_1): BasicConv2d(\n",
       "        (conv): Conv2d(256, 64, kernel_size=(1, 1), stride=(1, 1), bias=False)\n",
       "        (bn): BatchNorm2d(64, eps=0.001, momentum=0.1, affine=True, track_running_stats=True)\n",
       "      )\n",
       "      (branch3x3dbl_2): BasicConv2d(\n",
       "        (conv): Conv2d(64, 96, kernel_size=(3, 3), stride=(1, 1), padding=(1, 1), bias=False)\n",
       "        (bn): BatchNorm2d(96, eps=0.001, momentum=0.1, affine=True, track_running_stats=True)\n",
       "      )\n",
       "      (branch3x3dbl_3): BasicConv2d(\n",
       "        (conv): Conv2d(96, 96, kernel_size=(3, 3), stride=(1, 1), padding=(1, 1), bias=False)\n",
       "        (bn): BatchNorm2d(96, eps=0.001, momentum=0.1, affine=True, track_running_stats=True)\n",
       "      )\n",
       "      (branch_pool): BasicConv2d(\n",
       "        (conv): Conv2d(256, 64, kernel_size=(1, 1), stride=(1, 1), bias=False)\n",
       "        (bn): BatchNorm2d(64, eps=0.001, momentum=0.1, affine=True, track_running_stats=True)\n",
       "      )\n",
       "    )\n",
       "    (Mixed_5d): InceptionA(\n",
       "      (branch1x1): BasicConv2d(\n",
       "        (conv): Conv2d(288, 64, kernel_size=(1, 1), stride=(1, 1), bias=False)\n",
       "        (bn): BatchNorm2d(64, eps=0.001, momentum=0.1, affine=True, track_running_stats=True)\n",
       "      )\n",
       "      (branch5x5_1): BasicConv2d(\n",
       "        (conv): Conv2d(288, 48, kernel_size=(1, 1), stride=(1, 1), bias=False)\n",
       "        (bn): BatchNorm2d(48, eps=0.001, momentum=0.1, affine=True, track_running_stats=True)\n",
       "      )\n",
       "      (branch5x5_2): BasicConv2d(\n",
       "        (conv): Conv2d(48, 64, kernel_size=(5, 5), stride=(1, 1), padding=(2, 2), bias=False)\n",
       "        (bn): BatchNorm2d(64, eps=0.001, momentum=0.1, affine=True, track_running_stats=True)\n",
       "      )\n",
       "      (branch3x3dbl_1): BasicConv2d(\n",
       "        (conv): Conv2d(288, 64, kernel_size=(1, 1), stride=(1, 1), bias=False)\n",
       "        (bn): BatchNorm2d(64, eps=0.001, momentum=0.1, affine=True, track_running_stats=True)\n",
       "      )\n",
       "      (branch3x3dbl_2): BasicConv2d(\n",
       "        (conv): Conv2d(64, 96, kernel_size=(3, 3), stride=(1, 1), padding=(1, 1), bias=False)\n",
       "        (bn): BatchNorm2d(96, eps=0.001, momentum=0.1, affine=True, track_running_stats=True)\n",
       "      )\n",
       "      (branch3x3dbl_3): BasicConv2d(\n",
       "        (conv): Conv2d(96, 96, kernel_size=(3, 3), stride=(1, 1), padding=(1, 1), bias=False)\n",
       "        (bn): BatchNorm2d(96, eps=0.001, momentum=0.1, affine=True, track_running_stats=True)\n",
       "      )\n",
       "      (branch_pool): BasicConv2d(\n",
       "        (conv): Conv2d(288, 64, kernel_size=(1, 1), stride=(1, 1), bias=False)\n",
       "        (bn): BatchNorm2d(64, eps=0.001, momentum=0.1, affine=True, track_running_stats=True)\n",
       "      )\n",
       "    )\n",
       "    (Mixed_6a): InceptionB(\n",
       "      (branch3x3): BasicConv2d(\n",
       "        (conv): Conv2d(288, 384, kernel_size=(3, 3), stride=(2, 2), bias=False)\n",
       "        (bn): BatchNorm2d(384, eps=0.001, momentum=0.1, affine=True, track_running_stats=True)\n",
       "      )\n",
       "      (branch3x3dbl_1): BasicConv2d(\n",
       "        (conv): Conv2d(288, 64, kernel_size=(1, 1), stride=(1, 1), bias=False)\n",
       "        (bn): BatchNorm2d(64, eps=0.001, momentum=0.1, affine=True, track_running_stats=True)\n",
       "      )\n",
       "      (branch3x3dbl_2): BasicConv2d(\n",
       "        (conv): Conv2d(64, 96, kernel_size=(3, 3), stride=(1, 1), padding=(1, 1), bias=False)\n",
       "        (bn): BatchNorm2d(96, eps=0.001, momentum=0.1, affine=True, track_running_stats=True)\n",
       "      )\n",
       "      (branch3x3dbl_3): BasicConv2d(\n",
       "        (conv): Conv2d(96, 96, kernel_size=(3, 3), stride=(2, 2), bias=False)\n",
       "        (bn): BatchNorm2d(96, eps=0.001, momentum=0.1, affine=True, track_running_stats=True)\n",
       "      )\n",
       "    )\n",
       "    (Mixed_6b): InceptionC(\n",
       "      (branch1x1): BasicConv2d(\n",
       "        (conv): Conv2d(768, 192, kernel_size=(1, 1), stride=(1, 1), bias=False)\n",
       "        (bn): BatchNorm2d(192, eps=0.001, momentum=0.1, affine=True, track_running_stats=True)\n",
       "      )\n",
       "      (branch7x7_1): BasicConv2d(\n",
       "        (conv): Conv2d(768, 128, kernel_size=(1, 1), stride=(1, 1), bias=False)\n",
       "        (bn): BatchNorm2d(128, eps=0.001, momentum=0.1, affine=True, track_running_stats=True)\n",
       "      )\n",
       "      (branch7x7_2): BasicConv2d(\n",
       "        (conv): Conv2d(128, 128, kernel_size=(1, 7), stride=(1, 1), padding=(0, 3), bias=False)\n",
       "        (bn): BatchNorm2d(128, eps=0.001, momentum=0.1, affine=True, track_running_stats=True)\n",
       "      )\n",
       "      (branch7x7_3): BasicConv2d(\n",
       "        (conv): Conv2d(128, 192, kernel_size=(7, 1), stride=(1, 1), padding=(3, 0), bias=False)\n",
       "        (bn): BatchNorm2d(192, eps=0.001, momentum=0.1, affine=True, track_running_stats=True)\n",
       "      )\n",
       "      (branch7x7dbl_1): BasicConv2d(\n",
       "        (conv): Conv2d(768, 128, kernel_size=(1, 1), stride=(1, 1), bias=False)\n",
       "        (bn): BatchNorm2d(128, eps=0.001, momentum=0.1, affine=True, track_running_stats=True)\n",
       "      )\n",
       "      (branch7x7dbl_2): BasicConv2d(\n",
       "        (conv): Conv2d(128, 128, kernel_size=(7, 1), stride=(1, 1), padding=(3, 0), bias=False)\n",
       "        (bn): BatchNorm2d(128, eps=0.001, momentum=0.1, affine=True, track_running_stats=True)\n",
       "      )\n",
       "      (branch7x7dbl_3): BasicConv2d(\n",
       "        (conv): Conv2d(128, 128, kernel_size=(1, 7), stride=(1, 1), padding=(0, 3), bias=False)\n",
       "        (bn): BatchNorm2d(128, eps=0.001, momentum=0.1, affine=True, track_running_stats=True)\n",
       "      )\n",
       "      (branch7x7dbl_4): BasicConv2d(\n",
       "        (conv): Conv2d(128, 128, kernel_size=(7, 1), stride=(1, 1), padding=(3, 0), bias=False)\n",
       "        (bn): BatchNorm2d(128, eps=0.001, momentum=0.1, affine=True, track_running_stats=True)\n",
       "      )\n",
       "      (branch7x7dbl_5): BasicConv2d(\n",
       "        (conv): Conv2d(128, 192, kernel_size=(1, 7), stride=(1, 1), padding=(0, 3), bias=False)\n",
       "        (bn): BatchNorm2d(192, eps=0.001, momentum=0.1, affine=True, track_running_stats=True)\n",
       "      )\n",
       "      (branch_pool): BasicConv2d(\n",
       "        (conv): Conv2d(768, 192, kernel_size=(1, 1), stride=(1, 1), bias=False)\n",
       "        (bn): BatchNorm2d(192, eps=0.001, momentum=0.1, affine=True, track_running_stats=True)\n",
       "      )\n",
       "    )\n",
       "    (Mixed_6c): InceptionC(\n",
       "      (branch1x1): BasicConv2d(\n",
       "        (conv): Conv2d(768, 192, kernel_size=(1, 1), stride=(1, 1), bias=False)\n",
       "        (bn): BatchNorm2d(192, eps=0.001, momentum=0.1, affine=True, track_running_stats=True)\n",
       "      )\n",
       "      (branch7x7_1): BasicConv2d(\n",
       "        (conv): Conv2d(768, 160, kernel_size=(1, 1), stride=(1, 1), bias=False)\n",
       "        (bn): BatchNorm2d(160, eps=0.001, momentum=0.1, affine=True, track_running_stats=True)\n",
       "      )\n",
       "      (branch7x7_2): BasicConv2d(\n",
       "        (conv): Conv2d(160, 160, kernel_size=(1, 7), stride=(1, 1), padding=(0, 3), bias=False)\n",
       "        (bn): BatchNorm2d(160, eps=0.001, momentum=0.1, affine=True, track_running_stats=True)\n",
       "      )\n",
       "      (branch7x7_3): BasicConv2d(\n",
       "        (conv): Conv2d(160, 192, kernel_size=(7, 1), stride=(1, 1), padding=(3, 0), bias=False)\n",
       "        (bn): BatchNorm2d(192, eps=0.001, momentum=0.1, affine=True, track_running_stats=True)\n",
       "      )\n",
       "      (branch7x7dbl_1): BasicConv2d(\n",
       "        (conv): Conv2d(768, 160, kernel_size=(1, 1), stride=(1, 1), bias=False)\n",
       "        (bn): BatchNorm2d(160, eps=0.001, momentum=0.1, affine=True, track_running_stats=True)\n",
       "      )\n",
       "      (branch7x7dbl_2): BasicConv2d(\n",
       "        (conv): Conv2d(160, 160, kernel_size=(7, 1), stride=(1, 1), padding=(3, 0), bias=False)\n",
       "        (bn): BatchNorm2d(160, eps=0.001, momentum=0.1, affine=True, track_running_stats=True)\n",
       "      )\n",
       "      (branch7x7dbl_3): BasicConv2d(\n",
       "        (conv): Conv2d(160, 160, kernel_size=(1, 7), stride=(1, 1), padding=(0, 3), bias=False)\n",
       "        (bn): BatchNorm2d(160, eps=0.001, momentum=0.1, affine=True, track_running_stats=True)\n",
       "      )\n",
       "      (branch7x7dbl_4): BasicConv2d(\n",
       "        (conv): Conv2d(160, 160, kernel_size=(7, 1), stride=(1, 1), padding=(3, 0), bias=False)\n",
       "        (bn): BatchNorm2d(160, eps=0.001, momentum=0.1, affine=True, track_running_stats=True)\n",
       "      )\n",
       "      (branch7x7dbl_5): BasicConv2d(\n",
       "        (conv): Conv2d(160, 192, kernel_size=(1, 7), stride=(1, 1), padding=(0, 3), bias=False)\n",
       "        (bn): BatchNorm2d(192, eps=0.001, momentum=0.1, affine=True, track_running_stats=True)\n",
       "      )\n",
       "      (branch_pool): BasicConv2d(\n",
       "        (conv): Conv2d(768, 192, kernel_size=(1, 1), stride=(1, 1), bias=False)\n",
       "        (bn): BatchNorm2d(192, eps=0.001, momentum=0.1, affine=True, track_running_stats=True)\n",
       "      )\n",
       "    )\n",
       "    (Mixed_6d): InceptionC(\n",
       "      (branch1x1): BasicConv2d(\n",
       "        (conv): Conv2d(768, 192, kernel_size=(1, 1), stride=(1, 1), bias=False)\n",
       "        (bn): BatchNorm2d(192, eps=0.001, momentum=0.1, affine=True, track_running_stats=True)\n",
       "      )\n",
       "      (branch7x7_1): BasicConv2d(\n",
       "        (conv): Conv2d(768, 160, kernel_size=(1, 1), stride=(1, 1), bias=False)\n",
       "        (bn): BatchNorm2d(160, eps=0.001, momentum=0.1, affine=True, track_running_stats=True)\n",
       "      )\n",
       "      (branch7x7_2): BasicConv2d(\n",
       "        (conv): Conv2d(160, 160, kernel_size=(1, 7), stride=(1, 1), padding=(0, 3), bias=False)\n",
       "        (bn): BatchNorm2d(160, eps=0.001, momentum=0.1, affine=True, track_running_stats=True)\n",
       "      )\n",
       "      (branch7x7_3): BasicConv2d(\n",
       "        (conv): Conv2d(160, 192, kernel_size=(7, 1), stride=(1, 1), padding=(3, 0), bias=False)\n",
       "        (bn): BatchNorm2d(192, eps=0.001, momentum=0.1, affine=True, track_running_stats=True)\n",
       "      )\n",
       "      (branch7x7dbl_1): BasicConv2d(\n",
       "        (conv): Conv2d(768, 160, kernel_size=(1, 1), stride=(1, 1), bias=False)\n",
       "        (bn): BatchNorm2d(160, eps=0.001, momentum=0.1, affine=True, track_running_stats=True)\n",
       "      )\n",
       "      (branch7x7dbl_2): BasicConv2d(\n",
       "        (conv): Conv2d(160, 160, kernel_size=(7, 1), stride=(1, 1), padding=(3, 0), bias=False)\n",
       "        (bn): BatchNorm2d(160, eps=0.001, momentum=0.1, affine=True, track_running_stats=True)\n",
       "      )\n",
       "      (branch7x7dbl_3): BasicConv2d(\n",
       "        (conv): Conv2d(160, 160, kernel_size=(1, 7), stride=(1, 1), padding=(0, 3), bias=False)\n",
       "        (bn): BatchNorm2d(160, eps=0.001, momentum=0.1, affine=True, track_running_stats=True)\n",
       "      )\n",
       "      (branch7x7dbl_4): BasicConv2d(\n",
       "        (conv): Conv2d(160, 160, kernel_size=(7, 1), stride=(1, 1), padding=(3, 0), bias=False)\n",
       "        (bn): BatchNorm2d(160, eps=0.001, momentum=0.1, affine=True, track_running_stats=True)\n",
       "      )\n",
       "      (branch7x7dbl_5): BasicConv2d(\n",
       "        (conv): Conv2d(160, 192, kernel_size=(1, 7), stride=(1, 1), padding=(0, 3), bias=False)\n",
       "        (bn): BatchNorm2d(192, eps=0.001, momentum=0.1, affine=True, track_running_stats=True)\n",
       "      )\n",
       "      (branch_pool): BasicConv2d(\n",
       "        (conv): Conv2d(768, 192, kernel_size=(1, 1), stride=(1, 1), bias=False)\n",
       "        (bn): BatchNorm2d(192, eps=0.001, momentum=0.1, affine=True, track_running_stats=True)\n",
       "      )\n",
       "    )\n",
       "    (Mixed_6e): InceptionC(\n",
       "      (branch1x1): BasicConv2d(\n",
       "        (conv): Conv2d(768, 192, kernel_size=(1, 1), stride=(1, 1), bias=False)\n",
       "        (bn): BatchNorm2d(192, eps=0.001, momentum=0.1, affine=True, track_running_stats=True)\n",
       "      )\n",
       "      (branch7x7_1): BasicConv2d(\n",
       "        (conv): Conv2d(768, 192, kernel_size=(1, 1), stride=(1, 1), bias=False)\n",
       "        (bn): BatchNorm2d(192, eps=0.001, momentum=0.1, affine=True, track_running_stats=True)\n",
       "      )\n",
       "      (branch7x7_2): BasicConv2d(\n",
       "        (conv): Conv2d(192, 192, kernel_size=(1, 7), stride=(1, 1), padding=(0, 3), bias=False)\n",
       "        (bn): BatchNorm2d(192, eps=0.001, momentum=0.1, affine=True, track_running_stats=True)\n",
       "      )\n",
       "      (branch7x7_3): BasicConv2d(\n",
       "        (conv): Conv2d(192, 192, kernel_size=(7, 1), stride=(1, 1), padding=(3, 0), bias=False)\n",
       "        (bn): BatchNorm2d(192, eps=0.001, momentum=0.1, affine=True, track_running_stats=True)\n",
       "      )\n",
       "      (branch7x7dbl_1): BasicConv2d(\n",
       "        (conv): Conv2d(768, 192, kernel_size=(1, 1), stride=(1, 1), bias=False)\n",
       "        (bn): BatchNorm2d(192, eps=0.001, momentum=0.1, affine=True, track_running_stats=True)\n",
       "      )\n",
       "      (branch7x7dbl_2): BasicConv2d(\n",
       "        (conv): Conv2d(192, 192, kernel_size=(7, 1), stride=(1, 1), padding=(3, 0), bias=False)\n",
       "        (bn): BatchNorm2d(192, eps=0.001, momentum=0.1, affine=True, track_running_stats=True)\n",
       "      )\n",
       "      (branch7x7dbl_3): BasicConv2d(\n",
       "        (conv): Conv2d(192, 192, kernel_size=(1, 7), stride=(1, 1), padding=(0, 3), bias=False)\n",
       "        (bn): BatchNorm2d(192, eps=0.001, momentum=0.1, affine=True, track_running_stats=True)\n",
       "      )\n",
       "      (branch7x7dbl_4): BasicConv2d(\n",
       "        (conv): Conv2d(192, 192, kernel_size=(7, 1), stride=(1, 1), padding=(3, 0), bias=False)\n",
       "        (bn): BatchNorm2d(192, eps=0.001, momentum=0.1, affine=True, track_running_stats=True)\n",
       "      )\n",
       "      (branch7x7dbl_5): BasicConv2d(\n",
       "        (conv): Conv2d(192, 192, kernel_size=(1, 7), stride=(1, 1), padding=(0, 3), bias=False)\n",
       "        (bn): BatchNorm2d(192, eps=0.001, momentum=0.1, affine=True, track_running_stats=True)\n",
       "      )\n",
       "      (branch_pool): BasicConv2d(\n",
       "        (conv): Conv2d(768, 192, kernel_size=(1, 1), stride=(1, 1), bias=False)\n",
       "        (bn): BatchNorm2d(192, eps=0.001, momentum=0.1, affine=True, track_running_stats=True)\n",
       "      )\n",
       "    )\n",
       "    (AuxLogits): InceptionAux(\n",
       "      (conv0): BasicConv2d(\n",
       "        (conv): Conv2d(768, 128, kernel_size=(1, 1), stride=(1, 1), bias=False)\n",
       "        (bn): BatchNorm2d(128, eps=0.001, momentum=0.1, affine=True, track_running_stats=True)\n",
       "      )\n",
       "      (conv1): BasicConv2d(\n",
       "        (conv): Conv2d(128, 768, kernel_size=(5, 5), stride=(1, 1), bias=False)\n",
       "        (bn): BatchNorm2d(768, eps=0.001, momentum=0.1, affine=True, track_running_stats=True)\n",
       "      )\n",
       "      (fc): Linear(in_features=768, out_features=1000, bias=True)\n",
       "    )\n",
       "    (Mixed_7a): InceptionD(\n",
       "      (branch3x3_1): BasicConv2d(\n",
       "        (conv): Conv2d(768, 192, kernel_size=(1, 1), stride=(1, 1), bias=False)\n",
       "        (bn): BatchNorm2d(192, eps=0.001, momentum=0.1, affine=True, track_running_stats=True)\n",
       "      )\n",
       "      (branch3x3_2): BasicConv2d(\n",
       "        (conv): Conv2d(192, 320, kernel_size=(3, 3), stride=(2, 2), bias=False)\n",
       "        (bn): BatchNorm2d(320, eps=0.001, momentum=0.1, affine=True, track_running_stats=True)\n",
       "      )\n",
       "      (branch7x7x3_1): BasicConv2d(\n",
       "        (conv): Conv2d(768, 192, kernel_size=(1, 1), stride=(1, 1), bias=False)\n",
       "        (bn): BatchNorm2d(192, eps=0.001, momentum=0.1, affine=True, track_running_stats=True)\n",
       "      )\n",
       "      (branch7x7x3_2): BasicConv2d(\n",
       "        (conv): Conv2d(192, 192, kernel_size=(1, 7), stride=(1, 1), padding=(0, 3), bias=False)\n",
       "        (bn): BatchNorm2d(192, eps=0.001, momentum=0.1, affine=True, track_running_stats=True)\n",
       "      )\n",
       "      (branch7x7x3_3): BasicConv2d(\n",
       "        (conv): Conv2d(192, 192, kernel_size=(7, 1), stride=(1, 1), padding=(3, 0), bias=False)\n",
       "        (bn): BatchNorm2d(192, eps=0.001, momentum=0.1, affine=True, track_running_stats=True)\n",
       "      )\n",
       "      (branch7x7x3_4): BasicConv2d(\n",
       "        (conv): Conv2d(192, 192, kernel_size=(3, 3), stride=(2, 2), bias=False)\n",
       "        (bn): BatchNorm2d(192, eps=0.001, momentum=0.1, affine=True, track_running_stats=True)\n",
       "      )\n",
       "    )\n",
       "    (Mixed_7b): InceptionE(\n",
       "      (branch1x1): BasicConv2d(\n",
       "        (conv): Conv2d(1280, 320, kernel_size=(1, 1), stride=(1, 1), bias=False)\n",
       "        (bn): BatchNorm2d(320, eps=0.001, momentum=0.1, affine=True, track_running_stats=True)\n",
       "      )\n",
       "      (branch3x3_1): BasicConv2d(\n",
       "        (conv): Conv2d(1280, 384, kernel_size=(1, 1), stride=(1, 1), bias=False)\n",
       "        (bn): BatchNorm2d(384, eps=0.001, momentum=0.1, affine=True, track_running_stats=True)\n",
       "      )\n",
       "      (branch3x3_2a): BasicConv2d(\n",
       "        (conv): Conv2d(384, 384, kernel_size=(1, 3), stride=(1, 1), padding=(0, 1), bias=False)\n",
       "        (bn): BatchNorm2d(384, eps=0.001, momentum=0.1, affine=True, track_running_stats=True)\n",
       "      )\n",
       "      (branch3x3_2b): BasicConv2d(\n",
       "        (conv): Conv2d(384, 384, kernel_size=(3, 1), stride=(1, 1), padding=(1, 0), bias=False)\n",
       "        (bn): BatchNorm2d(384, eps=0.001, momentum=0.1, affine=True, track_running_stats=True)\n",
       "      )\n",
       "      (branch3x3dbl_1): BasicConv2d(\n",
       "        (conv): Conv2d(1280, 448, kernel_size=(1, 1), stride=(1, 1), bias=False)\n",
       "        (bn): BatchNorm2d(448, eps=0.001, momentum=0.1, affine=True, track_running_stats=True)\n",
       "      )\n",
       "      (branch3x3dbl_2): BasicConv2d(\n",
       "        (conv): Conv2d(448, 384, kernel_size=(3, 3), stride=(1, 1), padding=(1, 1), bias=False)\n",
       "        (bn): BatchNorm2d(384, eps=0.001, momentum=0.1, affine=True, track_running_stats=True)\n",
       "      )\n",
       "      (branch3x3dbl_3a): BasicConv2d(\n",
       "        (conv): Conv2d(384, 384, kernel_size=(1, 3), stride=(1, 1), padding=(0, 1), bias=False)\n",
       "        (bn): BatchNorm2d(384, eps=0.001, momentum=0.1, affine=True, track_running_stats=True)\n",
       "      )\n",
       "      (branch3x3dbl_3b): BasicConv2d(\n",
       "        (conv): Conv2d(384, 384, kernel_size=(3, 1), stride=(1, 1), padding=(1, 0), bias=False)\n",
       "        (bn): BatchNorm2d(384, eps=0.001, momentum=0.1, affine=True, track_running_stats=True)\n",
       "      )\n",
       "      (branch_pool): BasicConv2d(\n",
       "        (conv): Conv2d(1280, 192, kernel_size=(1, 1), stride=(1, 1), bias=False)\n",
       "        (bn): BatchNorm2d(192, eps=0.001, momentum=0.1, affine=True, track_running_stats=True)\n",
       "      )\n",
       "    )\n",
       "    (Mixed_7c): InceptionE(\n",
       "      (branch1x1): BasicConv2d(\n",
       "        (conv): Conv2d(2048, 320, kernel_size=(1, 1), stride=(1, 1), bias=False)\n",
       "        (bn): BatchNorm2d(320, eps=0.001, momentum=0.1, affine=True, track_running_stats=True)\n",
       "      )\n",
       "      (branch3x3_1): BasicConv2d(\n",
       "        (conv): Conv2d(2048, 384, kernel_size=(1, 1), stride=(1, 1), bias=False)\n",
       "        (bn): BatchNorm2d(384, eps=0.001, momentum=0.1, affine=True, track_running_stats=True)\n",
       "      )\n",
       "      (branch3x3_2a): BasicConv2d(\n",
       "        (conv): Conv2d(384, 384, kernel_size=(1, 3), stride=(1, 1), padding=(0, 1), bias=False)\n",
       "        (bn): BatchNorm2d(384, eps=0.001, momentum=0.1, affine=True, track_running_stats=True)\n",
       "      )\n",
       "      (branch3x3_2b): BasicConv2d(\n",
       "        (conv): Conv2d(384, 384, kernel_size=(3, 1), stride=(1, 1), padding=(1, 0), bias=False)\n",
       "        (bn): BatchNorm2d(384, eps=0.001, momentum=0.1, affine=True, track_running_stats=True)\n",
       "      )\n",
       "      (branch3x3dbl_1): BasicConv2d(\n",
       "        (conv): Conv2d(2048, 448, kernel_size=(1, 1), stride=(1, 1), bias=False)\n",
       "        (bn): BatchNorm2d(448, eps=0.001, momentum=0.1, affine=True, track_running_stats=True)\n",
       "      )\n",
       "      (branch3x3dbl_2): BasicConv2d(\n",
       "        (conv): Conv2d(448, 384, kernel_size=(3, 3), stride=(1, 1), padding=(1, 1), bias=False)\n",
       "        (bn): BatchNorm2d(384, eps=0.001, momentum=0.1, affine=True, track_running_stats=True)\n",
       "      )\n",
       "      (branch3x3dbl_3a): BasicConv2d(\n",
       "        (conv): Conv2d(384, 384, kernel_size=(1, 3), stride=(1, 1), padding=(0, 1), bias=False)\n",
       "        (bn): BatchNorm2d(384, eps=0.001, momentum=0.1, affine=True, track_running_stats=True)\n",
       "      )\n",
       "      (branch3x3dbl_3b): BasicConv2d(\n",
       "        (conv): Conv2d(384, 384, kernel_size=(3, 1), stride=(1, 1), padding=(1, 0), bias=False)\n",
       "        (bn): BatchNorm2d(384, eps=0.001, momentum=0.1, affine=True, track_running_stats=True)\n",
       "      )\n",
       "      (branch_pool): BasicConv2d(\n",
       "        (conv): Conv2d(2048, 192, kernel_size=(1, 1), stride=(1, 1), bias=False)\n",
       "        (bn): BatchNorm2d(192, eps=0.001, momentum=0.1, affine=True, track_running_stats=True)\n",
       "      )\n",
       "    )\n",
       "    (avgpool): AdaptiveAvgPool2d(output_size=(1, 1))\n",
       "    (dropout): Dropout(p=0.5, inplace=False)\n",
       "    (fc): Linear(in_features=2048, out_features=1000, bias=True)\n",
       "  )\n",
       ")"
      ]
     },
     "execution_count": 11,
     "metadata": {},
     "output_type": "execute_result"
    }
   ],
   "source": [
    "kaggle_checkpoint_path = '/kaggle/input/xai-pretrained-blackbox'\n",
    "colab_checkpoint_path = '/content/datasets/'\n",
    "checkpoint = torch.load(f'{kaggle_checkpoint_path if use_kaggle else colab_checkpoint_path}/inception_cp.pth')\n",
    "blackbox = models.inception_v3()\n",
    "blackbox.load_state_dict(checkpoint)\n",
    "for parameter in blackbox.parameters():\n",
    "    parameter.requires_grad = False\n",
    "blackbox = torch.nn.DataParallel(blackbox.cuda())\n",
    "blackbox.eval().to(device)"
   ]
  },
  {
   "cell_type": "code",
   "execution_count": 12,
   "id": "3b8f3189",
   "metadata": {
    "execution": {
     "iopub.execute_input": "2023-06-10T10:40:42.010835Z",
     "iopub.status.busy": "2023-06-10T10:40:42.010070Z",
     "iopub.status.idle": "2023-06-10T10:40:42.018276Z",
     "shell.execute_reply": "2023-06-10T10:40:42.017463Z"
    },
    "id": "w_pjUBZHM9Yf",
    "papermill": {
     "duration": 0.02716,
     "end_time": "2023-06-10T10:40:42.020178",
     "exception": false,
     "start_time": "2023-06-10T10:40:41.993018",
     "status": "completed"
    },
    "tags": []
   },
   "outputs": [],
   "source": [
    "sl = Saliency(blackbox)\n",
    "guided_gc = GuidedGradCam(blackbox, blackbox.module.Mixed_7c)\n",
    "gbp = GuidedBackprop(blackbox)\n",
    "lrp = LRP(blackbox)\n",
    "dls = DeepLiftShap(blackbox)\n",
    "dl = DeepLift(blackbox)\n",
    "gs = GradientShap(blackbox)\n",
    "ig = IntegratedGradients(blackbox)\n",
    "ablator = FeatureAblation(blackbox)\n",
    "occlusion = Occlusion(blackbox)\n",
    "smoothgrad = NoiseTunnel(ig)"
   ]
  },
  {
   "cell_type": "markdown",
   "id": "45534287",
   "metadata": {
    "id": "8vgOkvGgyCRy",
    "papermill": {
     "duration": 0.016157,
     "end_time": "2023-06-10T10:40:42.053056",
     "exception": false,
     "start_time": "2023-06-10T10:40:42.036899",
     "status": "completed"
    },
    "tags": []
   },
   "source": [
    "# Generate Explainations"
   ]
  },
  {
   "cell_type": "code",
   "execution_count": 13,
   "id": "ec68f5cc",
   "metadata": {
    "execution": {
     "iopub.execute_input": "2023-06-10T10:40:42.087401Z",
     "iopub.status.busy": "2023-06-10T10:40:42.086630Z",
     "iopub.status.idle": "2023-06-10T10:40:46.758475Z",
     "shell.execute_reply": "2023-06-10T10:40:46.757438Z"
    },
    "id": "hQ8hQhIoOwGo",
    "outputId": "bc981983-0b8f-45f6-c1c7-8e5b098d33a9",
    "papermill": {
     "duration": 4.69123,
     "end_time": "2023-06-10T10:40:46.760731",
     "exception": false,
     "start_time": "2023-06-10T10:40:42.069501",
     "status": "completed"
    },
    "tags": []
   },
   "outputs": [
    {
     "data": {
      "text/plain": [
       "torch.Size([1, 3, 128, 128])"
      ]
     },
     "execution_count": 13,
     "metadata": {},
     "output_type": "execute_result"
    }
   ],
   "source": [
    "x, _, _ = next(iter(ds_loader))\n",
    "rand_img_dist = torch.rand((1, *x.shape[1:])).to(device)\n",
    "rand_img_dist.shape"
   ]
  },
  {
   "cell_type": "code",
   "execution_count": 14,
   "id": "c58784fe",
   "metadata": {
    "execution": {
     "iopub.execute_input": "2023-06-10T10:40:46.795559Z",
     "iopub.status.busy": "2023-06-10T10:40:46.795254Z",
     "iopub.status.idle": "2023-06-10T10:40:46.799760Z",
     "shell.execute_reply": "2023-06-10T10:40:46.798899Z"
    },
    "id": "-JOP1plyU4uV",
    "papermill": {
     "duration": 0.024542,
     "end_time": "2023-06-10T10:40:46.801794",
     "exception": false,
     "start_time": "2023-06-10T10:40:46.777252",
     "status": "completed"
    },
    "tags": []
   },
   "outputs": [],
   "source": [
    "dataset_labels = { 0: 'normal', 1: 'Pneumothorax' }"
   ]
  },
  {
   "cell_type": "code",
   "execution_count": 15,
   "id": "dc33b971",
   "metadata": {
    "execution": {
     "iopub.execute_input": "2023-06-10T10:40:46.836973Z",
     "iopub.status.busy": "2023-06-10T10:40:46.836677Z",
     "iopub.status.idle": "2023-06-10T10:40:46.843541Z",
     "shell.execute_reply": "2023-06-10T10:40:46.842709Z"
    },
    "id": "5CQamOeyeSlE",
    "papermill": {
     "duration": 0.027234,
     "end_time": "2023-06-10T10:40:46.845564",
     "exception": false,
     "start_time": "2023-06-10T10:40:46.818330",
     "status": "completed"
    },
    "tags": []
   },
   "outputs": [],
   "source": [
    "xai_methods = {\n",
    "  \"Saliency\": { \"method\": sl , \"options\": {}},\n",
    "  \"GuidedGradCam\": { \"method\": guided_gc, \"options\": {'interpolate_mode': 'area'}},\n",
    "  \"GuidedBackprop\": { \"method\": gbp, \"options\": {}},\n",
    "  \"LRP\": { \"method\": lrp, \"options\": {}},\n",
    "  # \"DeepLiftShap\": { \"method\": dls, \"options\": {}},\n",
    "  # \"DeepLift\": { \"method\": dl, \"options\": {}},\n",
    "  \"GradientShap\": { \"method\": gs, \"options\": { 'n_samples': 16, 'stdevs': 0.0001, 'baselines': rand_img_dist }},\n",
    "  \"IntegratedGradients\": { \"method\": ig, \"options\": { 'n_steps' : 100, 'internal_batch_size': 1 }, 'baselines': rand_img_dist },\n",
    "  # \"FeatureAblation\": { \"method\": ablator, \"options\": {}},\n",
    "  \"Occlusion\": { \"method\": occlusion, \"options\": { 'sliding_window_shapes': (3,8, 8), 'strides': (3, 4, 4)}},\n",
    "  \"SmoothGrad\": {\"method\": smoothgrad, \"options\": {\"nt_type\": \"smoothgrad\"}}\n",
    "}"
   ]
  },
  {
   "cell_type": "code",
   "execution_count": 16,
   "id": "9e5c10f5",
   "metadata": {
    "execution": {
     "iopub.execute_input": "2023-06-10T10:40:46.880239Z",
     "iopub.status.busy": "2023-06-10T10:40:46.879982Z",
     "iopub.status.idle": "2023-06-10T10:40:46.885464Z",
     "shell.execute_reply": "2023-06-10T10:40:46.884612Z"
    },
    "id": "g7ERRRRjgM-t",
    "papermill": {
     "duration": 0.024764,
     "end_time": "2023-06-10T10:40:46.887402",
     "exception": false,
     "start_time": "2023-06-10T10:40:46.862638",
     "status": "completed"
    },
    "tags": []
   },
   "outputs": [],
   "source": [
    "def compute_mean_disagreement(output1, output2, metric):\n",
    "    metrics = []\n",
    "    with torch.no_grad():\n",
    "        for o1, o2 in zip(output1, output2):\n",
    "            filtered1 = o1.cpu().numpy()\n",
    "            filtered2 = o2.cpu().numpy()\n",
    "            metrics.append(metric(filtered1, filtered2))\n",
    "    return np.array(metrics).mean()"
   ]
  },
  {
   "cell_type": "code",
   "execution_count": 17,
   "id": "1dd3ef00",
   "metadata": {
    "execution": {
     "iopub.execute_input": "2023-06-10T10:40:46.921157Z",
     "iopub.status.busy": "2023-06-10T10:40:46.920429Z",
     "iopub.status.idle": "2023-06-10T10:40:46.930653Z",
     "shell.execute_reply": "2023-06-10T10:40:46.929885Z"
    },
    "id": "jTCFWTPxHqcK",
    "papermill": {
     "duration": 0.029013,
     "end_time": "2023-06-10T10:40:46.932656",
     "exception": false,
     "start_time": "2023-06-10T10:40:46.903643",
     "status": "completed"
    },
    "tags": []
   },
   "outputs": [],
   "source": [
    "from tqdm import tqdm\n",
    "import gc\n",
    "\n",
    "def visualize_explain_of(xai_methods, x, mask, y, blackbox):\n",
    "  with torch.no_grad():\n",
    "    output = torch.nn.functional.softmax(blackbox(x), dim=1)\n",
    "    _, indices = torch.topk(output, k=1, dim = 1)\n",
    "  indices = torch.flatten(indices)\n",
    "  num_methods = len(xai_methods.items())\n",
    "  for idx, img in tqdm(enumerate(x)):\n",
    "    target = indices[idx]\n",
    "    if target.item() == 0:\n",
    "      continue\n",
    "    fig, axes = plt.subplots(1, num_methods + 1, figsize = (48, 6))\n",
    "    axes[0].imshow(np.transpose(mask[idx].detach().numpy(), (1, 2, 0)))\n",
    "    for method_idx, (method_name, parameters) in enumerate(xai_methods.items()):\n",
    "      attributions = parameters[\"method\"].attribute(img.unsqueeze(0), target=target, **parameters[\"options\"])\n",
    "      # Convert the compute attribution tensor into an image-like numpy array\n",
    "      attribution = np.transpose(attributions.squeeze().cpu().detach().numpy(), (1,2,0))\n",
    "      visualize_image_attr(attribution, np.transpose(img.cpu().detach().numpy(), (1, 2,0)), \"blended_heat_map\", sign=\"positive\", title=method_name, use_pyplot=False, plt_fig_axis=(fig, axes[1 + method_idx]))\n",
    "      torch.cuda.empty_cache()\n",
    "      gc.collect()\n",
    "    plt.show()"
   ]
  },
  {
   "cell_type": "code",
   "execution_count": 18,
   "id": "90070255",
   "metadata": {
    "execution": {
     "iopub.execute_input": "2023-06-10T10:40:46.966210Z",
     "iopub.status.busy": "2023-06-10T10:40:46.965480Z",
     "iopub.status.idle": "2023-06-10T10:40:46.969479Z",
     "shell.execute_reply": "2023-06-10T10:40:46.968550Z"
    },
    "id": "XaD19sOKV-XZ",
    "outputId": "11622c5b-b9e6-4680-e88a-5e28045d0032",
    "papermill": {
     "duration": 0.022772,
     "end_time": "2023-06-10T10:40:46.971433",
     "exception": false,
     "start_time": "2023-06-10T10:40:46.948661",
     "status": "completed"
    },
    "tags": []
   },
   "outputs": [],
   "source": [
    "# visualize_explain_of(xai_methods, x.to(device), mask, y, blackbox)"
   ]
  },
  {
   "cell_type": "markdown",
   "id": "25f9a787",
   "metadata": {
    "id": "eZudcBlGD0so",
    "papermill": {
     "duration": 0.016412,
     "end_time": "2023-06-10T10:40:47.003780",
     "exception": false,
     "start_time": "2023-06-10T10:40:46.987368",
     "status": "completed"
    },
    "tags": []
   },
   "source": [
    "# Experiments"
   ]
  },
  {
   "cell_type": "markdown",
   "id": "16b46854",
   "metadata": {
    "papermill": {
     "duration": 0.015701,
     "end_time": "2023-06-10T10:40:47.036139",
     "exception": false,
     "start_time": "2023-06-10T10:40:47.020438",
     "status": "completed"
    },
    "tags": []
   },
   "source": [
    "## Utility functions"
   ]
  },
  {
   "cell_type": "code",
   "execution_count": 19,
   "id": "def92917",
   "metadata": {
    "execution": {
     "iopub.execute_input": "2023-06-10T10:40:47.071766Z",
     "iopub.status.busy": "2023-06-10T10:40:47.070984Z",
     "iopub.status.idle": "2023-06-10T10:40:47.076474Z",
     "shell.execute_reply": "2023-06-10T10:40:47.075617Z"
    },
    "id": "VUwIbTzPEA4y",
    "papermill": {
     "duration": 0.02511,
     "end_time": "2023-06-10T10:40:47.078664",
     "exception": false,
     "start_time": "2023-06-10T10:40:47.053554",
     "status": "completed"
    },
    "tags": []
   },
   "outputs": [],
   "source": [
    "def get_explanation(xai_config, batch, targets):\n",
    "    \"\"\"Return the explanation of an XAI model for an input batch\n",
    "    \"\"\"\n",
    "    xai_model = xai_config['method']\n",
    "    options = xai_config['options']\n",
    "    attribution = xai_model.attribute(batch, target=targets, **options)\n",
    "    return attribution.mean(dim=1)"
   ]
  },
  {
   "cell_type": "code",
   "execution_count": 20,
   "id": "d3fc924e",
   "metadata": {
    "execution": {
     "iopub.execute_input": "2023-06-10T10:40:47.112773Z",
     "iopub.status.busy": "2023-06-10T10:40:47.111954Z",
     "iopub.status.idle": "2023-06-10T10:40:47.116803Z",
     "shell.execute_reply": "2023-06-10T10:40:47.116022Z"
    },
    "id": "PIGlN7X9H5Aw",
    "papermill": {
     "duration": 0.023554,
     "end_time": "2023-06-10T10:40:47.118751",
     "exception": false,
     "start_time": "2023-06-10T10:40:47.095197",
     "status": "completed"
    },
    "tags": []
   },
   "outputs": [],
   "source": [
    "def normalize(x):\n",
    "    t = (x - np.min(x)) / (np.max(x) - np.min(x))\n",
    "    return t"
   ]
  },
  {
   "cell_type": "code",
   "execution_count": 21,
   "id": "c2460291",
   "metadata": {
    "execution": {
     "iopub.execute_input": "2023-06-10T10:40:47.152699Z",
     "iopub.status.busy": "2023-06-10T10:40:47.151994Z",
     "iopub.status.idle": "2023-06-10T10:40:47.156632Z",
     "shell.execute_reply": "2023-06-10T10:40:47.155803Z"
    },
    "papermill": {
     "duration": 0.023895,
     "end_time": "2023-06-10T10:40:47.158591",
     "exception": false,
     "start_time": "2023-06-10T10:40:47.134696",
     "status": "completed"
    },
    "tags": []
   },
   "outputs": [],
   "source": [
    "def normalize_sum_to_one(x):\n",
    "    norm = normalize(x)\n",
    "    return norm / norm.sum()"
   ]
  },
  {
   "cell_type": "code",
   "execution_count": 22,
   "id": "b3dac3f9",
   "metadata": {
    "execution": {
     "iopub.execute_input": "2023-06-10T10:40:47.191983Z",
     "iopub.status.busy": "2023-06-10T10:40:47.191176Z",
     "iopub.status.idle": "2023-06-10T10:40:47.196621Z",
     "shell.execute_reply": "2023-06-10T10:40:47.195782Z"
    },
    "papermill": {
     "duration": 0.024138,
     "end_time": "2023-06-10T10:40:47.198606",
     "exception": false,
     "start_time": "2023-06-10T10:40:47.174468",
     "status": "completed"
    },
    "tags": []
   },
   "outputs": [],
   "source": [
    "def compute_mean_disagreement(exp1, exp2, metric):\n",
    "    metrics = []\n",
    "    for e1, e2 in zip(exp1, exp2):\n",
    "        metrics.append(metric(e1.cpu().numpy(), e2.cpu().numpy()))\n",
    "    return np.array(metrics).mean()"
   ]
  },
  {
   "cell_type": "code",
   "execution_count": 23,
   "id": "a774398a",
   "metadata": {
    "execution": {
     "iopub.execute_input": "2023-06-10T10:40:47.232172Z",
     "iopub.status.busy": "2023-06-10T10:40:47.231756Z",
     "iopub.status.idle": "2023-06-10T10:40:47.239639Z",
     "shell.execute_reply": "2023-06-10T10:40:47.238710Z"
    },
    "id": "93Yjqi24zCns",
    "papermill": {
     "duration": 0.026663,
     "end_time": "2023-06-10T10:40:47.241538",
     "exception": false,
     "start_time": "2023-06-10T10:40:47.214875",
     "status": "completed"
    },
    "tags": []
   },
   "outputs": [],
   "source": [
    "# Obsolete\n",
    "def compute_disagreement_heatmap(list_methods, batch, blackbox, metric):\n",
    "    size = len(list_methods)\n",
    "    result = np.empty((size, size))\n",
    "    with torch.no_grad():\n",
    "        output = torch.nn.functional.softmax(blackbox(batch), dim=1)\n",
    "        _, indices = torch.topk(output, k=1, dim = 1)\n",
    "    indices = torch.flatten(indices)\n",
    "\n",
    "    attributions = []\n",
    "    for method in list_methods:\n",
    "        explanation = get_explanation(method, batch.to(device), indices.to(device))\n",
    "        gc.collect()\n",
    "        torch.cuda.empty_cache()\n",
    "        attributions.append(explanation)\n",
    "\n",
    "    for j in range(size):\n",
    "        for i in range(size):\n",
    "            if i >= j:\n",
    "                result[i, j] = compute_mean_disagreement(attributions[i], attributions[j], metric)\n",
    "            else:\n",
    "                result[i, j] = result[j, i]\n",
    "    return result"
   ]
  },
  {
   "cell_type": "markdown",
   "id": "3c62c536",
   "metadata": {
    "papermill": {
     "duration": 0.015844,
     "end_time": "2023-06-10T10:40:47.273227",
     "exception": false,
     "start_time": "2023-06-10T10:40:47.257383",
     "status": "completed"
    },
    "tags": []
   },
   "source": [
    "## Defining Metrics"
   ]
  },
  {
   "cell_type": "markdown",
   "id": "742d8d05",
   "metadata": {
    "papermill": {
     "duration": 0.015685,
     "end_time": "2023-06-10T10:40:47.304975",
     "exception": false,
     "start_time": "2023-06-10T10:40:47.289290",
     "status": "completed"
    },
    "tags": []
   },
   "source": [
    "### Hellinger distance"
   ]
  },
  {
   "cell_type": "code",
   "execution_count": 24,
   "id": "fdf46466",
   "metadata": {
    "execution": {
     "iopub.execute_input": "2023-06-10T10:40:47.338586Z",
     "iopub.status.busy": "2023-06-10T10:40:47.338332Z",
     "iopub.status.idle": "2023-06-10T10:40:47.344209Z",
     "shell.execute_reply": "2023-06-10T10:40:47.343378Z"
    },
    "id": "gt4pNbEvlS0C",
    "papermill": {
     "duration": 0.025197,
     "end_time": "2023-06-10T10:40:47.346215",
     "exception": false,
     "start_time": "2023-06-10T10:40:47.321018",
     "status": "completed"
    },
    "tags": []
   },
   "outputs": [],
   "source": [
    "def hellinger_distance(x, y):\n",
    "    return 1 / np.sqrt(2) * np.sqrt(np.sum((np.sqrt(normalize_sum_to_one(x)) - np.sqrt(normalize_sum_to_one(y))) ** 2))"
   ]
  },
  {
   "cell_type": "markdown",
   "id": "8989b798",
   "metadata": {
    "papermill": {
     "duration": 0.015994,
     "end_time": "2023-06-10T10:40:47.378073",
     "exception": false,
     "start_time": "2023-06-10T10:40:47.362079",
     "status": "completed"
    },
    "tags": []
   },
   "source": [
    "### Metrics from the paper _The Disagreement Problem in Explainable Machine Learning_"
   ]
  },
  {
   "cell_type": "code",
   "execution_count": 25,
   "id": "29503048",
   "metadata": {
    "execution": {
     "iopub.execute_input": "2023-06-10T10:40:47.411798Z",
     "iopub.status.busy": "2023-06-10T10:40:47.411052Z",
     "iopub.status.idle": "2023-06-10T10:40:47.417062Z",
     "shell.execute_reply": "2023-06-10T10:40:47.416259Z"
    },
    "papermill": {
     "duration": 0.024921,
     "end_time": "2023-06-10T10:40:47.419000",
     "exception": false,
     "start_time": "2023-06-10T10:40:47.394079",
     "status": "completed"
    },
    "tags": []
   },
   "outputs": [],
   "source": [
    "def feature_agreement(x, y, k=1638):\n",
    "    _, i1 = torch.topk(torch.Tensor(x).flatten(), k)\n",
    "    _, i2 = torch.topk(torch.Tensor(y).flatten(), k)\n",
    "    i1 = set(torch.unique(i1).tolist())\n",
    "    i2 = set(torch.unique(i2).tolist())\n",
    "    intersect = len(i1.intersection(i2))\n",
    "    return 1.0 * intersect / k"
   ]
  },
  {
   "cell_type": "code",
   "execution_count": 26,
   "id": "751270f7",
   "metadata": {
    "execution": {
     "iopub.execute_input": "2023-06-10T10:40:47.452177Z",
     "iopub.status.busy": "2023-06-10T10:40:47.451438Z",
     "iopub.status.idle": "2023-06-10T10:40:47.457595Z",
     "shell.execute_reply": "2023-06-10T10:40:47.456759Z"
    },
    "papermill": {
     "duration": 0.024687,
     "end_time": "2023-06-10T10:40:47.459568",
     "exception": false,
     "start_time": "2023-06-10T10:40:47.434881",
     "status": "completed"
    },
    "tags": []
   },
   "outputs": [],
   "source": [
    "def sign_agreement(x, y, k=16384):\n",
    "    x_flatten = x.flatten()\n",
    "    y_flatten = y.flatten()\n",
    "    x_topk = np.argpartition(x_flatten, -k)[-k:]\n",
    "    y_topk = np.argpartition(y_flatten, -k)[-k:]\n",
    "    \n",
    "    intersect = np.intersect1d(x_topk, y_topk)\n",
    "    count = len(list(map(lambda ind: x_flatten[ind] * y_flatten[ind] > 0, intersect)))\n",
    "    return count * 1.0 / k"
   ]
  },
  {
   "cell_type": "markdown",
   "id": "a6534ecd",
   "metadata": {
    "papermill": {
     "duration": 0.015768,
     "end_time": "2023-06-10T10:40:47.491705",
     "exception": false,
     "start_time": "2023-06-10T10:40:47.475937",
     "status": "completed"
    },
    "tags": []
   },
   "source": [
    "### IoU"
   ]
  },
  {
   "cell_type": "code",
   "execution_count": 27,
   "id": "e51e9539",
   "metadata": {
    "execution": {
     "iopub.execute_input": "2023-06-10T10:40:47.524559Z",
     "iopub.status.busy": "2023-06-10T10:40:47.524293Z",
     "iopub.status.idle": "2023-06-10T10:40:47.529325Z",
     "shell.execute_reply": "2023-06-10T10:40:47.528389Z"
    },
    "papermill": {
     "duration": 0.023747,
     "end_time": "2023-06-10T10:40:47.531348",
     "exception": false,
     "start_time": "2023-06-10T10:40:47.507601",
     "status": "completed"
    },
    "tags": []
   },
   "outputs": [],
   "source": [
    "def iou(x, y, threshold = 0.25):\n",
    "    x_bin = x > threshold\n",
    "    y_bin = y > threshold\n",
    "    intersection = x_bin * y_bin\n",
    "    union = x_bin + y_bin\n",
    "    return 0 if union.sum() == 0 else intersection.sum() / float(union.sum())"
   ]
  },
  {
   "cell_type": "code",
   "execution_count": 28,
   "id": "30ac2d7b",
   "metadata": {
    "execution": {
     "iopub.execute_input": "2023-06-10T10:40:47.564947Z",
     "iopub.status.busy": "2023-06-10T10:40:47.564078Z",
     "iopub.status.idle": "2023-06-10T10:40:47.568950Z",
     "shell.execute_reply": "2023-06-10T10:40:47.568089Z"
    },
    "papermill": {
     "duration": 0.023696,
     "end_time": "2023-06-10T10:40:47.570954",
     "exception": false,
     "start_time": "2023-06-10T10:40:47.547258",
     "status": "completed"
    },
    "tags": []
   },
   "outputs": [],
   "source": [
    "def positive_iou(x, y): return iou(x, y, 0)"
   ]
  },
  {
   "cell_type": "markdown",
   "id": "84c865fd",
   "metadata": {
    "papermill": {
     "duration": 0.016122,
     "end_time": "2023-06-10T10:40:47.604029",
     "exception": false,
     "start_time": "2023-06-10T10:40:47.587907",
     "status": "completed"
    },
    "tags": []
   },
   "source": [
    "### Structural similarity index"
   ]
  },
  {
   "cell_type": "code",
   "execution_count": 29,
   "id": "714ebac6",
   "metadata": {
    "execution": {
     "iopub.execute_input": "2023-06-10T10:40:47.637948Z",
     "iopub.status.busy": "2023-06-10T10:40:47.637230Z",
     "iopub.status.idle": "2023-06-10T10:40:47.641887Z",
     "shell.execute_reply": "2023-06-10T10:40:47.641101Z"
    },
    "papermill": {
     "duration": 0.023328,
     "end_time": "2023-06-10T10:40:47.643770",
     "exception": false,
     "start_time": "2023-06-10T10:40:47.620442",
     "status": "completed"
    },
    "tags": []
   },
   "outputs": [],
   "source": [
    "def ssim(x, y):\n",
    "    return skimage.metrics.structural_similarity(normalize(x), normalize(y), data_range=1.0)"
   ]
  },
  {
   "cell_type": "markdown",
   "id": "fbea088b",
   "metadata": {
    "id": "Xb-_8N9VIebw",
    "papermill": {
     "duration": 0.015751,
     "end_time": "2023-06-10T10:40:47.675418",
     "exception": false,
     "start_time": "2023-06-10T10:40:47.659667",
     "status": "completed"
    },
    "tags": []
   },
   "source": [
    "## Evaluation"
   ]
  },
  {
   "cell_type": "markdown",
   "id": "3d146d3a",
   "metadata": {
    "papermill": {
     "duration": 0.015906,
     "end_time": "2023-06-10T10:40:47.707216",
     "exception": false,
     "start_time": "2023-06-10T10:40:47.691310",
     "status": "completed"
    },
    "tags": []
   },
   "source": [
    "Evaluate the blackbox over the test set."
   ]
  },
  {
   "cell_type": "code",
   "execution_count": 30,
   "id": "0b2075fe",
   "metadata": {
    "execution": {
     "iopub.execute_input": "2023-06-10T10:40:47.739990Z",
     "iopub.status.busy": "2023-06-10T10:40:47.739727Z",
     "iopub.status.idle": "2023-06-10T10:41:44.973507Z",
     "shell.execute_reply": "2023-06-10T10:41:44.972348Z"
    },
    "papermill": {
     "duration": 57.25312,
     "end_time": "2023-06-10T10:41:44.976190",
     "exception": false,
     "start_time": "2023-06-10T10:40:47.723070",
     "status": "completed"
    },
    "tags": []
   },
   "outputs": [],
   "source": [
    "indices = []\n",
    "with torch.no_grad():\n",
    "    for data in ds_loader:\n",
    "        batch = data[0]\n",
    "        output = torch.nn.functional.softmax(blackbox(batch.to(device)), dim=1)\n",
    "        _, index = torch.topk(output, k=1, dim=1)\n",
    "        indices.append(index.flatten())\n",
    "indices = torch.concat(indices)"
   ]
  },
  {
   "cell_type": "markdown",
   "id": "66f77c5d",
   "metadata": {
    "papermill": {
     "duration": 0.016505,
     "end_time": "2023-06-10T10:41:45.010158",
     "exception": false,
     "start_time": "2023-06-10T10:41:44.993653",
     "status": "completed"
    },
    "tags": []
   },
   "source": [
    "Generate explanations for all test examples for each interested methods."
   ]
  },
  {
   "cell_type": "code",
   "execution_count": 31,
   "id": "fdcc9d62",
   "metadata": {
    "execution": {
     "iopub.execute_input": "2023-06-10T10:41:45.045741Z",
     "iopub.status.busy": "2023-06-10T10:41:45.044811Z",
     "iopub.status.idle": "2023-06-10T10:41:45.051793Z",
     "shell.execute_reply": "2023-06-10T10:41:45.050929Z"
    },
    "papermill": {
     "duration": 0.027265,
     "end_time": "2023-06-10T10:41:45.054153",
     "exception": false,
     "start_time": "2023-06-10T10:41:45.026888",
     "status": "completed"
    },
    "tags": []
   },
   "outputs": [],
   "source": [
    "def get_explanations(xai_methods_dict, methods, ds_loader, indices, gpu_device):\n",
    "    explanations = {}\n",
    "    indices = indices.to(gpu_device)\n",
    "    \n",
    "    for method in methods:\n",
    "        explanations[method] = []\n",
    "\n",
    "    for method in methods:\n",
    "        for i, data in enumerate(ds_loader):\n",
    "            batch = data[0]\n",
    "            explanation = get_explanation(xai_methods_dict[method], batch.to(gpu_device), indices[i])\n",
    "            explanation = explanation.cpu().detach()\n",
    "            explanations[method].append(explanation)\n",
    "    \n",
    "    return explanations"
   ]
  },
  {
   "cell_type": "markdown",
   "id": "6664a457",
   "metadata": {
    "papermill": {
     "duration": 0.016105,
     "end_time": "2023-06-10T10:41:45.086585",
     "exception": false,
     "start_time": "2023-06-10T10:41:45.070480",
     "status": "completed"
    },
    "tags": []
   },
   "source": [
    "Gradient-based methods."
   ]
  },
  {
   "cell_type": "code",
   "execution_count": 32,
   "id": "df02f4a0",
   "metadata": {
    "execution": {
     "iopub.execute_input": "2023-06-10T10:41:45.120143Z",
     "iopub.status.busy": "2023-06-10T10:41:45.119840Z",
     "iopub.status.idle": "2023-06-10T10:46:20.209713Z",
     "shell.execute_reply": "2023-06-10T10:46:20.208599Z"
    },
    "papermill": {
     "duration": 275.124181,
     "end_time": "2023-06-10T10:46:20.227007",
     "exception": false,
     "start_time": "2023-06-10T10:41:45.102826",
     "status": "completed"
    },
    "tags": []
   },
   "outputs": [
    {
     "name": "stdout",
     "output_type": "stream",
     "text": [
      "CPU times: user 1min 47s, sys: 3.98 s, total: 1min 50s\n",
      "Wall time: 4min 35s\n"
     ]
    }
   ],
   "source": [
    "%%time\n",
    "gradient_methods = ['Saliency', 'LRP', 'GradientShap', 'GuidedGradCam', 'GuidedBackprop']\n",
    "gradient_explanations = get_explanations(xai_methods, gradient_methods, ds_loader, indices, device)"
   ]
  },
  {
   "cell_type": "markdown",
   "id": "bd0462c4",
   "metadata": {
    "papermill": {
     "duration": 0.016299,
     "end_time": "2023-06-10T10:46:20.259452",
     "exception": false,
     "start_time": "2023-06-10T10:46:20.243153",
     "status": "completed"
    },
    "tags": []
   },
   "source": [
    "Perturbation-based methods."
   ]
  },
  {
   "cell_type": "code",
   "execution_count": 33,
   "id": "fee3d2e7",
   "metadata": {
    "execution": {
     "iopub.execute_input": "2023-06-10T10:46:20.293135Z",
     "iopub.status.busy": "2023-06-10T10:46:20.292807Z",
     "iopub.status.idle": "2023-06-10T10:59:31.983671Z",
     "shell.execute_reply": "2023-06-10T10:59:31.982565Z"
    },
    "papermill": {
     "duration": 791.72509,
     "end_time": "2023-06-10T10:59:32.000616",
     "exception": false,
     "start_time": "2023-06-10T10:46:20.275526",
     "status": "completed"
    },
    "tags": []
   },
   "outputs": [
    {
     "name": "stdout",
     "output_type": "stream",
     "text": [
      "CPU times: user 17min 15s, sys: 44.7 s, total: 17min 59s\n",
      "Wall time: 13min 11s\n"
     ]
    }
   ],
   "source": [
    "%%time\n",
    "perturbation_methods = ['IntegratedGradients']\n",
    "perturbation_explanations = get_explanations(xai_methods, perturbation_methods, ds_loader, indices, device)"
   ]
  },
  {
   "cell_type": "markdown",
   "id": "da0229ce",
   "metadata": {
    "papermill": {
     "duration": 0.015959,
     "end_time": "2023-06-10T10:59:32.032985",
     "exception": false,
     "start_time": "2023-06-10T10:59:32.017026",
     "status": "completed"
    },
    "tags": []
   },
   "source": [
    "Concatenate explanations of each method into a single tensor."
   ]
  },
  {
   "cell_type": "code",
   "execution_count": 34,
   "id": "20c5b257",
   "metadata": {
    "execution": {
     "iopub.execute_input": "2023-06-10T10:59:32.068618Z",
     "iopub.status.busy": "2023-06-10T10:59:32.067561Z",
     "iopub.status.idle": "2023-06-10T10:59:32.517888Z",
     "shell.execute_reply": "2023-06-10T10:59:32.516827Z"
    },
    "papermill": {
     "duration": 0.470528,
     "end_time": "2023-06-10T10:59:32.520533",
     "exception": false,
     "start_time": "2023-06-10T10:59:32.050005",
     "status": "completed"
    },
    "tags": []
   },
   "outputs": [],
   "source": [
    "explanations = {**gradient_explanations, **perturbation_explanations}\n",
    "methods = gradient_methods + perturbation_methods\n",
    "for method in methods:\n",
    "    exp = explanations[method]\n",
    "    for i in range(len(exp)):\n",
    "        exp[i] = exp[i].cpu().detach()\n",
    "    explanations[method] = torch.cat(exp)"
   ]
  },
  {
   "cell_type": "code",
   "execution_count": 35,
   "id": "a332d70d",
   "metadata": {
    "execution": {
     "iopub.execute_input": "2023-06-10T10:59:32.555442Z",
     "iopub.status.busy": "2023-06-10T10:59:32.555144Z",
     "iopub.status.idle": "2023-06-10T10:59:32.561404Z",
     "shell.execute_reply": "2023-06-10T10:59:32.559910Z"
    },
    "papermill": {
     "duration": 0.025768,
     "end_time": "2023-06-10T10:59:32.563446",
     "exception": false,
     "start_time": "2023-06-10T10:59:32.537678",
     "status": "completed"
    },
    "tags": []
   },
   "outputs": [],
   "source": [
    "# Obsolete\n",
    "def get_topk_mask(exp, k):\n",
    "    temp = torch.clone(exp)\n",
    "    _, temp_ind = torch.topk(temp.flatten(), k)\n",
    "    temp *= 0\n",
    "    z = np.unravel_index(temp_ind, temp.shape)\n",
    "    for i, j in zip(z[0], z[1]):\n",
    "        temp[i, j] = 1\n",
    "    return temp"
   ]
  },
  {
   "cell_type": "markdown",
   "id": "91fd1572",
   "metadata": {
    "papermill": {
     "duration": 0.024394,
     "end_time": "2023-06-10T10:59:32.604623",
     "exception": false,
     "start_time": "2023-06-10T10:59:32.580229",
     "status": "completed"
    },
    "tags": []
   },
   "source": [
    "## Visualization"
   ]
  },
  {
   "cell_type": "markdown",
   "id": "3f81b8b5",
   "metadata": {
    "papermill": {
     "duration": 0.027926,
     "end_time": "2023-06-10T10:59:32.667720",
     "exception": false,
     "start_time": "2023-06-10T10:59:32.639794",
     "status": "completed"
    },
    "tags": []
   },
   "source": [
    "Compute average disagreement for a given metric."
   ]
  },
  {
   "cell_type": "code",
   "execution_count": 36,
   "id": "f455217c",
   "metadata": {
    "execution": {
     "iopub.execute_input": "2023-06-10T10:59:32.728905Z",
     "iopub.status.busy": "2023-06-10T10:59:32.728418Z",
     "iopub.status.idle": "2023-06-10T10:59:32.738891Z",
     "shell.execute_reply": "2023-06-10T10:59:32.737609Z"
    },
    "papermill": {
     "duration": 0.040259,
     "end_time": "2023-06-10T10:59:32.741004",
     "exception": false,
     "start_time": "2023-06-10T10:59:32.700745",
     "status": "completed"
    },
    "tags": []
   },
   "outputs": [],
   "source": [
    "def compute_heatmap(methods, explanations, metric):\n",
    "    size = len(methods)\n",
    "    result = np.empty((size, size))\n",
    "\n",
    "    for j in range(size):\n",
    "        for i in range(size):\n",
    "            exp1 = explanations[methods[i]]\n",
    "            exp2 = explanations[methods[j]]\n",
    "            if i >= j:\n",
    "                result[i, j] = compute_mean_disagreement(exp1, exp2, metric)\n",
    "            else:\n",
    "                result[i, j] = result[j, i]\n",
    "    return result"
   ]
  },
  {
   "cell_type": "code",
   "execution_count": 37,
   "id": "c159d8b4",
   "metadata": {
    "execution": {
     "iopub.execute_input": "2023-06-10T10:59:32.790142Z",
     "iopub.status.busy": "2023-06-10T10:59:32.789777Z",
     "iopub.status.idle": "2023-06-10T10:59:32.798106Z",
     "shell.execute_reply": "2023-06-10T10:59:32.796377Z"
    },
    "papermill": {
     "duration": 0.034536,
     "end_time": "2023-06-10T10:59:32.800167",
     "exception": false,
     "start_time": "2023-06-10T10:59:32.765631",
     "status": "completed"
    },
    "tags": []
   },
   "outputs": [],
   "source": [
    "def visualize(hm, title):\n",
    "    return sns.heatmap(hm, annot=True, xticklabels=methods, yticklabels=methods).set(title=title)"
   ]
  },
  {
   "cell_type": "markdown",
   "id": "f5da76d8",
   "metadata": {
    "papermill": {
     "duration": 0.016308,
     "end_time": "2023-06-10T10:59:32.832919",
     "exception": false,
     "start_time": "2023-06-10T10:59:32.816611",
     "status": "completed"
    },
    "tags": []
   },
   "source": [
    "### Feature Agreement"
   ]
  },
  {
   "cell_type": "code",
   "execution_count": 38,
   "id": "5a01cf2e",
   "metadata": {
    "execution": {
     "iopub.execute_input": "2023-06-10T10:59:32.868404Z",
     "iopub.status.busy": "2023-06-10T10:59:32.867507Z",
     "iopub.status.idle": "2023-06-10T11:00:19.097363Z",
     "shell.execute_reply": "2023-06-10T11:00:19.096374Z"
    },
    "papermill": {
     "duration": 46.266706,
     "end_time": "2023-06-10T11:00:19.116333",
     "exception": false,
     "start_time": "2023-06-10T10:59:32.849627",
     "status": "completed"
    },
    "tags": []
   },
   "outputs": [
    {
     "name": "stdout",
     "output_type": "stream",
     "text": [
      "CPU times: user 46.1 s, sys: 38.4 ms, total: 46.2 s\n",
      "Wall time: 46.2 s\n"
     ]
    }
   ],
   "source": [
    "%%time\n",
    "heatmap_fa = compute_heatmap(methods, explanations, metric=feature_agreement)"
   ]
  },
  {
   "cell_type": "code",
   "execution_count": 39,
   "id": "95fdc338",
   "metadata": {
    "execution": {
     "iopub.execute_input": "2023-06-10T11:00:19.151195Z",
     "iopub.status.busy": "2023-06-10T11:00:19.150879Z",
     "iopub.status.idle": "2023-06-10T11:00:19.653067Z",
     "shell.execute_reply": "2023-06-10T11:00:19.652175Z"
    },
    "papermill": {
     "duration": 0.522185,
     "end_time": "2023-06-10T11:00:19.655266",
     "exception": false,
     "start_time": "2023-06-10T11:00:19.133081",
     "status": "completed"
    },
    "tags": []
   },
   "outputs": [
    {
     "data": {
      "text/plain": [
       "[Text(0.5, 1.0, 'Feature Agreement')]"
      ]
     },
     "execution_count": 39,
     "metadata": {},
     "output_type": "execute_result"
    },
    {
     "data": {
      "image/png": "[encoded data removed]",
      "text/plain": [
       "<Figure size 640x480 with 2 Axes>"
      ]
     },
     "metadata": {},
     "output_type": "display_data"
    }
   ],
   "source": [
    "visualize(heatmap_fa, title='Feature Agreement')"
   ]
  },
  {
   "cell_type": "markdown",
   "id": "c43f014a",
   "metadata": {
    "papermill": {
     "duration": 0.017303,
     "end_time": "2023-06-10T11:00:19.690239",
     "exception": false,
     "start_time": "2023-06-10T11:00:19.672936",
     "status": "completed"
    },
    "tags": []
   },
   "source": [
    "### Sign agreements"
   ]
  },
  {
   "cell_type": "code",
   "execution_count": 40,
   "id": "c162a633",
   "metadata": {
    "execution": {
     "iopub.execute_input": "2023-06-10T11:00:19.745045Z",
     "iopub.status.busy": "2023-06-10T11:00:19.744180Z",
     "iopub.status.idle": "2023-06-10T11:26:19.202080Z",
     "shell.execute_reply": "2023-06-10T11:26:19.201033Z"
    },
    "papermill": {
     "duration": 1559.51097,
     "end_time": "2023-06-10T11:26:19.223689",
     "exception": false,
     "start_time": "2023-06-10T11:00:19.712719",
     "status": "completed"
    },
    "tags": []
   },
   "outputs": [
    {
     "name": "stdout",
     "output_type": "stream",
     "text": [
      "CPU times: user 25min 55s, sys: 1.09 s, total: 25min 56s\n",
      "Wall time: 25min 59s\n"
     ]
    }
   ],
   "source": [
    "%%time\n",
    "heatmap_sa = compute_heatmap(methods, explanations, metric=sign_agreement)"
   ]
  },
  {
   "cell_type": "code",
   "execution_count": 41,
   "id": "eeaf5dc1",
   "metadata": {
    "execution": {
     "iopub.execute_input": "2023-06-10T11:26:19.308794Z",
     "iopub.status.busy": "2023-06-10T11:26:19.307851Z",
     "iopub.status.idle": "2023-06-10T11:26:19.779894Z",
     "shell.execute_reply": "2023-06-10T11:26:19.779003Z"
    },
    "papermill": {
     "duration": 0.493401,
     "end_time": "2023-06-10T11:26:19.781942",
     "exception": false,
     "start_time": "2023-06-10T11:26:19.288541",
     "status": "completed"
    },
    "tags": []
   },
   "outputs": [
    {
     "data": {
      "text/plain": [
       "[Text(0.5, 1.0, 'Sign Agreement')]"
      ]
     },
     "execution_count": 41,
     "metadata": {},
     "output_type": "execute_result"
    },
    {
     "data": {
      "image/png": "[encoded data removed]",
      "text/plain": [
       "<Figure size 640x480 with 2 Axes>"
      ]
     },
     "metadata": {},
     "output_type": "display_data"
    }
   ],
   "source": [
    "visualize(heatmap_sa, title='Sign Agreement')"
   ]
  },
  {
   "cell_type": "markdown",
   "id": "56ea8c77",
   "metadata": {
    "papermill": {
     "duration": 0.018712,
     "end_time": "2023-06-10T11:26:19.819895",
     "exception": false,
     "start_time": "2023-06-10T11:26:19.801183",
     "status": "completed"
    },
    "tags": []
   },
   "source": [
    "### IoU"
   ]
  },
  {
   "cell_type": "code",
   "execution_count": 42,
   "id": "f36c83d8",
   "metadata": {
    "execution": {
     "iopub.execute_input": "2023-06-10T11:26:19.859308Z",
     "iopub.status.busy": "2023-06-10T11:26:19.858321Z",
     "iopub.status.idle": "2023-06-10T11:26:22.026251Z",
     "shell.execute_reply": "2023-06-10T11:26:22.025152Z"
    },
    "papermill": {
     "duration": 2.190658,
     "end_time": "2023-06-10T11:26:22.029024",
     "exception": false,
     "start_time": "2023-06-10T11:26:19.838366",
     "status": "completed"
    },
    "tags": []
   },
   "outputs": [
    {
     "name": "stdout",
     "output_type": "stream",
     "text": [
      "CPU times: user 2.16 s, sys: 984 µs, total: 2.16 s\n",
      "Wall time: 2.16 s\n"
     ]
    }
   ],
   "source": [
    "%%time\n",
    "heatmap_iou = compute_heatmap(methods, explanations, metric=positive_iou)"
   ]
  },
  {
   "cell_type": "code",
   "execution_count": 43,
   "id": "c798faea",
   "metadata": {
    "execution": {
     "iopub.execute_input": "2023-06-10T11:26:22.076065Z",
     "iopub.status.busy": "2023-06-10T11:26:22.074998Z",
     "iopub.status.idle": "2023-06-10T11:26:22.551599Z",
     "shell.execute_reply": "2023-06-10T11:26:22.550743Z"
    },
    "papermill": {
     "duration": 0.501957,
     "end_time": "2023-06-10T11:26:22.553580",
     "exception": false,
     "start_time": "2023-06-10T11:26:22.051623",
     "status": "completed"
    },
    "tags": []
   },
   "outputs": [
    {
     "data": {
      "text/plain": [
       "[Text(0.5, 1.0, 'IoU')]"
      ]
     },
     "execution_count": 43,
     "metadata": {},
     "output_type": "execute_result"
    },
    {
     "data": {
      "image/png": "[encoded data removed]",
      "text/plain": [
       "<Figure size 640x480 with 2 Axes>"
      ]
     },
     "metadata": {},
     "output_type": "display_data"
    }
   ],
   "source": [
    "visualize(heatmap_iou, title='IoU')"
   ]
  },
  {
   "cell_type": "markdown",
   "id": "0f10a1df",
   "metadata": {
    "papermill": {
     "duration": 0.019362,
     "end_time": "2023-06-10T11:26:22.593288",
     "exception": false,
     "start_time": "2023-06-10T11:26:22.573926",
     "status": "completed"
    },
    "tags": []
   },
   "source": [
    "### SSIM"
   ]
  },
  {
   "cell_type": "code",
   "execution_count": 44,
   "id": "b5916432",
   "metadata": {
    "execution": {
     "iopub.execute_input": "2023-06-10T11:26:22.634427Z",
     "iopub.status.busy": "2023-06-10T11:26:22.633397Z",
     "iopub.status.idle": "2023-06-10T11:27:04.910844Z",
     "shell.execute_reply": "2023-06-10T11:27:04.909917Z"
    },
    "papermill": {
     "duration": 42.322717,
     "end_time": "2023-06-10T11:27:04.935607",
     "exception": false,
     "start_time": "2023-06-10T11:26:22.612890",
     "status": "completed"
    },
    "tags": []
   },
   "outputs": [
    {
     "name": "stdout",
     "output_type": "stream",
     "text": [
      "CPU times: user 42.1 s, sys: 47.5 ms, total: 42.1 s\n",
      "Wall time: 42.3 s\n"
     ]
    }
   ],
   "source": [
    "%%time\n",
    "heatmap_ssim = compute_heatmap(methods, explanations, metric=ssim)"
   ]
  },
  {
   "cell_type": "code",
   "execution_count": 45,
   "id": "f517aed0",
   "metadata": {
    "execution": {
     "iopub.execute_input": "2023-06-10T11:27:04.992365Z",
     "iopub.status.busy": "2023-06-10T11:27:04.991986Z",
     "iopub.status.idle": "2023-06-10T11:27:05.524895Z",
     "shell.execute_reply": "2023-06-10T11:27:05.524045Z"
    },
    "papermill": {
     "duration": 0.564021,
     "end_time": "2023-06-10T11:27:05.527459",
     "exception": false,
     "start_time": "2023-06-10T11:27:04.963438",
     "status": "completed"
    },
    "tags": []
   },
   "outputs": [
    {
     "data": {
      "text/plain": [
       "[Text(0.5, 1.0, 'Structural Similarity Index')]"
      ]
     },
     "execution_count": 45,
     "metadata": {},
     "output_type": "execute_result"
    },
    {
     "data": {
      "image/png": "[encoded data removed]",
      "text/plain": [
       "<Figure size 640x480 with 2 Axes>"
      ]
     },
     "metadata": {},
     "output_type": "display_data"
    }
   ],
   "source": [
    "visualize(heatmap_ssim, 'Structural Similarity Index')"
   ]
  }
 ],
 "metadata": {
  "kernelspec": {
   "display_name": "Python 3",
   "language": "python",
   "name": "python3"
  },
  "language_info": {
   "codemirror_mode": {
    "name": "ipython",
    "version": 3
   },
   "file_extension": ".py",
   "mimetype": "text/x-python",
   "name": "python",
   "nbconvert_exporter": "python",
   "pygments_lexer": "ipython3",
   "version": "3.10.10"
  },
  "papermill": {
   "default_parameters": {},
   "duration": 3039.365923,
   "end_time": "2023-06-10T11:27:08.708910",
   "environment_variables": {},
   "exception": null,
   "input_path": "__notebook__.ipynb",
   "output_path": "__notebook__.ipynb",
   "parameters": {},
   "start_time": "2023-06-10T10:36:29.342987",
   "version": "2.4.0"
  }
 },
 "nbformat": 4,
 "nbformat_minor": 5
}
