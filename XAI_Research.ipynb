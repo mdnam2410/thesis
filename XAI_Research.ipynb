{
  "cells": [
    {
      "cell_type": "code",
      "execution_count": null,
      "metadata": {
        "colab": {
          "base_uri": "https://localhost:8080/"
        },
        "id": "dT7cVH6V85Ck",
        "outputId": "2e065624-fdc7-41b7-f17e-e43ace78afcb"
      },
      "outputs": [
        {
          "output_type": "stream",
          "name": "stdout",
          "text": [
            "Looking in indexes: https://pypi.org/simple, https://us-python.pkg.dev/colab-wheels/public/simple/\n",
            "Requirement already satisfied: virtualenv in /usr/local/lib/python3.10/dist-packages (20.23.0)\n",
            "Requirement already satisfied: distlib<1,>=0.3.6 in /usr/local/lib/python3.10/dist-packages (from virtualenv) (0.3.6)\n",
            "Requirement already satisfied: filelock<4,>=3.11 in /usr/local/lib/python3.10/dist-packages (from virtualenv) (3.12.0)\n",
            "Requirement already satisfied: platformdirs<4,>=3.2 in /usr/local/lib/python3.10/dist-packages (from virtualenv) (3.3.0)\n",
            "created virtual environment CPython3.10.11.final.0-64 in 567ms\n",
            "  creator CPython3Posix(dest=/content/XAIEnv, clear=False, no_vcs_ignore=False, global=False)\n",
            "  seeder FromAppData(download=False, pip=bundle, setuptools=bundle, wheel=bundle, via=copy, app_data_dir=/root/.local/share/virtualenv)\n",
            "    added seed packages: Flask==2.2.3, Jinja2==3.1.2, MarkupSafe==2.1.2, Pillow==9.5.0, PyWavelets==1.4.1, Pygments==2.15.1, Werkzeug==2.2.3, ansi2html==1.8.0, asttokens==2.2.1, backcall==0.2.0, cachetools==5.3.0, captum==0.6.0, certifi==2023.5.7, charset_normalizer==3.1.0, click==8.1.3, cloudpickle==2.2.1, cmake==3.26.3, comm==0.1.3, contourpy==1.0.7, cycler==0.11.0, dash==2.10.0, dash_bootstrap_components==1.4.1, dash_core_components==2.0.0, dash_html_components==2.0.0, dash_table==5.0.0, debugpy==1.6.7, decorator==5.1.1, dill==0.3.6, executing==1.2.0, fastcore==1.5.29, filelock==3.12.0, fonttools==4.39.4, hnswlib==0.7.0, idna==3.4, imageio==2.29.0, ipykernel==6.23.1, ipython==8.13.2, itsdangerous==2.1.2, jedi==0.18.2, joblib==1.2.0, jupyter_client==8.2.0, jupyter_core==5.3.0, jupyter_dash==0.4.2, kiwisolver==1.4.4, lazy_loader==0.2, lime==0.2.0.1, lit==16.0.5, llvmlite==0.40.0, matplotlib==3.7.1, matplotlib_inline==0.1.6, mpmath==1.3.0, multiprocess==0.70.14, nest_asyncio==1.5.6, networkx==3.1, numba==0.57.0, numpy==1.22.4, nvidia_cublas_cu11==11.10.3.66, nvidia_cuda_cupti_cu11==11.7.101, nvidia_cuda_nvrtc_cu11==11.7.99, nvidia_cuda_runtime_cu11==11.7.99, nvidia_cudnn_cu11==8.5.0.96, nvidia_cufft_cu11==10.9.0.58, nvidia_curand_cu11==10.2.10.91, nvidia_cusolver_cu11==11.4.0.1, nvidia_cusparse_cu11==11.7.4.91, nvidia_nccl_cu11==2.14.3, nvidia_nvtx_cu11==11.7.91, omnixai==1.2.5, opencv_python==4.7.0.72, opencv_python_headless==4.7.0.72, packaging==23.1, pandas==2.0.1, parso==0.8.3, patsy==0.5.3, pexpect==4.8.0, pickleshare==0.7.5, pip==23.1.2, platformdirs==3.5.1, plotly==5.14.1, prompt_toolkit==3.0.38, psutil==5.9.5, ptyprocess==0.7.0, pure_eval==0.2.2, pyparsing==3.0.9, python_dateutil==2.8.2, pytz==2023.3, pyzmq==25.1.0, quantus==0.4.0, requests==2.31.0, retrying==1.3.4, salib==1.4.7, scikit_image==0.20.0, scikit_learn==1.1.3, scipy==1.10.1, setuptools==67.7.2, shap==0.41.0, six==1.16.0, slicer==0.0.7, stack_data==0.6.2, statsmodels==0.14.0, sympy==1.12, tabulate==0.9.0, tenacity==8.2.2, threadpoolctl==3.1.0, tifffile==2023.4.12, torch==2.0.1, torchvision==0.15.2, tornado==6.3.2, tqdm==4.65.0, traitlets==5.9.0, triton==2.0.0, typing_extensions==4.6.2, tzdata==2023.3, urllib3==2.0.2, wcwidth==0.2.6, wheel==0.40.0\n",
            "  activators BashActivator,CShellActivator,FishActivator,NushellActivator,PowerShellActivator,PythonActivator\n"
          ]
        }
      ],
      "source": [
        "!pip install virtualenv\n",
        "!virtualenv XAIEnv"
      ]
    },
    {
      "cell_type": "code",
      "execution_count": null,
      "metadata": {
        "colab": {
          "base_uri": "https://localhost:8080/"
        },
        "id": "TD21R-paOIB-",
        "outputId": "bcbc1b39-805e-47c5-b3dd-3e56bd64b86a"
      },
      "outputs": [
        {
          "output_type": "stream",
          "name": "stdout",
          "text": [
            "--2023-05-27 07:24:50--  https://drive.google.com/uc?export=download&id=1KefgyStyr4xcEqlrJjlPevdH99jkcZ4J\n",
            "Resolving drive.google.com (drive.google.com)... 64.233.170.139, 64.233.170.102, 64.233.170.101, ...\n",
            "Connecting to drive.google.com (drive.google.com)|64.233.170.139|:443... connected.\n",
            "HTTP request sent, awaiting response... 303 See Other\n",
            "Location: https://doc-0s-8c-docs.googleusercontent.com/docs/securesc/ha0ro937gcuc7l7deffksulhg5h7mbp1/ffuq3mm50vpe388hmopn5ledo48eutue/1685172225000/07295101801107701363/*/1KefgyStyr4xcEqlrJjlPevdH99jkcZ4J?e=download&uuid=8af1afa2-5ce4-4ace-adcd-a053a81680d6 [following]\n",
            "Warning: wildcards not supported in HTTP.\n",
            "--2023-05-27 07:24:51--  https://doc-0s-8c-docs.googleusercontent.com/docs/securesc/ha0ro937gcuc7l7deffksulhg5h7mbp1/ffuq3mm50vpe388hmopn5ledo48eutue/1685172225000/07295101801107701363/*/1KefgyStyr4xcEqlrJjlPevdH99jkcZ4J?e=download&uuid=8af1afa2-5ce4-4ace-adcd-a053a81680d6\n",
            "Resolving doc-0s-8c-docs.googleusercontent.com (doc-0s-8c-docs.googleusercontent.com)... 74.125.24.132, 2404:6800:4003:c03::84\n",
            "Connecting to doc-0s-8c-docs.googleusercontent.com (doc-0s-8c-docs.googleusercontent.com)|74.125.24.132|:443... connected.\n",
            "HTTP request sent, awaiting response... 200 OK\n",
            "Length: 69 [application/json]\n",
            "Saving to: ‘kaggle.json’\n",
            "\n",
            "kaggle.json         100%[===================>]      69  --.-KB/s    in 0s      \n",
            "\n",
            "2023-05-27 07:24:51 (3.09 MB/s) - ‘kaggle.json’ saved [69/69]\n",
            "\n",
            "{\"username\":\"binhhuunguyen\",\"key\":\"490f5d1951771fb1c83d0a8b116a325b\"}"
          ]
        }
      ],
      "source": [
        "!pip install -q kaggle\n",
        "from google.colab import files \n",
        "# files.upload()\n",
        "!wget --no-check-certificate 'https://drive.google.com/uc?export=download&id=1KefgyStyr4xcEqlrJjlPevdH99jkcZ4J' -O kaggle.json\n",
        "!cat kaggle.json"
      ]
    },
    {
      "cell_type": "markdown",
      "metadata": {
        "id": "IZ7VowTTEBks"
      },
      "source": [
        "# Explain Classification result from ResNet"
      ]
    },
    {
      "cell_type": "code",
      "execution_count": null,
      "metadata": {
        "colab": {
          "base_uri": "https://localhost:8080/"
        },
        "id": "oMqKUO1q9vs7",
        "outputId": "9b03fc9a-aeb7-4466-af93-b3c0d48c8c8b"
      },
      "outputs": [
        {
          "output_type": "stream",
          "name": "stdout",
          "text": [
            "\u001b[2K     \u001b[90m━━━━━━━━━━━━━━━━━━━━━━━━━━━━━━━━━━━━━━\u001b[0m \u001b[32m543.8/543.8 kB\u001b[0m \u001b[31m13.5 MB/s\u001b[0m eta \u001b[36m0:00:00\u001b[0m\n",
            "\u001b[2K     \u001b[90m━━━━━━━━━━━━━━━━━━━━━━━━━━━━━━━━━━━━━━━━\u001b[0m \u001b[32m72.0/72.0 kB\u001b[0m \u001b[31m9.7 MB/s\u001b[0m eta \u001b[36m0:00:00\u001b[0m\n",
            "\u001b[2K     \u001b[90m━━━━━━━━━━━━━━━━━━━━━━━━━━━━━━━━━━━━━━━━\u001b[0m \u001b[32m1.0/1.0 MB\u001b[0m \u001b[31m73.6 MB/s\u001b[0m eta \u001b[36m0:00:00\u001b[0m\n",
            "\u001b[2K     \u001b[90m━━━━━━━━━━━━━━━━━━━━━━━━━━━━━━━━━━━━━━━━\u001b[0m \u001b[32m61.2/61.2 kB\u001b[0m \u001b[31m7.5 MB/s\u001b[0m eta \u001b[36m0:00:00\u001b[0m\n",
            "\u001b[2K     \u001b[90m━━━━━━━━━━━━━━━━━━━━━━━━━━━━━━━━━━━━━━\u001b[0m \u001b[32m114.5/114.5 kB\u001b[0m \u001b[31m15.6 MB/s\u001b[0m eta \u001b[36m0:00:00\u001b[0m\n",
            "\u001b[2K     \u001b[90m━━━━━━━━━━━━━━━━━━━━━━━━━━━━━━━━━━━━━━\u001b[0m \u001b[32m268.8/268.8 kB\u001b[0m \u001b[31m26.5 MB/s\u001b[0m eta \u001b[36m0:00:00\u001b[0m\n",
            "\u001b[2K     \u001b[90m━━━━━━━━━━━━━━━━━━━━━━━━━━━━━━━━━━━━━━\u001b[0m \u001b[32m149.6/149.6 kB\u001b[0m \u001b[31m15.0 MB/s\u001b[0m eta \u001b[36m0:00:00\u001b[0m\n",
            "\u001b[?25h"
          ]
        }
      ],
      "source": [
        "!source /content/XAIEnv/bin/activate; pip install -q numba torch captum torchvision quantus omnixai[vision] dash jupyter_dash dash_bootstrap_components scikit-learn==1.1.3 numpy==1.22.4 Pillow fastcore -I -U"
      ]
    },
    {
      "cell_type": "code",
      "execution_count": null,
      "metadata": {
        "id": "yweYyg0OLsJR"
      },
      "outputs": [],
      "source": [
        "import sys\n",
        "sys.path.append(\"XAIEnv/lib/python3.10/site-packages\")"
      ]
    },
    {
      "cell_type": "code",
      "execution_count": null,
      "metadata": {
        "id": "Mk4hn6mXOYIU",
        "colab": {
          "base_uri": "https://localhost:8080/"
        },
        "outputId": "bcf3a0c3-e646-411c-8143-2c129e41de58"
      },
      "outputs": [
        {
          "output_type": "stream",
          "name": "stdout",
          "text": [
            "mkdir: cannot create directory ‘/root/.kaggle’: File exists\n"
          ]
        }
      ],
      "source": [
        "!mkdir ~/.kaggle\n",
        "!cp kaggle.json ~/.kaggle/\n",
        "!chmod 600 ~/.kaggle/kaggle.json"
      ]
    },
    {
      "cell_type": "code",
      "execution_count": null,
      "metadata": {
        "colab": {
          "base_uri": "https://localhost:8080/"
        },
        "id": "tXunAuMEOwV5",
        "outputId": "55871e9d-dc66-4006-990d-e0ec89840ab8"
      },
      "outputs": [
        {
          "output_type": "stream",
          "name": "stdout",
          "text": [
            "Downloading pneumothorax-chest-xray-images-and-masks.zip to /content/datasets\n",
            "100% 4.50G/4.50G [03:57<00:00, 23.0MB/s]\n",
            "100% 4.50G/4.50G [03:57<00:00, 20.3MB/s]\n"
          ]
        }
      ],
      "source": [
        "!kaggle datasets download -d vbookshelf/pneumothorax-chest-xray-images-and-masks -p /content/datasets/ --unzip"
      ]
    },
    {
      "cell_type": "code",
      "execution_count": null,
      "metadata": {
        "colab": {
          "base_uri": "https://localhost:8080/"
        },
        "id": "I9YpVFVMvQHb",
        "outputId": "7462d991-3a99-4894-ac70-d43dc8094b11"
      },
      "outputs": [
        {
          "output_type": "stream",
          "name": "stdout",
          "text": [
            "Downloading xai-pretrained-blackbox.zip to /content/datasets\n",
            " 99% 252M/255M [00:18<00:00, 13.8MB/s]\n",
            "100% 255M/255M [00:18<00:00, 14.6MB/s]\n"
          ]
        }
      ],
      "source": [
        "!kaggle datasets download -d binhhuunguyen/xai-pretrained-blackbox  -p /content/datasets/ --unzip"
      ]
    },
    {
      "cell_type": "code",
      "execution_count": null,
      "metadata": {
        "colab": {
          "base_uri": "https://localhost:8080/"
        },
        "id": "erPY0MqyEU_X",
        "outputId": "ab96283a-4242-46c0-e130-338e7742e546"
      },
      "outputs": [
        {
          "output_type": "stream",
          "name": "stdout",
          "text": [
            "Using cuda for inference\n"
          ]
        }
      ],
      "source": [
        "import torch\n",
        "import quantus\n",
        "from captum.attr import (\n",
        "    Saliency, # A baseline approach for computing input attribution\n",
        "    GradientShap, \n",
        "    DeepLift,\n",
        "    DeepLiftShap,\n",
        "    IntegratedGradients,\n",
        "    LayerConductance,\n",
        "    NeuronConductance,\n",
        "    NoiseTunnel,\n",
        "    GuidedGradCam,\n",
        "    GuidedBackprop,\n",
        "    Saliency,\n",
        "    LimeBase,\n",
        "    FeatureAblation,\n",
        "    Occlusion,\n",
        "    LRP,\n",
        "    visualization as viz\n",
        ")\n",
        "from PIL import Image\n",
        "import torchvision\n",
        "from torchvision import transforms\n",
        "import json\n",
        "import requests\n",
        "from io import BytesIO\n",
        "import warnings\n",
        "import numpy as np\n",
        "import matplotlib.pyplot as plt\n",
        "import matplotlib.cm as c_map\n",
        "from torchvision import models\n",
        "\n",
        "warnings.filterwarnings('ignore')\n",
        "\n",
        "%matplotlib inline\n",
        "\n",
        "device = torch.device(\"cuda\") if torch.cuda.is_available() else torch.device(\"cpu\")\n",
        "cpu = torch.device(\"cpu\")\n",
        "print(f'Using {device} for inference')"
      ]
    },
    {
      "cell_type": "code",
      "execution_count": null,
      "metadata": {
        "id": "vLfyNmtEM1SB"
      },
      "outputs": [],
      "source": [
        "torch.manual_seed(123)\n",
        "np.random.seed(123)"
      ]
    },
    {
      "cell_type": "code",
      "execution_count": null,
      "metadata": {
        "id": "EVH_ZzSPDGKc"
      },
      "outputs": [],
      "source": [
        "resize_image = transforms.Compose([\n",
        "  transforms.Resize(256),\n",
        "  transforms.CenterCrop(299),\n",
        "])\n",
        "\n",
        "transform = transforms.Compose([            \n",
        "  transforms.ToTensor(),\n",
        "  resize_image,\n",
        "  transforms.Normalize(\n",
        "   mean=[0.485, 0.456, 0.406],\n",
        "   std=[0.229, 0.224, 0.225]\n",
        "  )\n",
        "])\n",
        "\n",
        "mask_transform = transforms.Compose([            \n",
        "  transforms.ToTensor(),\n",
        "  resize_image,\n",
        "])"
      ]
    },
    {
      "cell_type": "markdown",
      "metadata": {
        "id": "sIEBF6WUzAQA"
      },
      "source": [
        "# Setup datasets"
      ]
    },
    {
      "cell_type": "code",
      "execution_count": null,
      "metadata": {
        "id": "8ncf8jeMzDYz"
      },
      "outputs": [],
      "source": [
        "from torch.utils.data import Dataset\n",
        "\n",
        "class PneumothoraxImageDataset(Dataset):\n",
        "    def __init__(self, images, targets, masks, transform, mask_transform):\n",
        "        self.masks = masks\n",
        "        self.images = images\n",
        "        self.targets = targets\n",
        "        self.transform = transform\n",
        "        self.mask_transform = mask_transform\n",
        "        \n",
        "\n",
        "    def __len__(self):\n",
        "        return len(self.images)\n",
        "\n",
        "    def __getitem__(self, idx):\n",
        "        image = np.asarray(Image.open(self.images[idx]).convert(\"RGB\"))\n",
        "        mask = np.asarray(Image.open(self.masks[idx]).convert(\"RGB\"))\n",
        "        label = self.targets[idx]\n",
        "        if self.transform:\n",
        "          image = self.transform(image)\n",
        "        if self.mask_transform:\n",
        "          mask = self.mask_transform(mask)\n",
        "        return image, mask, label"
      ]
    },
    {
      "cell_type": "code",
      "execution_count": null,
      "metadata": {
        "id": "8G-yx78yQsMn"
      },
      "outputs": [],
      "source": [
        "main_path = '/content/datasets/siim-acr-pneumothorax'\n",
        "import os\n",
        "import pandas as pd\n",
        "# train_data = pd.read_csv(os.path.join(main_path, 'stage_1_train_images.csv'))\n",
        "test_data = pd.read_csv(os.path.join(main_path, 'stage_1_test_images.csv'))\n",
        "# Just load only abnormal cases\n",
        "test_abnormal = test_data.loc[test_data.has_pneumo == 1]\n",
        "\n",
        "# train_data['images'] = train_data['new_filename'].apply(lambda x: os.path.join(main_path, 'png_images', x))\n",
        "# train_data['masks'] = train_data['new_filename'].apply(lambda x: os.path.join(main_path, 'png_masks', x))\n",
        "\n",
        "test_abnormal['images'] = test_abnormal['new_filename'].apply(lambda x: os.path.join(main_path, 'png_images', x))\n",
        "test_abnormal['masks'] = test_abnormal['new_filename'].apply(lambda x: os.path.join(main_path, 'png_masks', x))\n",
        "\n",
        "images = test_abnormal['images'].tolist()\n",
        "masks = test_abnormal['masks'].tolist()\n",
        "targets = test_abnormal['has_pneumo'].tolist()"
      ]
    },
    {
      "cell_type": "code",
      "execution_count": null,
      "metadata": {
        "id": "vbo2-sZMQ1iU"
      },
      "outputs": [],
      "source": [
        "dataset = PneumothoraxImageDataset(images, targets, masks, transform=transform, mask_transform=mask_transform)\n",
        "ds_loader = torch.utils.data.DataLoader(dataset, batch_size=8, shuffle=True, num_workers=4)"
      ]
    },
    {
      "cell_type": "code",
      "execution_count": null,
      "metadata": {
        "colab": {
          "base_uri": "https://localhost:8080/"
        },
        "id": "NQ48mhhkR_Qt",
        "outputId": "d9f9e0c9-71ce-4f6b-f9d3-97412a6385db"
      },
      "outputs": [
        {
          "output_type": "stream",
          "name": "stdout",
          "text": [
            "torch.Size([8, 3, 299, 299]) torch.Size([8, 3, 299, 299])\n"
          ]
        }
      ],
      "source": [
        "x, mask, y = next(iter(ds_loader))\n",
        "print(x.shape, mask.shape)"
      ]
    },
    {
      "cell_type": "markdown",
      "metadata": {
        "id": "3prfR5sZf1Jj"
      },
      "source": [
        "## UTIL FUNCS"
      ]
    },
    {
      "cell_type": "markdown",
      "metadata": {
        "id": "gcX0anjnj3SR"
      },
      "source": [
        "### Bellow is the override of an visualization implementation due to the orginal version from the captum module cause bug when config matplotlib grid_b"
      ]
    },
    {
      "cell_type": "code",
      "execution_count": null,
      "metadata": {
        "id": "6eJieH7DcEHO"
      },
      "outputs": [],
      "source": [
        "from matplotlib import cm, colors, pyplot as plt\n",
        "from matplotlib.collections import LineCollection\n",
        "from matplotlib.colors import LinearSegmentedColormap\n",
        "from matplotlib.figure import Figure\n",
        "from matplotlib.pyplot import axis, figure\n",
        "from mpl_toolkits.axes_grid1 import make_axes_locatable\n",
        "from numpy import ndarray\n",
        "from enum import Enum\n",
        "from typing import Any, Iterable, List, Optional, Tuple, Union\n",
        "\n",
        "\n",
        "try:\n",
        "    from IPython.display import display, HTML\n",
        "\n",
        "    HAS_IPYTHON = True\n",
        "except ImportError:\n",
        "    HAS_IPYTHON = False\n",
        "\n",
        "\n",
        "class ImageVisualizationMethod(Enum):\n",
        "    heat_map = 1\n",
        "    blended_heat_map = 2\n",
        "    original_image = 3\n",
        "    masked_image = 4\n",
        "    alpha_scaling = 5\n",
        "\n",
        "\n",
        "class TimeseriesVisualizationMethod(Enum):\n",
        "    overlay_individual = 1\n",
        "    overlay_combined = 2\n",
        "    colored_graph = 3\n",
        "\n",
        "\n",
        "class VisualizeSign(Enum):\n",
        "    positive = 1\n",
        "    absolute_value = 2\n",
        "    negative = 3\n",
        "    all = 4\n",
        "\n",
        "\n",
        "def _prepare_image(attr_visual: ndarray):\n",
        "    return np.clip(attr_visual.astype(int), 0, 255)\n",
        "\n",
        "\n",
        "def _normalize_scale(attr: ndarray, scale_factor: float):\n",
        "    assert scale_factor != 0, \"Cannot normalize by scale factor = 0\"\n",
        "    if abs(scale_factor) < 1e-5:\n",
        "        warnings.warn(\n",
        "            \"Attempting to normalize by value approximately 0, visualized results\"\n",
        "            \"may be misleading. This likely means that attribution values are all\"\n",
        "            \"close to 0.\"\n",
        "        )\n",
        "    attr_norm = attr / scale_factor\n",
        "    return np.clip(attr_norm, -1, 1)\n",
        "\n",
        "\n",
        "def _cumulative_sum_threshold(values: ndarray, percentile: Union[int, float]):\n",
        "    # given values should be non-negative\n",
        "    assert percentile >= 0 and percentile <= 100, (\n",
        "        \"Percentile for thresholding must be \" \"between 0 and 100 inclusive.\"\n",
        "    )\n",
        "    sorted_vals = np.sort(values.flatten())\n",
        "    cum_sums = np.cumsum(sorted_vals)\n",
        "    threshold_id = np.where(cum_sums >= cum_sums[-1] * 0.01 * percentile)[0][0]\n",
        "    return sorted_vals[threshold_id]\n",
        "\n",
        "\n",
        "def _normalize_attr(\n",
        "    attr: ndarray,\n",
        "    sign: str,\n",
        "    outlier_perc: Union[int, float] = 2,\n",
        "    reduction_axis: Optional[int] = None,\n",
        "):\n",
        "    attr_combined = attr\n",
        "    if reduction_axis is not None:\n",
        "        attr_combined = np.sum(attr, axis=reduction_axis)\n",
        "\n",
        "    # Choose appropriate signed values and rescale, removing given outlier percentage.\n",
        "    if VisualizeSign[sign] == VisualizeSign.all:\n",
        "        threshold = _cumulative_sum_threshold(np.abs(attr_combined), 100 - outlier_perc)\n",
        "    elif VisualizeSign[sign] == VisualizeSign.positive:\n",
        "        attr_combined = (attr_combined > 0) * attr_combined\n",
        "        threshold = _cumulative_sum_threshold(attr_combined, 100 - outlier_perc)\n",
        "    elif VisualizeSign[sign] == VisualizeSign.negative:\n",
        "        attr_combined = (attr_combined < 0) * attr_combined\n",
        "        threshold = -1 * _cumulative_sum_threshold(\n",
        "            np.abs(attr_combined), 100 - outlier_perc\n",
        "        )\n",
        "    elif VisualizeSign[sign] == VisualizeSign.absolute_value:\n",
        "        attr_combined = np.abs(attr_combined)\n",
        "        threshold = _cumulative_sum_threshold(attr_combined, 100 - outlier_perc)\n",
        "    else:\n",
        "        raise AssertionError(\"Visualize Sign type is not valid.\")\n",
        "    return _normalize_scale(attr_combined, threshold)\n",
        "\n",
        "\n",
        "def visualize_image_attr(\n",
        "    attr: ndarray,\n",
        "    original_image: Union[None, ndarray] = None,\n",
        "    method: str = \"heat_map\",\n",
        "    sign: str = \"absolute_value\",\n",
        "    plt_fig_axis: Union[None, Tuple[figure, axis]] = None,\n",
        "    outlier_perc: Union[int, float] = 2,\n",
        "    cmap: Union[None, str] = None,\n",
        "    alpha_overlay: float = 0.5,\n",
        "    show_colorbar: bool = False,\n",
        "    title: Union[None, str] = None,\n",
        "    fig_size: Tuple[int, int] = (6, 6),\n",
        "    use_pyplot: bool = True,\n",
        "):\n",
        "    r\"\"\"\n",
        "    Visualizes attribution for a given image by normalizing attribution values\n",
        "    of the desired sign (positive, negative, absolute value, or all) and displaying\n",
        "    them using the desired mode in a matplotlib figure.\n",
        "\n",
        "    Args:\n",
        "\n",
        "        attr (numpy.ndarray): Numpy array corresponding to attributions to be\n",
        "                    visualized. Shape must be in the form (H, W, C), with\n",
        "                    channels as last dimension. Shape must also match that of\n",
        "                    the original image if provided.\n",
        "        original_image (numpy.ndarray, optional): Numpy array corresponding to\n",
        "                    original image. Shape must be in the form (H, W, C), with\n",
        "                    channels as the last dimension. Image can be provided either\n",
        "                    with float values in range 0-1 or int values between 0-255.\n",
        "                    This is a necessary argument for any visualization method\n",
        "                    which utilizes the original image.\n",
        "                    Default: None\n",
        "        method (str, optional): Chosen method for visualizing attribution.\n",
        "                    Supported options are:\n",
        "\n",
        "                    1. `heat_map` - Display heat map of chosen attributions\n",
        "\n",
        "                    2. `blended_heat_map` - Overlay heat map over greyscale\n",
        "                       version of original image. Parameter alpha_overlay\n",
        "                       corresponds to alpha of heat map.\n",
        "\n",
        "                    3. `original_image` - Only display original image.\n",
        "\n",
        "                    4. `masked_image` - Mask image (pixel-wise multiply)\n",
        "                       by normalized attribution values.\n",
        "\n",
        "                    5. `alpha_scaling` - Sets alpha channel of each pixel\n",
        "                       to be equal to normalized attribution value.\n",
        "\n",
        "                    Default: `heat_map`\n",
        "        sign (str, optional): Chosen sign of attributions to visualize. Supported\n",
        "                    options are:\n",
        "\n",
        "                    1. `positive` - Displays only positive pixel attributions.\n",
        "\n",
        "                    2. `absolute_value` - Displays absolute value of\n",
        "                       attributions.\n",
        "\n",
        "                    3. `negative` - Displays only negative pixel attributions.\n",
        "\n",
        "                    4. `all` - Displays both positive and negative attribution\n",
        "                       values. This is not supported for `masked_image` or\n",
        "                       `alpha_scaling` modes, since signed information cannot\n",
        "                       be represented in these modes.\n",
        "\n",
        "                    Default: `absolute_value`\n",
        "        plt_fig_axis (tuple, optional): Tuple of matplotlib.pyplot.figure and axis\n",
        "                    on which to visualize. If None is provided, then a new figure\n",
        "                    and axis are created.\n",
        "                    Default: None\n",
        "        outlier_perc (float or int, optional): Top attribution values which\n",
        "                    correspond to a total of outlier_perc percentage of the\n",
        "                    total attribution are set to 1 and scaling is performed\n",
        "                    using the minimum of these values. For sign=`all`, outliers\n",
        "                    and scale value are computed using absolute value of\n",
        "                    attributions.\n",
        "                    Default: 2\n",
        "        cmap (str, optional): String corresponding to desired colormap for\n",
        "                    heatmap visualization. This defaults to \"Reds\" for negative\n",
        "                    sign, \"Blues\" for absolute value, \"Greens\" for positive sign,\n",
        "                    and a spectrum from red to green for all. Note that this\n",
        "                    argument is only used for visualizations displaying heatmaps.\n",
        "                    Default: None\n",
        "        alpha_overlay (float, optional): Alpha to set for heatmap when using\n",
        "                    `blended_heat_map` visualization mode, which overlays the\n",
        "                    heat map over the greyscaled original image.\n",
        "                    Default: 0.5\n",
        "        show_colorbar (bool, optional): Displays colorbar for heatmap below\n",
        "                    the visualization. If given method does not use a heatmap,\n",
        "                    then a colormap axis is created and hidden. This is\n",
        "                    necessary for appropriate alignment when visualizing\n",
        "                    multiple plots, some with colorbars and some without.\n",
        "                    Default: False\n",
        "        title (str, optional): Title string for plot. If None, no title is\n",
        "                    set.\n",
        "                    Default: None\n",
        "        fig_size (tuple, optional): Size of figure created.\n",
        "                    Default: (6,6)\n",
        "        use_pyplot (bool, optional): If true, uses pyplot to create and show\n",
        "                    figure and displays the figure after creating. If False,\n",
        "                    uses Matplotlib object oriented API and simply returns a\n",
        "                    figure object without showing.\n",
        "                    Default: True.\n",
        "\n",
        "    Returns:\n",
        "        2-element tuple of **figure**, **axis**:\n",
        "        - **figure** (*matplotlib.pyplot.figure*):\n",
        "                    Figure object on which visualization\n",
        "                    is created. If plt_fig_axis argument is given, this is the\n",
        "                    same figure provided.\n",
        "        - **axis** (*matplotlib.pyplot.axis*):\n",
        "                    Axis object on which visualization\n",
        "                    is created. If plt_fig_axis argument is given, this is the\n",
        "                    same axis provided.\n",
        "\n",
        "    Examples::\n",
        "\n",
        "        >>> # ImageClassifier takes a single input tensor of images Nx3x32x32,\n",
        "        >>> # and returns an Nx10 tensor of class probabilities.\n",
        "        >>> net = ImageClassifier()\n",
        "        >>> ig = IntegratedGradients(net)\n",
        "        >>> # Computes integrated gradients for class 3 for a given image .\n",
        "        >>> attribution, delta = ig.attribute(orig_image, target=3)\n",
        "        >>> # Displays blended heat map visualization of computed attributions.\n",
        "        >>> _ = visualize_image_attr(attribution, orig_image, \"blended_heat_map\")\n",
        "    \"\"\"\n",
        "    # Create plot if figure, axis not provided\n",
        "    if plt_fig_axis is not None:\n",
        "        plt_fig, plt_axis = plt_fig_axis\n",
        "    else:\n",
        "        if use_pyplot:\n",
        "            plt_fig, plt_axis = plt.subplots(figsize=fig_size)\n",
        "        else:\n",
        "            plt_fig = Figure(figsize=fig_size)\n",
        "            plt_axis = plt_fig.subplots()\n",
        "\n",
        "    if original_image is not None:\n",
        "        if np.max(original_image) <= 1.0:\n",
        "            original_image = _prepare_image(original_image * 255)\n",
        "    elif ImageVisualizationMethod[method] != ImageVisualizationMethod.heat_map:\n",
        "        raise ValueError(\n",
        "            \"Original Image must be provided for\"\n",
        "            \"any visualization other than heatmap.\"\n",
        "        )\n",
        "\n",
        "    # Remove ticks and tick labels from plot.\n",
        "    plt_axis.xaxis.set_ticks_position(\"none\")\n",
        "    plt_axis.yaxis.set_ticks_position(\"none\")\n",
        "    plt_axis.set_yticklabels([])\n",
        "    plt_axis.set_xticklabels([])\n",
        "    plt_axis.grid(visible=False)\n",
        "\n",
        "    heat_map = None\n",
        "    # Show original image\n",
        "    if ImageVisualizationMethod[method] == ImageVisualizationMethod.original_image:\n",
        "        assert (\n",
        "            original_image is not None\n",
        "        ), \"Original image expected for original_image method.\"\n",
        "        if len(original_image.shape) > 2 and original_image.shape[2] == 1:\n",
        "            original_image = np.squeeze(original_image, axis=2)\n",
        "        plt_axis.imshow(original_image)\n",
        "    else:\n",
        "        # Choose appropriate signed attributions and normalize.\n",
        "        norm_attr = _normalize_attr(attr, sign, outlier_perc, reduction_axis=2)\n",
        "\n",
        "        # Set default colormap and bounds based on sign.\n",
        "        if VisualizeSign[sign] == VisualizeSign.all:\n",
        "            default_cmap = LinearSegmentedColormap.from_list(\n",
        "                \"RdWhGn\", [\"red\", \"white\", \"green\"]\n",
        "            )\n",
        "            vmin, vmax = -1, 1\n",
        "        elif VisualizeSign[sign] == VisualizeSign.positive:\n",
        "            default_cmap = \"Greens\"\n",
        "            vmin, vmax = 0, 1\n",
        "        elif VisualizeSign[sign] == VisualizeSign.negative:\n",
        "            default_cmap = \"Reds\"\n",
        "            vmin, vmax = 0, 1\n",
        "        elif VisualizeSign[sign] == VisualizeSign.absolute_value:\n",
        "            default_cmap = \"Blues\"\n",
        "            vmin, vmax = 0, 1\n",
        "        else:\n",
        "            raise AssertionError(\"Visualize Sign type is not valid.\")\n",
        "        cmap = cmap if cmap is not None else default_cmap\n",
        "\n",
        "        # Show appropriate image visualization.\n",
        "        if ImageVisualizationMethod[method] == ImageVisualizationMethod.heat_map:\n",
        "            heat_map = plt_axis.imshow(norm_attr, cmap=cmap, vmin=vmin, vmax=vmax)\n",
        "        elif (\n",
        "            ImageVisualizationMethod[method]\n",
        "            == ImageVisualizationMethod.blended_heat_map\n",
        "        ):\n",
        "            assert (\n",
        "                original_image is not None\n",
        "            ), \"Original Image expected for blended_heat_map method.\"\n",
        "            plt_axis.imshow(np.mean(original_image, axis=2), cmap=\"gray\")\n",
        "            heat_map = plt_axis.imshow(\n",
        "                norm_attr, cmap=cmap, vmin=vmin, vmax=vmax, alpha=alpha_overlay\n",
        "            )\n",
        "        elif ImageVisualizationMethod[method] == ImageVisualizationMethod.masked_image:\n",
        "            assert VisualizeSign[sign] != VisualizeSign.all, (\n",
        "                \"Cannot display masked image with both positive and negative \"\n",
        "                \"attributions, choose a different sign option.\"\n",
        "            )\n",
        "            plt_axis.imshow(\n",
        "                _prepare_image(original_image * np.expand_dims(norm_attr, 2))\n",
        "            )\n",
        "        elif ImageVisualizationMethod[method] == ImageVisualizationMethod.alpha_scaling:\n",
        "            assert VisualizeSign[sign] != VisualizeSign.all, (\n",
        "                \"Cannot display alpha scaling with both positive and negative \"\n",
        "                \"attributions, choose a different sign option.\"\n",
        "            )\n",
        "            plt_axis.imshow(\n",
        "                np.concatenate(\n",
        "                    [\n",
        "                        original_image,\n",
        "                        _prepare_image(np.expand_dims(norm_attr, 2) * 255),\n",
        "                    ],\n",
        "                    axis=2,\n",
        "                )\n",
        "            )\n",
        "        else:\n",
        "            raise AssertionError(\"Visualize Method type is not valid.\")\n",
        "\n",
        "    # Add colorbar. If given method is not a heatmap and no colormap is relevant,\n",
        "    # then a colormap axis is created and hidden. This is necessary for appropriate\n",
        "    # alignment when visualizing multiple plots, some with heatmaps and some\n",
        "    # without.\n",
        "    if show_colorbar:\n",
        "        axis_separator = make_axes_locatable(plt_axis)\n",
        "        colorbar_axis = axis_separator.append_axes(\"bottom\", size=\"5%\", pad=0.1)\n",
        "        if heat_map:\n",
        "            plt_fig.colorbar(heat_map, orientation=\"horizontal\", cax=colorbar_axis)\n",
        "        else:\n",
        "            colorbar_axis.axis(\"off\")\n",
        "    if title:\n",
        "        plt_axis.set_title(title)\n",
        "\n",
        "    if use_pyplot:\n",
        "        plt.show()\n",
        "\n",
        "    return plt_fig, plt_axis"
      ]
    },
    {
      "cell_type": "markdown",
      "metadata": {
        "id": "03NSEm1hf5Yk"
      },
      "source": [
        "## Setup Blackbox & XAI methods"
      ]
    },
    {
      "cell_type": "code",
      "execution_count": null,
      "metadata": {
        "id": "LfEomGL_M8DD",
        "colab": {
          "base_uri": "https://localhost:8080/"
        },
        "outputId": "38930239-5403-4122-ece0-cf277e8d5233"
      },
      "outputs": [
        {
          "output_type": "execute_result",
          "data": {
            "text/plain": [
              "Inception3(\n",
              "  (Conv2d_1a_3x3): BasicConv2d(\n",
              "    (conv): Conv2d(3, 32, kernel_size=(3, 3), stride=(2, 2), bias=False)\n",
              "    (bn): BatchNorm2d(32, eps=0.001, momentum=0.1, affine=True, track_running_stats=True)\n",
              "  )\n",
              "  (Conv2d_2a_3x3): BasicConv2d(\n",
              "    (conv): Conv2d(32, 32, kernel_size=(3, 3), stride=(1, 1), bias=False)\n",
              "    (bn): BatchNorm2d(32, eps=0.001, momentum=0.1, affine=True, track_running_stats=True)\n",
              "  )\n",
              "  (Conv2d_2b_3x3): BasicConv2d(\n",
              "    (conv): Conv2d(32, 64, kernel_size=(3, 3), stride=(1, 1), padding=(1, 1), bias=False)\n",
              "    (bn): BatchNorm2d(64, eps=0.001, momentum=0.1, affine=True, track_running_stats=True)\n",
              "  )\n",
              "  (maxpool1): MaxPool2d(kernel_size=3, stride=2, padding=0, dilation=1, ceil_mode=False)\n",
              "  (Conv2d_3b_1x1): BasicConv2d(\n",
              "    (conv): Conv2d(64, 80, kernel_size=(1, 1), stride=(1, 1), bias=False)\n",
              "    (bn): BatchNorm2d(80, eps=0.001, momentum=0.1, affine=True, track_running_stats=True)\n",
              "  )\n",
              "  (Conv2d_4a_3x3): BasicConv2d(\n",
              "    (conv): Conv2d(80, 192, kernel_size=(3, 3), stride=(1, 1), bias=False)\n",
              "    (bn): BatchNorm2d(192, eps=0.001, momentum=0.1, affine=True, track_running_stats=True)\n",
              "  )\n",
              "  (maxpool2): MaxPool2d(kernel_size=3, stride=2, padding=0, dilation=1, ceil_mode=False)\n",
              "  (Mixed_5b): InceptionA(\n",
              "    (branch1x1): BasicConv2d(\n",
              "      (conv): Conv2d(192, 64, kernel_size=(1, 1), stride=(1, 1), bias=False)\n",
              "      (bn): BatchNorm2d(64, eps=0.001, momentum=0.1, affine=True, track_running_stats=True)\n",
              "    )\n",
              "    (branch5x5_1): BasicConv2d(\n",
              "      (conv): Conv2d(192, 48, kernel_size=(1, 1), stride=(1, 1), bias=False)\n",
              "      (bn): BatchNorm2d(48, eps=0.001, momentum=0.1, affine=True, track_running_stats=True)\n",
              "    )\n",
              "    (branch5x5_2): BasicConv2d(\n",
              "      (conv): Conv2d(48, 64, kernel_size=(5, 5), stride=(1, 1), padding=(2, 2), bias=False)\n",
              "      (bn): BatchNorm2d(64, eps=0.001, momentum=0.1, affine=True, track_running_stats=True)\n",
              "    )\n",
              "    (branch3x3dbl_1): BasicConv2d(\n",
              "      (conv): Conv2d(192, 64, kernel_size=(1, 1), stride=(1, 1), bias=False)\n",
              "      (bn): BatchNorm2d(64, eps=0.001, momentum=0.1, affine=True, track_running_stats=True)\n",
              "    )\n",
              "    (branch3x3dbl_2): BasicConv2d(\n",
              "      (conv): Conv2d(64, 96, kernel_size=(3, 3), stride=(1, 1), padding=(1, 1), bias=False)\n",
              "      (bn): BatchNorm2d(96, eps=0.001, momentum=0.1, affine=True, track_running_stats=True)\n",
              "    )\n",
              "    (branch3x3dbl_3): BasicConv2d(\n",
              "      (conv): Conv2d(96, 96, kernel_size=(3, 3), stride=(1, 1), padding=(1, 1), bias=False)\n",
              "      (bn): BatchNorm2d(96, eps=0.001, momentum=0.1, affine=True, track_running_stats=True)\n",
              "    )\n",
              "    (branch_pool): BasicConv2d(\n",
              "      (conv): Conv2d(192, 32, kernel_size=(1, 1), stride=(1, 1), bias=False)\n",
              "      (bn): BatchNorm2d(32, eps=0.001, momentum=0.1, affine=True, track_running_stats=True)\n",
              "    )\n",
              "  )\n",
              "  (Mixed_5c): InceptionA(\n",
              "    (branch1x1): BasicConv2d(\n",
              "      (conv): Conv2d(256, 64, kernel_size=(1, 1), stride=(1, 1), bias=False)\n",
              "      (bn): BatchNorm2d(64, eps=0.001, momentum=0.1, affine=True, track_running_stats=True)\n",
              "    )\n",
              "    (branch5x5_1): BasicConv2d(\n",
              "      (conv): Conv2d(256, 48, kernel_size=(1, 1), stride=(1, 1), bias=False)\n",
              "      (bn): BatchNorm2d(48, eps=0.001, momentum=0.1, affine=True, track_running_stats=True)\n",
              "    )\n",
              "    (branch5x5_2): BasicConv2d(\n",
              "      (conv): Conv2d(48, 64, kernel_size=(5, 5), stride=(1, 1), padding=(2, 2), bias=False)\n",
              "      (bn): BatchNorm2d(64, eps=0.001, momentum=0.1, affine=True, track_running_stats=True)\n",
              "    )\n",
              "    (branch3x3dbl_1): BasicConv2d(\n",
              "      (conv): Conv2d(256, 64, kernel_size=(1, 1), stride=(1, 1), bias=False)\n",
              "      (bn): BatchNorm2d(64, eps=0.001, momentum=0.1, affine=True, track_running_stats=True)\n",
              "    )\n",
              "    (branch3x3dbl_2): BasicConv2d(\n",
              "      (conv): Conv2d(64, 96, kernel_size=(3, 3), stride=(1, 1), padding=(1, 1), bias=False)\n",
              "      (bn): BatchNorm2d(96, eps=0.001, momentum=0.1, affine=True, track_running_stats=True)\n",
              "    )\n",
              "    (branch3x3dbl_3): BasicConv2d(\n",
              "      (conv): Conv2d(96, 96, kernel_size=(3, 3), stride=(1, 1), padding=(1, 1), bias=False)\n",
              "      (bn): BatchNorm2d(96, eps=0.001, momentum=0.1, affine=True, track_running_stats=True)\n",
              "    )\n",
              "    (branch_pool): BasicConv2d(\n",
              "      (conv): Conv2d(256, 64, kernel_size=(1, 1), stride=(1, 1), bias=False)\n",
              "      (bn): BatchNorm2d(64, eps=0.001, momentum=0.1, affine=True, track_running_stats=True)\n",
              "    )\n",
              "  )\n",
              "  (Mixed_5d): InceptionA(\n",
              "    (branch1x1): BasicConv2d(\n",
              "      (conv): Conv2d(288, 64, kernel_size=(1, 1), stride=(1, 1), bias=False)\n",
              "      (bn): BatchNorm2d(64, eps=0.001, momentum=0.1, affine=True, track_running_stats=True)\n",
              "    )\n",
              "    (branch5x5_1): BasicConv2d(\n",
              "      (conv): Conv2d(288, 48, kernel_size=(1, 1), stride=(1, 1), bias=False)\n",
              "      (bn): BatchNorm2d(48, eps=0.001, momentum=0.1, affine=True, track_running_stats=True)\n",
              "    )\n",
              "    (branch5x5_2): BasicConv2d(\n",
              "      (conv): Conv2d(48, 64, kernel_size=(5, 5), stride=(1, 1), padding=(2, 2), bias=False)\n",
              "      (bn): BatchNorm2d(64, eps=0.001, momentum=0.1, affine=True, track_running_stats=True)\n",
              "    )\n",
              "    (branch3x3dbl_1): BasicConv2d(\n",
              "      (conv): Conv2d(288, 64, kernel_size=(1, 1), stride=(1, 1), bias=False)\n",
              "      (bn): BatchNorm2d(64, eps=0.001, momentum=0.1, affine=True, track_running_stats=True)\n",
              "    )\n",
              "    (branch3x3dbl_2): BasicConv2d(\n",
              "      (conv): Conv2d(64, 96, kernel_size=(3, 3), stride=(1, 1), padding=(1, 1), bias=False)\n",
              "      (bn): BatchNorm2d(96, eps=0.001, momentum=0.1, affine=True, track_running_stats=True)\n",
              "    )\n",
              "    (branch3x3dbl_3): BasicConv2d(\n",
              "      (conv): Conv2d(96, 96, kernel_size=(3, 3), stride=(1, 1), padding=(1, 1), bias=False)\n",
              "      (bn): BatchNorm2d(96, eps=0.001, momentum=0.1, affine=True, track_running_stats=True)\n",
              "    )\n",
              "    (branch_pool): BasicConv2d(\n",
              "      (conv): Conv2d(288, 64, kernel_size=(1, 1), stride=(1, 1), bias=False)\n",
              "      (bn): BatchNorm2d(64, eps=0.001, momentum=0.1, affine=True, track_running_stats=True)\n",
              "    )\n",
              "  )\n",
              "  (Mixed_6a): InceptionB(\n",
              "    (branch3x3): BasicConv2d(\n",
              "      (conv): Conv2d(288, 384, kernel_size=(3, 3), stride=(2, 2), bias=False)\n",
              "      (bn): BatchNorm2d(384, eps=0.001, momentum=0.1, affine=True, track_running_stats=True)\n",
              "    )\n",
              "    (branch3x3dbl_1): BasicConv2d(\n",
              "      (conv): Conv2d(288, 64, kernel_size=(1, 1), stride=(1, 1), bias=False)\n",
              "      (bn): BatchNorm2d(64, eps=0.001, momentum=0.1, affine=True, track_running_stats=True)\n",
              "    )\n",
              "    (branch3x3dbl_2): BasicConv2d(\n",
              "      (conv): Conv2d(64, 96, kernel_size=(3, 3), stride=(1, 1), padding=(1, 1), bias=False)\n",
              "      (bn): BatchNorm2d(96, eps=0.001, momentum=0.1, affine=True, track_running_stats=True)\n",
              "    )\n",
              "    (branch3x3dbl_3): BasicConv2d(\n",
              "      (conv): Conv2d(96, 96, kernel_size=(3, 3), stride=(2, 2), bias=False)\n",
              "      (bn): BatchNorm2d(96, eps=0.001, momentum=0.1, affine=True, track_running_stats=True)\n",
              "    )\n",
              "  )\n",
              "  (Mixed_6b): InceptionC(\n",
              "    (branch1x1): BasicConv2d(\n",
              "      (conv): Conv2d(768, 192, kernel_size=(1, 1), stride=(1, 1), bias=False)\n",
              "      (bn): BatchNorm2d(192, eps=0.001, momentum=0.1, affine=True, track_running_stats=True)\n",
              "    )\n",
              "    (branch7x7_1): BasicConv2d(\n",
              "      (conv): Conv2d(768, 128, kernel_size=(1, 1), stride=(1, 1), bias=False)\n",
              "      (bn): BatchNorm2d(128, eps=0.001, momentum=0.1, affine=True, track_running_stats=True)\n",
              "    )\n",
              "    (branch7x7_2): BasicConv2d(\n",
              "      (conv): Conv2d(128, 128, kernel_size=(1, 7), stride=(1, 1), padding=(0, 3), bias=False)\n",
              "      (bn): BatchNorm2d(128, eps=0.001, momentum=0.1, affine=True, track_running_stats=True)\n",
              "    )\n",
              "    (branch7x7_3): BasicConv2d(\n",
              "      (conv): Conv2d(128, 192, kernel_size=(7, 1), stride=(1, 1), padding=(3, 0), bias=False)\n",
              "      (bn): BatchNorm2d(192, eps=0.001, momentum=0.1, affine=True, track_running_stats=True)\n",
              "    )\n",
              "    (branch7x7dbl_1): BasicConv2d(\n",
              "      (conv): Conv2d(768, 128, kernel_size=(1, 1), stride=(1, 1), bias=False)\n",
              "      (bn): BatchNorm2d(128, eps=0.001, momentum=0.1, affine=True, track_running_stats=True)\n",
              "    )\n",
              "    (branch7x7dbl_2): BasicConv2d(\n",
              "      (conv): Conv2d(128, 128, kernel_size=(7, 1), stride=(1, 1), padding=(3, 0), bias=False)\n",
              "      (bn): BatchNorm2d(128, eps=0.001, momentum=0.1, affine=True, track_running_stats=True)\n",
              "    )\n",
              "    (branch7x7dbl_3): BasicConv2d(\n",
              "      (conv): Conv2d(128, 128, kernel_size=(1, 7), stride=(1, 1), padding=(0, 3), bias=False)\n",
              "      (bn): BatchNorm2d(128, eps=0.001, momentum=0.1, affine=True, track_running_stats=True)\n",
              "    )\n",
              "    (branch7x7dbl_4): BasicConv2d(\n",
              "      (conv): Conv2d(128, 128, kernel_size=(7, 1), stride=(1, 1), padding=(3, 0), bias=False)\n",
              "      (bn): BatchNorm2d(128, eps=0.001, momentum=0.1, affine=True, track_running_stats=True)\n",
              "    )\n",
              "    (branch7x7dbl_5): BasicConv2d(\n",
              "      (conv): Conv2d(128, 192, kernel_size=(1, 7), stride=(1, 1), padding=(0, 3), bias=False)\n",
              "      (bn): BatchNorm2d(192, eps=0.001, momentum=0.1, affine=True, track_running_stats=True)\n",
              "    )\n",
              "    (branch_pool): BasicConv2d(\n",
              "      (conv): Conv2d(768, 192, kernel_size=(1, 1), stride=(1, 1), bias=False)\n",
              "      (bn): BatchNorm2d(192, eps=0.001, momentum=0.1, affine=True, track_running_stats=True)\n",
              "    )\n",
              "  )\n",
              "  (Mixed_6c): InceptionC(\n",
              "    (branch1x1): BasicConv2d(\n",
              "      (conv): Conv2d(768, 192, kernel_size=(1, 1), stride=(1, 1), bias=False)\n",
              "      (bn): BatchNorm2d(192, eps=0.001, momentum=0.1, affine=True, track_running_stats=True)\n",
              "    )\n",
              "    (branch7x7_1): BasicConv2d(\n",
              "      (conv): Conv2d(768, 160, kernel_size=(1, 1), stride=(1, 1), bias=False)\n",
              "      (bn): BatchNorm2d(160, eps=0.001, momentum=0.1, affine=True, track_running_stats=True)\n",
              "    )\n",
              "    (branch7x7_2): BasicConv2d(\n",
              "      (conv): Conv2d(160, 160, kernel_size=(1, 7), stride=(1, 1), padding=(0, 3), bias=False)\n",
              "      (bn): BatchNorm2d(160, eps=0.001, momentum=0.1, affine=True, track_running_stats=True)\n",
              "    )\n",
              "    (branch7x7_3): BasicConv2d(\n",
              "      (conv): Conv2d(160, 192, kernel_size=(7, 1), stride=(1, 1), padding=(3, 0), bias=False)\n",
              "      (bn): BatchNorm2d(192, eps=0.001, momentum=0.1, affine=True, track_running_stats=True)\n",
              "    )\n",
              "    (branch7x7dbl_1): BasicConv2d(\n",
              "      (conv): Conv2d(768, 160, kernel_size=(1, 1), stride=(1, 1), bias=False)\n",
              "      (bn): BatchNorm2d(160, eps=0.001, momentum=0.1, affine=True, track_running_stats=True)\n",
              "    )\n",
              "    (branch7x7dbl_2): BasicConv2d(\n",
              "      (conv): Conv2d(160, 160, kernel_size=(7, 1), stride=(1, 1), padding=(3, 0), bias=False)\n",
              "      (bn): BatchNorm2d(160, eps=0.001, momentum=0.1, affine=True, track_running_stats=True)\n",
              "    )\n",
              "    (branch7x7dbl_3): BasicConv2d(\n",
              "      (conv): Conv2d(160, 160, kernel_size=(1, 7), stride=(1, 1), padding=(0, 3), bias=False)\n",
              "      (bn): BatchNorm2d(160, eps=0.001, momentum=0.1, affine=True, track_running_stats=True)\n",
              "    )\n",
              "    (branch7x7dbl_4): BasicConv2d(\n",
              "      (conv): Conv2d(160, 160, kernel_size=(7, 1), stride=(1, 1), padding=(3, 0), bias=False)\n",
              "      (bn): BatchNorm2d(160, eps=0.001, momentum=0.1, affine=True, track_running_stats=True)\n",
              "    )\n",
              "    (branch7x7dbl_5): BasicConv2d(\n",
              "      (conv): Conv2d(160, 192, kernel_size=(1, 7), stride=(1, 1), padding=(0, 3), bias=False)\n",
              "      (bn): BatchNorm2d(192, eps=0.001, momentum=0.1, affine=True, track_running_stats=True)\n",
              "    )\n",
              "    (branch_pool): BasicConv2d(\n",
              "      (conv): Conv2d(768, 192, kernel_size=(1, 1), stride=(1, 1), bias=False)\n",
              "      (bn): BatchNorm2d(192, eps=0.001, momentum=0.1, affine=True, track_running_stats=True)\n",
              "    )\n",
              "  )\n",
              "  (Mixed_6d): InceptionC(\n",
              "    (branch1x1): BasicConv2d(\n",
              "      (conv): Conv2d(768, 192, kernel_size=(1, 1), stride=(1, 1), bias=False)\n",
              "      (bn): BatchNorm2d(192, eps=0.001, momentum=0.1, affine=True, track_running_stats=True)\n",
              "    )\n",
              "    (branch7x7_1): BasicConv2d(\n",
              "      (conv): Conv2d(768, 160, kernel_size=(1, 1), stride=(1, 1), bias=False)\n",
              "      (bn): BatchNorm2d(160, eps=0.001, momentum=0.1, affine=True, track_running_stats=True)\n",
              "    )\n",
              "    (branch7x7_2): BasicConv2d(\n",
              "      (conv): Conv2d(160, 160, kernel_size=(1, 7), stride=(1, 1), padding=(0, 3), bias=False)\n",
              "      (bn): BatchNorm2d(160, eps=0.001, momentum=0.1, affine=True, track_running_stats=True)\n",
              "    )\n",
              "    (branch7x7_3): BasicConv2d(\n",
              "      (conv): Conv2d(160, 192, kernel_size=(7, 1), stride=(1, 1), padding=(3, 0), bias=False)\n",
              "      (bn): BatchNorm2d(192, eps=0.001, momentum=0.1, affine=True, track_running_stats=True)\n",
              "    )\n",
              "    (branch7x7dbl_1): BasicConv2d(\n",
              "      (conv): Conv2d(768, 160, kernel_size=(1, 1), stride=(1, 1), bias=False)\n",
              "      (bn): BatchNorm2d(160, eps=0.001, momentum=0.1, affine=True, track_running_stats=True)\n",
              "    )\n",
              "    (branch7x7dbl_2): BasicConv2d(\n",
              "      (conv): Conv2d(160, 160, kernel_size=(7, 1), stride=(1, 1), padding=(3, 0), bias=False)\n",
              "      (bn): BatchNorm2d(160, eps=0.001, momentum=0.1, affine=True, track_running_stats=True)\n",
              "    )\n",
              "    (branch7x7dbl_3): BasicConv2d(\n",
              "      (conv): Conv2d(160, 160, kernel_size=(1, 7), stride=(1, 1), padding=(0, 3), bias=False)\n",
              "      (bn): BatchNorm2d(160, eps=0.001, momentum=0.1, affine=True, track_running_stats=True)\n",
              "    )\n",
              "    (branch7x7dbl_4): BasicConv2d(\n",
              "      (conv): Conv2d(160, 160, kernel_size=(7, 1), stride=(1, 1), padding=(3, 0), bias=False)\n",
              "      (bn): BatchNorm2d(160, eps=0.001, momentum=0.1, affine=True, track_running_stats=True)\n",
              "    )\n",
              "    (branch7x7dbl_5): BasicConv2d(\n",
              "      (conv): Conv2d(160, 192, kernel_size=(1, 7), stride=(1, 1), padding=(0, 3), bias=False)\n",
              "      (bn): BatchNorm2d(192, eps=0.001, momentum=0.1, affine=True, track_running_stats=True)\n",
              "    )\n",
              "    (branch_pool): BasicConv2d(\n",
              "      (conv): Conv2d(768, 192, kernel_size=(1, 1), stride=(1, 1), bias=False)\n",
              "      (bn): BatchNorm2d(192, eps=0.001, momentum=0.1, affine=True, track_running_stats=True)\n",
              "    )\n",
              "  )\n",
              "  (Mixed_6e): InceptionC(\n",
              "    (branch1x1): BasicConv2d(\n",
              "      (conv): Conv2d(768, 192, kernel_size=(1, 1), stride=(1, 1), bias=False)\n",
              "      (bn): BatchNorm2d(192, eps=0.001, momentum=0.1, affine=True, track_running_stats=True)\n",
              "    )\n",
              "    (branch7x7_1): BasicConv2d(\n",
              "      (conv): Conv2d(768, 192, kernel_size=(1, 1), stride=(1, 1), bias=False)\n",
              "      (bn): BatchNorm2d(192, eps=0.001, momentum=0.1, affine=True, track_running_stats=True)\n",
              "    )\n",
              "    (branch7x7_2): BasicConv2d(\n",
              "      (conv): Conv2d(192, 192, kernel_size=(1, 7), stride=(1, 1), padding=(0, 3), bias=False)\n",
              "      (bn): BatchNorm2d(192, eps=0.001, momentum=0.1, affine=True, track_running_stats=True)\n",
              "    )\n",
              "    (branch7x7_3): BasicConv2d(\n",
              "      (conv): Conv2d(192, 192, kernel_size=(7, 1), stride=(1, 1), padding=(3, 0), bias=False)\n",
              "      (bn): BatchNorm2d(192, eps=0.001, momentum=0.1, affine=True, track_running_stats=True)\n",
              "    )\n",
              "    (branch7x7dbl_1): BasicConv2d(\n",
              "      (conv): Conv2d(768, 192, kernel_size=(1, 1), stride=(1, 1), bias=False)\n",
              "      (bn): BatchNorm2d(192, eps=0.001, momentum=0.1, affine=True, track_running_stats=True)\n",
              "    )\n",
              "    (branch7x7dbl_2): BasicConv2d(\n",
              "      (conv): Conv2d(192, 192, kernel_size=(7, 1), stride=(1, 1), padding=(3, 0), bias=False)\n",
              "      (bn): BatchNorm2d(192, eps=0.001, momentum=0.1, affine=True, track_running_stats=True)\n",
              "    )\n",
              "    (branch7x7dbl_3): BasicConv2d(\n",
              "      (conv): Conv2d(192, 192, kernel_size=(1, 7), stride=(1, 1), padding=(0, 3), bias=False)\n",
              "      (bn): BatchNorm2d(192, eps=0.001, momentum=0.1, affine=True, track_running_stats=True)\n",
              "    )\n",
              "    (branch7x7dbl_4): BasicConv2d(\n",
              "      (conv): Conv2d(192, 192, kernel_size=(7, 1), stride=(1, 1), padding=(3, 0), bias=False)\n",
              "      (bn): BatchNorm2d(192, eps=0.001, momentum=0.1, affine=True, track_running_stats=True)\n",
              "    )\n",
              "    (branch7x7dbl_5): BasicConv2d(\n",
              "      (conv): Conv2d(192, 192, kernel_size=(1, 7), stride=(1, 1), padding=(0, 3), bias=False)\n",
              "      (bn): BatchNorm2d(192, eps=0.001, momentum=0.1, affine=True, track_running_stats=True)\n",
              "    )\n",
              "    (branch_pool): BasicConv2d(\n",
              "      (conv): Conv2d(768, 192, kernel_size=(1, 1), stride=(1, 1), bias=False)\n",
              "      (bn): BatchNorm2d(192, eps=0.001, momentum=0.1, affine=True, track_running_stats=True)\n",
              "    )\n",
              "  )\n",
              "  (AuxLogits): InceptionAux(\n",
              "    (conv0): BasicConv2d(\n",
              "      (conv): Conv2d(768, 128, kernel_size=(1, 1), stride=(1, 1), bias=False)\n",
              "      (bn): BatchNorm2d(128, eps=0.001, momentum=0.1, affine=True, track_running_stats=True)\n",
              "    )\n",
              "    (conv1): BasicConv2d(\n",
              "      (conv): Conv2d(128, 768, kernel_size=(5, 5), stride=(1, 1), bias=False)\n",
              "      (bn): BatchNorm2d(768, eps=0.001, momentum=0.1, affine=True, track_running_stats=True)\n",
              "    )\n",
              "    (fc): Linear(in_features=768, out_features=1000, bias=True)\n",
              "  )\n",
              "  (Mixed_7a): InceptionD(\n",
              "    (branch3x3_1): BasicConv2d(\n",
              "      (conv): Conv2d(768, 192, kernel_size=(1, 1), stride=(1, 1), bias=False)\n",
              "      (bn): BatchNorm2d(192, eps=0.001, momentum=0.1, affine=True, track_running_stats=True)\n",
              "    )\n",
              "    (branch3x3_2): BasicConv2d(\n",
              "      (conv): Conv2d(192, 320, kernel_size=(3, 3), stride=(2, 2), bias=False)\n",
              "      (bn): BatchNorm2d(320, eps=0.001, momentum=0.1, affine=True, track_running_stats=True)\n",
              "    )\n",
              "    (branch7x7x3_1): BasicConv2d(\n",
              "      (conv): Conv2d(768, 192, kernel_size=(1, 1), stride=(1, 1), bias=False)\n",
              "      (bn): BatchNorm2d(192, eps=0.001, momentum=0.1, affine=True, track_running_stats=True)\n",
              "    )\n",
              "    (branch7x7x3_2): BasicConv2d(\n",
              "      (conv): Conv2d(192, 192, kernel_size=(1, 7), stride=(1, 1), padding=(0, 3), bias=False)\n",
              "      (bn): BatchNorm2d(192, eps=0.001, momentum=0.1, affine=True, track_running_stats=True)\n",
              "    )\n",
              "    (branch7x7x3_3): BasicConv2d(\n",
              "      (conv): Conv2d(192, 192, kernel_size=(7, 1), stride=(1, 1), padding=(3, 0), bias=False)\n",
              "      (bn): BatchNorm2d(192, eps=0.001, momentum=0.1, affine=True, track_running_stats=True)\n",
              "    )\n",
              "    (branch7x7x3_4): BasicConv2d(\n",
              "      (conv): Conv2d(192, 192, kernel_size=(3, 3), stride=(2, 2), bias=False)\n",
              "      (bn): BatchNorm2d(192, eps=0.001, momentum=0.1, affine=True, track_running_stats=True)\n",
              "    )\n",
              "  )\n",
              "  (Mixed_7b): InceptionE(\n",
              "    (branch1x1): BasicConv2d(\n",
              "      (conv): Conv2d(1280, 320, kernel_size=(1, 1), stride=(1, 1), bias=False)\n",
              "      (bn): BatchNorm2d(320, eps=0.001, momentum=0.1, affine=True, track_running_stats=True)\n",
              "    )\n",
              "    (branch3x3_1): BasicConv2d(\n",
              "      (conv): Conv2d(1280, 384, kernel_size=(1, 1), stride=(1, 1), bias=False)\n",
              "      (bn): BatchNorm2d(384, eps=0.001, momentum=0.1, affine=True, track_running_stats=True)\n",
              "    )\n",
              "    (branch3x3_2a): BasicConv2d(\n",
              "      (conv): Conv2d(384, 384, kernel_size=(1, 3), stride=(1, 1), padding=(0, 1), bias=False)\n",
              "      (bn): BatchNorm2d(384, eps=0.001, momentum=0.1, affine=True, track_running_stats=True)\n",
              "    )\n",
              "    (branch3x3_2b): BasicConv2d(\n",
              "      (conv): Conv2d(384, 384, kernel_size=(3, 1), stride=(1, 1), padding=(1, 0), bias=False)\n",
              "      (bn): BatchNorm2d(384, eps=0.001, momentum=0.1, affine=True, track_running_stats=True)\n",
              "    )\n",
              "    (branch3x3dbl_1): BasicConv2d(\n",
              "      (conv): Conv2d(1280, 448, kernel_size=(1, 1), stride=(1, 1), bias=False)\n",
              "      (bn): BatchNorm2d(448, eps=0.001, momentum=0.1, affine=True, track_running_stats=True)\n",
              "    )\n",
              "    (branch3x3dbl_2): BasicConv2d(\n",
              "      (conv): Conv2d(448, 384, kernel_size=(3, 3), stride=(1, 1), padding=(1, 1), bias=False)\n",
              "      (bn): BatchNorm2d(384, eps=0.001, momentum=0.1, affine=True, track_running_stats=True)\n",
              "    )\n",
              "    (branch3x3dbl_3a): BasicConv2d(\n",
              "      (conv): Conv2d(384, 384, kernel_size=(1, 3), stride=(1, 1), padding=(0, 1), bias=False)\n",
              "      (bn): BatchNorm2d(384, eps=0.001, momentum=0.1, affine=True, track_running_stats=True)\n",
              "    )\n",
              "    (branch3x3dbl_3b): BasicConv2d(\n",
              "      (conv): Conv2d(384, 384, kernel_size=(3, 1), stride=(1, 1), padding=(1, 0), bias=False)\n",
              "      (bn): BatchNorm2d(384, eps=0.001, momentum=0.1, affine=True, track_running_stats=True)\n",
              "    )\n",
              "    (branch_pool): BasicConv2d(\n",
              "      (conv): Conv2d(1280, 192, kernel_size=(1, 1), stride=(1, 1), bias=False)\n",
              "      (bn): BatchNorm2d(192, eps=0.001, momentum=0.1, affine=True, track_running_stats=True)\n",
              "    )\n",
              "  )\n",
              "  (Mixed_7c): InceptionE(\n",
              "    (branch1x1): BasicConv2d(\n",
              "      (conv): Conv2d(2048, 320, kernel_size=(1, 1), stride=(1, 1), bias=False)\n",
              "      (bn): BatchNorm2d(320, eps=0.001, momentum=0.1, affine=True, track_running_stats=True)\n",
              "    )\n",
              "    (branch3x3_1): BasicConv2d(\n",
              "      (conv): Conv2d(2048, 384, kernel_size=(1, 1), stride=(1, 1), bias=False)\n",
              "      (bn): BatchNorm2d(384, eps=0.001, momentum=0.1, affine=True, track_running_stats=True)\n",
              "    )\n",
              "    (branch3x3_2a): BasicConv2d(\n",
              "      (conv): Conv2d(384, 384, kernel_size=(1, 3), stride=(1, 1), padding=(0, 1), bias=False)\n",
              "      (bn): BatchNorm2d(384, eps=0.001, momentum=0.1, affine=True, track_running_stats=True)\n",
              "    )\n",
              "    (branch3x3_2b): BasicConv2d(\n",
              "      (conv): Conv2d(384, 384, kernel_size=(3, 1), stride=(1, 1), padding=(1, 0), bias=False)\n",
              "      (bn): BatchNorm2d(384, eps=0.001, momentum=0.1, affine=True, track_running_stats=True)\n",
              "    )\n",
              "    (branch3x3dbl_1): BasicConv2d(\n",
              "      (conv): Conv2d(2048, 448, kernel_size=(1, 1), stride=(1, 1), bias=False)\n",
              "      (bn): BatchNorm2d(448, eps=0.001, momentum=0.1, affine=True, track_running_stats=True)\n",
              "    )\n",
              "    (branch3x3dbl_2): BasicConv2d(\n",
              "      (conv): Conv2d(448, 384, kernel_size=(3, 3), stride=(1, 1), padding=(1, 1), bias=False)\n",
              "      (bn): BatchNorm2d(384, eps=0.001, momentum=0.1, affine=True, track_running_stats=True)\n",
              "    )\n",
              "    (branch3x3dbl_3a): BasicConv2d(\n",
              "      (conv): Conv2d(384, 384, kernel_size=(1, 3), stride=(1, 1), padding=(0, 1), bias=False)\n",
              "      (bn): BatchNorm2d(384, eps=0.001, momentum=0.1, affine=True, track_running_stats=True)\n",
              "    )\n",
              "    (branch3x3dbl_3b): BasicConv2d(\n",
              "      (conv): Conv2d(384, 384, kernel_size=(3, 1), stride=(1, 1), padding=(1, 0), bias=False)\n",
              "      (bn): BatchNorm2d(384, eps=0.001, momentum=0.1, affine=True, track_running_stats=True)\n",
              "    )\n",
              "    (branch_pool): BasicConv2d(\n",
              "      (conv): Conv2d(2048, 192, kernel_size=(1, 1), stride=(1, 1), bias=False)\n",
              "      (bn): BatchNorm2d(192, eps=0.001, momentum=0.1, affine=True, track_running_stats=True)\n",
              "    )\n",
              "  )\n",
              "  (avgpool): AdaptiveAvgPool2d(output_size=(1, 1))\n",
              "  (dropout): Dropout(p=0.5, inplace=False)\n",
              "  (fc): Linear(in_features=2048, out_features=1000, bias=True)\n",
              ")"
            ]
          },
          "metadata": {},
          "execution_count": 17
        }
      ],
      "source": [
        "checkpoint = torch.load('/content/datasets/inception_cp.pth')\n",
        "blackbox = models.inception_v3()\n",
        "blackbox.load_state_dict(checkpoint)\n",
        "for parameter in blackbox.parameters():\n",
        "    parameter.requires_grad = False\n",
        "blackbox.eval().to(device)"
      ]
    },
    {
      "cell_type": "code",
      "execution_count": null,
      "metadata": {
        "id": "w_pjUBZHM9Yf"
      },
      "outputs": [],
      "source": [
        "sl = Saliency(blackbox)\n",
        "guided_gc = GuidedGradCam(blackbox, blackbox.Mixed_7c)\n",
        "gbp = GuidedBackprop(blackbox)\n",
        "lrp = LRP(blackbox)\n",
        "dls = DeepLiftShap(blackbox)\n",
        "dl = DeepLift(blackbox)\n",
        "gs = GradientShap(blackbox)\n",
        "ig = IntegratedGradients(blackbox)\n",
        "ablator = FeatureAblation(blackbox)\n",
        "occlusion = Occlusion(blackbox)"
      ]
    },
    {
      "cell_type": "markdown",
      "metadata": {
        "id": "8vgOkvGgyCRy"
      },
      "source": [
        "# Generate Explainations"
      ]
    },
    {
      "cell_type": "code",
      "execution_count": null,
      "metadata": {
        "id": "hQ8hQhIoOwGo"
      },
      "outputs": [],
      "source": [
        "rand_img_dist = torch.rand(x.shape).to(device)"
      ]
    },
    {
      "cell_type": "code",
      "execution_count": null,
      "metadata": {
        "id": "-JOP1plyU4uV"
      },
      "outputs": [],
      "source": [
        "dataset_labels = { 0: 'normal', 1: 'Pneumothorax' }"
      ]
    },
    {
      "cell_type": "code",
      "execution_count": null,
      "metadata": {
        "id": "5CQamOeyeSlE"
      },
      "outputs": [],
      "source": [
        "xai_methods = {\n",
        "  \"Saliency\": { \"method\": sl , \"options\": {}},\n",
        "  \"GuidedGradCam\": { \"method\": guided_gc, \"options\": {}},\n",
        "  \"GuidedBackprop\": { \"method\": gbp, \"options\": {}},\n",
        "  \"LRP\": { \"method\": lrp, \"options\": {}},\n",
        "  # \"DeepLiftShap\": { \"method\": dls, \"options\": {}},\n",
        "  # \"DeepLift\": { \"method\": dl, \"options\": {}},\n",
        "  \"GradientShap\": { \"method\": gs, \"options\": { 'n_samples': 64, 'stdevs': 0.0001, 'baselines': rand_img_dist }},\n",
        "  \"IntegratedGradients\": { \"method\": ig, \"options\": { 'n_steps' : 150 }, 'baselines': rand_img_dist },\n",
        "  # \"FeatureAblation\": { \"method\": ablator, \"options\": {}},\n",
        "  \"Occlusion\": { \"method\": occlusion, \"options\": { 'sliding_window_shapes': (3,8, 8), 'strides': (3, 4, 4)}}\n",
        "}"
      ]
    },
    {
      "cell_type": "code",
      "execution_count": null,
      "metadata": {
        "id": "jTCFWTPxHqcK"
      },
      "outputs": [],
      "source": [
        "from tqdm import tqdm\n",
        "import gc\n",
        "\n",
        "def visualize_explain_of(xai_methods, x, mask, y, blackbox):\n",
        "  with torch.no_grad():\n",
        "    output = torch.nn.functional.softmax(blackbox(x), dim=1)\n",
        "    _, indices = torch.topk(output, k=1, dim = 1)\n",
        "  indices = torch.flatten(indices)\n",
        "  num_methods = len(xai_methods.items())\n",
        "  for idx, img in tqdm(enumerate(x)):\n",
        "    target = indices[idx]\n",
        "    if target.item() == 0:\n",
        "      continue\n",
        "    fig, axes = plt.subplots(1, num_methods + 1, figsize = (48, 6))\n",
        "    axes[0].imshow(np.transpose(mask[idx].detach().numpy(), (1, 2, 0)))\n",
        "    for method_idx, (method_name, parameters) in enumerate(xai_methods.items()):\n",
        "      attributions = parameters[\"method\"].attribute(img.unsqueeze(0), target=target, **parameters[\"options\"])\n",
        "      # Convert the compute attribution tensor into an image-like numpy array\n",
        "      attribution = np.transpose(attributions.squeeze().cpu().detach().numpy(), (1,2,0))\n",
        "      visualize_image_attr(attribution, np.transpose(img.cpu().detach().numpy(), (1, 2,0)), \"blended_heat_map\", sign=\"positive\", title=method_name, use_pyplot=False, plt_fig_axis=(fig, axes[1 + method_idx]))\n",
        "      torch.cuda.empty_cache()\n",
        "      gc.collect()\n",
        "    plt.show()"
      ]
    },
    {
      "cell_type": "code",
      "execution_count": null,
      "metadata": {
        "id": "XaD19sOKV-XZ"
      },
      "outputs": [],
      "source": [
        "# visualize_explain_of(xai_methods, x.to(device), mask, y, blackbox)"
      ]
    },
    {
      "cell_type": "markdown",
      "metadata": {
        "id": "eZudcBlGD0so"
      },
      "source": [
        "# Metrics to compare saliency masks"
      ]
    },
    {
      "cell_type": "markdown",
      "metadata": {
        "id": "UVPLnrnGD8zE"
      },
      "source": [
        "## Mathematical similarity measures"
      ]
    },
    {
      "cell_type": "code",
      "execution_count": null,
      "metadata": {
        "id": "ypkDRrArMliF"
      },
      "outputs": [],
      "source": [
        "import seaborn as sns\n",
        "import scipy"
      ]
    },
    {
      "cell_type": "code",
      "execution_count": null,
      "metadata": {
        "id": "VUwIbTzPEA4y"
      },
      "outputs": [],
      "source": [
        "def get_explanation(xai_config, x, targets):\n",
        "    xai_model = xai_config['method']\n",
        "    options = xai_config['options']\n",
        "    attribution = xai_model.attribute(x, target=targets, **options)\n",
        "    return attribution"
      ]
    },
    {
      "cell_type": "code",
      "execution_count": null,
      "metadata": {
        "id": "PIGlN7X9H5Aw"
      },
      "outputs": [],
      "source": [
        "def normalize(x):\n",
        "    t = (x - np.min(x)) / (np.max(x) - np.min(x))\n",
        "    return t / t.sum()"
      ]
    },
    {
      "cell_type": "code",
      "execution_count": null,
      "metadata": {
        "id": "QX_9KhIeZyAp"
      },
      "outputs": [],
      "source": [
        "with torch.no_grad():\n",
        "    output = torch.nn.functional.softmax(blackbox(x.to(device)), dim=1)\n",
        "    _, indices = torch.topk(output, k=1, dim = 1)\n",
        "indices = torch.flatten(indices)"
      ]
    },
    {
      "cell_type": "code",
      "execution_count": null,
      "metadata": {
        "id": "thPpWROjcjNd"
      },
      "outputs": [],
      "source": [
        "attribution_saliency = get_explanation(xai_methods['Saliency'], x.to(device)[0], indices[0])"
      ]
    },
    {
      "cell_type": "code",
      "execution_count": null,
      "metadata": {
        "id": "XoXMLvBqFBA_"
      },
      "outputs": [],
      "source": [
        "sns.heatmap(normalize(attribution_saliency.sum(axis=0).mean(axis=0).cpu().detach().numpy()), annot=False, xticklabels=False, yticklabels=False)"
      ]
    },
    {
      "cell_type": "code",
      "execution_count": null,
      "metadata": {
        "id": "fctnSAv6fMaz"
      },
      "outputs": [],
      "source": [
        "attribution_guidedgc = get_explanation(xai_methods['GradientShap'], x.to(device)[0], indices[0])"
      ]
    },
    {
      "cell_type": "code",
      "execution_count": null,
      "metadata": {
        "id": "oK3SsUr_cwaw"
      },
      "outputs": [],
      "source": [
        "sns.heatmap(normalize(np.abs(attribution_guidedgc.sum(axis=0).mean(axis=0).cpu().detach().numpy())), annot=False, xticklabels=False, yticklabels=False)"
      ]
    },
    {
      "cell_type": "code",
      "execution_count": null,
      "metadata": {
        "id": "RL2R4rwwej9w"
      },
      "outputs": [],
      "source": [
        "sns.histplot(attribution_saliency.flatten().cpu().numpy())"
      ]
    },
    {
      "cell_type": "code",
      "execution_count": null,
      "metadata": {
        "id": "7XVZcIr4eDsr"
      },
      "outputs": [],
      "source": [
        "sns.histplot(attribution_guidedgc.flatten().cpu().numpy())"
      ]
    },
    {
      "cell_type": "markdown",
      "metadata": {
        "id": "bY5Z9x0OJC8J"
      },
      "source": [
        "### Bhattacharrya Distance ([wiki](https://en.wikipedia.org/wiki/Bhattacharyya_distance))\n",
        "Measure the similarity between two probability distributions $P$ and $Q$. Formula:\n",
        "$$D(P, Q) = -\\ln(BC(P, Q))$$\n",
        "where:\n",
        "$$BC(P, Q) = \\sum_{x \\in X}\\sqrt{P(x)Q(x)}$$"
      ]
    },
    {
      "cell_type": "code",
      "execution_count": null,
      "metadata": {
        "id": "c4pXnsIOIMM9"
      },
      "outputs": [],
      "source": [
        "def bhattacharyya_distance(x, y):\n",
        "    return -np.log(np.sum(np.sqrt(normalize(x) * normalize(y))))"
      ]
    },
    {
      "cell_type": "code",
      "execution_count": null,
      "metadata": {
        "id": "tsio8DnZGr75"
      },
      "outputs": [],
      "source": [
        "bhattacharyya_distance(attribution_saliency.cpu().numpy(), np.abs(attribution_guidedgc.cpu().numpy()))"
      ]
    },
    {
      "cell_type": "code",
      "execution_count": null,
      "metadata": {
        "id": "gt4pNbEvlS0C"
      },
      "outputs": [],
      "source": [
        "def hellinger_distance(x, y):\n",
        "    return 1 / np.sqrt(2) * np.sqrt(np.sum((np.sqrt(normalize(x)) - np.sqrt(normalize(y))) ** 2))"
      ]
    },
    {
      "cell_type": "markdown",
      "metadata": {
        "id": "Xb-_8N9VIebw"
      },
      "source": [
        "## Averaging over test set"
      ]
    },
    {
      "cell_type": "code",
      "execution_count": null,
      "metadata": {
        "id": "g7ERRRRjgM-t"
      },
      "outputs": [],
      "source": [
        "import gc\n",
        "def compute_mean_disagreement(method1, method2, x, indices, metric):\n",
        "    gc.collect()\n",
        "    torch.cuda.empty_cache()\n",
        "    exp1 = []\n",
        "    exp2 = []\n",
        "    metrics = []\n",
        "    e1 = get_explanation(method1, x, indices)\n",
        "    e2 = get_explanation(method2, x, indices)\n",
        "    metrics.append(metric(e1.cpu().detach().numpy(), e2.cpu().detach().numpy()))\n",
        "    \n",
        "    return np.array(metrics).mean()"
      ]
    },
    {
      "cell_type": "code",
      "execution_count": null,
      "metadata": {
        "id": "93Yjqi24zCns"
      },
      "outputs": [],
      "source": [
        "def compute_disagreement_heatmap(list_methods, x, blackbox, metric):\n",
        "    size = len(list_methods)\n",
        "    result = np.empty((size, size))\n",
        "    with torch.no_grad():\n",
        "        output = torch.nn.functional.softmax(blackbox(x), dim=1)\n",
        "        _, indices = torch.topk(output, k=1, dim = 1)\n",
        "    indices = torch.flatten(indices)\n",
        "\n",
        "    for j in range(size):\n",
        "        for i in range(size):\n",
        "            if i > j:\n",
        "                result[i, j] = compute_mean_disagreement(list_methods[i], list_methods[j], x, indices, metric)\n",
        "            elif i == j:\n",
        "                result[i, j] = 0\n",
        "            else:\n",
        "                result[i, j] = result[j, i]\n",
        "    return result"
      ]
    },
    {
      "cell_type": "code",
      "source": [
        "type(rand_)"
      ],
      "metadata": {
        "colab": {
          "base_uri": "https://localhost:8080/"
        },
        "id": "ynmY1DmrFqEk",
        "outputId": "3ecb31a7-f1ef-429c-ab52-42ebc8f88e13"
      },
      "execution_count": null,
      "outputs": [
        {
          "output_type": "execute_result",
          "data": {
            "text/plain": [
              "torch.Tensor"
            ]
          },
          "metadata": {},
          "execution_count": 53
        }
      ]
    },
    {
      "cell_type": "code",
      "execution_count": null,
      "metadata": {
        "id": "bfMIiBwhzxSr",
        "colab": {
          "base_uri": "https://localhost:8080/",
          "height": 432
        },
        "outputId": "adef8b6e-45a7-42bb-e922-01c03baca5eb"
      },
      "outputs": [
        {
          "output_type": "error",
          "ename": "OutOfMemoryError",
          "evalue": "ignored",
          "traceback": [
            "\u001b[0;31m---------------------------------------------------------------------------\u001b[0m",
            "\u001b[0;31mOutOfMemoryError\u001b[0m                          Traceback (most recent call last)",
            "\u001b[0;32m<ipython-input-31-4af58d6f3074>\u001b[0m in \u001b[0;36m<cell line: 3>\u001b[0;34m()\u001b[0m\n\u001b[1;32m      1\u001b[0m \u001b[0mmethod_names\u001b[0m \u001b[0;34m=\u001b[0m \u001b[0;34m[\u001b[0m\u001b[0;34m'LRP'\u001b[0m\u001b[0;34m,\u001b[0m \u001b[0;34m'GradientShap'\u001b[0m\u001b[0;34m,\u001b[0m \u001b[0;34m'GuidedGradCam'\u001b[0m\u001b[0;34m,\u001b[0m \u001b[0;34m'GuidedBackprop'\u001b[0m\u001b[0;34m,\u001b[0m \u001b[0;34m'IntegratedGradients'\u001b[0m\u001b[0;34m]\u001b[0m\u001b[0;34m\u001b[0m\u001b[0;34m\u001b[0m\u001b[0m\n\u001b[1;32m      2\u001b[0m \u001b[0mtest_methods\u001b[0m \u001b[0;34m=\u001b[0m \u001b[0mlist\u001b[0m\u001b[0;34m(\u001b[0m\u001b[0mmap\u001b[0m\u001b[0;34m(\u001b[0m\u001b[0;32mlambda\u001b[0m \u001b[0mname\u001b[0m\u001b[0;34m:\u001b[0m \u001b[0mxai_methods\u001b[0m\u001b[0;34m[\u001b[0m\u001b[0mname\u001b[0m\u001b[0;34m]\u001b[0m\u001b[0;34m,\u001b[0m \u001b[0mmethod_names\u001b[0m\u001b[0;34m)\u001b[0m\u001b[0;34m)\u001b[0m\u001b[0;34m\u001b[0m\u001b[0;34m\u001b[0m\u001b[0m\n\u001b[0;32m----> 3\u001b[0;31m \u001b[0mheatmap\u001b[0m \u001b[0;34m=\u001b[0m \u001b[0mcompute_disagreement_heatmap\u001b[0m\u001b[0;34m(\u001b[0m\u001b[0mtest_methods\u001b[0m\u001b[0;34m,\u001b[0m \u001b[0mx\u001b[0m\u001b[0;34m.\u001b[0m\u001b[0mto\u001b[0m\u001b[0;34m(\u001b[0m\u001b[0mdevice\u001b[0m\u001b[0;34m)\u001b[0m\u001b[0;34m,\u001b[0m \u001b[0mblackbox\u001b[0m\u001b[0;34m,\u001b[0m \u001b[0mhellinger_distance\u001b[0m\u001b[0;34m)\u001b[0m\u001b[0;34m\u001b[0m\u001b[0;34m\u001b[0m\u001b[0m\n\u001b[0m\u001b[1;32m      4\u001b[0m \u001b[0mheatmap\u001b[0m\u001b[0;34m\u001b[0m\u001b[0;34m\u001b[0m\u001b[0m\n",
            "\u001b[0;32m<ipython-input-29-e9a3a5a454ae>\u001b[0m in \u001b[0;36mcompute_disagreement_heatmap\u001b[0;34m(list_methods, x, blackbox, metric)\u001b[0m\n\u001b[1;32m     10\u001b[0m         \u001b[0;32mfor\u001b[0m \u001b[0mi\u001b[0m \u001b[0;32min\u001b[0m \u001b[0mrange\u001b[0m\u001b[0;34m(\u001b[0m\u001b[0msize\u001b[0m\u001b[0;34m)\u001b[0m\u001b[0;34m:\u001b[0m\u001b[0;34m\u001b[0m\u001b[0;34m\u001b[0m\u001b[0m\n\u001b[1;32m     11\u001b[0m             \u001b[0;32mif\u001b[0m \u001b[0mi\u001b[0m \u001b[0;34m>\u001b[0m \u001b[0mj\u001b[0m\u001b[0;34m:\u001b[0m\u001b[0;34m\u001b[0m\u001b[0;34m\u001b[0m\u001b[0m\n\u001b[0;32m---> 12\u001b[0;31m                 \u001b[0mresult\u001b[0m\u001b[0;34m[\u001b[0m\u001b[0mi\u001b[0m\u001b[0;34m,\u001b[0m \u001b[0mj\u001b[0m\u001b[0;34m]\u001b[0m \u001b[0;34m=\u001b[0m \u001b[0mcompute_mean_disagreement\u001b[0m\u001b[0;34m(\u001b[0m\u001b[0mlist_methods\u001b[0m\u001b[0;34m[\u001b[0m\u001b[0mi\u001b[0m\u001b[0;34m]\u001b[0m\u001b[0;34m,\u001b[0m \u001b[0mlist_methods\u001b[0m\u001b[0;34m[\u001b[0m\u001b[0mj\u001b[0m\u001b[0;34m]\u001b[0m\u001b[0;34m,\u001b[0m \u001b[0mx\u001b[0m\u001b[0;34m,\u001b[0m \u001b[0mindices\u001b[0m\u001b[0;34m,\u001b[0m \u001b[0mmetric\u001b[0m\u001b[0;34m)\u001b[0m\u001b[0;34m\u001b[0m\u001b[0;34m\u001b[0m\u001b[0m\n\u001b[0m\u001b[1;32m     13\u001b[0m             \u001b[0;32melif\u001b[0m \u001b[0mi\u001b[0m \u001b[0;34m==\u001b[0m \u001b[0mj\u001b[0m\u001b[0;34m:\u001b[0m\u001b[0;34m\u001b[0m\u001b[0;34m\u001b[0m\u001b[0m\n\u001b[1;32m     14\u001b[0m                 \u001b[0mresult\u001b[0m\u001b[0;34m[\u001b[0m\u001b[0mi\u001b[0m\u001b[0;34m,\u001b[0m \u001b[0mj\u001b[0m\u001b[0;34m]\u001b[0m \u001b[0;34m=\u001b[0m \u001b[0;36m0\u001b[0m\u001b[0;34m\u001b[0m\u001b[0;34m\u001b[0m\u001b[0m\n",
            "\u001b[0;32m<ipython-input-28-b676f84d0cd9>\u001b[0m in \u001b[0;36mcompute_mean_disagreement\u001b[0;34m(method1, method2, x, indices, metric)\u001b[0m\n\u001b[1;32m      6\u001b[0m     \u001b[0mexp2\u001b[0m \u001b[0;34m=\u001b[0m \u001b[0;34m[\u001b[0m\u001b[0;34m]\u001b[0m\u001b[0;34m\u001b[0m\u001b[0;34m\u001b[0m\u001b[0m\n\u001b[1;32m      7\u001b[0m     \u001b[0mmetrics\u001b[0m \u001b[0;34m=\u001b[0m \u001b[0;34m[\u001b[0m\u001b[0;34m]\u001b[0m\u001b[0;34m\u001b[0m\u001b[0;34m\u001b[0m\u001b[0m\n\u001b[0;32m----> 8\u001b[0;31m     \u001b[0me1\u001b[0m \u001b[0;34m=\u001b[0m \u001b[0mget_explanation\u001b[0m\u001b[0;34m(\u001b[0m\u001b[0mmethod1\u001b[0m\u001b[0;34m,\u001b[0m \u001b[0mx\u001b[0m\u001b[0;34m,\u001b[0m \u001b[0mindices\u001b[0m\u001b[0;34m)\u001b[0m\u001b[0;34m\u001b[0m\u001b[0;34m\u001b[0m\u001b[0m\n\u001b[0m\u001b[1;32m      9\u001b[0m     \u001b[0me2\u001b[0m \u001b[0;34m=\u001b[0m \u001b[0mget_explanation\u001b[0m\u001b[0;34m(\u001b[0m\u001b[0mmethod2\u001b[0m\u001b[0;34m,\u001b[0m \u001b[0mx\u001b[0m\u001b[0;34m,\u001b[0m \u001b[0mindices\u001b[0m\u001b[0;34m)\u001b[0m\u001b[0;34m\u001b[0m\u001b[0;34m\u001b[0m\u001b[0m\n\u001b[1;32m     10\u001b[0m     \u001b[0mmetrics\u001b[0m\u001b[0;34m.\u001b[0m\u001b[0mappend\u001b[0m\u001b[0;34m(\u001b[0m\u001b[0mmetric\u001b[0m\u001b[0;34m(\u001b[0m\u001b[0me1\u001b[0m\u001b[0;34m.\u001b[0m\u001b[0mcpu\u001b[0m\u001b[0;34m(\u001b[0m\u001b[0;34m)\u001b[0m\u001b[0;34m.\u001b[0m\u001b[0mdetach\u001b[0m\u001b[0;34m(\u001b[0m\u001b[0;34m)\u001b[0m\u001b[0;34m.\u001b[0m\u001b[0mnumpy\u001b[0m\u001b[0;34m(\u001b[0m\u001b[0;34m)\u001b[0m\u001b[0;34m,\u001b[0m \u001b[0me2\u001b[0m\u001b[0;34m.\u001b[0m\u001b[0mcpu\u001b[0m\u001b[0;34m(\u001b[0m\u001b[0;34m)\u001b[0m\u001b[0;34m.\u001b[0m\u001b[0mdetach\u001b[0m\u001b[0;34m(\u001b[0m\u001b[0;34m)\u001b[0m\u001b[0;34m.\u001b[0m\u001b[0mnumpy\u001b[0m\u001b[0;34m(\u001b[0m\u001b[0;34m)\u001b[0m\u001b[0;34m)\u001b[0m\u001b[0;34m)\u001b[0m\u001b[0;34m\u001b[0m\u001b[0;34m\u001b[0m\u001b[0m\n",
            "\u001b[0;32m<ipython-input-24-6955d37c0365>\u001b[0m in \u001b[0;36mget_explanation\u001b[0;34m(xai_config, x, targets)\u001b[0m\n\u001b[1;32m      2\u001b[0m     \u001b[0mxai_model\u001b[0m \u001b[0;34m=\u001b[0m \u001b[0mxai_config\u001b[0m\u001b[0;34m[\u001b[0m\u001b[0;34m'method'\u001b[0m\u001b[0;34m]\u001b[0m\u001b[0;34m\u001b[0m\u001b[0;34m\u001b[0m\u001b[0m\n\u001b[1;32m      3\u001b[0m     \u001b[0moptions\u001b[0m \u001b[0;34m=\u001b[0m \u001b[0mxai_config\u001b[0m\u001b[0;34m[\u001b[0m\u001b[0;34m'options'\u001b[0m\u001b[0;34m]\u001b[0m\u001b[0;34m\u001b[0m\u001b[0;34m\u001b[0m\u001b[0m\n\u001b[0;32m----> 4\u001b[0;31m     \u001b[0mattribution\u001b[0m \u001b[0;34m=\u001b[0m \u001b[0mxai_model\u001b[0m\u001b[0;34m.\u001b[0m\u001b[0mattribute\u001b[0m\u001b[0;34m(\u001b[0m\u001b[0mx\u001b[0m\u001b[0;34m,\u001b[0m \u001b[0mtarget\u001b[0m\u001b[0;34m=\u001b[0m\u001b[0mtargets\u001b[0m\u001b[0;34m,\u001b[0m \u001b[0;34m**\u001b[0m\u001b[0moptions\u001b[0m\u001b[0;34m)\u001b[0m\u001b[0;34m\u001b[0m\u001b[0;34m\u001b[0m\u001b[0m\n\u001b[0m\u001b[1;32m      5\u001b[0m     \u001b[0;32mreturn\u001b[0m \u001b[0mattribution\u001b[0m\u001b[0;34m\u001b[0m\u001b[0;34m\u001b[0m\u001b[0m\n",
            "\u001b[0;32m/content/XAIEnv/lib/python3.10/site-packages/captum/log/__init__.py\u001b[0m in \u001b[0;36mwrapper\u001b[0;34m(*args, **kwargs)\u001b[0m\n\u001b[1;32m     40\u001b[0m             \u001b[0;34m@\u001b[0m\u001b[0mwraps\u001b[0m\u001b[0;34m(\u001b[0m\u001b[0mfunc\u001b[0m\u001b[0;34m)\u001b[0m\u001b[0;34m\u001b[0m\u001b[0;34m\u001b[0m\u001b[0m\n\u001b[1;32m     41\u001b[0m             \u001b[0;32mdef\u001b[0m \u001b[0mwrapper\u001b[0m\u001b[0;34m(\u001b[0m\u001b[0;34m*\u001b[0m\u001b[0margs\u001b[0m\u001b[0;34m,\u001b[0m \u001b[0;34m**\u001b[0m\u001b[0mkwargs\u001b[0m\u001b[0;34m)\u001b[0m\u001b[0;34m:\u001b[0m\u001b[0;34m\u001b[0m\u001b[0;34m\u001b[0m\u001b[0m\n\u001b[0;32m---> 42\u001b[0;31m                 \u001b[0;32mreturn\u001b[0m \u001b[0mfunc\u001b[0m\u001b[0;34m(\u001b[0m\u001b[0;34m*\u001b[0m\u001b[0margs\u001b[0m\u001b[0;34m,\u001b[0m \u001b[0;34m**\u001b[0m\u001b[0mkwargs\u001b[0m\u001b[0;34m)\u001b[0m\u001b[0;34m\u001b[0m\u001b[0;34m\u001b[0m\u001b[0m\n\u001b[0m\u001b[1;32m     43\u001b[0m \u001b[0;34m\u001b[0m\u001b[0m\n\u001b[1;32m     44\u001b[0m             \u001b[0;32mreturn\u001b[0m \u001b[0mwrapper\u001b[0m\u001b[0;34m\u001b[0m\u001b[0;34m\u001b[0m\u001b[0m\n",
            "\u001b[0;32m/content/XAIEnv/lib/python3.10/site-packages/captum/attr/_core/gradient_shap.py\u001b[0m in \u001b[0;36mattribute\u001b[0;34m(self, inputs, baselines, n_samples, stdevs, target, additional_forward_args, return_convergence_delta)\u001b[0m\n\u001b[1;32m    267\u001b[0m \u001b[0;34m\u001b[0m\u001b[0m\n\u001b[1;32m    268\u001b[0m         \u001b[0;31m# NOTE: using attribute.__wrapped__ to not log\u001b[0m\u001b[0;34m\u001b[0m\u001b[0;34m\u001b[0m\u001b[0m\n\u001b[0;32m--> 269\u001b[0;31m         attributions = nt.attribute.__wrapped__(\n\u001b[0m\u001b[1;32m    270\u001b[0m             \u001b[0mnt\u001b[0m\u001b[0;34m,\u001b[0m  \u001b[0;31m# self\u001b[0m\u001b[0;34m\u001b[0m\u001b[0;34m\u001b[0m\u001b[0m\n\u001b[1;32m    271\u001b[0m             \u001b[0minputs\u001b[0m\u001b[0;34m,\u001b[0m\u001b[0;34m\u001b[0m\u001b[0;34m\u001b[0m\u001b[0m\n",
            "\u001b[0;32m/content/XAIEnv/lib/python3.10/site-packages/captum/attr/_core/noise_tunnel.py\u001b[0m in \u001b[0;36mattribute\u001b[0;34m(self, inputs, nt_type, nt_samples, nt_samples_batch_size, stdevs, draw_baseline_from_distrib, **kwargs)\u001b[0m\n\u001b[1;32m    363\u001b[0m                     \u001b[0mis_attrib_tuple\u001b[0m\u001b[0;34m,\u001b[0m\u001b[0;34m\u001b[0m\u001b[0;34m\u001b[0m\u001b[0m\n\u001b[1;32m    364\u001b[0m                     \u001b[0mdelta_partial\u001b[0m\u001b[0;34m,\u001b[0m\u001b[0;34m\u001b[0m\u001b[0;34m\u001b[0m\u001b[0m\n\u001b[0;32m--> 365\u001b[0;31m                 ) = compute_partial_attribution(inputs_with_noise, kwargs_copy)\n\u001b[0m\u001b[1;32m    366\u001b[0m \u001b[0;34m\u001b[0m\u001b[0m\n\u001b[1;32m    367\u001b[0m                 \u001b[0;32mif\u001b[0m \u001b[0mlen\u001b[0m\u001b[0;34m(\u001b[0m\u001b[0msum_attributions\u001b[0m\u001b[0;34m)\u001b[0m \u001b[0;34m==\u001b[0m \u001b[0;36m0\u001b[0m\u001b[0;34m:\u001b[0m\u001b[0;34m\u001b[0m\u001b[0;34m\u001b[0m\u001b[0m\n",
            "\u001b[0;32m/content/XAIEnv/lib/python3.10/site-packages/captum/attr/_core/noise_tunnel.py\u001b[0m in \u001b[0;36mcompute_partial_attribution\u001b[0;34m(inputs_with_noise_partition, kwargs_partition)\u001b[0m\n\u001b[1;32m    251\u001b[0m             \u001b[0;31m# NOTE: using __wrapped__ such that it does not log the inner logs\u001b[0m\u001b[0;34m\u001b[0m\u001b[0;34m\u001b[0m\u001b[0m\n\u001b[1;32m    252\u001b[0m \u001b[0;34m\u001b[0m\u001b[0m\n\u001b[0;32m--> 253\u001b[0;31m             attributions = attr_func.__wrapped__(  # type: ignore\n\u001b[0m\u001b[1;32m    254\u001b[0m                 \u001b[0mself\u001b[0m\u001b[0;34m.\u001b[0m\u001b[0mattribution_method\u001b[0m\u001b[0;34m,\u001b[0m  \u001b[0;31m# self\u001b[0m\u001b[0;34m\u001b[0m\u001b[0;34m\u001b[0m\u001b[0m\n\u001b[1;32m    255\u001b[0m                 \u001b[0minputs_with_noise_partition\u001b[0m\u001b[0;34m\u001b[0m\u001b[0;34m\u001b[0m\u001b[0m\n",
            "\u001b[0;32m/content/XAIEnv/lib/python3.10/site-packages/captum/attr/_core/gradient_shap.py\u001b[0m in \u001b[0;36mattribute\u001b[0;34m(self, inputs, baselines, target, additional_forward_args, return_convergence_delta)\u001b[0m\n\u001b[1;32m    364\u001b[0m             \u001b[0;32mfor\u001b[0m \u001b[0minput\u001b[0m\u001b[0;34m,\u001b[0m \u001b[0mbaseline\u001b[0m \u001b[0;32min\u001b[0m \u001b[0mzip\u001b[0m\u001b[0;34m(\u001b[0m\u001b[0minputs\u001b[0m\u001b[0;34m,\u001b[0m \u001b[0mbaselines\u001b[0m\u001b[0;34m)\u001b[0m\u001b[0;34m\u001b[0m\u001b[0;34m\u001b[0m\u001b[0m\n\u001b[1;32m    365\u001b[0m         )\n\u001b[0;32m--> 366\u001b[0;31m         grads = self.gradient_func(\n\u001b[0m\u001b[1;32m    367\u001b[0m             \u001b[0mself\u001b[0m\u001b[0;34m.\u001b[0m\u001b[0mforward_func\u001b[0m\u001b[0;34m,\u001b[0m \u001b[0minput_baseline_scaled\u001b[0m\u001b[0;34m,\u001b[0m \u001b[0mtarget\u001b[0m\u001b[0;34m,\u001b[0m \u001b[0madditional_forward_args\u001b[0m\u001b[0;34m\u001b[0m\u001b[0;34m\u001b[0m\u001b[0m\n\u001b[1;32m    368\u001b[0m         )\n",
            "\u001b[0;32m/content/XAIEnv/lib/python3.10/site-packages/captum/_utils/gradient.py\u001b[0m in \u001b[0;36mcompute_gradients\u001b[0;34m(forward_fn, inputs, target_ind, additional_forward_args)\u001b[0m\n\u001b[1;32m    110\u001b[0m     \u001b[0;32mwith\u001b[0m \u001b[0mtorch\u001b[0m\u001b[0;34m.\u001b[0m\u001b[0mautograd\u001b[0m\u001b[0;34m.\u001b[0m\u001b[0mset_grad_enabled\u001b[0m\u001b[0;34m(\u001b[0m\u001b[0;32mTrue\u001b[0m\u001b[0;34m)\u001b[0m\u001b[0;34m:\u001b[0m\u001b[0;34m\u001b[0m\u001b[0;34m\u001b[0m\u001b[0m\n\u001b[1;32m    111\u001b[0m         \u001b[0;31m# runs forward pass\u001b[0m\u001b[0;34m\u001b[0m\u001b[0;34m\u001b[0m\u001b[0m\n\u001b[0;32m--> 112\u001b[0;31m         \u001b[0moutputs\u001b[0m \u001b[0;34m=\u001b[0m \u001b[0m_run_forward\u001b[0m\u001b[0;34m(\u001b[0m\u001b[0mforward_fn\u001b[0m\u001b[0;34m,\u001b[0m \u001b[0minputs\u001b[0m\u001b[0;34m,\u001b[0m \u001b[0mtarget_ind\u001b[0m\u001b[0;34m,\u001b[0m \u001b[0madditional_forward_args\u001b[0m\u001b[0;34m)\u001b[0m\u001b[0;34m\u001b[0m\u001b[0;34m\u001b[0m\u001b[0m\n\u001b[0m\u001b[1;32m    113\u001b[0m         assert outputs[0].numel() == 1, (\n\u001b[1;32m    114\u001b[0m             \u001b[0;34m\"Target not provided when necessary, cannot\"\u001b[0m\u001b[0;34m\u001b[0m\u001b[0;34m\u001b[0m\u001b[0m\n",
            "\u001b[0;32m/content/XAIEnv/lib/python3.10/site-packages/captum/_utils/common.py\u001b[0m in \u001b[0;36m_run_forward\u001b[0;34m(forward_func, inputs, target, additional_forward_args)\u001b[0m\n\u001b[1;32m    480\u001b[0m     \u001b[0madditional_forward_args\u001b[0m \u001b[0;34m=\u001b[0m \u001b[0m_format_additional_forward_args\u001b[0m\u001b[0;34m(\u001b[0m\u001b[0madditional_forward_args\u001b[0m\u001b[0;34m)\u001b[0m\u001b[0;34m\u001b[0m\u001b[0;34m\u001b[0m\u001b[0m\n\u001b[1;32m    481\u001b[0m \u001b[0;34m\u001b[0m\u001b[0m\n\u001b[0;32m--> 482\u001b[0;31m     output = forward_func(\n\u001b[0m\u001b[1;32m    483\u001b[0m         \u001b[0;34m*\u001b[0m\u001b[0;34m(\u001b[0m\u001b[0;34m*\u001b[0m\u001b[0minputs\u001b[0m\u001b[0;34m,\u001b[0m \u001b[0;34m*\u001b[0m\u001b[0madditional_forward_args\u001b[0m\u001b[0;34m)\u001b[0m\u001b[0;34m\u001b[0m\u001b[0;34m\u001b[0m\u001b[0m\n\u001b[1;32m    484\u001b[0m         \u001b[0;32mif\u001b[0m \u001b[0madditional_forward_args\u001b[0m \u001b[0;32mis\u001b[0m \u001b[0;32mnot\u001b[0m \u001b[0;32mNone\u001b[0m\u001b[0;34m\u001b[0m\u001b[0;34m\u001b[0m\u001b[0m\n",
            "\u001b[0;32m/usr/local/lib/python3.10/dist-packages/torch/nn/modules/module.py\u001b[0m in \u001b[0;36m_call_impl\u001b[0;34m(self, *args, **kwargs)\u001b[0m\n\u001b[1;32m   1499\u001b[0m                 \u001b[0;32mor\u001b[0m \u001b[0m_global_backward_pre_hooks\u001b[0m \u001b[0;32mor\u001b[0m \u001b[0m_global_backward_hooks\u001b[0m\u001b[0;34m\u001b[0m\u001b[0;34m\u001b[0m\u001b[0m\n\u001b[1;32m   1500\u001b[0m                 or _global_forward_hooks or _global_forward_pre_hooks):\n\u001b[0;32m-> 1501\u001b[0;31m             \u001b[0;32mreturn\u001b[0m \u001b[0mforward_call\u001b[0m\u001b[0;34m(\u001b[0m\u001b[0;34m*\u001b[0m\u001b[0margs\u001b[0m\u001b[0;34m,\u001b[0m \u001b[0;34m**\u001b[0m\u001b[0mkwargs\u001b[0m\u001b[0;34m)\u001b[0m\u001b[0;34m\u001b[0m\u001b[0;34m\u001b[0m\u001b[0m\n\u001b[0m\u001b[1;32m   1502\u001b[0m         \u001b[0;31m# Do not call functions when jit is used\u001b[0m\u001b[0;34m\u001b[0m\u001b[0;34m\u001b[0m\u001b[0m\n\u001b[1;32m   1503\u001b[0m         \u001b[0mfull_backward_hooks\u001b[0m\u001b[0;34m,\u001b[0m \u001b[0mnon_full_backward_hooks\u001b[0m \u001b[0;34m=\u001b[0m \u001b[0;34m[\u001b[0m\u001b[0;34m]\u001b[0m\u001b[0;34m,\u001b[0m \u001b[0;34m[\u001b[0m\u001b[0;34m]\u001b[0m\u001b[0;34m\u001b[0m\u001b[0;34m\u001b[0m\u001b[0m\n",
            "\u001b[0;32m/usr/local/lib/python3.10/dist-packages/torchvision/models/inception.py\u001b[0m in \u001b[0;36mforward\u001b[0;34m(self, x)\u001b[0m\n\u001b[1;32m    164\u001b[0m     \u001b[0;32mdef\u001b[0m \u001b[0mforward\u001b[0m\u001b[0;34m(\u001b[0m\u001b[0mself\u001b[0m\u001b[0;34m,\u001b[0m \u001b[0mx\u001b[0m\u001b[0;34m:\u001b[0m \u001b[0mTensor\u001b[0m\u001b[0;34m)\u001b[0m \u001b[0;34m->\u001b[0m \u001b[0mInceptionOutputs\u001b[0m\u001b[0;34m:\u001b[0m\u001b[0;34m\u001b[0m\u001b[0;34m\u001b[0m\u001b[0m\n\u001b[1;32m    165\u001b[0m         \u001b[0mx\u001b[0m \u001b[0;34m=\u001b[0m \u001b[0mself\u001b[0m\u001b[0;34m.\u001b[0m\u001b[0m_transform_input\u001b[0m\u001b[0;34m(\u001b[0m\u001b[0mx\u001b[0m\u001b[0;34m)\u001b[0m\u001b[0;34m\u001b[0m\u001b[0;34m\u001b[0m\u001b[0m\n\u001b[0;32m--> 166\u001b[0;31m         \u001b[0mx\u001b[0m\u001b[0;34m,\u001b[0m \u001b[0maux\u001b[0m \u001b[0;34m=\u001b[0m \u001b[0mself\u001b[0m\u001b[0;34m.\u001b[0m\u001b[0m_forward\u001b[0m\u001b[0;34m(\u001b[0m\u001b[0mx\u001b[0m\u001b[0;34m)\u001b[0m\u001b[0;34m\u001b[0m\u001b[0;34m\u001b[0m\u001b[0m\n\u001b[0m\u001b[1;32m    167\u001b[0m         \u001b[0maux_defined\u001b[0m \u001b[0;34m=\u001b[0m \u001b[0mself\u001b[0m\u001b[0;34m.\u001b[0m\u001b[0mtraining\u001b[0m \u001b[0;32mand\u001b[0m \u001b[0mself\u001b[0m\u001b[0;34m.\u001b[0m\u001b[0maux_logits\u001b[0m\u001b[0;34m\u001b[0m\u001b[0;34m\u001b[0m\u001b[0m\n\u001b[1;32m    168\u001b[0m         \u001b[0;32mif\u001b[0m \u001b[0mtorch\u001b[0m\u001b[0;34m.\u001b[0m\u001b[0mjit\u001b[0m\u001b[0;34m.\u001b[0m\u001b[0mis_scripting\u001b[0m\u001b[0;34m(\u001b[0m\u001b[0;34m)\u001b[0m\u001b[0;34m:\u001b[0m\u001b[0;34m\u001b[0m\u001b[0;34m\u001b[0m\u001b[0m\n",
            "\u001b[0;32m/usr/local/lib/python3.10/dist-packages/torchvision/models/inception.py\u001b[0m in \u001b[0;36m_forward\u001b[0;34m(self, x)\u001b[0m\n\u001b[1;32m    109\u001b[0m         \u001b[0mx\u001b[0m \u001b[0;34m=\u001b[0m \u001b[0mself\u001b[0m\u001b[0;34m.\u001b[0m\u001b[0mConv2d_2b_3x3\u001b[0m\u001b[0;34m(\u001b[0m\u001b[0mx\u001b[0m\u001b[0;34m)\u001b[0m\u001b[0;34m\u001b[0m\u001b[0;34m\u001b[0m\u001b[0m\n\u001b[1;32m    110\u001b[0m         \u001b[0;31m# N x 64 x 147 x 147\u001b[0m\u001b[0;34m\u001b[0m\u001b[0;34m\u001b[0m\u001b[0m\n\u001b[0;32m--> 111\u001b[0;31m         \u001b[0mx\u001b[0m \u001b[0;34m=\u001b[0m \u001b[0mself\u001b[0m\u001b[0;34m.\u001b[0m\u001b[0mmaxpool1\u001b[0m\u001b[0;34m(\u001b[0m\u001b[0mx\u001b[0m\u001b[0;34m)\u001b[0m\u001b[0;34m\u001b[0m\u001b[0;34m\u001b[0m\u001b[0m\n\u001b[0m\u001b[1;32m    112\u001b[0m         \u001b[0;31m# N x 64 x 73 x 73\u001b[0m\u001b[0;34m\u001b[0m\u001b[0;34m\u001b[0m\u001b[0m\n\u001b[1;32m    113\u001b[0m         \u001b[0mx\u001b[0m \u001b[0;34m=\u001b[0m \u001b[0mself\u001b[0m\u001b[0;34m.\u001b[0m\u001b[0mConv2d_3b_1x1\u001b[0m\u001b[0;34m(\u001b[0m\u001b[0mx\u001b[0m\u001b[0;34m)\u001b[0m\u001b[0;34m\u001b[0m\u001b[0;34m\u001b[0m\u001b[0m\n",
            "\u001b[0;32m/usr/local/lib/python3.10/dist-packages/torch/nn/modules/module.py\u001b[0m in \u001b[0;36m_call_impl\u001b[0;34m(self, *args, **kwargs)\u001b[0m\n\u001b[1;32m   1499\u001b[0m                 \u001b[0;32mor\u001b[0m \u001b[0m_global_backward_pre_hooks\u001b[0m \u001b[0;32mor\u001b[0m \u001b[0m_global_backward_hooks\u001b[0m\u001b[0;34m\u001b[0m\u001b[0;34m\u001b[0m\u001b[0m\n\u001b[1;32m   1500\u001b[0m                 or _global_forward_hooks or _global_forward_pre_hooks):\n\u001b[0;32m-> 1501\u001b[0;31m             \u001b[0;32mreturn\u001b[0m \u001b[0mforward_call\u001b[0m\u001b[0;34m(\u001b[0m\u001b[0;34m*\u001b[0m\u001b[0margs\u001b[0m\u001b[0;34m,\u001b[0m \u001b[0;34m**\u001b[0m\u001b[0mkwargs\u001b[0m\u001b[0;34m)\u001b[0m\u001b[0;34m\u001b[0m\u001b[0;34m\u001b[0m\u001b[0m\n\u001b[0m\u001b[1;32m   1502\u001b[0m         \u001b[0;31m# Do not call functions when jit is used\u001b[0m\u001b[0;34m\u001b[0m\u001b[0;34m\u001b[0m\u001b[0m\n\u001b[1;32m   1503\u001b[0m         \u001b[0mfull_backward_hooks\u001b[0m\u001b[0;34m,\u001b[0m \u001b[0mnon_full_backward_hooks\u001b[0m \u001b[0;34m=\u001b[0m \u001b[0;34m[\u001b[0m\u001b[0;34m]\u001b[0m\u001b[0;34m,\u001b[0m \u001b[0;34m[\u001b[0m\u001b[0;34m]\u001b[0m\u001b[0;34m\u001b[0m\u001b[0;34m\u001b[0m\u001b[0m\n",
            "\u001b[0;32m/usr/local/lib/python3.10/dist-packages/torch/nn/modules/pooling.py\u001b[0m in \u001b[0;36mforward\u001b[0;34m(self, input)\u001b[0m\n\u001b[1;32m    164\u001b[0m \u001b[0;34m\u001b[0m\u001b[0m\n\u001b[1;32m    165\u001b[0m     \u001b[0;32mdef\u001b[0m \u001b[0mforward\u001b[0m\u001b[0;34m(\u001b[0m\u001b[0mself\u001b[0m\u001b[0;34m,\u001b[0m \u001b[0minput\u001b[0m\u001b[0;34m:\u001b[0m \u001b[0mTensor\u001b[0m\u001b[0;34m)\u001b[0m\u001b[0;34m:\u001b[0m\u001b[0;34m\u001b[0m\u001b[0;34m\u001b[0m\u001b[0m\n\u001b[0;32m--> 166\u001b[0;31m         return F.max_pool2d(input, self.kernel_size, self.stride,\n\u001b[0m\u001b[1;32m    167\u001b[0m                             \u001b[0mself\u001b[0m\u001b[0;34m.\u001b[0m\u001b[0mpadding\u001b[0m\u001b[0;34m,\u001b[0m \u001b[0mself\u001b[0m\u001b[0;34m.\u001b[0m\u001b[0mdilation\u001b[0m\u001b[0;34m,\u001b[0m \u001b[0mceil_mode\u001b[0m\u001b[0;34m=\u001b[0m\u001b[0mself\u001b[0m\u001b[0;34m.\u001b[0m\u001b[0mceil_mode\u001b[0m\u001b[0;34m,\u001b[0m\u001b[0;34m\u001b[0m\u001b[0;34m\u001b[0m\u001b[0m\n\u001b[1;32m    168\u001b[0m                             return_indices=self.return_indices)\n",
            "\u001b[0;32m/usr/local/lib/python3.10/dist-packages/torch/_jit_internal.py\u001b[0m in \u001b[0;36mfn\u001b[0;34m(*args, **kwargs)\u001b[0m\n\u001b[1;32m    482\u001b[0m             \u001b[0;32mreturn\u001b[0m \u001b[0mif_true\u001b[0m\u001b[0;34m(\u001b[0m\u001b[0;34m*\u001b[0m\u001b[0margs\u001b[0m\u001b[0;34m,\u001b[0m \u001b[0;34m**\u001b[0m\u001b[0mkwargs\u001b[0m\u001b[0;34m)\u001b[0m\u001b[0;34m\u001b[0m\u001b[0;34m\u001b[0m\u001b[0m\n\u001b[1;32m    483\u001b[0m         \u001b[0;32melse\u001b[0m\u001b[0;34m:\u001b[0m\u001b[0;34m\u001b[0m\u001b[0;34m\u001b[0m\u001b[0m\n\u001b[0;32m--> 484\u001b[0;31m             \u001b[0;32mreturn\u001b[0m \u001b[0mif_false\u001b[0m\u001b[0;34m(\u001b[0m\u001b[0;34m*\u001b[0m\u001b[0margs\u001b[0m\u001b[0;34m,\u001b[0m \u001b[0;34m**\u001b[0m\u001b[0mkwargs\u001b[0m\u001b[0;34m)\u001b[0m\u001b[0;34m\u001b[0m\u001b[0;34m\u001b[0m\u001b[0m\n\u001b[0m\u001b[1;32m    485\u001b[0m \u001b[0;34m\u001b[0m\u001b[0m\n\u001b[1;32m    486\u001b[0m     \u001b[0;32mif\u001b[0m \u001b[0mif_true\u001b[0m\u001b[0;34m.\u001b[0m\u001b[0m__doc__\u001b[0m \u001b[0;32mis\u001b[0m \u001b[0;32mNone\u001b[0m \u001b[0;32mand\u001b[0m \u001b[0mif_false\u001b[0m\u001b[0;34m.\u001b[0m\u001b[0m__doc__\u001b[0m \u001b[0;32mis\u001b[0m \u001b[0;32mnot\u001b[0m \u001b[0;32mNone\u001b[0m\u001b[0;34m:\u001b[0m\u001b[0;34m\u001b[0m\u001b[0;34m\u001b[0m\u001b[0m\n",
            "\u001b[0;32m/usr/local/lib/python3.10/dist-packages/torch/nn/functional.py\u001b[0m in \u001b[0;36m_max_pool2d\u001b[0;34m(input, kernel_size, stride, padding, dilation, ceil_mode, return_indices)\u001b[0m\n\u001b[1;32m    780\u001b[0m     \u001b[0;32mif\u001b[0m \u001b[0mstride\u001b[0m \u001b[0;32mis\u001b[0m \u001b[0;32mNone\u001b[0m\u001b[0;34m:\u001b[0m\u001b[0;34m\u001b[0m\u001b[0;34m\u001b[0m\u001b[0m\n\u001b[1;32m    781\u001b[0m         \u001b[0mstride\u001b[0m \u001b[0;34m=\u001b[0m \u001b[0mtorch\u001b[0m\u001b[0;34m.\u001b[0m\u001b[0mjit\u001b[0m\u001b[0;34m.\u001b[0m\u001b[0mannotate\u001b[0m\u001b[0;34m(\u001b[0m\u001b[0mList\u001b[0m\u001b[0;34m[\u001b[0m\u001b[0mint\u001b[0m\u001b[0;34m]\u001b[0m\u001b[0;34m,\u001b[0m \u001b[0;34m[\u001b[0m\u001b[0;34m]\u001b[0m\u001b[0;34m)\u001b[0m\u001b[0;34m\u001b[0m\u001b[0;34m\u001b[0m\u001b[0m\n\u001b[0;32m--> 782\u001b[0;31m     \u001b[0;32mreturn\u001b[0m \u001b[0mtorch\u001b[0m\u001b[0;34m.\u001b[0m\u001b[0mmax_pool2d\u001b[0m\u001b[0;34m(\u001b[0m\u001b[0minput\u001b[0m\u001b[0;34m,\u001b[0m \u001b[0mkernel_size\u001b[0m\u001b[0;34m,\u001b[0m \u001b[0mstride\u001b[0m\u001b[0;34m,\u001b[0m \u001b[0mpadding\u001b[0m\u001b[0;34m,\u001b[0m \u001b[0mdilation\u001b[0m\u001b[0;34m,\u001b[0m \u001b[0mceil_mode\u001b[0m\u001b[0;34m)\u001b[0m\u001b[0;34m\u001b[0m\u001b[0;34m\u001b[0m\u001b[0m\n\u001b[0m\u001b[1;32m    783\u001b[0m \u001b[0;34m\u001b[0m\u001b[0m\n\u001b[1;32m    784\u001b[0m \u001b[0;34m\u001b[0m\u001b[0m\n",
            "\u001b[0;31mOutOfMemoryError\u001b[0m: CUDA out of memory. Tried to allocate 1.30 GiB (GPU 0; 14.75 GiB total capacity; 13.04 GiB already allocated; 400.81 MiB free; 13.07 GiB reserved in total by PyTorch) If reserved memory is >> allocated memory try setting max_split_size_mb to avoid fragmentation.  See documentation for Memory Management and PYTORCH_CUDA_ALLOC_CONF"
          ]
        }
      ],
      "source": [
        "method_names = ['LRP', 'GradientShap', 'GuidedGradCam', 'GuidedBackprop', 'IntegratedGradients']\n",
        "test_methods = list(map(lambda name: xai_methods[name], method_names))\n",
        "heatmap = compute_disagreement_heatmap(test_methods, x.to(device), blackbox, hellinger_distance)\n",
        "heatmap"
      ]
    },
    {
      "cell_type": "code",
      "execution_count": null,
      "metadata": {
        "id": "Dlw8YOFK0YL0"
      },
      "outputs": [],
      "source": [
        "sns.heatmap(heatmap, annot=True, xticklabels=method_names, yticklabels=method_names)"
      ]
    },
    {
      "cell_type": "markdown",
      "metadata": {
        "id": "9QNwH6uaJrMH"
      },
      "source": [
        "### Kullback-Leibler divergence ([wiki](https://en.wikipedia.org/wiki/Kullback%E2%80%93Leibler_divergence))\n",
        "\n",
        "Formula:\n",
        "$$D_{KL}(P||Q) = \\sum_{x \\in X} P(x) \\log{\\frac{P(x)}{Q(x)}}$$"
      ]
    },
    {
      "cell_type": "code",
      "execution_count": null,
      "metadata": {
        "id": "wocNUUXcNK0s"
      },
      "outputs": [],
      "source": [
        "def kl_divergence(x, y):\n",
        "    return np.sum(scipy.special.kl_div(x, y))"
      ]
    },
    {
      "cell_type": "code",
      "execution_count": null,
      "metadata": {
        "colab": {
          "base_uri": "https://localhost:8080/"
        },
        "id": "e1WsRPc4KGRG",
        "outputId": "835e16cf-4ed7-433e-c778-d9091de21c79"
      },
      "outputs": [
        {
          "data": {
            "text/plain": [
              "19.975594"
            ]
          },
          "execution_count": 96,
          "metadata": {},
          "output_type": "execute_result"
        }
      ],
      "source": [
        "kl_divergence(normalize(attribution_guidedgc.mean(axis=2)), normalize(attribution_guidedbp.mean(axis=2)))"
      ]
    },
    {
      "cell_type": "code",
      "execution_count": null,
      "metadata": {
        "colab": {
          "base_uri": "https://localhost:8080/"
        },
        "id": "wCf7Oh62NVYv",
        "outputId": "f88ce582-441d-480f-c24f-fde89936ca70"
      },
      "outputs": [
        {
          "data": {
            "text/plain": [
              "inf"
            ]
          },
          "execution_count": 97,
          "metadata": {},
          "output_type": "execute_result"
        }
      ],
      "source": [
        "kl_divergence(normalize(attribution_guidedgc.mean(axis=2)), normalize(attribution_saliency.mean(axis=2)))"
      ]
    },
    {
      "cell_type": "code",
      "execution_count": null,
      "metadata": {
        "id": "FDwQ64ztNhrT"
      },
      "outputs": [],
      "source": [
        "a = [attribution_saliency, attribution_guidedgc, attribution_guidedbp]\n"
      ]
    },
    {
      "cell_type": "markdown",
      "metadata": {
        "id": "JjeFZNXuJAhB"
      },
      "source": [
        "# Metrics from Quantus to measure the fit between XAI methods & blackbox model"
      ]
    },
    {
      "cell_type": "markdown",
      "metadata": {
        "id": "7WqVYWR84VVD"
      },
      "source": [
        "## Prepare input data"
      ]
    },
    {
      "cell_type": "code",
      "execution_count": null,
      "metadata": {
        "colab": {
          "base_uri": "https://localhost:8080/"
        },
        "id": "QJxb5r6fIJ5v",
        "outputId": "c6451d80-ede6-47fb-a94b-bc77e619b5b4"
      },
      "outputs": [
        {
          "data": {
            "text/plain": [
              "['GradientShap',\n",
              " 'IntegratedGradients',\n",
              " 'DeepLift',\n",
              " 'DeepLiftShap',\n",
              " 'InputXGradient',\n",
              " 'Saliency',\n",
              " 'FeatureAblation',\n",
              " 'Deconvolution',\n",
              " 'FeaturePermutation',\n",
              " 'Lime',\n",
              " 'KernelShap',\n",
              " 'LRP',\n",
              " 'Gradient',\n",
              " 'Occlusion',\n",
              " 'LayerGradCam',\n",
              " 'GuidedGradCam',\n",
              " 'LayerConductance',\n",
              " 'LayerActivation',\n",
              " 'InternalInfluence',\n",
              " 'LayerGradientXActivation',\n",
              " 'Control Var. Sobel Filter',\n",
              " 'Control Var. Constant',\n",
              " 'Control Var. Random Uniform']"
            ]
          },
          "execution_count": 22,
          "metadata": {},
          "output_type": "execute_result"
        }
      ],
      "source": [
        "quantus.helpers.constants.available_methods_captum()"
      ]
    },
    {
      "cell_type": "code",
      "execution_count": null,
      "metadata": {
        "id": "P9JbwiAyHNWE"
      },
      "outputs": [],
      "source": [
        "supported_methods = {\n",
        "  \"LRP\": { },\n",
        "  \"GradientShap\": { 'n_samples': 16, 'stdevs': 0.0001, 'baselines': rand_img_dist },\n",
        "  \"IntegratedGradients\": { 'n_steps' : 50 , 'baselines': rand_img_dist },\n",
        "  'GuidedGradCam': { 'gc_layer': blackbox.Mixed_7c },\n",
        "  # Perturbation-based\n",
        "  'KernelShap': {},\n",
        "  # 'FeaturePermutation': {},\n",
        "  \"Occlusion\": { 'sliding_window_shapes': (3, 16, 16), 'strides': (3, 4, 4)}\n",
        "}"
      ]
    },
    {
      "cell_type": "code",
      "execution_count": null,
      "metadata": {
        "id": "jy5m2rqekA7N"
      },
      "outputs": [],
      "source": [
        "from quantus.functions.explanation_func import explain as explain_func"
      ]
    },
    {
      "cell_type": "code",
      "execution_count": null,
      "metadata": {
        "id": "aVGtR0chFhxT"
      },
      "outputs": [],
      "source": [
        "blackbox.to(cpu)\n",
        "x_batch, y_batch, s_batch = x.cpu().numpy(), y.cpu().numpy(), torch.where(transforms.Grayscale(num_output_channels=1)(mask) > 0, 1.0, 0.).cpu().numpy()"
      ]
    },
    {
      "cell_type": "markdown",
      "metadata": {
        "id": "rEnSpTcLkCUh"
      },
      "source": [
        "## Axiomness metrics"
      ]
    },
    {
      "cell_type": "code",
      "execution_count": null,
      "metadata": {
        "id": "iK0n7lN0gxlx"
      },
      "outputs": [],
      "source": [
        "# ATOMIC \n",
        "# Create the completeness experiment.\n",
        "completeness = quantus.Completeness(\n",
        "    perturb_baseline=\"black\",\n",
        "    perturb_func=quantus.perturb_func.baseline_replacement_by_indices,\n",
        ")\n",
        "\n",
        "# Call the metric instance to produce scores.\n",
        "scores = { method: completeness(model=blackbox,\n",
        "                        x_batch=x_batch,\n",
        "                        y_batch=y_batch,\n",
        "                        explain_func=explain_func,\n",
        "                        explain_func_kwargs={\"method\": method, **kwargs}) for method,kwargs in supported_methods.items()}\n",
        "scores"
      ]
    },
    {
      "cell_type": "markdown",
      "metadata": {
        "id": "tK1Y8uJvjzPo"
      },
      "source": [
        "## Faithfulness metrics"
      ]
    },
    {
      "cell_type": "code",
      "execution_count": null,
      "metadata": {
        "id": "08wk--wHMcWV"
      },
      "outputs": [],
      "source": [
        "infidelity = quantus.metrics.faithfulness.infidelity.Infidelity()\n",
        "results = {method: infidelity(model=blackbox, \n",
        "                                  x_batch=x_batch,\n",
        "                                  y_batch=y_batch,\n",
        "                                  a_batch=None,\n",
        "                                  device=device,\n",
        "                                  explain_func=explain_func, \n",
        "                                  explain_func_kwargs={\"method\": method, **kwargs}) for method,kwargs in supported_methods.items()}\n",
        "\n",
        "infidelity.plot(plot_func=None, results=results)"
      ]
    },
    {
      "cell_type": "code",
      "execution_count": null,
      "metadata": {
        "colab": {
          "base_uri": "https://localhost:8080/",
          "height": 690
        },
        "id": "_pZ7VaiaRp8g",
        "outputId": "648e9bd1-f1c3-420d-a524-b33a2d62ae60"
      },
      "outputs": [
        {
          "name": "stdout",
          "output_type": "stream",
          "text": [
            "Warnings and information:\n",
            " (1) The Region Perturbation metric is likely to be sensitive to the choice of baseline value 'perturb_baseline', the patch size for masking 'patch_size' and number of regions to evaluate 'regions_evaluation'. Also, the current implementation only works for 3-dimensional (image) data. \n",
            " (2) If attributions are normalised or their absolute values are taken it may destroy or skew information in the explanation and as a result, affect the overall evaluation outcome.\n",
            " (3) Make sure to validate the choices for hyperparameters of the metric (by calling .get_params of the metric instance).\n",
            " (4) For further information, see original publication: Samek, Wojciech, et al. 'Evaluating the visualization of what a deep neural network has learned.' IEEE transactions on neural networks and learning systems 28.11 (2016): 2660-2673.\n",
            " (5) To disable these warnings set 'disable_warnings' = True when initialising the metric.\n",
            "\n"
          ]
        },
        {
          "data": {
            "image/png": "[encoded data removed]",
            "text/plain": [
              "<Figure size 800x600 with 1 Axes>"
            ]
          },
          "metadata": {},
          "output_type": "display_data"
        }
      ],
      "source": [
        "# Create the region perturbation experiment.\n",
        "region_perturb = quantus.RegionPerturbation(\n",
        "    patch_size=14,\n",
        "    regions_evaluation=10,\n",
        "    perturb_baseline=\"uniform\",  \n",
        "    normalise=True,\n",
        ")\n",
        "\n",
        "# Call the metric instance to produce scores.\n",
        "results = {method: region_perturb(model=blackbox, \n",
        "                                  x_batch=x_batch,\n",
        "                                  y_batch=y_batch,\n",
        "                                  a_batch=None,\n",
        "                                  device=device,\n",
        "                                  explain_func=explain_func, \n",
        "                                  explain_func_kwargs={\"method\": method, **kwargs}) for method,kwargs in supported_methods.items() }\n",
        "\n",
        "region_perturb.plot(plot_func=None, results=results)"
      ]
    },
    {
      "cell_type": "code",
      "execution_count": null,
      "metadata": {
        "id": "BMYkiC3TKU5-"
      },
      "outputs": [],
      "source": [
        "# Create the pixel-flipping experiment.\n",
        "pixel_flipping = quantus.PixelFlipping(\n",
        "    features_in_step=x_batch.shape[3],\n",
        "    perturb_baseline=\"black\",\n",
        "    perturb_func=quantus.perturb_func.baseline_replacement_by_indices,\n",
        ")\n",
        "    \n",
        "# Call the metric instance to produce scores.\n",
        "scores = { method: pixel_flipping(model=blackbox,\n",
        "                        x_batch=x_batch,\n",
        "                        y_batch=y_batch,\n",
        "                        explain_func=explain_func,\n",
        "                        device=device,\n",
        "                        explain_func_kwargs={\"method\": method, **kwargs}) for method,kwargs in supported_methods.items()}\n",
        "pixel_flipping.plot(plot_func=None, y_batch=y_batch, scores=scores)"
      ]
    },
    {
      "cell_type": "code",
      "execution_count": null,
      "metadata": {
        "id": "3DMjjfzGTkj1"
      },
      "outputs": [],
      "source": [
        "# Create the sensitivity-n experiment.\n",
        "sensitivity_n = quantus.SensitivityN(\n",
        "    features_in_step=x_batch.shape[3],\n",
        "    n_max_percentage=0.8,\n",
        "    similarity_func=quantus.similarity_func.correlation_pearson,\n",
        "    perturb_func=quantus.perturb_func.baseline_replacement_by_indices,\n",
        "    perturb_baseline=\"uniform\",  \n",
        "    return_aggregate=False,\n",
        ")\n",
        "# Call the metric instance to produce scores.\n",
        "results = { method: sensitivity_n(model=blackbox, \n",
        "                        x_batch=x_batch,\n",
        "                        y_batch=y_batch,\n",
        "                        a_batch=None,\n",
        "                        device=device,\n",
        "                        explain_func=quantus.explain, \n",
        "                        explain_func_kwargs={\"method\": method, **kwargs}) for method,kwargs in supported_methods.items() }\n",
        "                        \n",
        "\n",
        "# Plot example!\n",
        "sensitivity_n.plot(plot_func=None, results=results)"
      ]
    },
    {
      "cell_type": "markdown",
      "metadata": {
        "id": "pnR9GCIXGCdh"
      },
      "source": [
        "## Complexity Metrics"
      ]
    },
    {
      "cell_type": "code",
      "execution_count": null,
      "metadata": {
        "id": "oncnSmWHGFEZ"
      },
      "outputs": [],
      "source": [
        "complexity = quantus.Complexity()\n",
        "\n",
        "results = { method: complexity(model=blackbox,\n",
        "   x_batch=x_batch,\n",
        "   y_batch=y_batch,\n",
        "   a_batch=None,\n",
        "   explain_func=quantus.explain, \n",
        "   device=device,\n",
        "   explain_func_kwargs={\"method\": method, **kwargs}) for method,kwargs in supported_methods.items()}\n",
        "\n",
        "results"
      ]
    },
    {
      "cell_type": "code",
      "execution_count": null,
      "metadata": {
        "id": "F9RkmHIJiI7f"
      },
      "outputs": [],
      "source": [
        "consistancy = quantus.metrics.robustness.consistency.Consistency()\n",
        "results = { method: consistancy(model=blackbox,\n",
        "   x_batch=x_batch,\n",
        "   y_batch=y_batch,\n",
        "   a_batch=None,\n",
        "   explain_func=quantus.explain,\n",
        "   device=device,\n",
        "   explain_func_kwargs={\"method\": method, **kwargs}) for method,kwargs in supported_methods.items()}\n"
      ]
    },
    {
      "cell_type": "markdown",
      "metadata": {
        "id": "MtcnuBlhugGW"
      },
      "source": [
        "## Localisation metrics"
      ]
    },
    {
      "cell_type": "code",
      "execution_count": null,
      "metadata": {
        "colab": {
          "base_uri": "https://localhost:8080/"
        },
        "id": "9EQjTbxIufkB",
        "outputId": "683fbdc4-6cee-4dde-ba4d-64155cf8ccca"
      },
      "outputs": [
        {
          "name": "stdout",
          "output_type": "stream",
          "text": [
            "Warnings and information:\n",
            " (1) The AUC metric is likely to be sensitive to the choice of ground truth mask i.e., the 's_batch' input as well as if absolute values 'abs' are taken of the attributions .  \n",
            " (2) If attributions are normalised or their absolute values are taken it may destroy or skew information in the explanation and as a result, affect the overall evaluation outcome.\n",
            " (3) Make sure to validate the choices for hyperparameters of the metric (by calling .get_params of the metric instance).\n",
            " (4) For further information, see original publication: Fawcett, Tom. 'An introduction to ROC analysis' Pattern Recognition Letters Vol 27, Issue 8, (2006).\n",
            " (5) To disable these warnings set 'disable_warnings' = True when initialising the metric.\n",
            "\n"
          ]
        },
        {
          "data": {
            "text/plain": [
              "{'LRP': [0.5428358236416899,\n",
              "  0.5073514838237989,\n",
              "  0.5202437706409514,\n",
              "  0.5172741643107533,\n",
              "  0.49004877425327376,\n",
              "  0.5291729102339005,\n",
              "  0.5067536285363826,\n",
              "  0.4963473395548769],\n",
              " 'GradientShap': [0.4947647926556302,\n",
              "  0.49484063271596535,\n",
              "  0.5027443868822116,\n",
              "  0.47678095446087587,\n",
              "  0.491786685181539,\n",
              "  0.5057932060258262,\n",
              "  0.5060531659702809,\n",
              "  0.49628165128970037],\n",
              " 'IntegratedGradients': [0.5186582133777478,\n",
              "  0.49435887527643685,\n",
              "  0.4996525776834464,\n",
              "  0.5151369929586591,\n",
              "  0.47952897612065065,\n",
              "  0.5027627109298645,\n",
              "  0.5070789889024584,\n",
              "  0.4970337520908852],\n",
              " 'GuidedGradCam': [0.5118676632699918,\n",
              "  0.4716891308410028,\n",
              "  0.4763850713702346,\n",
              "  0.4721897734163383,\n",
              "  0.5400921943923426,\n",
              "  0.44148912592221,\n",
              "  0.5052706477382936,\n",
              "  0.5024025678255536],\n",
              " 'KernelShap': [0.46487659254139446,\n",
              "  0.4843020980169119,\n",
              "  0.4979160035507184,\n",
              "  0.4893932903269159,\n",
              "  0.4966494298731938,\n",
              "  0.5062782086710085,\n",
              "  0.5136472271851071,\n",
              "  0.5056474467917702],\n",
              " 'Occlusion': [0.5441276761015195,\n",
              "  0.4233042564462611,\n",
              "  0.7403368048083724,\n",
              "  0.6414662940403795,\n",
              "  0.6430569055983308,\n",
              "  0.5323578277575485,\n",
              "  0.7214574332867193,\n",
              "  0.5748655091599819]}"
            ]
          },
          "execution_count": 21,
          "metadata": {},
          "output_type": "execute_result"
        }
      ],
      "source": [
        "auc = quantus.metrics.localisation.auc.AUC()\n",
        "results = { method: auc(model=blackbox,\n",
        "   x_batch=x_batch,\n",
        "   y_batch=y_batch,\n",
        "   a_batch=None,\n",
        "   s_batch=s_batch,\n",
        "   explain_func=quantus.explain,\n",
        "   device=device,\n",
        "   explain_func_kwargs={\"method\": method, **kwargs}) for method,kwargs in supported_methods.items()}\n",
        "results"
      ]
    },
    {
      "cell_type": "code",
      "execution_count": null,
      "metadata": {
        "id": "nn8TTsLv3hJw"
      },
      "outputs": [],
      "source": [
        "# {'LRP': [0.5428358236416899,\n",
        "#   0.5073514838237989,\n",
        "#   0.5202437706409514,\n",
        "#   0.5172741643107533,\n",
        "#   0.49004877425327376,\n",
        "#   0.5291729102339005,\n",
        "#   0.5067536285363826,\n",
        "#   0.4963473395548769],\n",
        "#  'GradientShap': [0.4947647926556302,\n",
        "#   0.49484063271596535,\n",
        "#   0.5027443868822116,\n",
        "#   0.47678095446087587,\n",
        "#   0.491786685181539,\n",
        "#   0.5057932060258262,\n",
        "#   0.5060531659702809,\n",
        "#   0.49628165128970037],\n",
        "#  'IntegratedGradients': [0.5186582133777478,\n",
        "#   0.49435887527643685,\n",
        "#   0.4996525776834464,\n",
        "#   0.5151369929586591,\n",
        "#   0.47952897612065065,\n",
        "#   0.5027627109298645,\n",
        "#   0.5070789889024584,\n",
        "#   0.4970337520908852],\n",
        "#  'GuidedGradCam': [0.5118676632699918,\n",
        "#   0.4716891308410028,\n",
        "#   0.4763850713702346,\n",
        "#   0.4721897734163383,\n",
        "#   0.5400921943923426,\n",
        "#   0.44148912592221,\n",
        "#   0.5052706477382936,\n",
        "#   0.5024025678255536],\n",
        "#  'KernelShap': [0.46487659254139446,\n",
        "#   0.4843020980169119,\n",
        "#   0.4979160035507184,\n",
        "#   0.4893932903269159,\n",
        "#   0.4966494298731938,\n",
        "#   0.5062782086710085,\n",
        "#   0.5136472271851071,\n",
        "#   0.5056474467917702],\n",
        "#  'Occlusion': [0.5441276761015195,\n",
        "#   0.4233042564462611,\n",
        "#   0.7403368048083724,\n",
        "#   0.6414662940403795,\n",
        "#   0.6430569055983308,\n",
        "#   0.5323578277575485,\n",
        "#   0.7214574332867193,\n",
        "#   0.5748655091599819]}"
      ]
    },
    {
      "cell_type": "markdown",
      "metadata": {
        "id": "gxwZL0GLKP4v"
      },
      "source": [
        "# Dashboard from OmniXAI"
      ]
    },
    {
      "cell_type": "code",
      "execution_count": null,
      "metadata": {
        "id": "JOjH2vSVECEM"
      },
      "outputs": [],
      "source": [
        "from omnixai.preprocessing.image import Resize\n",
        "from PIL import Image\n",
        "from omnixai.data.image import Image as OmniImage\n",
        "\n",
        "def prepare_RBG_from_uri(uri):\n",
        "  imgResponse = requests.get(uri)\n",
        "  img = OmniImage(Image.open(BytesIO(imgResponse.content)).convert('RGB'))\n",
        "  return img\n",
        "\n",
        "def prepare_RBG_for_explain(uris):\n",
        "  batch = np.concatenate(\n",
        "    [Resize((224,224)).transform(prepare_RBG_from_uri(uri)).to_numpy() for uri in uris]\n",
        "  );\n",
        "  return batch\n",
        "\n",
        "x_batch = prepare_RBG_for_explain(uris);\n",
        "x_batch.shape\n"
      ]
    },
    {
      "cell_type": "code",
      "execution_count": null,
      "metadata": {
        "id": "hGVQEf6dfgNa"
      },
      "outputs": [],
      "source": [
        "torch.cuda.empty_cache()\n",
        "gc.collect()"
      ]
    },
    {
      "cell_type": "code",
      "execution_count": null,
      "metadata": {
        "id": "669FpHOOwSwX"
      },
      "outputs": [],
      "source": [
        "from omnixai.explainers.vision import VisionExplainer\n",
        "from omnixai.visualization.dashboard import Dashboard\n",
        "\n",
        "# output = torch.nn.functional.softmax(blackbox(input), dim=1)\n",
        "#     _, target = torch.topk(output[0], k=1, dim = 0)\n",
        "\n",
        "preprocess = lambda ims: torch.stack([transform(im.to_pil()) for im in ims]).to(device)\n",
        "postprocess = lambda logits: torch.nn.functional.softmax(logits, dim=1)\n",
        "\n",
        "explainer = VisionExplainer(\n",
        "    explainers=[\"lime\", \"gradcam\", \"ig\", \"ce\", \"feature_visualization\"],\n",
        "    mode=\"classification\",\n",
        "    model=blackbox,                   # An image classification model, e.g., ResNet50\n",
        "    preprocess=preprocess,         # The preprocessing function\n",
        "    postprocess=postprocess,       # The postprocessing function\n",
        "    params={\n",
        "        # Set the target layer for GradCAM\n",
        "        \"gradcam\": {\"target_layer\": blackbox.layer4[-1]},\n",
        "        # Set the objective for feature visualization\n",
        "        \"feature_visualization\": \n",
        "          {\"objectives\": [{\"layer\": blackbox.layer4[-3], \"type\": \"channel\", \"index\": list(range(6))}]},\n",
        "        \"ce\": {\"binary_search_steps\": 2, \"num_iterations\": 20},\n",
        "    },\n",
        ")\n",
        "\n",
        "\n",
        "img = OmniImage(data=x_batch,batched=True)\n",
        "\n",
        "# Generate explanations of GradCAM, LIME, IG and CE\n",
        "local_explanations = explainer.explain(img)\n",
        "# Generate explanations of feature visualization\n",
        "global_explanations = explainer.explain_global()\n",
        "# Launch the dashboard\n",
        "dashboard = Dashboard(\n",
        "    instances=img,\n",
        "    local_explanations=local_explanations,\n",
        "    global_explanations=global_explanations\n",
        ")\n",
        "dashboard.show()"
      ]
    }
  ],
  "metadata": {
    "accelerator": "GPU",
    "colab": {
      "collapsed_sections": [
        "3prfR5sZf1Jj",
        "gcX0anjnj3SR",
        "JjeFZNXuJAhB",
        "tK1Y8uJvjzPo",
        "gxwZL0GLKP4v"
      ],
      "provenance": []
    },
    "gpuClass": "standard",
    "kernelspec": {
      "display_name": "Python 3",
      "name": "python3"
    },
    "language_info": {
      "name": "python"
    }
  },
  "nbformat": 4,
  "nbformat_minor": 0
}