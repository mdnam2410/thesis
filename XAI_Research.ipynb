{
  "cells": [
    {
      "cell_type": "code",
      "execution_count": 1,
      "metadata": {
        "colab": {
          "base_uri": "https://localhost:8080/"
        },
        "id": "dT7cVH6V85Ck",
        "outputId": "d60c3752-edf0-4098-e2a2-8b5ba3da4979"
      },
      "outputs": [
        {
          "output_type": "stream",
          "name": "stdout",
          "text": [
            "Looking in indexes: https://pypi.org/simple, https://us-python.pkg.dev/colab-wheels/public/simple/\n",
            "Collecting virtualenv\n",
            "  Downloading virtualenv-20.23.0-py3-none-any.whl (3.3 MB)\n",
            "\u001b[2K     \u001b[90m━━━━━━━━━━━━━━━━━━━━━━━━━━━━━━━━━━━━━━━━\u001b[0m \u001b[32m3.3/3.3 MB\u001b[0m \u001b[31m29.9 MB/s\u001b[0m eta \u001b[36m0:00:00\u001b[0m\n",
            "\u001b[?25hCollecting distlib<1,>=0.3.6 (from virtualenv)\n",
            "  Downloading distlib-0.3.6-py2.py3-none-any.whl (468 kB)\n",
            "\u001b[2K     \u001b[90m━━━━━━━━━━━━━━━━━━━━━━━━━━━━━━━━━━━━━━\u001b[0m \u001b[32m468.5/468.5 kB\u001b[0m \u001b[31m19.4 MB/s\u001b[0m eta \u001b[36m0:00:00\u001b[0m\n",
            "\u001b[?25hRequirement already satisfied: filelock<4,>=3.11 in /usr/local/lib/python3.10/dist-packages (from virtualenv) (3.12.0)\n",
            "Requirement already satisfied: platformdirs<4,>=3.2 in /usr/local/lib/python3.10/dist-packages (from virtualenv) (3.3.0)\n",
            "Installing collected packages: distlib, virtualenv\n",
            "Successfully installed distlib-0.3.6 virtualenv-20.23.0\n",
            "created virtual environment CPython3.10.11.final.0-64 in 794ms\n",
            "  creator CPython3Posix(dest=/content/XAIEnv, clear=False, no_vcs_ignore=False, global=False)\n",
            "  seeder FromAppData(download=False, pip=bundle, setuptools=bundle, wheel=bundle, via=copy, app_data_dir=/root/.local/share/virtualenv)\n",
            "    added seed packages: pip==23.1.2, setuptools==67.7.2, wheel==0.40.0\n",
            "  activators BashActivator,CShellActivator,FishActivator,NushellActivator,PowerShellActivator,PythonActivator\n"
          ]
        }
      ],
      "source": [
        "!pip install virtualenv\n",
        "!virtualenv XAIEnv"
      ]
    },
    {
      "cell_type": "code",
      "execution_count": 2,
      "metadata": {
        "colab": {
          "base_uri": "https://localhost:8080/"
        },
        "id": "TD21R-paOIB-",
        "outputId": "69d11dce-c402-4530-cf9c-70fc5b6386c5"
      },
      "outputs": [
        {
          "output_type": "stream",
          "name": "stdout",
          "text": [
            "--2023-05-27 10:42:52--  https://drive.google.com/uc?export=download&id=1KefgyStyr4xcEqlrJjlPevdH99jkcZ4J\n",
            "Resolving drive.google.com (drive.google.com)... 108.177.119.102, 108.177.119.138, 108.177.119.113, ...\n",
            "Connecting to drive.google.com (drive.google.com)|108.177.119.102|:443... connected.\n",
            "HTTP request sent, awaiting response... 303 See Other\n",
            "Location: https://doc-0s-8c-docs.googleusercontent.com/docs/securesc/ha0ro937gcuc7l7deffksulhg5h7mbp1/tf28gl493on15b3un1v6hdvubmm9rhll/1685184150000/07295101801107701363/*/1KefgyStyr4xcEqlrJjlPevdH99jkcZ4J?e=download&uuid=299d786e-bb3e-40de-9e34-44af53424880 [following]\n",
            "Warning: wildcards not supported in HTTP.\n",
            "--2023-05-27 10:42:52--  https://doc-0s-8c-docs.googleusercontent.com/docs/securesc/ha0ro937gcuc7l7deffksulhg5h7mbp1/tf28gl493on15b3un1v6hdvubmm9rhll/1685184150000/07295101801107701363/*/1KefgyStyr4xcEqlrJjlPevdH99jkcZ4J?e=download&uuid=299d786e-bb3e-40de-9e34-44af53424880\n",
            "Resolving doc-0s-8c-docs.googleusercontent.com (doc-0s-8c-docs.googleusercontent.com)... 108.177.126.132, 2a00:1450:4013:c01::84\n",
            "Connecting to doc-0s-8c-docs.googleusercontent.com (doc-0s-8c-docs.googleusercontent.com)|108.177.126.132|:443... connected.\n",
            "HTTP request sent, awaiting response... 200 OK\n",
            "Length: 69 [application/json]\n",
            "Saving to: ‘kaggle.json’\n",
            "\n",
            "kaggle.json         100%[===================>]      69  --.-KB/s    in 0s      \n",
            "\n",
            "2023-05-27 10:42:52 (4.05 MB/s) - ‘kaggle.json’ saved [69/69]\n",
            "\n",
            "{\"username\":\"binhhuunguyen\",\"key\":\"490f5d1951771fb1c83d0a8b116a325b\"}"
          ]
        }
      ],
      "source": [
        "!pip install -q kaggle\n",
        "from google.colab import files \n",
        "# files.upload()\n",
        "!wget --no-check-certificate 'https://drive.google.com/uc?export=download&id=1KefgyStyr4xcEqlrJjlPevdH99jkcZ4J' -O kaggle.json\n",
        "!cat kaggle.json"
      ]
    },
    {
      "cell_type": "markdown",
      "metadata": {
        "id": "IZ7VowTTEBks"
      },
      "source": [
        "# Explain Classification result from ResNet"
      ]
    },
    {
      "cell_type": "code",
      "execution_count": 3,
      "metadata": {
        "colab": {
          "base_uri": "https://localhost:8080/"
        },
        "id": "oMqKUO1q9vs7",
        "outputId": "f4372593-8c1f-403e-c7b7-7ee392f7932d"
      },
      "outputs": [
        {
          "output_type": "stream",
          "name": "stdout",
          "text": [
            "\u001b[2K     \u001b[90m━━━━━━━━━━━━━━━━━━━━━━━━━━━━━━━━━━━━━━━━\u001b[0m \u001b[32m3.6/3.6 MB\u001b[0m \u001b[31m53.1 MB/s\u001b[0m eta \u001b[36m0:00:00\u001b[0m\n",
            "\u001b[2K     \u001b[90m━━━━━━━━━━━━━━━━━━━━━━━━━━━━━━━━━━━━━━━\u001b[0m \u001b[32m619.9/619.9 MB\u001b[0m \u001b[31m2.1 MB/s\u001b[0m eta \u001b[36m0:00:00\u001b[0m\n",
            "\u001b[2K     \u001b[90m━━━━━━━━━━━━━━━━━━━━━━━━━━━━━━━━━━━━━━━━\u001b[0m \u001b[32m1.3/1.3 MB\u001b[0m \u001b[31m62.0 MB/s\u001b[0m eta \u001b[36m0:00:00\u001b[0m\n",
            "\u001b[2K     \u001b[90m━━━━━━━━━━━━━━━━━━━━━━━━━━━━━━━━━━━━━━━━\u001b[0m \u001b[32m6.0/6.0 MB\u001b[0m \u001b[31m57.9 MB/s\u001b[0m eta \u001b[36m0:00:00\u001b[0m\n",
            "\u001b[2K     \u001b[90m━━━━━━━━━━━━━━━━━━━━━━━━━━━━━━━━━━━━━━\u001b[0m \u001b[32m283.1/283.1 kB\u001b[0m \u001b[31m17.1 MB/s\u001b[0m eta \u001b[36m0:00:00\u001b[0m\n",
            "\u001b[2K     \u001b[90m━━━━━━━━━━━━━━━━━━━━━━━━━━━━━━━━━━━━━━\u001b[0m \u001b[32m543.8/543.8 kB\u001b[0m \u001b[31m27.4 MB/s\u001b[0m eta \u001b[36m0:00:00\u001b[0m\n",
            "\u001b[2K     \u001b[90m━━━━━━━━━━━━━━━━━━━━━━━━━━━━━━━━━━━━━━━━\u001b[0m \u001b[32m10.3/10.3 MB\u001b[0m \u001b[31m39.4 MB/s\u001b[0m eta \u001b[36m0:00:00\u001b[0m\n",
            "\u001b[2K     \u001b[90m━━━━━━━━━━━━━━━━━━━━━━━━━━━━━━━━━━━━━━\u001b[0m \u001b[32m220.6/220.6 kB\u001b[0m \u001b[31m11.6 MB/s\u001b[0m eta \u001b[36m0:00:00\u001b[0m\n",
            "\u001b[2K     \u001b[90m━━━━━━━━━━━━━━━━━━━━━━━━━━━━━━━━━━━━━━━━\u001b[0m \u001b[32m30.5/30.5 MB\u001b[0m \u001b[31m26.9 MB/s\u001b[0m eta \u001b[36m0:00:00\u001b[0m\n",
            "\u001b[2K     \u001b[90m━━━━━━━━━━━━━━━━━━━━━━━━━━━━━━━━━━━━━━━━\u001b[0m \u001b[32m16.8/16.8 MB\u001b[0m \u001b[31m48.4 MB/s\u001b[0m eta \u001b[36m0:00:00\u001b[0m\n",
            "\u001b[2K     \u001b[90m━━━━━━━━━━━━━━━━━━━━━━━━━━━━━━━━━━━━━━━━\u001b[0m \u001b[32m3.4/3.4 MB\u001b[0m \u001b[31m31.5 MB/s\u001b[0m eta \u001b[36m0:00:00\u001b[0m\n",
            "\u001b[2K     \u001b[90m━━━━━━━━━━━━━━━━━━━━━━━━━━━━━━━━━━━━━━━━\u001b[0m \u001b[32m67.6/67.6 kB\u001b[0m \u001b[31m4.2 MB/s\u001b[0m eta \u001b[36m0:00:00\u001b[0m\n",
            "\u001b[2K     \u001b[90m━━━━━━━━━━━━━━━━━━━━━━━━━━━━━━━━━━━━━━━━\u001b[0m \u001b[32m34.4/34.4 MB\u001b[0m \u001b[31m18.8 MB/s\u001b[0m eta \u001b[36m0:00:00\u001b[0m\n",
            "\u001b[2K     \u001b[90m━━━━━━━━━━━━━━━━━━━━━━━━━━━━━━━━━━━━━━\u001b[0m \u001b[32m298.0/298.0 kB\u001b[0m \u001b[31m25.7 MB/s\u001b[0m eta \u001b[36m0:00:00\u001b[0m\n",
            "\u001b[2K     \u001b[90m━━━━━━━━━━━━━━━━━━━━━━━━━━━━━━━━━━━━━━━━\u001b[0m \u001b[32m42.1/42.1 MB\u001b[0m \u001b[31m10.6 MB/s\u001b[0m eta \u001b[36m0:00:00\u001b[0m\n",
            "\u001b[2K     \u001b[90m━━━━━━━━━━━━━━━━━━━━━━━━━━━━━━━━━━━━━━━━\u001b[0m \u001b[32m5.7/5.7 MB\u001b[0m \u001b[31m69.8 MB/s\u001b[0m eta \u001b[36m0:00:00\u001b[0m\n",
            "\u001b[2K     \u001b[90m━━━━━━━━━━━━━━━━━━━━━━━━━━━━━━━━━━━━━━━━\u001b[0m \u001b[32m2.1/2.1 MB\u001b[0m \u001b[31m57.5 MB/s\u001b[0m eta \u001b[36m0:00:00\u001b[0m\n",
            "\u001b[2K     \u001b[90m━━━━━━━━━━━━━━━━━━━━━━━━━━━━━━━━━━━━━━\u001b[0m \u001b[32m133.1/133.1 kB\u001b[0m \u001b[31m15.3 MB/s\u001b[0m eta \u001b[36m0:00:00\u001b[0m\n",
            "\u001b[2K     \u001b[90m━━━━━━━━━━━━━━━━━━━━━━━━━━━━━━━━━━━━━━━━\u001b[0m \u001b[32m21.0/21.0 MB\u001b[0m \u001b[31m42.4 MB/s\u001b[0m eta \u001b[36m0:00:00\u001b[0m\n",
            "\u001b[2K     \u001b[90m━━━━━━━━━━━━━━━━━━━━━━━━━━━━━━━━━━━━━━\u001b[0m \u001b[32m849.3/849.3 kB\u001b[0m \u001b[31m33.0 MB/s\u001b[0m eta \u001b[36m0:00:00\u001b[0m\n",
            "\u001b[2K     \u001b[90m━━━━━━━━━━━━━━━━━━━━━━━━━━━━━━━━━━━━━━━━\u001b[0m \u001b[32m11.8/11.8 MB\u001b[0m \u001b[31m42.3 MB/s\u001b[0m eta \u001b[36m0:00:00\u001b[0m\n",
            "\u001b[2K     \u001b[90m━━━━━━━━━━━━━━━━━━━━━━━━━━━━━━━━━━━━━━━\u001b[0m \u001b[32m557.1/557.1 MB\u001b[0m \u001b[31m2.4 MB/s\u001b[0m eta \u001b[36m0:00:00\u001b[0m\n",
            "\u001b[2K     \u001b[90m━━━━━━━━━━━━━━━━━━━━━━━━━━━━━━━━━━━━━━━\u001b[0m \u001b[32m317.1/317.1 MB\u001b[0m \u001b[31m4.0 MB/s\u001b[0m eta \u001b[36m0:00:00\u001b[0m\n",
            "\u001b[2K     \u001b[90m━━━━━━━━━━━━━━━━━━━━━━━━━━━━━━━━━━━━━━━\u001b[0m \u001b[32m168.4/168.4 MB\u001b[0m \u001b[31m6.8 MB/s\u001b[0m eta \u001b[36m0:00:00\u001b[0m\n",
            "\u001b[2K     \u001b[90m━━━━━━━━━━━━━━━━━━━━━━━━━━━━━━━━━━━━━━━━\u001b[0m \u001b[32m54.6/54.6 MB\u001b[0m \u001b[31m10.2 MB/s\u001b[0m eta \u001b[36m0:00:00\u001b[0m\n",
            "\u001b[2K     \u001b[90m━━━━━━━━━━━━━━━━━━━━━━━━━━━━━━━━━━━━━━━\u001b[0m \u001b[32m102.6/102.6 MB\u001b[0m \u001b[31m9.0 MB/s\u001b[0m eta \u001b[36m0:00:00\u001b[0m\n",
            "\u001b[2K     \u001b[90m━━━━━━━━━━━━━━━━━━━━━━━━━━━━━━━━━━━━━━━\u001b[0m \u001b[32m173.2/173.2 MB\u001b[0m \u001b[31m5.5 MB/s\u001b[0m eta \u001b[36m0:00:00\u001b[0m\n",
            "\u001b[2K     \u001b[90m━━━━━━━━━━━━━━━━━━━━━━━━━━━━━━━━━━━━━━━\u001b[0m \u001b[32m177.1/177.1 MB\u001b[0m \u001b[31m6.6 MB/s\u001b[0m eta \u001b[36m0:00:00\u001b[0m\n",
            "\u001b[2K     \u001b[90m━━━━━━━━━━━━━━━━━━━━━━━━━━━━━━━━━━━━━━━━\u001b[0m \u001b[32m98.6/98.6 kB\u001b[0m \u001b[31m11.4 MB/s\u001b[0m eta \u001b[36m0:00:00\u001b[0m\n",
            "\u001b[2K     \u001b[90m━━━━━━━━━━━━━━━━━━━━━━━━━━━━━━━━━━━━━━━━\u001b[0m \u001b[32m63.3/63.3 MB\u001b[0m \u001b[31m10.5 MB/s\u001b[0m eta \u001b[36m0:00:00\u001b[0m\n",
            "\u001b[2K     \u001b[90m━━━━━━━━━━━━━━━━━━━━━━━━━━━━━━━━━━━━━━━━\u001b[0m \u001b[32m64.5/64.5 kB\u001b[0m \u001b[31m8.1 MB/s\u001b[0m eta \u001b[36m0:00:00\u001b[0m\n",
            "\u001b[2K     \u001b[90m━━━━━━━━━━━━━━━━━━━━━━━━━━━━━━━━━━━━━━━━\u001b[0m \u001b[32m24.0/24.0 MB\u001b[0m \u001b[31m69.1 MB/s\u001b[0m eta \u001b[36m0:00:00\u001b[0m\n",
            "\u001b[2K     \u001b[90m━━━━━━━━━━━━━━━━━━━━━━━━━━━━━━━━━━━━━━\u001b[0m \u001b[32m138.0/138.0 kB\u001b[0m \u001b[31m18.3 MB/s\u001b[0m eta \u001b[36m0:00:00\u001b[0m\n",
            "\u001b[?25h  Preparing metadata (setup.py) ... \u001b[?25l\u001b[?25hdone\n",
            "\u001b[2K     \u001b[90m━━━━━━━━━━━━━━━━━━━━━━━━━━━━━━━━━━━━━━━━\u001b[0m \u001b[32m11.6/11.6 MB\u001b[0m \u001b[31m92.1 MB/s\u001b[0m eta \u001b[36m0:00:00\u001b[0m\n",
            "\u001b[2K     \u001b[90m━━━━━━━━━━━━━━━━━━━━━━━━━━━━━━━━━━━━━━━━\u001b[0m \u001b[32m62.6/62.6 kB\u001b[0m \u001b[31m7.6 MB/s\u001b[0m eta \u001b[36m0:00:00\u001b[0m\n",
            "\u001b[2K     \u001b[90m━━━━━━━━━━━━━━━━━━━━━━━━━━━━━━━━━━━━━━━━\u001b[0m \u001b[32m61.8/61.8 MB\u001b[0m \u001b[31m9.5 MB/s\u001b[0m eta \u001b[36m0:00:00\u001b[0m\n",
            "\u001b[2K     \u001b[90m━━━━━━━━━━━━━━━━━━━━━━━━━━━━━━━━━━━━━━━\u001b[0m \u001b[32m13.2/13.2 MB\u001b[0m \u001b[31m101.3 MB/s\u001b[0m eta \u001b[36m0:00:00\u001b[0m\n",
            "\u001b[2K     \u001b[90m━━━━━━━━━━━━━━━━━━━━━━━━━━━━━━━━━━━━━━━━\u001b[0m \u001b[32m77.1/77.1 kB\u001b[0m \u001b[31m9.8 MB/s\u001b[0m eta \u001b[36m0:00:00\u001b[0m\n",
            "\u001b[2K     \u001b[90m━━━━━━━━━━━━━━━━━━━━━━━━━━━━━━━━━━━━━━━\u001b[0m \u001b[32m12.3/12.3 MB\u001b[0m \u001b[31m117.9 MB/s\u001b[0m eta \u001b[36m0:00:00\u001b[0m\n",
            "\u001b[2K     \u001b[90m━━━━━━━━━━━━━━━━━━━━━━━━━━━━━━━━━━━━━━\u001b[0m \u001b[32m275.7/275.7 kB\u001b[0m \u001b[31m30.2 MB/s\u001b[0m eta \u001b[36m0:00:00\u001b[0m\n",
            "\u001b[?25h  Preparing metadata (setup.py) ... \u001b[?25l\u001b[?25hdone\n",
            "\u001b[2K     \u001b[90m━━━━━━━━━━━━━━━━━━━━━━━━━━━━━━━━━━━━━━\u001b[0m \u001b[32m572.6/572.6 kB\u001b[0m \u001b[31m54.3 MB/s\u001b[0m eta \u001b[36m0:00:00\u001b[0m\n",
            "\u001b[2K     \u001b[90m━━━━━━━━━━━━━━━━━━━━━━━━━━━━━━━━━━━━━━\u001b[0m \u001b[32m758.0/758.0 kB\u001b[0m \u001b[31m64.1 MB/s\u001b[0m eta \u001b[36m0:00:00\u001b[0m\n",
            "\u001b[?25h  Installing build dependencies ... \u001b[?25l\u001b[?25hdone\n",
            "  Getting requirements to build wheel ... \u001b[?25l\u001b[?25hdone\n",
            "  Preparing metadata (pyproject.toml) ... \u001b[?25l\u001b[?25hdone\n",
            "\u001b[2K     \u001b[90m━━━━━━━━━━━━━━━━━━━━━━━━━━━━━━━━━━━━━━\u001b[0m \u001b[32m110.5/110.5 kB\u001b[0m \u001b[31m10.4 MB/s\u001b[0m eta \u001b[36m0:00:00\u001b[0m\n",
            "\u001b[2K     \u001b[90m━━━━━━━━━━━━━━━━━━━━━━━━━━━━━━━━━━━━━━━━\u001b[0m \u001b[32m48.9/48.9 kB\u001b[0m \u001b[31m5.8 MB/s\u001b[0m eta \u001b[36m0:00:00\u001b[0m\n",
            "\u001b[2K     \u001b[90m━━━━━━━━━━━━━━━━━━━━━━━━━━━━━━━━━━━━━━\u001b[0m \u001b[32m797.7/797.7 kB\u001b[0m \u001b[31m46.9 MB/s\u001b[0m eta \u001b[36m0:00:00\u001b[0m\n",
            "\u001b[2K     \u001b[90m━━━━━━━━━━━━━━━━━━━━━━━━━━━━━━━━━━━━━━━━\u001b[0m \u001b[32m10.1/10.1 MB\u001b[0m \u001b[31m92.6 MB/s\u001b[0m eta \u001b[36m0:00:00\u001b[0m\n",
            "\u001b[2K     \u001b[90m━━━━━━━━━━━━━━━━━━━━━━━━━━━━━━━━━━━━━━━━\u001b[0m \u001b[32m72.0/72.0 kB\u001b[0m \u001b[31m7.6 MB/s\u001b[0m eta \u001b[36m0:00:00\u001b[0m\n",
            "\u001b[2K     \u001b[90m━━━━━━━━━━━━━━━━━━━━━━━━━━━━━━━━━━━━━━━━\u001b[0m \u001b[32m49.2/49.2 MB\u001b[0m \u001b[31m12.6 MB/s\u001b[0m eta \u001b[36m0:00:00\u001b[0m\n",
            "\u001b[2K     \u001b[90m━━━━━━━━━━━━━━━━━━━━━━━━━━━━━━━━━━━━━━\u001b[0m \u001b[32m101.8/101.8 kB\u001b[0m \u001b[31m13.1 MB/s\u001b[0m eta \u001b[36m0:00:00\u001b[0m\n",
            "\u001b[2K     \u001b[90m━━━━━━━━━━━━━━━━━━━━━━━━━━━━━━━━━━━━━━\u001b[0m \u001b[32m233.6/233.6 kB\u001b[0m \u001b[31m26.1 MB/s\u001b[0m eta \u001b[36m0:00:00\u001b[0m\n",
            "\u001b[2K     \u001b[90m━━━━━━━━━━━━━━━━━━━━━━━━━━━━━━━━━━━━━━━\u001b[0m \u001b[32m15.3/15.3 MB\u001b[0m \u001b[31m104.6 MB/s\u001b[0m eta \u001b[36m0:00:00\u001b[0m\n",
            "\u001b[2K     \u001b[90m━━━━━━━━━━━━━━━━━━━━━━━━━━━━━━━━━━━━━━\u001b[0m \u001b[32m152.2/152.2 kB\u001b[0m \u001b[31m19.0 MB/s\u001b[0m eta \u001b[36m0:00:00\u001b[0m\n",
            "\u001b[2K     \u001b[90m━━━━━━━━━━━━━━━━━━━━━━━━━━━━━━━━━━━━━━━━\u001b[0m \u001b[32m2.1/2.1 MB\u001b[0m \u001b[31m97.1 MB/s\u001b[0m eta \u001b[36m0:00:00\u001b[0m\n",
            "\u001b[2K     \u001b[90m━━━━━━━━━━━━━━━━━━━━━━━━━━━━━━━━━━━━━━━━\u001b[0m \u001b[32m96.6/96.6 kB\u001b[0m \u001b[31m13.8 MB/s\u001b[0m eta \u001b[36m0:00:00\u001b[0m\n",
            "\u001b[2K     \u001b[90m━━━━━━━━━━━━━━━━━━━━━━━━━━━━━━━━━━━━━━━━\u001b[0m \u001b[32m1.6/1.6 MB\u001b[0m \u001b[31m84.6 MB/s\u001b[0m eta \u001b[36m0:00:00\u001b[0m\n",
            "\u001b[2K     \u001b[90m━━━━━━━━━━━━━━━━━━━━━━━━━━━━━━━━━━━━━━\u001b[0m \u001b[32m385.8/385.8 kB\u001b[0m \u001b[31m39.8 MB/s\u001b[0m eta \u001b[36m0:00:00\u001b[0m\n",
            "\u001b[2K     \u001b[90m━━━━━━━━━━━━━━━━━━━━━━━━━━━━━━━━━━━━━━━━\u001b[0m \u001b[32m1.1/1.1 MB\u001b[0m \u001b[31m64.4 MB/s\u001b[0m eta \u001b[36m0:00:00\u001b[0m\n",
            "\u001b[2K     \u001b[90m━━━━━━━━━━━━━━━━━━━━━━━━━━━━━━━━━━━━━━\u001b[0m \u001b[32m117.4/117.4 kB\u001b[0m \u001b[31m15.1 MB/s\u001b[0m eta \u001b[36m0:00:00\u001b[0m\n",
            "\u001b[2K     \u001b[90m━━━━━━━━━━━━━━━━━━━━━━━━━━━━━━━━━━━━━━━━\u001b[0m \u001b[32m59.0/59.0 kB\u001b[0m \u001b[31m7.9 MB/s\u001b[0m eta \u001b[36m0:00:00\u001b[0m\n",
            "\u001b[2K     \u001b[90m━━━━━━━━━━━━━━━━━━━━━━━━━━━━━━━━━━━━━━\u001b[0m \u001b[32m300.3/300.3 kB\u001b[0m \u001b[31m31.2 MB/s\u001b[0m eta \u001b[36m0:00:00\u001b[0m\n",
            "\u001b[2K     \u001b[90m━━━━━━━━━━━━━━━━━━━━━━━━━━━━━━━━━━━━━━━━\u001b[0m \u001b[32m1.0/1.0 MB\u001b[0m \u001b[31m78.0 MB/s\u001b[0m eta \u001b[36m0:00:00\u001b[0m\n",
            "\u001b[2K     \u001b[90m━━━━━━━━━━━━━━━━━━━━━━━━━━━━━━━━━━━━━━━━\u001b[0m \u001b[32m1.6/1.6 MB\u001b[0m \u001b[31m64.7 MB/s\u001b[0m eta \u001b[36m0:00:00\u001b[0m\n",
            "\u001b[2K     \u001b[90m━━━━━━━━━━━━━━━━━━━━━━━━━━━━━━━━━━━━━━━━\u001b[0m \u001b[32m98.3/98.3 kB\u001b[0m \u001b[31m9.2 MB/s\u001b[0m eta \u001b[36m0:00:00\u001b[0m\n",
            "\u001b[2K     \u001b[90m━━━━━━━━━━━━━━━━━━━━━━━━━━━━━━━━━━━━━━\u001b[0m \u001b[32m247.7/247.7 kB\u001b[0m \u001b[31m18.7 MB/s\u001b[0m eta \u001b[36m0:00:00\u001b[0m\n",
            "\u001b[2K     \u001b[90m━━━━━━━━━━━━━━━━━━━━━━━━━━━━━━━━━━━━━━\u001b[0m \u001b[32m502.3/502.3 kB\u001b[0m \u001b[31m38.9 MB/s\u001b[0m eta \u001b[36m0:00:00\u001b[0m\n",
            "\u001b[2K     \u001b[90m━━━━━━━━━━━━━━━━━━━━━━━━━━━━━━━━━━━━━━\u001b[0m \u001b[32m341.8/341.8 kB\u001b[0m \u001b[31m24.3 MB/s\u001b[0m eta \u001b[36m0:00:00\u001b[0m\n",
            "\u001b[2K     \u001b[90m━━━━━━━━━━━━━━━━━━━━━━━━━━━━━━━━━━━━━━━━\u001b[0m \u001b[32m3.4/3.4 MB\u001b[0m \u001b[31m72.5 MB/s\u001b[0m eta \u001b[36m0:00:00\u001b[0m\n",
            "\u001b[2K     \u001b[90m━━━━━━━━━━━━━━━━━━━━━━━━━━━━━━━━━━━━━━\u001b[0m \u001b[32m219.4/219.4 kB\u001b[0m \u001b[31m20.6 MB/s\u001b[0m eta \u001b[36m0:00:00\u001b[0m\n",
            "\u001b[2K     \u001b[90m━━━━━━━━━━━━━━━━━━━━━━━━━━━━━━━━━━━━━━━━\u001b[0m \u001b[32m6.8/6.8 MB\u001b[0m \u001b[31m77.1 MB/s\u001b[0m eta \u001b[36m0:00:00\u001b[0m\n",
            "\u001b[2K     \u001b[90m━━━━━━━━━━━━━━━━━━━━━━━━━━━━━━━━━━━━━━\u001b[0m \u001b[32m233.8/233.8 kB\u001b[0m \u001b[31m27.5 MB/s\u001b[0m eta \u001b[36m0:00:00\u001b[0m\n",
            "\u001b[2K     \u001b[90m━━━━━━━━━━━━━━━━━━━━━━━━━━━━━━━━━━━━━━━━\u001b[0m \u001b[32m3.0/3.0 MB\u001b[0m \u001b[31m106.7 MB/s\u001b[0m eta \u001b[36m0:00:00\u001b[0m\n",
            "\u001b[2K     \u001b[90m━━━━━━━━━━━━━━━━━━━━━━━━━━━━━━━━━━━━━━\u001b[0m \u001b[32m103.2/103.2 kB\u001b[0m \u001b[31m13.9 MB/s\u001b[0m eta \u001b[36m0:00:00\u001b[0m\n",
            "\u001b[2K     \u001b[90m━━━━━━━━━━━━━━━━━━━━━━━━━━━━━━━━━━━━━━━━\u001b[0m \u001b[32m93.2/93.2 kB\u001b[0m \u001b[31m11.4 MB/s\u001b[0m eta \u001b[36m0:00:00\u001b[0m\n",
            "\u001b[2K     \u001b[90m━━━━━━━━━━━━━━━━━━━━━━━━━━━━━━━━━━━━━━\u001b[0m \u001b[32m282.1/282.1 kB\u001b[0m \u001b[31m30.0 MB/s\u001b[0m eta \u001b[36m0:00:00\u001b[0m\n",
            "\u001b[2K     \u001b[90m━━━━━━━━━━━━━━━━━━━━━━━━━━━━━━━━━━━━━━━━\u001b[0m \u001b[32m1.1/1.1 MB\u001b[0m \u001b[31m70.4 MB/s\u001b[0m eta \u001b[36m0:00:00\u001b[0m\n",
            "\u001b[2K     \u001b[90m━━━━━━━━━━━━━━━━━━━━━━━━━━━━━━━━━━━━━━\u001b[0m \u001b[32m426.9/426.9 kB\u001b[0m \u001b[31m44.5 MB/s\u001b[0m eta \u001b[36m0:00:00\u001b[0m\n",
            "\u001b[2K     \u001b[90m━━━━━━━━━━━━━━━━━━━━━━━━━━━━━━━━━━━━━━━━\u001b[0m \u001b[32m1.0/1.0 MB\u001b[0m \u001b[31m68.2 MB/s\u001b[0m eta \u001b[36m0:00:00\u001b[0m\n",
            "\u001b[2K     \u001b[90m━━━━━━━━━━━━━━━━━━━━━━━━━━━━━━━━━━━━━━\u001b[0m \u001b[32m199.3/199.3 kB\u001b[0m \u001b[31m23.2 MB/s\u001b[0m eta \u001b[36m0:00:00\u001b[0m\n",
            "\u001b[2K     \u001b[90m━━━━━━━━━━━━━━━━━━━━━━━━━━━━━━━━━━━━━━━━\u001b[0m \u001b[32m61.5/61.5 kB\u001b[0m \u001b[31m7.4 MB/s\u001b[0m eta \u001b[36m0:00:00\u001b[0m\n",
            "\u001b[2K     \u001b[90m━━━━━━━━━━━━━━━━━━━━━━━━━━━━━━━━━━━━━━\u001b[0m \u001b[32m123.2/123.2 kB\u001b[0m \u001b[31m15.5 MB/s\u001b[0m eta \u001b[36m0:00:00\u001b[0m\n",
            "\u001b[2K     \u001b[90m━━━━━━━━━━━━━━━━━━━━━━━━━━━━━━━━━━━━━━\u001b[0m \u001b[32m157.0/157.0 kB\u001b[0m \u001b[31m18.7 MB/s\u001b[0m eta \u001b[36m0:00:00\u001b[0m\n",
            "\u001b[2K     \u001b[90m━━━━━━━━━━━━━━━━━━━━━━━━━━━━━━━━━━━━━━\u001b[0m \u001b[32m134.3/134.3 kB\u001b[0m \u001b[31m17.3 MB/s\u001b[0m eta \u001b[36m0:00:00\u001b[0m\n",
            "\u001b[2K     \u001b[90m━━━━━━━━━━━━━━━━━━━━━━━━━━━━━━━━━━━━━━\u001b[0m \u001b[32m536.2/536.2 kB\u001b[0m \u001b[31m43.4 MB/s\u001b[0m eta \u001b[36m0:00:00\u001b[0m\n",
            "\u001b[2K     \u001b[90m━━━━━━━━━━━━━━━━━━━━━━━━━━━━━━━━━━━━━━\u001b[0m \u001b[32m100.8/100.8 kB\u001b[0m \u001b[31m13.1 MB/s\u001b[0m eta \u001b[36m0:00:00\u001b[0m\n",
            "\u001b[2K     \u001b[90m━━━━━━━━━━━━━━━━━━━━━━━━━━━━━━━━━━━━━━━━\u001b[0m \u001b[32m61.2/61.2 kB\u001b[0m \u001b[31m6.7 MB/s\u001b[0m eta \u001b[36m0:00:00\u001b[0m\n",
            "\u001b[2K     \u001b[90m━━━━━━━━━━━━━━━━━━━━━━━━━━━━━━━━━━━━━━\u001b[0m \u001b[32m114.5/114.5 kB\u001b[0m \u001b[31m10.8 MB/s\u001b[0m eta \u001b[36m0:00:00\u001b[0m\n",
            "\u001b[2K     \u001b[90m━━━━━━━━━━━━━━━━━━━━━━━━━━━━━━━━━━━━━━\u001b[0m \u001b[32m268.8/268.8 kB\u001b[0m \u001b[31m10.8 MB/s\u001b[0m eta \u001b[36m0:00:00\u001b[0m\n",
            "\u001b[2K     \u001b[90m━━━━━━━━━━━━━━━━━━━━━━━━━━━━━━━━━━━━━━\u001b[0m \u001b[32m149.6/149.6 kB\u001b[0m \u001b[31m15.0 MB/s\u001b[0m eta \u001b[36m0:00:00\u001b[0m\n",
            "\u001b[?25h  Building wheel for hnswlib (pyproject.toml) ... \u001b[?25l\u001b[?25hdone\n",
            "  Building wheel for lime (setup.py) ... \u001b[?25l\u001b[?25hdone\n",
            "  Building wheel for lit (setup.py) ... \u001b[?25l\u001b[?25hdone\n"
          ]
        }
      ],
      "source": [
        "!source /content/XAIEnv/bin/activate; pip install -q numba torch captum torchvision quantus omnixai[vision] dash jupyter_dash dash_bootstrap_components scikit-learn==1.1.3 numpy==1.22.4 Pillow fastcore -I -U"
      ]
    },
    {
      "cell_type": "code",
      "execution_count": 4,
      "metadata": {
        "id": "yweYyg0OLsJR"
      },
      "outputs": [],
      "source": [
        "import sys\n",
        "sys.path.append(\"XAIEnv/lib/python3.10/site-packages\")"
      ]
    },
    {
      "cell_type": "code",
      "execution_count": 5,
      "metadata": {
        "id": "Mk4hn6mXOYIU"
      },
      "outputs": [],
      "source": [
        "!mkdir ~/.kaggle\n",
        "!cp kaggle.json ~/.kaggle/\n",
        "!chmod 600 ~/.kaggle/kaggle.json"
      ]
    },
    {
      "cell_type": "code",
      "execution_count": 6,
      "metadata": {
        "colab": {
          "base_uri": "https://localhost:8080/"
        },
        "id": "tXunAuMEOwV5",
        "outputId": "4b0db3c4-13b4-4045-87e3-85fec2757c3d"
      },
      "outputs": [
        {
          "output_type": "stream",
          "name": "stdout",
          "text": [
            "Downloading pneumothorax-chest-xray-images-and-masks.zip to /content/datasets\n",
            "100% 4.49G/4.50G [02:25<00:00, 30.3MB/s]\n",
            "100% 4.50G/4.50G [02:25<00:00, 33.2MB/s]\n"
          ]
        }
      ],
      "source": [
        "!kaggle datasets download -d vbookshelf/pneumothorax-chest-xray-images-and-masks -p /content/datasets/ --unzip"
      ]
    },
    {
      "cell_type": "code",
      "execution_count": 7,
      "metadata": {
        "colab": {
          "base_uri": "https://localhost:8080/"
        },
        "id": "I9YpVFVMvQHb",
        "outputId": "328c9a2c-fc97-4bb0-e578-cb2802e2768c"
      },
      "outputs": [
        {
          "output_type": "stream",
          "name": "stdout",
          "text": [
            "Downloading xai-pretrained-blackbox.zip to /content/datasets\n",
            "100% 255M/255M [00:12<00:00, 28.8MB/s]\n",
            "100% 255M/255M [00:12<00:00, 20.8MB/s]\n"
          ]
        }
      ],
      "source": [
        "!kaggle datasets download -d binhhuunguyen/xai-pretrained-blackbox  -p /content/datasets/ --unzip"
      ]
    },
    {
      "cell_type": "code",
      "execution_count": 8,
      "metadata": {
        "colab": {
          "base_uri": "https://localhost:8080/"
        },
        "id": "erPY0MqyEU_X",
        "outputId": "2ec5dabe-868d-4db9-dfbc-abe659a4bca9"
      },
      "outputs": [
        {
          "output_type": "stream",
          "name": "stdout",
          "text": [
            "Using cuda for inference\n"
          ]
        }
      ],
      "source": [
        "import torch\n",
        "import quantus\n",
        "from captum.attr import (\n",
        "    Saliency, # A baseline approach for computing input attribution\n",
        "    GradientShap, \n",
        "    DeepLift,\n",
        "    DeepLiftShap,\n",
        "    IntegratedGradients,\n",
        "    LayerConductance,\n",
        "    NeuronConductance,\n",
        "    NoiseTunnel,\n",
        "    GuidedGradCam,\n",
        "    GuidedBackprop,\n",
        "    Saliency,\n",
        "    LimeBase,\n",
        "    FeatureAblation,\n",
        "    Occlusion,\n",
        "    LRP,\n",
        "    visualization as viz\n",
        ")\n",
        "from PIL import Image\n",
        "import torchvision\n",
        "from torchvision import transforms\n",
        "import json\n",
        "import requests\n",
        "from io import BytesIO\n",
        "import warnings\n",
        "import numpy as np\n",
        "import matplotlib.pyplot as plt\n",
        "import matplotlib.cm as c_map\n",
        "from torchvision import models\n",
        "\n",
        "warnings.filterwarnings('ignore')\n",
        "\n",
        "%matplotlib inline\n",
        "\n",
        "device = torch.device(\"cuda\") if torch.cuda.is_available() else torch.device(\"cpu\")\n",
        "cpu = torch.device(\"cpu\")\n",
        "print(f'Using {device} for inference')"
      ]
    },
    {
      "cell_type": "code",
      "execution_count": 9,
      "metadata": {
        "id": "vLfyNmtEM1SB"
      },
      "outputs": [],
      "source": [
        "torch.manual_seed(123)\n",
        "np.random.seed(123)"
      ]
    },
    {
      "cell_type": "code",
      "execution_count": 10,
      "metadata": {
        "id": "EVH_ZzSPDGKc"
      },
      "outputs": [],
      "source": [
        "resize_image = transforms.Compose([\n",
        "  transforms.Resize(256),\n",
        "  transforms.CenterCrop(299),\n",
        "])\n",
        "\n",
        "transform = transforms.Compose([            \n",
        "  transforms.ToTensor(),\n",
        "  resize_image,\n",
        "  transforms.Normalize(\n",
        "   mean=[0.485, 0.456, 0.406],\n",
        "   std=[0.229, 0.224, 0.225]\n",
        "  )\n",
        "])\n",
        "\n",
        "mask_transform = transforms.Compose([            \n",
        "  transforms.ToTensor(),\n",
        "  resize_image,\n",
        "])"
      ]
    },
    {
      "cell_type": "markdown",
      "metadata": {
        "id": "sIEBF6WUzAQA"
      },
      "source": [
        "# Setup datasets"
      ]
    },
    {
      "cell_type": "code",
      "execution_count": 11,
      "metadata": {
        "id": "8ncf8jeMzDYz"
      },
      "outputs": [],
      "source": [
        "from torch.utils.data import Dataset\n",
        "\n",
        "class PneumothoraxImageDataset(Dataset):\n",
        "    def __init__(self, images, targets, masks, transform, mask_transform):\n",
        "        self.masks = masks\n",
        "        self.images = images\n",
        "        self.targets = targets\n",
        "        self.transform = transform\n",
        "        self.mask_transform = mask_transform\n",
        "        \n",
        "\n",
        "    def __len__(self):\n",
        "        return len(self.images)\n",
        "\n",
        "    def __getitem__(self, idx):\n",
        "        image = np.asarray(Image.open(self.images[idx]).convert(\"RGB\"))\n",
        "        mask = np.asarray(Image.open(self.masks[idx]).convert(\"RGB\"))\n",
        "        label = self.targets[idx]\n",
        "        if self.transform:\n",
        "          image = self.transform(image)\n",
        "        if self.mask_transform:\n",
        "          mask = self.mask_transform(mask)\n",
        "        return image, mask, label"
      ]
    },
    {
      "cell_type": "code",
      "execution_count": 12,
      "metadata": {
        "id": "8G-yx78yQsMn"
      },
      "outputs": [],
      "source": [
        "main_path = '/content/datasets/siim-acr-pneumothorax'\n",
        "import os\n",
        "import pandas as pd\n",
        "# train_data = pd.read_csv(os.path.join(main_path, 'stage_1_train_images.csv'))\n",
        "test_data = pd.read_csv(os.path.join(main_path, 'stage_1_test_images.csv'))\n",
        "# Just load only abnormal cases\n",
        "test_abnormal = test_data.loc[test_data.has_pneumo == 1]\n",
        "\n",
        "# train_data['images'] = train_data['new_filename'].apply(lambda x: os.path.join(main_path, 'png_images', x))\n",
        "# train_data['masks'] = train_data['new_filename'].apply(lambda x: os.path.join(main_path, 'png_masks', x))\n",
        "\n",
        "test_abnormal['images'] = test_abnormal['new_filename'].apply(lambda x: os.path.join(main_path, 'png_images', x))\n",
        "test_abnormal['masks'] = test_abnormal['new_filename'].apply(lambda x: os.path.join(main_path, 'png_masks', x))\n",
        "\n",
        "images = test_abnormal['images'].tolist()\n",
        "masks = test_abnormal['masks'].tolist()\n",
        "targets = test_abnormal['has_pneumo'].tolist()"
      ]
    },
    {
      "cell_type": "code",
      "execution_count": 13,
      "metadata": {
        "id": "vbo2-sZMQ1iU"
      },
      "outputs": [],
      "source": [
        "dataset = PneumothoraxImageDataset(images, targets, masks, transform=transform, mask_transform=mask_transform)\n",
        "ds_loader = torch.utils.data.DataLoader(dataset, batch_size=8, shuffle=True, num_workers=4)"
      ]
    },
    {
      "cell_type": "code",
      "execution_count": 14,
      "metadata": {
        "colab": {
          "base_uri": "https://localhost:8080/"
        },
        "id": "NQ48mhhkR_Qt",
        "outputId": "de09cbce-38e6-40d6-9925-69a81ec86456"
      },
      "outputs": [
        {
          "output_type": "stream",
          "name": "stdout",
          "text": [
            "torch.Size([8, 3, 299, 299]) torch.Size([8, 3, 299, 299])\n"
          ]
        }
      ],
      "source": [
        "x, mask, y = next(iter(ds_loader))\n",
        "print(x.shape, mask.shape)"
      ]
    },
    {
      "cell_type": "markdown",
      "metadata": {
        "id": "3prfR5sZf1Jj"
      },
      "source": [
        "## UTIL FUNCS"
      ]
    },
    {
      "cell_type": "markdown",
      "metadata": {
        "id": "gcX0anjnj3SR"
      },
      "source": [
        "### Bellow is the override of an visualization implementation due to the orginal version from the captum module cause bug when config matplotlib grid_b"
      ]
    },
    {
      "cell_type": "code",
      "execution_count": 15,
      "metadata": {
        "id": "6eJieH7DcEHO"
      },
      "outputs": [],
      "source": [
        "from matplotlib import cm, colors, pyplot as plt\n",
        "from matplotlib.collections import LineCollection\n",
        "from matplotlib.colors import LinearSegmentedColormap\n",
        "from matplotlib.figure import Figure\n",
        "from matplotlib.pyplot import axis, figure\n",
        "from mpl_toolkits.axes_grid1 import make_axes_locatable\n",
        "from numpy import ndarray\n",
        "from enum import Enum\n",
        "from typing import Any, Iterable, List, Optional, Tuple, Union\n",
        "\n",
        "\n",
        "try:\n",
        "    from IPython.display import display, HTML\n",
        "\n",
        "    HAS_IPYTHON = True\n",
        "except ImportError:\n",
        "    HAS_IPYTHON = False\n",
        "\n",
        "\n",
        "class ImageVisualizationMethod(Enum):\n",
        "    heat_map = 1\n",
        "    blended_heat_map = 2\n",
        "    original_image = 3\n",
        "    masked_image = 4\n",
        "    alpha_scaling = 5\n",
        "\n",
        "\n",
        "class TimeseriesVisualizationMethod(Enum):\n",
        "    overlay_individual = 1\n",
        "    overlay_combined = 2\n",
        "    colored_graph = 3\n",
        "\n",
        "\n",
        "class VisualizeSign(Enum):\n",
        "    positive = 1\n",
        "    absolute_value = 2\n",
        "    negative = 3\n",
        "    all = 4\n",
        "\n",
        "\n",
        "def _prepare_image(attr_visual: ndarray):\n",
        "    return np.clip(attr_visual.astype(int), 0, 255)\n",
        "\n",
        "\n",
        "def _normalize_scale(attr: ndarray, scale_factor: float):\n",
        "    assert scale_factor != 0, \"Cannot normalize by scale factor = 0\"\n",
        "    if abs(scale_factor) < 1e-5:\n",
        "        warnings.warn(\n",
        "            \"Attempting to normalize by value approximately 0, visualized results\"\n",
        "            \"may be misleading. This likely means that attribution values are all\"\n",
        "            \"close to 0.\"\n",
        "        )\n",
        "    attr_norm = attr / scale_factor\n",
        "    return np.clip(attr_norm, -1, 1)\n",
        "\n",
        "\n",
        "def _cumulative_sum_threshold(values: ndarray, percentile: Union[int, float]):\n",
        "    # given values should be non-negative\n",
        "    assert percentile >= 0 and percentile <= 100, (\n",
        "        \"Percentile for thresholding must be \" \"between 0 and 100 inclusive.\"\n",
        "    )\n",
        "    sorted_vals = np.sort(values.flatten())\n",
        "    cum_sums = np.cumsum(sorted_vals)\n",
        "    threshold_id = np.where(cum_sums >= cum_sums[-1] * 0.01 * percentile)[0][0]\n",
        "    return sorted_vals[threshold_id]\n",
        "\n",
        "\n",
        "def _normalize_attr(\n",
        "    attr: ndarray,\n",
        "    sign: str,\n",
        "    outlier_perc: Union[int, float] = 2,\n",
        "    reduction_axis: Optional[int] = None,\n",
        "):\n",
        "    attr_combined = attr\n",
        "    if reduction_axis is not None:\n",
        "        attr_combined = np.sum(attr, axis=reduction_axis)\n",
        "\n",
        "    # Choose appropriate signed values and rescale, removing given outlier percentage.\n",
        "    if VisualizeSign[sign] == VisualizeSign.all:\n",
        "        threshold = _cumulative_sum_threshold(np.abs(attr_combined), 100 - outlier_perc)\n",
        "    elif VisualizeSign[sign] == VisualizeSign.positive:\n",
        "        attr_combined = (attr_combined > 0) * attr_combined\n",
        "        threshold = _cumulative_sum_threshold(attr_combined, 100 - outlier_perc)\n",
        "    elif VisualizeSign[sign] == VisualizeSign.negative:\n",
        "        attr_combined = (attr_combined < 0) * attr_combined\n",
        "        threshold = -1 * _cumulative_sum_threshold(\n",
        "            np.abs(attr_combined), 100 - outlier_perc\n",
        "        )\n",
        "    elif VisualizeSign[sign] == VisualizeSign.absolute_value:\n",
        "        attr_combined = np.abs(attr_combined)\n",
        "        threshold = _cumulative_sum_threshold(attr_combined, 100 - outlier_perc)\n",
        "    else:\n",
        "        raise AssertionError(\"Visualize Sign type is not valid.\")\n",
        "    return _normalize_scale(attr_combined, threshold)\n",
        "\n",
        "\n",
        "def visualize_image_attr(\n",
        "    attr: ndarray,\n",
        "    original_image: Union[None, ndarray] = None,\n",
        "    method: str = \"heat_map\",\n",
        "    sign: str = \"absolute_value\",\n",
        "    plt_fig_axis: Union[None, Tuple[figure, axis]] = None,\n",
        "    outlier_perc: Union[int, float] = 2,\n",
        "    cmap: Union[None, str] = None,\n",
        "    alpha_overlay: float = 0.5,\n",
        "    show_colorbar: bool = False,\n",
        "    title: Union[None, str] = None,\n",
        "    fig_size: Tuple[int, int] = (6, 6),\n",
        "    use_pyplot: bool = True,\n",
        "):\n",
        "    r\"\"\"\n",
        "    Visualizes attribution for a given image by normalizing attribution values\n",
        "    of the desired sign (positive, negative, absolute value, or all) and displaying\n",
        "    them using the desired mode in a matplotlib figure.\n",
        "\n",
        "    Args:\n",
        "\n",
        "        attr (numpy.ndarray): Numpy array corresponding to attributions to be\n",
        "                    visualized. Shape must be in the form (H, W, C), with\n",
        "                    channels as last dimension. Shape must also match that of\n",
        "                    the original image if provided.\n",
        "        original_image (numpy.ndarray, optional): Numpy array corresponding to\n",
        "                    original image. Shape must be in the form (H, W, C), with\n",
        "                    channels as the last dimension. Image can be provided either\n",
        "                    with float values in range 0-1 or int values between 0-255.\n",
        "                    This is a necessary argument for any visualization method\n",
        "                    which utilizes the original image.\n",
        "                    Default: None\n",
        "        method (str, optional): Chosen method for visualizing attribution.\n",
        "                    Supported options are:\n",
        "\n",
        "                    1. `heat_map` - Display heat map of chosen attributions\n",
        "\n",
        "                    2. `blended_heat_map` - Overlay heat map over greyscale\n",
        "                       version of original image. Parameter alpha_overlay\n",
        "                       corresponds to alpha of heat map.\n",
        "\n",
        "                    3. `original_image` - Only display original image.\n",
        "\n",
        "                    4. `masked_image` - Mask image (pixel-wise multiply)\n",
        "                       by normalized attribution values.\n",
        "\n",
        "                    5. `alpha_scaling` - Sets alpha channel of each pixel\n",
        "                       to be equal to normalized attribution value.\n",
        "\n",
        "                    Default: `heat_map`\n",
        "        sign (str, optional): Chosen sign of attributions to visualize. Supported\n",
        "                    options are:\n",
        "\n",
        "                    1. `positive` - Displays only positive pixel attributions.\n",
        "\n",
        "                    2. `absolute_value` - Displays absolute value of\n",
        "                       attributions.\n",
        "\n",
        "                    3. `negative` - Displays only negative pixel attributions.\n",
        "\n",
        "                    4. `all` - Displays both positive and negative attribution\n",
        "                       values. This is not supported for `masked_image` or\n",
        "                       `alpha_scaling` modes, since signed information cannot\n",
        "                       be represented in these modes.\n",
        "\n",
        "                    Default: `absolute_value`\n",
        "        plt_fig_axis (tuple, optional): Tuple of matplotlib.pyplot.figure and axis\n",
        "                    on which to visualize. If None is provided, then a new figure\n",
        "                    and axis are created.\n",
        "                    Default: None\n",
        "        outlier_perc (float or int, optional): Top attribution values which\n",
        "                    correspond to a total of outlier_perc percentage of the\n",
        "                    total attribution are set to 1 and scaling is performed\n",
        "                    using the minimum of these values. For sign=`all`, outliers\n",
        "                    and scale value are computed using absolute value of\n",
        "                    attributions.\n",
        "                    Default: 2\n",
        "        cmap (str, optional): String corresponding to desired colormap for\n",
        "                    heatmap visualization. This defaults to \"Reds\" for negative\n",
        "                    sign, \"Blues\" for absolute value, \"Greens\" for positive sign,\n",
        "                    and a spectrum from red to green for all. Note that this\n",
        "                    argument is only used for visualizations displaying heatmaps.\n",
        "                    Default: None\n",
        "        alpha_overlay (float, optional): Alpha to set for heatmap when using\n",
        "                    `blended_heat_map` visualization mode, which overlays the\n",
        "                    heat map over the greyscaled original image.\n",
        "                    Default: 0.5\n",
        "        show_colorbar (bool, optional): Displays colorbar for heatmap below\n",
        "                    the visualization. If given method does not use a heatmap,\n",
        "                    then a colormap axis is created and hidden. This is\n",
        "                    necessary for appropriate alignment when visualizing\n",
        "                    multiple plots, some with colorbars and some without.\n",
        "                    Default: False\n",
        "        title (str, optional): Title string for plot. If None, no title is\n",
        "                    set.\n",
        "                    Default: None\n",
        "        fig_size (tuple, optional): Size of figure created.\n",
        "                    Default: (6,6)\n",
        "        use_pyplot (bool, optional): If true, uses pyplot to create and show\n",
        "                    figure and displays the figure after creating. If False,\n",
        "                    uses Matplotlib object oriented API and simply returns a\n",
        "                    figure object without showing.\n",
        "                    Default: True.\n",
        "\n",
        "    Returns:\n",
        "        2-element tuple of **figure**, **axis**:\n",
        "        - **figure** (*matplotlib.pyplot.figure*):\n",
        "                    Figure object on which visualization\n",
        "                    is created. If plt_fig_axis argument is given, this is the\n",
        "                    same figure provided.\n",
        "        - **axis** (*matplotlib.pyplot.axis*):\n",
        "                    Axis object on which visualization\n",
        "                    is created. If plt_fig_axis argument is given, this is the\n",
        "                    same axis provided.\n",
        "\n",
        "    Examples::\n",
        "\n",
        "        >>> # ImageClassifier takes a single input tensor of images Nx3x32x32,\n",
        "        >>> # and returns an Nx10 tensor of class probabilities.\n",
        "        >>> net = ImageClassifier()\n",
        "        >>> ig = IntegratedGradients(net)\n",
        "        >>> # Computes integrated gradients for class 3 for a given image .\n",
        "        >>> attribution, delta = ig.attribute(orig_image, target=3)\n",
        "        >>> # Displays blended heat map visualization of computed attributions.\n",
        "        >>> _ = visualize_image_attr(attribution, orig_image, \"blended_heat_map\")\n",
        "    \"\"\"\n",
        "    # Create plot if figure, axis not provided\n",
        "    if plt_fig_axis is not None:\n",
        "        plt_fig, plt_axis = plt_fig_axis\n",
        "    else:\n",
        "        if use_pyplot:\n",
        "            plt_fig, plt_axis = plt.subplots(figsize=fig_size)\n",
        "        else:\n",
        "            plt_fig = Figure(figsize=fig_size)\n",
        "            plt_axis = plt_fig.subplots()\n",
        "\n",
        "    if original_image is not None:\n",
        "        if np.max(original_image) <= 1.0:\n",
        "            original_image = _prepare_image(original_image * 255)\n",
        "    elif ImageVisualizationMethod[method] != ImageVisualizationMethod.heat_map:\n",
        "        raise ValueError(\n",
        "            \"Original Image must be provided for\"\n",
        "            \"any visualization other than heatmap.\"\n",
        "        )\n",
        "\n",
        "    # Remove ticks and tick labels from plot.\n",
        "    plt_axis.xaxis.set_ticks_position(\"none\")\n",
        "    plt_axis.yaxis.set_ticks_position(\"none\")\n",
        "    plt_axis.set_yticklabels([])\n",
        "    plt_axis.set_xticklabels([])\n",
        "    plt_axis.grid(visible=False)\n",
        "\n",
        "    heat_map = None\n",
        "    # Show original image\n",
        "    if ImageVisualizationMethod[method] == ImageVisualizationMethod.original_image:\n",
        "        assert (\n",
        "            original_image is not None\n",
        "        ), \"Original image expected for original_image method.\"\n",
        "        if len(original_image.shape) > 2 and original_image.shape[2] == 1:\n",
        "            original_image = np.squeeze(original_image, axis=2)\n",
        "        plt_axis.imshow(original_image)\n",
        "    else:\n",
        "        # Choose appropriate signed attributions and normalize.\n",
        "        norm_attr = _normalize_attr(attr, sign, outlier_perc, reduction_axis=2)\n",
        "\n",
        "        # Set default colormap and bounds based on sign.\n",
        "        if VisualizeSign[sign] == VisualizeSign.all:\n",
        "            default_cmap = LinearSegmentedColormap.from_list(\n",
        "                \"RdWhGn\", [\"red\", \"white\", \"green\"]\n",
        "            )\n",
        "            vmin, vmax = -1, 1\n",
        "        elif VisualizeSign[sign] == VisualizeSign.positive:\n",
        "            default_cmap = \"Greens\"\n",
        "            vmin, vmax = 0, 1\n",
        "        elif VisualizeSign[sign] == VisualizeSign.negative:\n",
        "            default_cmap = \"Reds\"\n",
        "            vmin, vmax = 0, 1\n",
        "        elif VisualizeSign[sign] == VisualizeSign.absolute_value:\n",
        "            default_cmap = \"Blues\"\n",
        "            vmin, vmax = 0, 1\n",
        "        else:\n",
        "            raise AssertionError(\"Visualize Sign type is not valid.\")\n",
        "        cmap = cmap if cmap is not None else default_cmap\n",
        "\n",
        "        # Show appropriate image visualization.\n",
        "        if ImageVisualizationMethod[method] == ImageVisualizationMethod.heat_map:\n",
        "            heat_map = plt_axis.imshow(norm_attr, cmap=cmap, vmin=vmin, vmax=vmax)\n",
        "        elif (\n",
        "            ImageVisualizationMethod[method]\n",
        "            == ImageVisualizationMethod.blended_heat_map\n",
        "        ):\n",
        "            assert (\n",
        "                original_image is not None\n",
        "            ), \"Original Image expected for blended_heat_map method.\"\n",
        "            plt_axis.imshow(np.mean(original_image, axis=2), cmap=\"gray\")\n",
        "            heat_map = plt_axis.imshow(\n",
        "                norm_attr, cmap=cmap, vmin=vmin, vmax=vmax, alpha=alpha_overlay\n",
        "            )\n",
        "        elif ImageVisualizationMethod[method] == ImageVisualizationMethod.masked_image:\n",
        "            assert VisualizeSign[sign] != VisualizeSign.all, (\n",
        "                \"Cannot display masked image with both positive and negative \"\n",
        "                \"attributions, choose a different sign option.\"\n",
        "            )\n",
        "            plt_axis.imshow(\n",
        "                _prepare_image(original_image * np.expand_dims(norm_attr, 2))\n",
        "            )\n",
        "        elif ImageVisualizationMethod[method] == ImageVisualizationMethod.alpha_scaling:\n",
        "            assert VisualizeSign[sign] != VisualizeSign.all, (\n",
        "                \"Cannot display alpha scaling with both positive and negative \"\n",
        "                \"attributions, choose a different sign option.\"\n",
        "            )\n",
        "            plt_axis.imshow(\n",
        "                np.concatenate(\n",
        "                    [\n",
        "                        original_image,\n",
        "                        _prepare_image(np.expand_dims(norm_attr, 2) * 255),\n",
        "                    ],\n",
        "                    axis=2,\n",
        "                )\n",
        "            )\n",
        "        else:\n",
        "            raise AssertionError(\"Visualize Method type is not valid.\")\n",
        "\n",
        "    # Add colorbar. If given method is not a heatmap and no colormap is relevant,\n",
        "    # then a colormap axis is created and hidden. This is necessary for appropriate\n",
        "    # alignment when visualizing multiple plots, some with heatmaps and some\n",
        "    # without.\n",
        "    if show_colorbar:\n",
        "        axis_separator = make_axes_locatable(plt_axis)\n",
        "        colorbar_axis = axis_separator.append_axes(\"bottom\", size=\"5%\", pad=0.1)\n",
        "        if heat_map:\n",
        "            plt_fig.colorbar(heat_map, orientation=\"horizontal\", cax=colorbar_axis)\n",
        "        else:\n",
        "            colorbar_axis.axis(\"off\")\n",
        "    if title:\n",
        "        plt_axis.set_title(title)\n",
        "\n",
        "    if use_pyplot:\n",
        "        plt.show()\n",
        "\n",
        "    return plt_fig, plt_axis"
      ]
    },
    {
      "cell_type": "markdown",
      "metadata": {
        "id": "03NSEm1hf5Yk"
      },
      "source": [
        "## Setup Blackbox & XAI methods"
      ]
    },
    {
      "cell_type": "code",
      "execution_count": 16,
      "metadata": {
        "id": "LfEomGL_M8DD",
        "colab": {
          "base_uri": "https://localhost:8080/"
        },
        "outputId": "1e480c6f-9e20-46e1-c1bd-bb25ac52f24c"
      },
      "outputs": [
        {
          "output_type": "execute_result",
          "data": {
            "text/plain": [
              "Inception3(\n",
              "  (Conv2d_1a_3x3): BasicConv2d(\n",
              "    (conv): Conv2d(3, 32, kernel_size=(3, 3), stride=(2, 2), bias=False)\n",
              "    (bn): BatchNorm2d(32, eps=0.001, momentum=0.1, affine=True, track_running_stats=True)\n",
              "  )\n",
              "  (Conv2d_2a_3x3): BasicConv2d(\n",
              "    (conv): Conv2d(32, 32, kernel_size=(3, 3), stride=(1, 1), bias=False)\n",
              "    (bn): BatchNorm2d(32, eps=0.001, momentum=0.1, affine=True, track_running_stats=True)\n",
              "  )\n",
              "  (Conv2d_2b_3x3): BasicConv2d(\n",
              "    (conv): Conv2d(32, 64, kernel_size=(3, 3), stride=(1, 1), padding=(1, 1), bias=False)\n",
              "    (bn): BatchNorm2d(64, eps=0.001, momentum=0.1, affine=True, track_running_stats=True)\n",
              "  )\n",
              "  (maxpool1): MaxPool2d(kernel_size=3, stride=2, padding=0, dilation=1, ceil_mode=False)\n",
              "  (Conv2d_3b_1x1): BasicConv2d(\n",
              "    (conv): Conv2d(64, 80, kernel_size=(1, 1), stride=(1, 1), bias=False)\n",
              "    (bn): BatchNorm2d(80, eps=0.001, momentum=0.1, affine=True, track_running_stats=True)\n",
              "  )\n",
              "  (Conv2d_4a_3x3): BasicConv2d(\n",
              "    (conv): Conv2d(80, 192, kernel_size=(3, 3), stride=(1, 1), bias=False)\n",
              "    (bn): BatchNorm2d(192, eps=0.001, momentum=0.1, affine=True, track_running_stats=True)\n",
              "  )\n",
              "  (maxpool2): MaxPool2d(kernel_size=3, stride=2, padding=0, dilation=1, ceil_mode=False)\n",
              "  (Mixed_5b): InceptionA(\n",
              "    (branch1x1): BasicConv2d(\n",
              "      (conv): Conv2d(192, 64, kernel_size=(1, 1), stride=(1, 1), bias=False)\n",
              "      (bn): BatchNorm2d(64, eps=0.001, momentum=0.1, affine=True, track_running_stats=True)\n",
              "    )\n",
              "    (branch5x5_1): BasicConv2d(\n",
              "      (conv): Conv2d(192, 48, kernel_size=(1, 1), stride=(1, 1), bias=False)\n",
              "      (bn): BatchNorm2d(48, eps=0.001, momentum=0.1, affine=True, track_running_stats=True)\n",
              "    )\n",
              "    (branch5x5_2): BasicConv2d(\n",
              "      (conv): Conv2d(48, 64, kernel_size=(5, 5), stride=(1, 1), padding=(2, 2), bias=False)\n",
              "      (bn): BatchNorm2d(64, eps=0.001, momentum=0.1, affine=True, track_running_stats=True)\n",
              "    )\n",
              "    (branch3x3dbl_1): BasicConv2d(\n",
              "      (conv): Conv2d(192, 64, kernel_size=(1, 1), stride=(1, 1), bias=False)\n",
              "      (bn): BatchNorm2d(64, eps=0.001, momentum=0.1, affine=True, track_running_stats=True)\n",
              "    )\n",
              "    (branch3x3dbl_2): BasicConv2d(\n",
              "      (conv): Conv2d(64, 96, kernel_size=(3, 3), stride=(1, 1), padding=(1, 1), bias=False)\n",
              "      (bn): BatchNorm2d(96, eps=0.001, momentum=0.1, affine=True, track_running_stats=True)\n",
              "    )\n",
              "    (branch3x3dbl_3): BasicConv2d(\n",
              "      (conv): Conv2d(96, 96, kernel_size=(3, 3), stride=(1, 1), padding=(1, 1), bias=False)\n",
              "      (bn): BatchNorm2d(96, eps=0.001, momentum=0.1, affine=True, track_running_stats=True)\n",
              "    )\n",
              "    (branch_pool): BasicConv2d(\n",
              "      (conv): Conv2d(192, 32, kernel_size=(1, 1), stride=(1, 1), bias=False)\n",
              "      (bn): BatchNorm2d(32, eps=0.001, momentum=0.1, affine=True, track_running_stats=True)\n",
              "    )\n",
              "  )\n",
              "  (Mixed_5c): InceptionA(\n",
              "    (branch1x1): BasicConv2d(\n",
              "      (conv): Conv2d(256, 64, kernel_size=(1, 1), stride=(1, 1), bias=False)\n",
              "      (bn): BatchNorm2d(64, eps=0.001, momentum=0.1, affine=True, track_running_stats=True)\n",
              "    )\n",
              "    (branch5x5_1): BasicConv2d(\n",
              "      (conv): Conv2d(256, 48, kernel_size=(1, 1), stride=(1, 1), bias=False)\n",
              "      (bn): BatchNorm2d(48, eps=0.001, momentum=0.1, affine=True, track_running_stats=True)\n",
              "    )\n",
              "    (branch5x5_2): BasicConv2d(\n",
              "      (conv): Conv2d(48, 64, kernel_size=(5, 5), stride=(1, 1), padding=(2, 2), bias=False)\n",
              "      (bn): BatchNorm2d(64, eps=0.001, momentum=0.1, affine=True, track_running_stats=True)\n",
              "    )\n",
              "    (branch3x3dbl_1): BasicConv2d(\n",
              "      (conv): Conv2d(256, 64, kernel_size=(1, 1), stride=(1, 1), bias=False)\n",
              "      (bn): BatchNorm2d(64, eps=0.001, momentum=0.1, affine=True, track_running_stats=True)\n",
              "    )\n",
              "    (branch3x3dbl_2): BasicConv2d(\n",
              "      (conv): Conv2d(64, 96, kernel_size=(3, 3), stride=(1, 1), padding=(1, 1), bias=False)\n",
              "      (bn): BatchNorm2d(96, eps=0.001, momentum=0.1, affine=True, track_running_stats=True)\n",
              "    )\n",
              "    (branch3x3dbl_3): BasicConv2d(\n",
              "      (conv): Conv2d(96, 96, kernel_size=(3, 3), stride=(1, 1), padding=(1, 1), bias=False)\n",
              "      (bn): BatchNorm2d(96, eps=0.001, momentum=0.1, affine=True, track_running_stats=True)\n",
              "    )\n",
              "    (branch_pool): BasicConv2d(\n",
              "      (conv): Conv2d(256, 64, kernel_size=(1, 1), stride=(1, 1), bias=False)\n",
              "      (bn): BatchNorm2d(64, eps=0.001, momentum=0.1, affine=True, track_running_stats=True)\n",
              "    )\n",
              "  )\n",
              "  (Mixed_5d): InceptionA(\n",
              "    (branch1x1): BasicConv2d(\n",
              "      (conv): Conv2d(288, 64, kernel_size=(1, 1), stride=(1, 1), bias=False)\n",
              "      (bn): BatchNorm2d(64, eps=0.001, momentum=0.1, affine=True, track_running_stats=True)\n",
              "    )\n",
              "    (branch5x5_1): BasicConv2d(\n",
              "      (conv): Conv2d(288, 48, kernel_size=(1, 1), stride=(1, 1), bias=False)\n",
              "      (bn): BatchNorm2d(48, eps=0.001, momentum=0.1, affine=True, track_running_stats=True)\n",
              "    )\n",
              "    (branch5x5_2): BasicConv2d(\n",
              "      (conv): Conv2d(48, 64, kernel_size=(5, 5), stride=(1, 1), padding=(2, 2), bias=False)\n",
              "      (bn): BatchNorm2d(64, eps=0.001, momentum=0.1, affine=True, track_running_stats=True)\n",
              "    )\n",
              "    (branch3x3dbl_1): BasicConv2d(\n",
              "      (conv): Conv2d(288, 64, kernel_size=(1, 1), stride=(1, 1), bias=False)\n",
              "      (bn): BatchNorm2d(64, eps=0.001, momentum=0.1, affine=True, track_running_stats=True)\n",
              "    )\n",
              "    (branch3x3dbl_2): BasicConv2d(\n",
              "      (conv): Conv2d(64, 96, kernel_size=(3, 3), stride=(1, 1), padding=(1, 1), bias=False)\n",
              "      (bn): BatchNorm2d(96, eps=0.001, momentum=0.1, affine=True, track_running_stats=True)\n",
              "    )\n",
              "    (branch3x3dbl_3): BasicConv2d(\n",
              "      (conv): Conv2d(96, 96, kernel_size=(3, 3), stride=(1, 1), padding=(1, 1), bias=False)\n",
              "      (bn): BatchNorm2d(96, eps=0.001, momentum=0.1, affine=True, track_running_stats=True)\n",
              "    )\n",
              "    (branch_pool): BasicConv2d(\n",
              "      (conv): Conv2d(288, 64, kernel_size=(1, 1), stride=(1, 1), bias=False)\n",
              "      (bn): BatchNorm2d(64, eps=0.001, momentum=0.1, affine=True, track_running_stats=True)\n",
              "    )\n",
              "  )\n",
              "  (Mixed_6a): InceptionB(\n",
              "    (branch3x3): BasicConv2d(\n",
              "      (conv): Conv2d(288, 384, kernel_size=(3, 3), stride=(2, 2), bias=False)\n",
              "      (bn): BatchNorm2d(384, eps=0.001, momentum=0.1, affine=True, track_running_stats=True)\n",
              "    )\n",
              "    (branch3x3dbl_1): BasicConv2d(\n",
              "      (conv): Conv2d(288, 64, kernel_size=(1, 1), stride=(1, 1), bias=False)\n",
              "      (bn): BatchNorm2d(64, eps=0.001, momentum=0.1, affine=True, track_running_stats=True)\n",
              "    )\n",
              "    (branch3x3dbl_2): BasicConv2d(\n",
              "      (conv): Conv2d(64, 96, kernel_size=(3, 3), stride=(1, 1), padding=(1, 1), bias=False)\n",
              "      (bn): BatchNorm2d(96, eps=0.001, momentum=0.1, affine=True, track_running_stats=True)\n",
              "    )\n",
              "    (branch3x3dbl_3): BasicConv2d(\n",
              "      (conv): Conv2d(96, 96, kernel_size=(3, 3), stride=(2, 2), bias=False)\n",
              "      (bn): BatchNorm2d(96, eps=0.001, momentum=0.1, affine=True, track_running_stats=True)\n",
              "    )\n",
              "  )\n",
              "  (Mixed_6b): InceptionC(\n",
              "    (branch1x1): BasicConv2d(\n",
              "      (conv): Conv2d(768, 192, kernel_size=(1, 1), stride=(1, 1), bias=False)\n",
              "      (bn): BatchNorm2d(192, eps=0.001, momentum=0.1, affine=True, track_running_stats=True)\n",
              "    )\n",
              "    (branch7x7_1): BasicConv2d(\n",
              "      (conv): Conv2d(768, 128, kernel_size=(1, 1), stride=(1, 1), bias=False)\n",
              "      (bn): BatchNorm2d(128, eps=0.001, momentum=0.1, affine=True, track_running_stats=True)\n",
              "    )\n",
              "    (branch7x7_2): BasicConv2d(\n",
              "      (conv): Conv2d(128, 128, kernel_size=(1, 7), stride=(1, 1), padding=(0, 3), bias=False)\n",
              "      (bn): BatchNorm2d(128, eps=0.001, momentum=0.1, affine=True, track_running_stats=True)\n",
              "    )\n",
              "    (branch7x7_3): BasicConv2d(\n",
              "      (conv): Conv2d(128, 192, kernel_size=(7, 1), stride=(1, 1), padding=(3, 0), bias=False)\n",
              "      (bn): BatchNorm2d(192, eps=0.001, momentum=0.1, affine=True, track_running_stats=True)\n",
              "    )\n",
              "    (branch7x7dbl_1): BasicConv2d(\n",
              "      (conv): Conv2d(768, 128, kernel_size=(1, 1), stride=(1, 1), bias=False)\n",
              "      (bn): BatchNorm2d(128, eps=0.001, momentum=0.1, affine=True, track_running_stats=True)\n",
              "    )\n",
              "    (branch7x7dbl_2): BasicConv2d(\n",
              "      (conv): Conv2d(128, 128, kernel_size=(7, 1), stride=(1, 1), padding=(3, 0), bias=False)\n",
              "      (bn): BatchNorm2d(128, eps=0.001, momentum=0.1, affine=True, track_running_stats=True)\n",
              "    )\n",
              "    (branch7x7dbl_3): BasicConv2d(\n",
              "      (conv): Conv2d(128, 128, kernel_size=(1, 7), stride=(1, 1), padding=(0, 3), bias=False)\n",
              "      (bn): BatchNorm2d(128, eps=0.001, momentum=0.1, affine=True, track_running_stats=True)\n",
              "    )\n",
              "    (branch7x7dbl_4): BasicConv2d(\n",
              "      (conv): Conv2d(128, 128, kernel_size=(7, 1), stride=(1, 1), padding=(3, 0), bias=False)\n",
              "      (bn): BatchNorm2d(128, eps=0.001, momentum=0.1, affine=True, track_running_stats=True)\n",
              "    )\n",
              "    (branch7x7dbl_5): BasicConv2d(\n",
              "      (conv): Conv2d(128, 192, kernel_size=(1, 7), stride=(1, 1), padding=(0, 3), bias=False)\n",
              "      (bn): BatchNorm2d(192, eps=0.001, momentum=0.1, affine=True, track_running_stats=True)\n",
              "    )\n",
              "    (branch_pool): BasicConv2d(\n",
              "      (conv): Conv2d(768, 192, kernel_size=(1, 1), stride=(1, 1), bias=False)\n",
              "      (bn): BatchNorm2d(192, eps=0.001, momentum=0.1, affine=True, track_running_stats=True)\n",
              "    )\n",
              "  )\n",
              "  (Mixed_6c): InceptionC(\n",
              "    (branch1x1): BasicConv2d(\n",
              "      (conv): Conv2d(768, 192, kernel_size=(1, 1), stride=(1, 1), bias=False)\n",
              "      (bn): BatchNorm2d(192, eps=0.001, momentum=0.1, affine=True, track_running_stats=True)\n",
              "    )\n",
              "    (branch7x7_1): BasicConv2d(\n",
              "      (conv): Conv2d(768, 160, kernel_size=(1, 1), stride=(1, 1), bias=False)\n",
              "      (bn): BatchNorm2d(160, eps=0.001, momentum=0.1, affine=True, track_running_stats=True)\n",
              "    )\n",
              "    (branch7x7_2): BasicConv2d(\n",
              "      (conv): Conv2d(160, 160, kernel_size=(1, 7), stride=(1, 1), padding=(0, 3), bias=False)\n",
              "      (bn): BatchNorm2d(160, eps=0.001, momentum=0.1, affine=True, track_running_stats=True)\n",
              "    )\n",
              "    (branch7x7_3): BasicConv2d(\n",
              "      (conv): Conv2d(160, 192, kernel_size=(7, 1), stride=(1, 1), padding=(3, 0), bias=False)\n",
              "      (bn): BatchNorm2d(192, eps=0.001, momentum=0.1, affine=True, track_running_stats=True)\n",
              "    )\n",
              "    (branch7x7dbl_1): BasicConv2d(\n",
              "      (conv): Conv2d(768, 160, kernel_size=(1, 1), stride=(1, 1), bias=False)\n",
              "      (bn): BatchNorm2d(160, eps=0.001, momentum=0.1, affine=True, track_running_stats=True)\n",
              "    )\n",
              "    (branch7x7dbl_2): BasicConv2d(\n",
              "      (conv): Conv2d(160, 160, kernel_size=(7, 1), stride=(1, 1), padding=(3, 0), bias=False)\n",
              "      (bn): BatchNorm2d(160, eps=0.001, momentum=0.1, affine=True, track_running_stats=True)\n",
              "    )\n",
              "    (branch7x7dbl_3): BasicConv2d(\n",
              "      (conv): Conv2d(160, 160, kernel_size=(1, 7), stride=(1, 1), padding=(0, 3), bias=False)\n",
              "      (bn): BatchNorm2d(160, eps=0.001, momentum=0.1, affine=True, track_running_stats=True)\n",
              "    )\n",
              "    (branch7x7dbl_4): BasicConv2d(\n",
              "      (conv): Conv2d(160, 160, kernel_size=(7, 1), stride=(1, 1), padding=(3, 0), bias=False)\n",
              "      (bn): BatchNorm2d(160, eps=0.001, momentum=0.1, affine=True, track_running_stats=True)\n",
              "    )\n",
              "    (branch7x7dbl_5): BasicConv2d(\n",
              "      (conv): Conv2d(160, 192, kernel_size=(1, 7), stride=(1, 1), padding=(0, 3), bias=False)\n",
              "      (bn): BatchNorm2d(192, eps=0.001, momentum=0.1, affine=True, track_running_stats=True)\n",
              "    )\n",
              "    (branch_pool): BasicConv2d(\n",
              "      (conv): Conv2d(768, 192, kernel_size=(1, 1), stride=(1, 1), bias=False)\n",
              "      (bn): BatchNorm2d(192, eps=0.001, momentum=0.1, affine=True, track_running_stats=True)\n",
              "    )\n",
              "  )\n",
              "  (Mixed_6d): InceptionC(\n",
              "    (branch1x1): BasicConv2d(\n",
              "      (conv): Conv2d(768, 192, kernel_size=(1, 1), stride=(1, 1), bias=False)\n",
              "      (bn): BatchNorm2d(192, eps=0.001, momentum=0.1, affine=True, track_running_stats=True)\n",
              "    )\n",
              "    (branch7x7_1): BasicConv2d(\n",
              "      (conv): Conv2d(768, 160, kernel_size=(1, 1), stride=(1, 1), bias=False)\n",
              "      (bn): BatchNorm2d(160, eps=0.001, momentum=0.1, affine=True, track_running_stats=True)\n",
              "    )\n",
              "    (branch7x7_2): BasicConv2d(\n",
              "      (conv): Conv2d(160, 160, kernel_size=(1, 7), stride=(1, 1), padding=(0, 3), bias=False)\n",
              "      (bn): BatchNorm2d(160, eps=0.001, momentum=0.1, affine=True, track_running_stats=True)\n",
              "    )\n",
              "    (branch7x7_3): BasicConv2d(\n",
              "      (conv): Conv2d(160, 192, kernel_size=(7, 1), stride=(1, 1), padding=(3, 0), bias=False)\n",
              "      (bn): BatchNorm2d(192, eps=0.001, momentum=0.1, affine=True, track_running_stats=True)\n",
              "    )\n",
              "    (branch7x7dbl_1): BasicConv2d(\n",
              "      (conv): Conv2d(768, 160, kernel_size=(1, 1), stride=(1, 1), bias=False)\n",
              "      (bn): BatchNorm2d(160, eps=0.001, momentum=0.1, affine=True, track_running_stats=True)\n",
              "    )\n",
              "    (branch7x7dbl_2): BasicConv2d(\n",
              "      (conv): Conv2d(160, 160, kernel_size=(7, 1), stride=(1, 1), padding=(3, 0), bias=False)\n",
              "      (bn): BatchNorm2d(160, eps=0.001, momentum=0.1, affine=True, track_running_stats=True)\n",
              "    )\n",
              "    (branch7x7dbl_3): BasicConv2d(\n",
              "      (conv): Conv2d(160, 160, kernel_size=(1, 7), stride=(1, 1), padding=(0, 3), bias=False)\n",
              "      (bn): BatchNorm2d(160, eps=0.001, momentum=0.1, affine=True, track_running_stats=True)\n",
              "    )\n",
              "    (branch7x7dbl_4): BasicConv2d(\n",
              "      (conv): Conv2d(160, 160, kernel_size=(7, 1), stride=(1, 1), padding=(3, 0), bias=False)\n",
              "      (bn): BatchNorm2d(160, eps=0.001, momentum=0.1, affine=True, track_running_stats=True)\n",
              "    )\n",
              "    (branch7x7dbl_5): BasicConv2d(\n",
              "      (conv): Conv2d(160, 192, kernel_size=(1, 7), stride=(1, 1), padding=(0, 3), bias=False)\n",
              "      (bn): BatchNorm2d(192, eps=0.001, momentum=0.1, affine=True, track_running_stats=True)\n",
              "    )\n",
              "    (branch_pool): BasicConv2d(\n",
              "      (conv): Conv2d(768, 192, kernel_size=(1, 1), stride=(1, 1), bias=False)\n",
              "      (bn): BatchNorm2d(192, eps=0.001, momentum=0.1, affine=True, track_running_stats=True)\n",
              "    )\n",
              "  )\n",
              "  (Mixed_6e): InceptionC(\n",
              "    (branch1x1): BasicConv2d(\n",
              "      (conv): Conv2d(768, 192, kernel_size=(1, 1), stride=(1, 1), bias=False)\n",
              "      (bn): BatchNorm2d(192, eps=0.001, momentum=0.1, affine=True, track_running_stats=True)\n",
              "    )\n",
              "    (branch7x7_1): BasicConv2d(\n",
              "      (conv): Conv2d(768, 192, kernel_size=(1, 1), stride=(1, 1), bias=False)\n",
              "      (bn): BatchNorm2d(192, eps=0.001, momentum=0.1, affine=True, track_running_stats=True)\n",
              "    )\n",
              "    (branch7x7_2): BasicConv2d(\n",
              "      (conv): Conv2d(192, 192, kernel_size=(1, 7), stride=(1, 1), padding=(0, 3), bias=False)\n",
              "      (bn): BatchNorm2d(192, eps=0.001, momentum=0.1, affine=True, track_running_stats=True)\n",
              "    )\n",
              "    (branch7x7_3): BasicConv2d(\n",
              "      (conv): Conv2d(192, 192, kernel_size=(7, 1), stride=(1, 1), padding=(3, 0), bias=False)\n",
              "      (bn): BatchNorm2d(192, eps=0.001, momentum=0.1, affine=True, track_running_stats=True)\n",
              "    )\n",
              "    (branch7x7dbl_1): BasicConv2d(\n",
              "      (conv): Conv2d(768, 192, kernel_size=(1, 1), stride=(1, 1), bias=False)\n",
              "      (bn): BatchNorm2d(192, eps=0.001, momentum=0.1, affine=True, track_running_stats=True)\n",
              "    )\n",
              "    (branch7x7dbl_2): BasicConv2d(\n",
              "      (conv): Conv2d(192, 192, kernel_size=(7, 1), stride=(1, 1), padding=(3, 0), bias=False)\n",
              "      (bn): BatchNorm2d(192, eps=0.001, momentum=0.1, affine=True, track_running_stats=True)\n",
              "    )\n",
              "    (branch7x7dbl_3): BasicConv2d(\n",
              "      (conv): Conv2d(192, 192, kernel_size=(1, 7), stride=(1, 1), padding=(0, 3), bias=False)\n",
              "      (bn): BatchNorm2d(192, eps=0.001, momentum=0.1, affine=True, track_running_stats=True)\n",
              "    )\n",
              "    (branch7x7dbl_4): BasicConv2d(\n",
              "      (conv): Conv2d(192, 192, kernel_size=(7, 1), stride=(1, 1), padding=(3, 0), bias=False)\n",
              "      (bn): BatchNorm2d(192, eps=0.001, momentum=0.1, affine=True, track_running_stats=True)\n",
              "    )\n",
              "    (branch7x7dbl_5): BasicConv2d(\n",
              "      (conv): Conv2d(192, 192, kernel_size=(1, 7), stride=(1, 1), padding=(0, 3), bias=False)\n",
              "      (bn): BatchNorm2d(192, eps=0.001, momentum=0.1, affine=True, track_running_stats=True)\n",
              "    )\n",
              "    (branch_pool): BasicConv2d(\n",
              "      (conv): Conv2d(768, 192, kernel_size=(1, 1), stride=(1, 1), bias=False)\n",
              "      (bn): BatchNorm2d(192, eps=0.001, momentum=0.1, affine=True, track_running_stats=True)\n",
              "    )\n",
              "  )\n",
              "  (AuxLogits): InceptionAux(\n",
              "    (conv0): BasicConv2d(\n",
              "      (conv): Conv2d(768, 128, kernel_size=(1, 1), stride=(1, 1), bias=False)\n",
              "      (bn): BatchNorm2d(128, eps=0.001, momentum=0.1, affine=True, track_running_stats=True)\n",
              "    )\n",
              "    (conv1): BasicConv2d(\n",
              "      (conv): Conv2d(128, 768, kernel_size=(5, 5), stride=(1, 1), bias=False)\n",
              "      (bn): BatchNorm2d(768, eps=0.001, momentum=0.1, affine=True, track_running_stats=True)\n",
              "    )\n",
              "    (fc): Linear(in_features=768, out_features=1000, bias=True)\n",
              "  )\n",
              "  (Mixed_7a): InceptionD(\n",
              "    (branch3x3_1): BasicConv2d(\n",
              "      (conv): Conv2d(768, 192, kernel_size=(1, 1), stride=(1, 1), bias=False)\n",
              "      (bn): BatchNorm2d(192, eps=0.001, momentum=0.1, affine=True, track_running_stats=True)\n",
              "    )\n",
              "    (branch3x3_2): BasicConv2d(\n",
              "      (conv): Conv2d(192, 320, kernel_size=(3, 3), stride=(2, 2), bias=False)\n",
              "      (bn): BatchNorm2d(320, eps=0.001, momentum=0.1, affine=True, track_running_stats=True)\n",
              "    )\n",
              "    (branch7x7x3_1): BasicConv2d(\n",
              "      (conv): Conv2d(768, 192, kernel_size=(1, 1), stride=(1, 1), bias=False)\n",
              "      (bn): BatchNorm2d(192, eps=0.001, momentum=0.1, affine=True, track_running_stats=True)\n",
              "    )\n",
              "    (branch7x7x3_2): BasicConv2d(\n",
              "      (conv): Conv2d(192, 192, kernel_size=(1, 7), stride=(1, 1), padding=(0, 3), bias=False)\n",
              "      (bn): BatchNorm2d(192, eps=0.001, momentum=0.1, affine=True, track_running_stats=True)\n",
              "    )\n",
              "    (branch7x7x3_3): BasicConv2d(\n",
              "      (conv): Conv2d(192, 192, kernel_size=(7, 1), stride=(1, 1), padding=(3, 0), bias=False)\n",
              "      (bn): BatchNorm2d(192, eps=0.001, momentum=0.1, affine=True, track_running_stats=True)\n",
              "    )\n",
              "    (branch7x7x3_4): BasicConv2d(\n",
              "      (conv): Conv2d(192, 192, kernel_size=(3, 3), stride=(2, 2), bias=False)\n",
              "      (bn): BatchNorm2d(192, eps=0.001, momentum=0.1, affine=True, track_running_stats=True)\n",
              "    )\n",
              "  )\n",
              "  (Mixed_7b): InceptionE(\n",
              "    (branch1x1): BasicConv2d(\n",
              "      (conv): Conv2d(1280, 320, kernel_size=(1, 1), stride=(1, 1), bias=False)\n",
              "      (bn): BatchNorm2d(320, eps=0.001, momentum=0.1, affine=True, track_running_stats=True)\n",
              "    )\n",
              "    (branch3x3_1): BasicConv2d(\n",
              "      (conv): Conv2d(1280, 384, kernel_size=(1, 1), stride=(1, 1), bias=False)\n",
              "      (bn): BatchNorm2d(384, eps=0.001, momentum=0.1, affine=True, track_running_stats=True)\n",
              "    )\n",
              "    (branch3x3_2a): BasicConv2d(\n",
              "      (conv): Conv2d(384, 384, kernel_size=(1, 3), stride=(1, 1), padding=(0, 1), bias=False)\n",
              "      (bn): BatchNorm2d(384, eps=0.001, momentum=0.1, affine=True, track_running_stats=True)\n",
              "    )\n",
              "    (branch3x3_2b): BasicConv2d(\n",
              "      (conv): Conv2d(384, 384, kernel_size=(3, 1), stride=(1, 1), padding=(1, 0), bias=False)\n",
              "      (bn): BatchNorm2d(384, eps=0.001, momentum=0.1, affine=True, track_running_stats=True)\n",
              "    )\n",
              "    (branch3x3dbl_1): BasicConv2d(\n",
              "      (conv): Conv2d(1280, 448, kernel_size=(1, 1), stride=(1, 1), bias=False)\n",
              "      (bn): BatchNorm2d(448, eps=0.001, momentum=0.1, affine=True, track_running_stats=True)\n",
              "    )\n",
              "    (branch3x3dbl_2): BasicConv2d(\n",
              "      (conv): Conv2d(448, 384, kernel_size=(3, 3), stride=(1, 1), padding=(1, 1), bias=False)\n",
              "      (bn): BatchNorm2d(384, eps=0.001, momentum=0.1, affine=True, track_running_stats=True)\n",
              "    )\n",
              "    (branch3x3dbl_3a): BasicConv2d(\n",
              "      (conv): Conv2d(384, 384, kernel_size=(1, 3), stride=(1, 1), padding=(0, 1), bias=False)\n",
              "      (bn): BatchNorm2d(384, eps=0.001, momentum=0.1, affine=True, track_running_stats=True)\n",
              "    )\n",
              "    (branch3x3dbl_3b): BasicConv2d(\n",
              "      (conv): Conv2d(384, 384, kernel_size=(3, 1), stride=(1, 1), padding=(1, 0), bias=False)\n",
              "      (bn): BatchNorm2d(384, eps=0.001, momentum=0.1, affine=True, track_running_stats=True)\n",
              "    )\n",
              "    (branch_pool): BasicConv2d(\n",
              "      (conv): Conv2d(1280, 192, kernel_size=(1, 1), stride=(1, 1), bias=False)\n",
              "      (bn): BatchNorm2d(192, eps=0.001, momentum=0.1, affine=True, track_running_stats=True)\n",
              "    )\n",
              "  )\n",
              "  (Mixed_7c): InceptionE(\n",
              "    (branch1x1): BasicConv2d(\n",
              "      (conv): Conv2d(2048, 320, kernel_size=(1, 1), stride=(1, 1), bias=False)\n",
              "      (bn): BatchNorm2d(320, eps=0.001, momentum=0.1, affine=True, track_running_stats=True)\n",
              "    )\n",
              "    (branch3x3_1): BasicConv2d(\n",
              "      (conv): Conv2d(2048, 384, kernel_size=(1, 1), stride=(1, 1), bias=False)\n",
              "      (bn): BatchNorm2d(384, eps=0.001, momentum=0.1, affine=True, track_running_stats=True)\n",
              "    )\n",
              "    (branch3x3_2a): BasicConv2d(\n",
              "      (conv): Conv2d(384, 384, kernel_size=(1, 3), stride=(1, 1), padding=(0, 1), bias=False)\n",
              "      (bn): BatchNorm2d(384, eps=0.001, momentum=0.1, affine=True, track_running_stats=True)\n",
              "    )\n",
              "    (branch3x3_2b): BasicConv2d(\n",
              "      (conv): Conv2d(384, 384, kernel_size=(3, 1), stride=(1, 1), padding=(1, 0), bias=False)\n",
              "      (bn): BatchNorm2d(384, eps=0.001, momentum=0.1, affine=True, track_running_stats=True)\n",
              "    )\n",
              "    (branch3x3dbl_1): BasicConv2d(\n",
              "      (conv): Conv2d(2048, 448, kernel_size=(1, 1), stride=(1, 1), bias=False)\n",
              "      (bn): BatchNorm2d(448, eps=0.001, momentum=0.1, affine=True, track_running_stats=True)\n",
              "    )\n",
              "    (branch3x3dbl_2): BasicConv2d(\n",
              "      (conv): Conv2d(448, 384, kernel_size=(3, 3), stride=(1, 1), padding=(1, 1), bias=False)\n",
              "      (bn): BatchNorm2d(384, eps=0.001, momentum=0.1, affine=True, track_running_stats=True)\n",
              "    )\n",
              "    (branch3x3dbl_3a): BasicConv2d(\n",
              "      (conv): Conv2d(384, 384, kernel_size=(1, 3), stride=(1, 1), padding=(0, 1), bias=False)\n",
              "      (bn): BatchNorm2d(384, eps=0.001, momentum=0.1, affine=True, track_running_stats=True)\n",
              "    )\n",
              "    (branch3x3dbl_3b): BasicConv2d(\n",
              "      (conv): Conv2d(384, 384, kernel_size=(3, 1), stride=(1, 1), padding=(1, 0), bias=False)\n",
              "      (bn): BatchNorm2d(384, eps=0.001, momentum=0.1, affine=True, track_running_stats=True)\n",
              "    )\n",
              "    (branch_pool): BasicConv2d(\n",
              "      (conv): Conv2d(2048, 192, kernel_size=(1, 1), stride=(1, 1), bias=False)\n",
              "      (bn): BatchNorm2d(192, eps=0.001, momentum=0.1, affine=True, track_running_stats=True)\n",
              "    )\n",
              "  )\n",
              "  (avgpool): AdaptiveAvgPool2d(output_size=(1, 1))\n",
              "  (dropout): Dropout(p=0.5, inplace=False)\n",
              "  (fc): Linear(in_features=2048, out_features=1000, bias=True)\n",
              ")"
            ]
          },
          "metadata": {},
          "execution_count": 16
        }
      ],
      "source": [
        "checkpoint = torch.load('/content/datasets/inception_cp.pth')\n",
        "blackbox = models.inception_v3()\n",
        "blackbox.load_state_dict(checkpoint)\n",
        "for parameter in blackbox.parameters():\n",
        "    parameter.requires_grad = False\n",
        "blackbox.eval().to(device)"
      ]
    },
    {
      "cell_type": "code",
      "execution_count": 17,
      "metadata": {
        "id": "w_pjUBZHM9Yf"
      },
      "outputs": [],
      "source": [
        "sl = Saliency(blackbox)\n",
        "guided_gc = GuidedGradCam(blackbox, blackbox.Mixed_7c)\n",
        "gbp = GuidedBackprop(blackbox)\n",
        "lrp = LRP(blackbox)\n",
        "dls = DeepLiftShap(blackbox)\n",
        "dl = DeepLift(blackbox)\n",
        "gs = GradientShap(blackbox)\n",
        "ig = IntegratedGradients(blackbox)\n",
        "ablator = FeatureAblation(blackbox)\n",
        "occlusion = Occlusion(blackbox)"
      ]
    },
    {
      "cell_type": "markdown",
      "metadata": {
        "id": "8vgOkvGgyCRy"
      },
      "source": [
        "# Generate Explainations"
      ]
    },
    {
      "cell_type": "code",
      "execution_count": 37,
      "metadata": {
        "id": "hQ8hQhIoOwGo",
        "colab": {
          "base_uri": "https://localhost:8080/"
        },
        "outputId": "ba23de8d-638c-48ae-ecd2-c65de893e3c9"
      },
      "outputs": [
        {
          "output_type": "execute_result",
          "data": {
            "text/plain": [
              "torch.Size([1, 3, 299, 299])"
            ]
          },
          "metadata": {},
          "execution_count": 37
        }
      ],
      "source": [
        "rand_img_dist = torch.rand((1, *x.shape[1:])).to(device)\n",
        "rand_img_dist.shape"
      ]
    },
    {
      "cell_type": "code",
      "execution_count": 19,
      "metadata": {
        "id": "-JOP1plyU4uV"
      },
      "outputs": [],
      "source": [
        "dataset_labels = { 0: 'normal', 1: 'Pneumothorax' }"
      ]
    },
    {
      "cell_type": "code",
      "execution_count": 46,
      "metadata": {
        "id": "5CQamOeyeSlE"
      },
      "outputs": [],
      "source": [
        "xai_methods = {\n",
        "  \"Saliency\": { \"method\": sl , \"options\": {}},\n",
        "  \"GuidedGradCam\": { \"method\": guided_gc, \"options\": {}},\n",
        "  \"GuidedBackprop\": { \"method\": gbp, \"options\": {}},\n",
        "  \"LRP\": { \"method\": lrp, \"options\": {}},\n",
        "  # \"DeepLiftShap\": { \"method\": dls, \"options\": {}},\n",
        "  # \"DeepLift\": { \"method\": dl, \"options\": {}},\n",
        "  \"GradientShap\": { \"method\": gs, \"options\": { 'n_samples': 16, 'stdevs': 0.0001, 'baselines': rand_img_dist }},\n",
        "  \"IntegratedGradients\": { \"method\": ig, \"options\": { 'n_steps' : 100 }, 'baselines': rand_img_dist },\n",
        "  # \"FeatureAblation\": { \"method\": ablator, \"options\": {}},\n",
        "  \"Occlusion\": { \"method\": occlusion, \"options\": { 'sliding_window_shapes': (3,8, 8), 'strides': (3, 4, 4)}}\n",
        "}"
      ]
    },
    {
      "cell_type": "code",
      "execution_count": 21,
      "metadata": {
        "id": "jTCFWTPxHqcK"
      },
      "outputs": [],
      "source": [
        "from tqdm import tqdm\n",
        "import gc\n",
        "\n",
        "def visualize_explain_of(xai_methods, x, mask, y, blackbox):\n",
        "  with torch.no_grad():\n",
        "    output = torch.nn.functional.softmax(blackbox(x), dim=1)\n",
        "    _, indices = torch.topk(output, k=1, dim = 1)\n",
        "  indices = torch.flatten(indices)\n",
        "  num_methods = len(xai_methods.items())\n",
        "  for idx, img in tqdm(enumerate(x)):\n",
        "    target = indices[idx]\n",
        "    if target.item() == 0:\n",
        "      continue\n",
        "    fig, axes = plt.subplots(1, num_methods + 1, figsize = (48, 6))\n",
        "    axes[0].imshow(np.transpose(mask[idx].detach().numpy(), (1, 2, 0)))\n",
        "    for method_idx, (method_name, parameters) in enumerate(xai_methods.items()):\n",
        "      attributions = parameters[\"method\"].attribute(img.unsqueeze(0), target=target, **parameters[\"options\"])\n",
        "      # Convert the compute attribution tensor into an image-like numpy array\n",
        "      attribution = np.transpose(attributions.squeeze().cpu().detach().numpy(), (1,2,0))\n",
        "      visualize_image_attr(attribution, np.transpose(img.cpu().detach().numpy(), (1, 2,0)), \"blended_heat_map\", sign=\"positive\", title=method_name, use_pyplot=False, plt_fig_axis=(fig, axes[1 + method_idx]))\n",
        "      torch.cuda.empty_cache()\n",
        "      gc.collect()\n",
        "    plt.show()"
      ]
    },
    {
      "cell_type": "code",
      "execution_count": null,
      "metadata": {
        "id": "XaD19sOKV-XZ"
      },
      "outputs": [],
      "source": [
        "visualize_explain_of(xai_methods, x.to(device), mask, y, blackbox)"
      ]
    },
    {
      "cell_type": "markdown",
      "metadata": {
        "id": "eZudcBlGD0so"
      },
      "source": [
        "# Metrics to compare saliency masks"
      ]
    },
    {
      "cell_type": "markdown",
      "metadata": {
        "id": "UVPLnrnGD8zE"
      },
      "source": [
        "## Mathematical similarity measures"
      ]
    },
    {
      "cell_type": "code",
      "execution_count": 22,
      "metadata": {
        "id": "ypkDRrArMliF"
      },
      "outputs": [],
      "source": [
        "import seaborn as sns\n",
        "import scipy"
      ]
    },
    {
      "cell_type": "code",
      "execution_count": 23,
      "metadata": {
        "id": "VUwIbTzPEA4y"
      },
      "outputs": [],
      "source": [
        "def get_explanation(xai_config, x, targets):\n",
        "    xai_model = xai_config['method']\n",
        "    options = xai_config['options']\n",
        "    attribution = xai_model.attribute(x, target=targets, **options)\n",
        "    return attribution"
      ]
    },
    {
      "cell_type": "code",
      "execution_count": 24,
      "metadata": {
        "id": "PIGlN7X9H5Aw"
      },
      "outputs": [],
      "source": [
        "def normalize(x):\n",
        "    t = (x - np.min(x)) / (np.max(x) - np.min(x))\n",
        "    return t / t.sum()"
      ]
    },
    {
      "cell_type": "code",
      "execution_count": 24,
      "metadata": {
        "id": "QX_9KhIeZyAp"
      },
      "outputs": [],
      "source": [
        "with torch.no_grad():\n",
        "    output = torch.nn.functional.softmax(blackbox(x.to(device)), dim=1)\n",
        "    _, indices = torch.topk(output, k=1, dim = 1)\n",
        "indices = torch.flatten(indices)"
      ]
    },
    {
      "cell_type": "code",
      "execution_count": null,
      "metadata": {
        "id": "thPpWROjcjNd"
      },
      "outputs": [],
      "source": [
        "attribution_saliency = get_explanation(xai_methods['Saliency'], x.to(device)[0], indices[0])"
      ]
    },
    {
      "cell_type": "code",
      "execution_count": null,
      "metadata": {
        "id": "XoXMLvBqFBA_"
      },
      "outputs": [],
      "source": [
        "sns.heatmap(normalize(attribution_saliency.sum(axis=0).mean(axis=0).cpu().detach().numpy()), annot=False, xticklabels=False, yticklabels=False)"
      ]
    },
    {
      "cell_type": "code",
      "execution_count": null,
      "metadata": {
        "id": "fctnSAv6fMaz"
      },
      "outputs": [],
      "source": [
        "attribution_guidedgc = get_explanation(xai_methods['GradientShap'], x.to(device)[0], indices[0])"
      ]
    },
    {
      "cell_type": "code",
      "execution_count": null,
      "metadata": {
        "id": "oK3SsUr_cwaw"
      },
      "outputs": [],
      "source": [
        "sns.heatmap(normalize(np.abs(attribution_guidedgc.sum(axis=0).mean(axis=0).cpu().detach().numpy())), annot=False, xticklabels=False, yticklabels=False)"
      ]
    },
    {
      "cell_type": "code",
      "execution_count": null,
      "metadata": {
        "id": "RL2R4rwwej9w"
      },
      "outputs": [],
      "source": [
        "sns.histplot(attribution_saliency.flatten().cpu().numpy())"
      ]
    },
    {
      "cell_type": "code",
      "execution_count": null,
      "metadata": {
        "id": "7XVZcIr4eDsr"
      },
      "outputs": [],
      "source": [
        "sns.histplot(attribution_guidedgc.flatten().cpu().numpy())"
      ]
    },
    {
      "cell_type": "markdown",
      "metadata": {
        "id": "bY5Z9x0OJC8J"
      },
      "source": [
        "### Bhattacharrya Distance ([wiki](https://en.wikipedia.org/wiki/Bhattacharyya_distance))\n",
        "Measure the similarity between two probability distributions $P$ and $Q$. Formula:\n",
        "$$D(P, Q) = -\\ln(BC(P, Q))$$\n",
        "where:\n",
        "$$BC(P, Q) = \\sum_{x \\in X}\\sqrt{P(x)Q(x)}$$"
      ]
    },
    {
      "cell_type": "code",
      "execution_count": 25,
      "metadata": {
        "id": "c4pXnsIOIMM9"
      },
      "outputs": [],
      "source": [
        "def bhattacharyya_distance(x, y):\n",
        "    return -np.log(np.sum(np.sqrt(normalize(x) * normalize(y))))"
      ]
    },
    {
      "cell_type": "code",
      "execution_count": null,
      "metadata": {
        "id": "tsio8DnZGr75"
      },
      "outputs": [],
      "source": [
        "bhattacharyya_distance(attribution_saliency.cpu().numpy(), np.abs(attribution_guidedgc.cpu().numpy()))"
      ]
    },
    {
      "cell_type": "code",
      "execution_count": 26,
      "metadata": {
        "id": "gt4pNbEvlS0C"
      },
      "outputs": [],
      "source": [
        "def hellinger_distance(x, y):\n",
        "    return 1 / np.sqrt(2) * np.sqrt(np.sum((np.sqrt(normalize(x)) - np.sqrt(normalize(y))) ** 2))"
      ]
    },
    {
      "cell_type": "markdown",
      "metadata": {
        "id": "Xb-_8N9VIebw"
      },
      "source": [
        "## Averaging over test set"
      ]
    },
    {
      "cell_type": "code",
      "execution_count": 59,
      "metadata": {
        "id": "g7ERRRRjgM-t"
      },
      "outputs": [],
      "source": [
        "import gc\n",
        "def compute_mean_disagreement(output1, output2, metric):\n",
        "    metrics = []\n",
        "    for o1, o2 in zip(output1, output2):\n",
        "      metrics.append(metric(o1.cpu().detach().numpy(), o2.cpu().detach().numpy()))\n",
        "      gc.collect()\n",
        "      torch.cuda.empty_cache()\n",
        "    return np.array(metrics).mean()"
      ]
    },
    {
      "cell_type": "code",
      "execution_count": 65,
      "metadata": {
        "id": "93Yjqi24zCns"
      },
      "outputs": [],
      "source": [
        "def compute_disagreement_heatmap(list_methods, x, blackbox, metric):\n",
        "    size = len(list_methods)\n",
        "    result = np.empty((size, size))\n",
        "    with torch.no_grad():\n",
        "        output = torch.nn.functional.softmax(blackbox(x), dim=1)\n",
        "        _, indices = torch.topk(output, k=1, dim = 1)\n",
        "    indices = torch.flatten(indices)\n",
        "\n",
        "    attributions = []\n",
        "    for idx, method in enumerate(list_methods):\n",
        "      outputs = []\n",
        "      for input, target in zip(x, indices):\n",
        "        outputs.append(get_explanation(method, input.unsqueeze(0), target))\n",
        "        gc.collect()\n",
        "        torch.cuda.empty_cache()\n",
        "      attributions.append(outputs)\n",
        "\n",
        "    for j in range(size):\n",
        "        for i in range(size):\n",
        "            if i > j:\n",
        "                result[i, j] = compute_mean_disagreement(attributions[i], attributions[j], metric)\n",
        "            elif i == j:\n",
        "                result[i, j] = 0\n",
        "            else:\n",
        "                result[i, j] = result[j, i]\n",
        "    return result"
      ]
    },
    {
      "cell_type": "code",
      "execution_count": 66,
      "metadata": {
        "id": "bfMIiBwhzxSr",
        "colab": {
          "base_uri": "https://localhost:8080/"
        },
        "outputId": "e7ebd4b1-1f36-48e1-932d-1ed2adcbfcc3"
      },
      "outputs": [
        {
          "output_type": "execute_result",
          "data": {
            "text/plain": [
              "array([[0.        , 0.01624463, 0.01481436, 0.01740567, 0.01471615,\n",
              "        0.09527905],\n",
              "       [0.01624463, 0.        , 0.02007893, 0.02272477, 0.01779721,\n",
              "        0.09595872],\n",
              "       [0.01481436, 0.02007893, 0.        , 0.00822125, 0.0172934 ,\n",
              "        0.09582618],\n",
              "       [0.01740567, 0.02272477, 0.00822125, 0.        , 0.01972875,\n",
              "        0.09651549],\n",
              "       [0.01471615, 0.01779721, 0.0172934 , 0.01972875, 0.        ,\n",
              "        0.09593963],\n",
              "       [0.09527905, 0.09595872, 0.09582618, 0.09651549, 0.09593963,\n",
              "        0.        ]])"
            ]
          },
          "metadata": {},
          "execution_count": 66
        }
      ],
      "source": [
        "method_names = ['LRP', 'GradientShap', 'GuidedGradCam', 'GuidedBackprop', 'IntegratedGradients', \"Occlusion\"]\n",
        "test_methods = list(map(lambda name: xai_methods[name], method_names))\n",
        "heatmap = compute_disagreement_heatmap(test_methods, x.to(device), blackbox, hellinger_distance)\n",
        "heatmap"
      ]
    },
    {
      "cell_type": "code",
      "execution_count": 67,
      "metadata": {
        "id": "Dlw8YOFK0YL0",
        "colab": {
          "base_uri": "https://localhost:8080/",
          "height": 574
        },
        "outputId": "8ed436d0-2699-4945-e34c-47166a5f0227"
      },
      "outputs": [
        {
          "output_type": "execute_result",
          "data": {
            "text/plain": [
              "<Axes: >"
            ]
          },
          "metadata": {},
          "execution_count": 67
        },
        {
          "output_type": "display_data",
          "data": {
            "text/plain": [
              "<Figure size 640x480 with 2 Axes>"
            ],
            "image/png": "[encoded data removed]"
          },
          "metadata": {}
        }
      ],
      "source": [
        "sns.heatmap(heatmap, annot=True, xticklabels=method_names, yticklabels=method_names)"
      ]
    },
    {
      "cell_type": "markdown",
      "metadata": {
        "id": "9QNwH6uaJrMH"
      },
      "source": [
        "### Kullback-Leibler divergence ([wiki](https://en.wikipedia.org/wiki/Kullback%E2%80%93Leibler_divergence))\n",
        "\n",
        "Formula:\n",
        "$$D_{KL}(P||Q) = \\sum_{x \\in X} P(x) \\log{\\frac{P(x)}{Q(x)}}$$"
      ]
    },
    {
      "cell_type": "code",
      "execution_count": null,
      "metadata": {
        "id": "wocNUUXcNK0s"
      },
      "outputs": [],
      "source": [
        "def kl_divergence(x, y):\n",
        "    return np.sum(scipy.special.kl_div(x, y))"
      ]
    },
    {
      "cell_type": "code",
      "execution_count": null,
      "metadata": {
        "colab": {
          "base_uri": "https://localhost:8080/"
        },
        "id": "e1WsRPc4KGRG",
        "outputId": "835e16cf-4ed7-433e-c778-d9091de21c79"
      },
      "outputs": [
        {
          "data": {
            "text/plain": [
              "19.975594"
            ]
          },
          "execution_count": 96,
          "metadata": {},
          "output_type": "execute_result"
        }
      ],
      "source": [
        "kl_divergence(normalize(attribution_guidedgc.mean(axis=2)), normalize(attribution_guidedbp.mean(axis=2)))"
      ]
    },
    {
      "cell_type": "code",
      "execution_count": null,
      "metadata": {
        "colab": {
          "base_uri": "https://localhost:8080/"
        },
        "id": "wCf7Oh62NVYv",
        "outputId": "f88ce582-441d-480f-c24f-fde89936ca70"
      },
      "outputs": [
        {
          "data": {
            "text/plain": [
              "inf"
            ]
          },
          "execution_count": 97,
          "metadata": {},
          "output_type": "execute_result"
        }
      ],
      "source": [
        "kl_divergence(normalize(attribution_guidedgc.mean(axis=2)), normalize(attribution_saliency.mean(axis=2)))"
      ]
    },
    {
      "cell_type": "code",
      "execution_count": null,
      "metadata": {
        "id": "FDwQ64ztNhrT"
      },
      "outputs": [],
      "source": [
        "a = [attribution_saliency, attribution_guidedgc, attribution_guidedbp]\n"
      ]
    },
    {
      "cell_type": "markdown",
      "metadata": {
        "id": "JjeFZNXuJAhB"
      },
      "source": [
        "# Metrics from Quantus to measure the fit between XAI methods & blackbox model"
      ]
    },
    {
      "cell_type": "markdown",
      "metadata": {
        "id": "7WqVYWR84VVD"
      },
      "source": [
        "## Prepare input data"
      ]
    },
    {
      "cell_type": "code",
      "execution_count": null,
      "metadata": {
        "colab": {
          "base_uri": "https://localhost:8080/"
        },
        "id": "QJxb5r6fIJ5v",
        "outputId": "c6451d80-ede6-47fb-a94b-bc77e619b5b4"
      },
      "outputs": [
        {
          "data": {
            "text/plain": [
              "['GradientShap',\n",
              " 'IntegratedGradients',\n",
              " 'DeepLift',\n",
              " 'DeepLiftShap',\n",
              " 'InputXGradient',\n",
              " 'Saliency',\n",
              " 'FeatureAblation',\n",
              " 'Deconvolution',\n",
              " 'FeaturePermutation',\n",
              " 'Lime',\n",
              " 'KernelShap',\n",
              " 'LRP',\n",
              " 'Gradient',\n",
              " 'Occlusion',\n",
              " 'LayerGradCam',\n",
              " 'GuidedGradCam',\n",
              " 'LayerConductance',\n",
              " 'LayerActivation',\n",
              " 'InternalInfluence',\n",
              " 'LayerGradientXActivation',\n",
              " 'Control Var. Sobel Filter',\n",
              " 'Control Var. Constant',\n",
              " 'Control Var. Random Uniform']"
            ]
          },
          "execution_count": 22,
          "metadata": {},
          "output_type": "execute_result"
        }
      ],
      "source": [
        "quantus.helpers.constants.available_methods_captum()"
      ]
    },
    {
      "cell_type": "code",
      "execution_count": null,
      "metadata": {
        "id": "P9JbwiAyHNWE"
      },
      "outputs": [],
      "source": [
        "supported_methods = {\n",
        "  \"LRP\": { },\n",
        "  \"GradientShap\": { 'n_samples': 16, 'stdevs': 0.0001, 'baselines': rand_img_dist },\n",
        "  \"IntegratedGradients\": { 'n_steps' : 50 , 'baselines': rand_img_dist },\n",
        "  'GuidedGradCam': { 'gc_layer': blackbox.Mixed_7c },\n",
        "  # Perturbation-based\n",
        "  'KernelShap': {},\n",
        "  # 'FeaturePermutation': {},\n",
        "  \"Occlusion\": { 'sliding_window_shapes': (3, 16, 16), 'strides': (3, 4, 4)}\n",
        "}"
      ]
    },
    {
      "cell_type": "code",
      "execution_count": null,
      "metadata": {
        "id": "jy5m2rqekA7N"
      },
      "outputs": [],
      "source": [
        "from quantus.functions.explanation_func import explain as explain_func"
      ]
    },
    {
      "cell_type": "code",
      "execution_count": null,
      "metadata": {
        "id": "aVGtR0chFhxT"
      },
      "outputs": [],
      "source": [
        "blackbox.to(cpu)\n",
        "x_batch, y_batch, s_batch = x.cpu().numpy(), y.cpu().numpy(), torch.where(transforms.Grayscale(num_output_channels=1)(mask) > 0, 1.0, 0.).cpu().numpy()"
      ]
    },
    {
      "cell_type": "markdown",
      "metadata": {
        "id": "rEnSpTcLkCUh"
      },
      "source": [
        "## Axiomness metrics"
      ]
    },
    {
      "cell_type": "code",
      "execution_count": null,
      "metadata": {
        "id": "iK0n7lN0gxlx"
      },
      "outputs": [],
      "source": [
        "# ATOMIC \n",
        "# Create the completeness experiment.\n",
        "completeness = quantus.Completeness(\n",
        "    perturb_baseline=\"black\",\n",
        "    perturb_func=quantus.perturb_func.baseline_replacement_by_indices,\n",
        ")\n",
        "\n",
        "# Call the metric instance to produce scores.\n",
        "scores = { method: completeness(model=blackbox,\n",
        "                        x_batch=x_batch,\n",
        "                        y_batch=y_batch,\n",
        "                        explain_func=explain_func,\n",
        "                        explain_func_kwargs={\"method\": method, **kwargs}) for method,kwargs in supported_methods.items()}\n",
        "scores"
      ]
    },
    {
      "cell_type": "markdown",
      "metadata": {
        "id": "tK1Y8uJvjzPo"
      },
      "source": [
        "## Faithfulness metrics"
      ]
    },
    {
      "cell_type": "code",
      "execution_count": null,
      "metadata": {
        "id": "08wk--wHMcWV"
      },
      "outputs": [],
      "source": [
        "infidelity = quantus.metrics.faithfulness.infidelity.Infidelity()\n",
        "results = {method: infidelity(model=blackbox, \n",
        "                                  x_batch=x_batch,\n",
        "                                  y_batch=y_batch,\n",
        "                                  a_batch=None,\n",
        "                                  device=device,\n",
        "                                  explain_func=explain_func, \n",
        "                                  explain_func_kwargs={\"method\": method, **kwargs}) for method,kwargs in supported_methods.items()}\n",
        "\n",
        "infidelity.plot(plot_func=None, results=results)"
      ]
    },
    {
      "cell_type": "code",
      "execution_count": null,
      "metadata": {
        "colab": {
          "base_uri": "https://localhost:8080/",
          "height": 690
        },
        "id": "_pZ7VaiaRp8g",
        "outputId": "648e9bd1-f1c3-420d-a524-b33a2d62ae60"
      },
      "outputs": [
        {
          "name": "stdout",
          "output_type": "stream",
          "text": [
            "Warnings and information:\n",
            " (1) The Region Perturbation metric is likely to be sensitive to the choice of baseline value 'perturb_baseline', the patch size for masking 'patch_size' and number of regions to evaluate 'regions_evaluation'. Also, the current implementation only works for 3-dimensional (image) data. \n",
            " (2) If attributions are normalised or their absolute values are taken it may destroy or skew information in the explanation and as a result, affect the overall evaluation outcome.\n",
            " (3) Make sure to validate the choices for hyperparameters of the metric (by calling .get_params of the metric instance).\n",
            " (4) For further information, see original publication: Samek, Wojciech, et al. 'Evaluating the visualization of what a deep neural network has learned.' IEEE transactions on neural networks and learning systems 28.11 (2016): 2660-2673.\n",
            " (5) To disable these warnings set 'disable_warnings' = True when initialising the metric.\n",
            "\n"
          ]
        },
        {
          "data": {
            "image/png": "[encoded data removed]",
            "text/plain": [
              "<Figure size 800x600 with 1 Axes>"
            ]
          },
          "metadata": {},
          "output_type": "display_data"
        }
      ],
      "source": [
        "# Create the region perturbation experiment.\n",
        "region_perturb = quantus.RegionPerturbation(\n",
        "    patch_size=14,\n",
        "    regions_evaluation=10,\n",
        "    perturb_baseline=\"uniform\",  \n",
        "    normalise=True,\n",
        ")\n",
        "\n",
        "# Call the metric instance to produce scores.\n",
        "results = {method: region_perturb(model=blackbox, \n",
        "                                  x_batch=x_batch,\n",
        "                                  y_batch=y_batch,\n",
        "                                  a_batch=None,\n",
        "                                  device=device,\n",
        "                                  explain_func=explain_func, \n",
        "                                  explain_func_kwargs={\"method\": method, **kwargs}) for method,kwargs in supported_methods.items() }\n",
        "\n",
        "region_perturb.plot(plot_func=None, results=results)"
      ]
    },
    {
      "cell_type": "code",
      "execution_count": null,
      "metadata": {
        "id": "BMYkiC3TKU5-"
      },
      "outputs": [],
      "source": [
        "# Create the pixel-flipping experiment.\n",
        "pixel_flipping = quantus.PixelFlipping(\n",
        "    features_in_step=x_batch.shape[3],\n",
        "    perturb_baseline=\"black\",\n",
        "    perturb_func=quantus.perturb_func.baseline_replacement_by_indices,\n",
        ")\n",
        "    \n",
        "# Call the metric instance to produce scores.\n",
        "scores = { method: pixel_flipping(model=blackbox,\n",
        "                        x_batch=x_batch,\n",
        "                        y_batch=y_batch,\n",
        "                        explain_func=explain_func,\n",
        "                        device=device,\n",
        "                        explain_func_kwargs={\"method\": method, **kwargs}) for method,kwargs in supported_methods.items()}\n",
        "pixel_flipping.plot(plot_func=None, y_batch=y_batch, scores=scores)"
      ]
    },
    {
      "cell_type": "code",
      "execution_count": null,
      "metadata": {
        "id": "3DMjjfzGTkj1"
      },
      "outputs": [],
      "source": [
        "# Create the sensitivity-n experiment.\n",
        "sensitivity_n = quantus.SensitivityN(\n",
        "    features_in_step=x_batch.shape[3],\n",
        "    n_max_percentage=0.8,\n",
        "    similarity_func=quantus.similarity_func.correlation_pearson,\n",
        "    perturb_func=quantus.perturb_func.baseline_replacement_by_indices,\n",
        "    perturb_baseline=\"uniform\",  \n",
        "    return_aggregate=False,\n",
        ")\n",
        "# Call the metric instance to produce scores.\n",
        "results = { method: sensitivity_n(model=blackbox, \n",
        "                        x_batch=x_batch,\n",
        "                        y_batch=y_batch,\n",
        "                        a_batch=None,\n",
        "                        device=device,\n",
        "                        explain_func=quantus.explain, \n",
        "                        explain_func_kwargs={\"method\": method, **kwargs}) for method,kwargs in supported_methods.items() }\n",
        "                        \n",
        "\n",
        "# Plot example!\n",
        "sensitivity_n.plot(plot_func=None, results=results)"
      ]
    },
    {
      "cell_type": "markdown",
      "metadata": {
        "id": "pnR9GCIXGCdh"
      },
      "source": [
        "## Complexity Metrics"
      ]
    },
    {
      "cell_type": "code",
      "execution_count": null,
      "metadata": {
        "id": "oncnSmWHGFEZ"
      },
      "outputs": [],
      "source": [
        "complexity = quantus.Complexity()\n",
        "\n",
        "results = { method: complexity(model=blackbox,\n",
        "   x_batch=x_batch,\n",
        "   y_batch=y_batch,\n",
        "   a_batch=None,\n",
        "   explain_func=quantus.explain, \n",
        "   device=device,\n",
        "   explain_func_kwargs={\"method\": method, **kwargs}) for method,kwargs in supported_methods.items()}\n",
        "\n",
        "results"
      ]
    },
    {
      "cell_type": "code",
      "execution_count": null,
      "metadata": {
        "id": "F9RkmHIJiI7f"
      },
      "outputs": [],
      "source": [
        "consistancy = quantus.metrics.robustness.consistency.Consistency()\n",
        "results = { method: consistancy(model=blackbox,\n",
        "   x_batch=x_batch,\n",
        "   y_batch=y_batch,\n",
        "   a_batch=None,\n",
        "   explain_func=quantus.explain,\n",
        "   device=device,\n",
        "   explain_func_kwargs={\"method\": method, **kwargs}) for method,kwargs in supported_methods.items()}\n"
      ]
    },
    {
      "cell_type": "markdown",
      "metadata": {
        "id": "MtcnuBlhugGW"
      },
      "source": [
        "## Localisation metrics"
      ]
    },
    {
      "cell_type": "code",
      "execution_count": null,
      "metadata": {
        "colab": {
          "base_uri": "https://localhost:8080/"
        },
        "id": "9EQjTbxIufkB",
        "outputId": "683fbdc4-6cee-4dde-ba4d-64155cf8ccca"
      },
      "outputs": [
        {
          "name": "stdout",
          "output_type": "stream",
          "text": [
            "Warnings and information:\n",
            " (1) The AUC metric is likely to be sensitive to the choice of ground truth mask i.e., the 's_batch' input as well as if absolute values 'abs' are taken of the attributions .  \n",
            " (2) If attributions are normalised or their absolute values are taken it may destroy or skew information in the explanation and as a result, affect the overall evaluation outcome.\n",
            " (3) Make sure to validate the choices for hyperparameters of the metric (by calling .get_params of the metric instance).\n",
            " (4) For further information, see original publication: Fawcett, Tom. 'An introduction to ROC analysis' Pattern Recognition Letters Vol 27, Issue 8, (2006).\n",
            " (5) To disable these warnings set 'disable_warnings' = True when initialising the metric.\n",
            "\n"
          ]
        },
        {
          "data": {
            "text/plain": [
              "{'LRP': [0.5428358236416899,\n",
              "  0.5073514838237989,\n",
              "  0.5202437706409514,\n",
              "  0.5172741643107533,\n",
              "  0.49004877425327376,\n",
              "  0.5291729102339005,\n",
              "  0.5067536285363826,\n",
              "  0.4963473395548769],\n",
              " 'GradientShap': [0.4947647926556302,\n",
              "  0.49484063271596535,\n",
              "  0.5027443868822116,\n",
              "  0.47678095446087587,\n",
              "  0.491786685181539,\n",
              "  0.5057932060258262,\n",
              "  0.5060531659702809,\n",
              "  0.49628165128970037],\n",
              " 'IntegratedGradients': [0.5186582133777478,\n",
              "  0.49435887527643685,\n",
              "  0.4996525776834464,\n",
              "  0.5151369929586591,\n",
              "  0.47952897612065065,\n",
              "  0.5027627109298645,\n",
              "  0.5070789889024584,\n",
              "  0.4970337520908852],\n",
              " 'GuidedGradCam': [0.5118676632699918,\n",
              "  0.4716891308410028,\n",
              "  0.4763850713702346,\n",
              "  0.4721897734163383,\n",
              "  0.5400921943923426,\n",
              "  0.44148912592221,\n",
              "  0.5052706477382936,\n",
              "  0.5024025678255536],\n",
              " 'KernelShap': [0.46487659254139446,\n",
              "  0.4843020980169119,\n",
              "  0.4979160035507184,\n",
              "  0.4893932903269159,\n",
              "  0.4966494298731938,\n",
              "  0.5062782086710085,\n",
              "  0.5136472271851071,\n",
              "  0.5056474467917702],\n",
              " 'Occlusion': [0.5441276761015195,\n",
              "  0.4233042564462611,\n",
              "  0.7403368048083724,\n",
              "  0.6414662940403795,\n",
              "  0.6430569055983308,\n",
              "  0.5323578277575485,\n",
              "  0.7214574332867193,\n",
              "  0.5748655091599819]}"
            ]
          },
          "execution_count": 21,
          "metadata": {},
          "output_type": "execute_result"
        }
      ],
      "source": [
        "auc = quantus.metrics.localisation.auc.AUC()\n",
        "results = { method: auc(model=blackbox,\n",
        "   x_batch=x_batch,\n",
        "   y_batch=y_batch,\n",
        "   a_batch=None,\n",
        "   s_batch=s_batch,\n",
        "   explain_func=quantus.explain,\n",
        "   device=device,\n",
        "   explain_func_kwargs={\"method\": method, **kwargs}) for method,kwargs in supported_methods.items()}\n",
        "results"
      ]
    },
    {
      "cell_type": "code",
      "execution_count": null,
      "metadata": {
        "id": "nn8TTsLv3hJw"
      },
      "outputs": [],
      "source": [
        "# {'LRP': [0.5428358236416899,\n",
        "#   0.5073514838237989,\n",
        "#   0.5202437706409514,\n",
        "#   0.5172741643107533,\n",
        "#   0.49004877425327376,\n",
        "#   0.5291729102339005,\n",
        "#   0.5067536285363826,\n",
        "#   0.4963473395548769],\n",
        "#  'GradientShap': [0.4947647926556302,\n",
        "#   0.49484063271596535,\n",
        "#   0.5027443868822116,\n",
        "#   0.47678095446087587,\n",
        "#   0.491786685181539,\n",
        "#   0.5057932060258262,\n",
        "#   0.5060531659702809,\n",
        "#   0.49628165128970037],\n",
        "#  'IntegratedGradients': [0.5186582133777478,\n",
        "#   0.49435887527643685,\n",
        "#   0.4996525776834464,\n",
        "#   0.5151369929586591,\n",
        "#   0.47952897612065065,\n",
        "#   0.5027627109298645,\n",
        "#   0.5070789889024584,\n",
        "#   0.4970337520908852],\n",
        "#  'GuidedGradCam': [0.5118676632699918,\n",
        "#   0.4716891308410028,\n",
        "#   0.4763850713702346,\n",
        "#   0.4721897734163383,\n",
        "#   0.5400921943923426,\n",
        "#   0.44148912592221,\n",
        "#   0.5052706477382936,\n",
        "#   0.5024025678255536],\n",
        "#  'KernelShap': [0.46487659254139446,\n",
        "#   0.4843020980169119,\n",
        "#   0.4979160035507184,\n",
        "#   0.4893932903269159,\n",
        "#   0.4966494298731938,\n",
        "#   0.5062782086710085,\n",
        "#   0.5136472271851071,\n",
        "#   0.5056474467917702],\n",
        "#  'Occlusion': [0.5441276761015195,\n",
        "#   0.4233042564462611,\n",
        "#   0.7403368048083724,\n",
        "#   0.6414662940403795,\n",
        "#   0.6430569055983308,\n",
        "#   0.5323578277575485,\n",
        "#   0.7214574332867193,\n",
        "#   0.5748655091599819]}"
      ]
    },
    {
      "cell_type": "markdown",
      "metadata": {
        "id": "gxwZL0GLKP4v"
      },
      "source": [
        "# Dashboard from OmniXAI"
      ]
    },
    {
      "cell_type": "code",
      "execution_count": null,
      "metadata": {
        "id": "JOjH2vSVECEM"
      },
      "outputs": [],
      "source": [
        "from omnixai.preprocessing.image import Resize\n",
        "from PIL import Image\n",
        "from omnixai.data.image import Image as OmniImage\n",
        "\n",
        "def prepare_RBG_from_uri(uri):\n",
        "  imgResponse = requests.get(uri)\n",
        "  img = OmniImage(Image.open(BytesIO(imgResponse.content)).convert('RGB'))\n",
        "  return img\n",
        "\n",
        "def prepare_RBG_for_explain(uris):\n",
        "  batch = np.concatenate(\n",
        "    [Resize((224,224)).transform(prepare_RBG_from_uri(uri)).to_numpy() for uri in uris]\n",
        "  );\n",
        "  return batch\n",
        "\n",
        "x_batch = prepare_RBG_for_explain(uris);\n",
        "x_batch.shape\n"
      ]
    },
    {
      "cell_type": "code",
      "execution_count": null,
      "metadata": {
        "id": "hGVQEf6dfgNa"
      },
      "outputs": [],
      "source": [
        "torch.cuda.empty_cache()\n",
        "gc.collect()"
      ]
    },
    {
      "cell_type": "code",
      "execution_count": null,
      "metadata": {
        "id": "669FpHOOwSwX"
      },
      "outputs": [],
      "source": [
        "from omnixai.explainers.vision import VisionExplainer\n",
        "from omnixai.visualization.dashboard import Dashboard\n",
        "\n",
        "# output = torch.nn.functional.softmax(blackbox(input), dim=1)\n",
        "#     _, target = torch.topk(output[0], k=1, dim = 0)\n",
        "\n",
        "preprocess = lambda ims: torch.stack([transform(im.to_pil()) for im in ims]).to(device)\n",
        "postprocess = lambda logits: torch.nn.functional.softmax(logits, dim=1)\n",
        "\n",
        "explainer = VisionExplainer(\n",
        "    explainers=[\"lime\", \"gradcam\", \"ig\", \"ce\", \"feature_visualization\"],\n",
        "    mode=\"classification\",\n",
        "    model=blackbox,                   # An image classification model, e.g., ResNet50\n",
        "    preprocess=preprocess,         # The preprocessing function\n",
        "    postprocess=postprocess,       # The postprocessing function\n",
        "    params={\n",
        "        # Set the target layer for GradCAM\n",
        "        \"gradcam\": {\"target_layer\": blackbox.layer4[-1]},\n",
        "        # Set the objective for feature visualization\n",
        "        \"feature_visualization\": \n",
        "          {\"objectives\": [{\"layer\": blackbox.layer4[-3], \"type\": \"channel\", \"index\": list(range(6))}]},\n",
        "        \"ce\": {\"binary_search_steps\": 2, \"num_iterations\": 20},\n",
        "    },\n",
        ")\n",
        "\n",
        "\n",
        "img = OmniImage(data=x_batch,batched=True)\n",
        "\n",
        "# Generate explanations of GradCAM, LIME, IG and CE\n",
        "local_explanations = explainer.explain(img)\n",
        "# Generate explanations of feature visualization\n",
        "global_explanations = explainer.explain_global()\n",
        "# Launch the dashboard\n",
        "dashboard = Dashboard(\n",
        "    instances=img,\n",
        "    local_explanations=local_explanations,\n",
        "    global_explanations=global_explanations\n",
        ")\n",
        "dashboard.show()"
      ]
    }
  ],
  "metadata": {
    "accelerator": "GPU",
    "colab": {
      "collapsed_sections": [
        "IZ7VowTTEBks",
        "sIEBF6WUzAQA",
        "3prfR5sZf1Jj",
        "gcX0anjnj3SR",
        "tK1Y8uJvjzPo",
        "gxwZL0GLKP4v"
      ],
      "provenance": []
    },
    "gpuClass": "standard",
    "kernelspec": {
      "display_name": "Python 3",
      "name": "python3"
    },
    "language_info": {
      "name": "python"
    }
  },
  "nbformat": 4,
  "nbformat_minor": 0
}